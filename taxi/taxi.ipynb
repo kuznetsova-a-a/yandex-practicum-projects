{
 "cells": [
  {
   "cell_type": "markdown",
   "metadata": {},
   "source": [
    "#  Прогнозирование заказов такси"
   ]
  },
  {
   "cell_type": "markdown",
   "metadata": {},
   "source": [
    "Компания «Чётенькое такси» собрала исторические данные о заказах такси в аэропортах. Чтобы привлекать больше водителей в период пиковой нагрузки, нужно спрогнозировать количество заказов такси на следующий час. Построим модель для такого предсказания.\n",
    "\n",
    "Мы проделаем следующие шаги:\n",
    "\n",
    "1. Загрузим данные и выполним их ресемплирование по одному часу.\n",
    "2. Проанализируем данные.\n",
    "3. Обучить разные модели с различными гиперпараметрами. Сделать тестовую выборку размером 10% от исходных данных.\n",
    "4. Проверить данные на тестовой выборке и сделать выводы."
   ]
  },
  {
   "cell_type": "markdown",
   "metadata": {},
   "source": [
    "## Подготовка\n",
    "В этом разделе мы \n",
    "- установим столбец дат в качестве индекса\n",
    "- отсортируем индексы\n",
    "- сделаем ресемплирование по одному часу\n",
    "- построим график с количеством заказов"
   ]
  },
  {
   "cell_type": "code",
   "execution_count": 57,
   "metadata": {},
   "outputs": [],
   "source": [
    "import pandas as pd\n",
    "import matplotlib.pyplot as plt\n",
    "import warnings\n",
    "from sklearn.model_selection import train_test_split\n",
    "from sklearn.model_selection import GridSearchCV,  TimeSeriesSplit\n",
    "from sklearn.linear_model import LinearRegression\n",
    "from sklearn.ensemble import RandomForestRegressor\n",
    "from sklearn.tree import DecisionTreeRegressor\n",
    "from sklearn.metrics import mean_squared_error\n",
    "from statsmodels.tsa.seasonal import seasonal_decompose\n",
    "from catboost import CatBoostRegressor\n",
    "from lightgbm import LGBMRegressor\n",
    "warnings.filterwarnings('ignore')"
   ]
  },
  {
   "cell_type": "code",
   "execution_count": 58,
   "metadata": {},
   "outputs": [],
   "source": [
    "data = pd.read_csv('/datasets/taxi.csv', index_col = [0], parse_dates = [0])"
   ]
  },
  {
   "cell_type": "code",
   "execution_count": 59,
   "metadata": {},
   "outputs": [
    {
     "data": {
      "text/html": [
       "<div>\n",
       "<style scoped>\n",
       "    .dataframe tbody tr th:only-of-type {\n",
       "        vertical-align: middle;\n",
       "    }\n",
       "\n",
       "    .dataframe tbody tr th {\n",
       "        vertical-align: top;\n",
       "    }\n",
       "\n",
       "    .dataframe thead th {\n",
       "        text-align: right;\n",
       "    }\n",
       "</style>\n",
       "<table border=\"1\" class=\"dataframe\">\n",
       "  <thead>\n",
       "    <tr style=\"text-align: right;\">\n",
       "      <th></th>\n",
       "      <th>num_orders</th>\n",
       "    </tr>\n",
       "    <tr>\n",
       "      <th>datetime</th>\n",
       "      <th></th>\n",
       "    </tr>\n",
       "  </thead>\n",
       "  <tbody>\n",
       "    <tr>\n",
       "      <th>2018-03-01 00:00:00</th>\n",
       "      <td>9</td>\n",
       "    </tr>\n",
       "    <tr>\n",
       "      <th>2018-03-01 00:10:00</th>\n",
       "      <td>14</td>\n",
       "    </tr>\n",
       "    <tr>\n",
       "      <th>2018-03-01 00:20:00</th>\n",
       "      <td>28</td>\n",
       "    </tr>\n",
       "    <tr>\n",
       "      <th>2018-03-01 00:30:00</th>\n",
       "      <td>20</td>\n",
       "    </tr>\n",
       "    <tr>\n",
       "      <th>2018-03-01 00:40:00</th>\n",
       "      <td>32</td>\n",
       "    </tr>\n",
       "  </tbody>\n",
       "</table>\n",
       "</div>"
      ],
      "text/plain": [
       "                     num_orders\n",
       "datetime                       \n",
       "2018-03-01 00:00:00           9\n",
       "2018-03-01 00:10:00          14\n",
       "2018-03-01 00:20:00          28\n",
       "2018-03-01 00:30:00          20\n",
       "2018-03-01 00:40:00          32"
      ]
     },
     "metadata": {},
     "output_type": "display_data"
    },
    {
     "name": "stdout",
     "output_type": "stream",
     "text": [
      "<class 'pandas.core.frame.DataFrame'>\n",
      "DatetimeIndex: 26496 entries, 2018-03-01 00:00:00 to 2018-08-31 23:50:00\n",
      "Data columns (total 1 columns):\n",
      " #   Column      Non-Null Count  Dtype\n",
      "---  ------      --------------  -----\n",
      " 0   num_orders  26496 non-null  int64\n",
      "dtypes: int64(1)\n",
      "memory usage: 414.0 KB\n"
     ]
    }
   ],
   "source": [
    "display(data.head())\n",
    "data.sort_index(inplace=True)\n",
    "data.info()"
   ]
  },
  {
   "cell_type": "code",
   "execution_count": 60,
   "metadata": {},
   "outputs": [
    {
     "data": {
      "text/html": [
       "<div>\n",
       "<style scoped>\n",
       "    .dataframe tbody tr th:only-of-type {\n",
       "        vertical-align: middle;\n",
       "    }\n",
       "\n",
       "    .dataframe tbody tr th {\n",
       "        vertical-align: top;\n",
       "    }\n",
       "\n",
       "    .dataframe thead th {\n",
       "        text-align: right;\n",
       "    }\n",
       "</style>\n",
       "<table border=\"1\" class=\"dataframe\">\n",
       "  <thead>\n",
       "    <tr style=\"text-align: right;\">\n",
       "      <th></th>\n",
       "      <th>num_orders</th>\n",
       "    </tr>\n",
       "  </thead>\n",
       "  <tbody>\n",
       "    <tr>\n",
       "      <th>count</th>\n",
       "      <td>4416.000000</td>\n",
       "    </tr>\n",
       "    <tr>\n",
       "      <th>mean</th>\n",
       "      <td>84.422781</td>\n",
       "    </tr>\n",
       "    <tr>\n",
       "      <th>std</th>\n",
       "      <td>45.023853</td>\n",
       "    </tr>\n",
       "    <tr>\n",
       "      <th>min</th>\n",
       "      <td>0.000000</td>\n",
       "    </tr>\n",
       "    <tr>\n",
       "      <th>25%</th>\n",
       "      <td>54.000000</td>\n",
       "    </tr>\n",
       "    <tr>\n",
       "      <th>50%</th>\n",
       "      <td>78.000000</td>\n",
       "    </tr>\n",
       "    <tr>\n",
       "      <th>75%</th>\n",
       "      <td>107.000000</td>\n",
       "    </tr>\n",
       "    <tr>\n",
       "      <th>max</th>\n",
       "      <td>462.000000</td>\n",
       "    </tr>\n",
       "  </tbody>\n",
       "</table>\n",
       "</div>"
      ],
      "text/plain": [
       "        num_orders\n",
       "count  4416.000000\n",
       "mean     84.422781\n",
       "std      45.023853\n",
       "min       0.000000\n",
       "25%      54.000000\n",
       "50%      78.000000\n",
       "75%     107.000000\n",
       "max     462.000000"
      ]
     },
     "execution_count": 60,
     "metadata": {},
     "output_type": "execute_result"
    }
   ],
   "source": [
    "data = data.resample('1H').sum()\n",
    "data.describe()"
   ]
  },
  {
   "cell_type": "code",
   "execution_count": 61,
   "metadata": {},
   "outputs": [
    {
     "data": {
      "image/png": "[encoded data removed]",
      "text/plain": [
       "<Figure size 1440x576 with 1 Axes>"
      ]
     },
     "metadata": {
      "needs_background": "light"
     },
     "output_type": "display_data"
    }
   ],
   "source": [
    "plt.figure(figsize=(20,8))\n",
    "data.plot(ax = plt.gca())\n",
    "plt.title('Суммарное количество заказов в час')\n",
    "plt.show()"
   ]
  },
  {
   "cell_type": "code",
   "execution_count": 62,
   "metadata": {},
   "outputs": [
    {
     "data": {
      "image/png": "[encoded data removed]",
      "text/plain": [
       "<Figure size 1440x576 with 1 Axes>"
      ]
     },
     "metadata": {
      "needs_background": "light"
     },
     "output_type": "display_data"
    },
    {
     "data": {
      "image/png": "[encoded data removed]",
      "text/plain": [
       "<Figure size 1440x576 with 1 Axes>"
      ]
     },
     "metadata": {
      "needs_background": "light"
     },
     "output_type": "display_data"
    },
    {
     "data": {
      "image/png": "[encoded data removed]",
      "text/plain": [
       "<Figure size 1440x576 with 1 Axes>"
      ]
     },
     "metadata": {
      "needs_background": "light"
     },
     "output_type": "display_data"
    },
    {
     "data": {
      "image/png": "[encoded data removed]",
      "text/plain": [
       "<Figure size 1440x576 with 1 Axes>"
      ]
     },
     "metadata": {
      "needs_background": "light"
     },
     "output_type": "display_data"
    }
   ],
   "source": [
    "decomposed_data = seasonal_decompose(data)\n",
    "plt.figure(figsize=(20,8))\n",
    "decomposed_data.trend.plot(ax = plt.gca())\n",
    "plt.title('Тренд')\n",
    "plt.show()\n",
    "\n",
    "plt.figure(figsize=(20,8))\n",
    "decomposed_data.seasonal['2018-03-01':'2018-03-02'].plot(ax = plt.gca())\n",
    "plt.title('Суточная сезонность (2 дня)')\n",
    "plt.show()\n",
    "\n",
    "plt.figure(figsize=(20,8))\n",
    "decomposed_data.resid.plot(ax = plt.gca())\n",
    "plt.title('Шум')\n",
    "plt.show()\n",
    "\n",
    "day_resempled_data = data['2018-03-01':'2018-03-28'].resample('1D').sum()\n",
    "plt.figure(figsize=(20,8))\n",
    "seasonal_decompose(day_resempled_data).seasonal.plot(ax = plt.gca())\n",
    "plt.title('Недельная сезонность (4 недели)')\n",
    "plt.show()"
   ]
  },
  {
   "cell_type": "markdown",
   "metadata": {},
   "source": [
    "Мы видим, общий тренд на увеличение количества заказов, выраженные суточные колебания и шум, сравнимый с суточными колебаниями. Данные содержат только период с марта по август 2018 года, поэтому мы не сможем использовать ежегодную сезонность, только суточную и недельную."
   ]
  },
  {
   "cell_type": "markdown",
   "metadata": {},
   "source": [
    "## Анализ"
   ]
  },
  {
   "cell_type": "markdown",
   "metadata": {},
   "source": [
    "На количество заказов такси влияют суточные колебания и недельные колебания, поэтому добавим в датасет значение дня недели, а кроме того значения количества заказов за предыдущие 24 часа и значение скользящего среднего последние 168 часов (неделю), чтобы отследить общий тренд."
   ]
  },
  {
   "cell_type": "code",
   "execution_count": 64,
   "metadata": {},
   "outputs": [],
   "source": [
    "def make_features(data, max_lag, rolling_mean_size):\n",
    "    data['dayofweek'] = data.index.dayofweek\n",
    "    data['hour'] = data.index.hour\n",
    "    lags = []   \n",
    "    for i in range(max_lag):\n",
    "        name = 'lag_'+str(i+1)\n",
    "        lags.append(name)\n",
    "        data[name] = data['num_orders'].shift(i+1)\n",
    "\n",
    "    data['rolling_mean'] = data['num_orders'].rolling(rolling_mean_size).mean().shift(1)\n",
    "    return lags"
   ]
  },
  {
   "cell_type": "code",
   "execution_count": 66,
   "metadata": {},
   "outputs": [],
   "source": [
    "lags = make_features(data, 24, 168)\n",
    "dayofweek_ohe = pd.get_dummies(data['dayofweek'], drop_first=True)\n",
    "hour_ohe = pd.get_dummies(data['hour'], drop_first=True)\n",
    "data = data.merge(dayofweek_ohe, on = 'datetime')\n",
    "data = data.merge(hour_ohe, on = 'datetime')"
   ]
  },
  {
   "cell_type": "code",
   "execution_count": 67,
   "metadata": {},
   "outputs": [],
   "source": [
    "data = data.dropna()\n"
   ]
  },
  {
   "cell_type": "markdown",
   "metadata": {},
   "source": [
    "## Обучение\n",
    "Разобьём данные на обучающую и тестовую часть, но в обущающей ещё дополнительно выделим валидационную выборку для промежуточного контроля. Мы обучим следующием модели:\n",
    "- линейную регрессию\n",
    "- дерево решений\n",
    "- случайный лес\n",
    "- модель бустинга с помощью библиотеки CatBoost\n",
    "- модель бустинга с помощью библиотеки LGBM"
   ]
  },
  {
   "cell_type": "code",
   "execution_count": 85,
   "metadata": {},
   "outputs": [],
   "source": [
    "train_valid, test = train_test_split(data, shuffle=False, test_size=0.1, random_state = 12345)\n",
    "train, valid = train_test_split(train_valid, shuffle=False, test_size=0.11111111111, random_state = 12345)"
   ]
  },
  {
   "cell_type": "code",
   "execution_count": 93,
   "metadata": {},
   "outputs": [
    {
     "name": "stdout",
     "output_type": "stream",
     "text": [
      "(3398, 85) (3398,) (425, 85) (425,) (425, 85) (425,)\n"
     ]
    }
   ],
   "source": [
    "target_train = train['num_orders']\n",
    "features_train = train.drop(['num_orders'], axis = 1)\n",
    "target_valid = valid['num_orders']\n",
    "features_valid = valid.drop(['num_orders'], axis = 1)\n",
    "target_test = test['num_orders']\n",
    "features_test = test.drop(['num_orders'], axis = 1)\n",
    "target_train_valid = train_valid['num_orders']\n",
    "features_train_valid = train_valid.drop(['num_orders'], axis = 1)\n",
    "\n",
    "print(features_train.shape, target_train.shape, features_valid.shape, target_valid.shape, features_test.shape, target_test.shape)"
   ]
  },
  {
   "cell_type": "code",
   "execution_count": 87,
   "metadata": {},
   "outputs": [
    {
     "name": "stdout",
     "output_type": "stream",
     "text": [
      "Линейная регрессия\n",
      "RMSE валидационной выборки: 32.332149107034304\n"
     ]
    }
   ],
   "source": [
    "lr = LinearRegression()\n",
    "grid = {}\n",
    "tscv = TimeSeriesSplit(n_splits=5)\n",
    "glr = GridSearchCV(lr, cv = tscv, param_grid=grid, scoring=mean_squared_error, n_jobs=-1)\n",
    "glr.fit(features_train, target_train)\n",
    "best_model_lr = glr.best_estimator_\n",
    "predictions_valid = best_model_lr.predict(features_valid)\n",
    "rmse_lr = mean_squared_error(target_valid, predictions_valid)**0.5\n",
    "print(\"Линейная регрессия\")\n",
    "print(\"RMSE валидационной выборки:\", rmse_lr)\n"
   ]
  },
  {
   "cell_type": "code",
   "execution_count": 88,
   "metadata": {},
   "outputs": [
    {
     "name": "stdout",
     "output_type": "stream",
     "text": [
      "Случайный лес\n",
      "RMSE валидационной выборки: 51.90995880117134\n"
     ]
    }
   ],
   "source": [
    "rfr = RandomForestRegressor(random_state = 12345)\n",
    "grid = {'n_estimators': (1, 10, 1), 'max_depth': (1,5)}\n",
    "tscv = TimeSeriesSplit(n_splits=5)\n",
    "grfr = GridSearchCV(rfr, cv = tscv, param_grid=grid, scoring=mean_squared_error, n_jobs=-1)\n",
    "grfr.fit(features_train, target_train)\n",
    "best_model_rfr = grfr.best_estimator_\n",
    "predictions_valid = best_model_rfr.predict(features_valid)\n",
    "rmse_rfr = mean_squared_error(target_valid, predictions_valid)**0.5\n",
    "print('Случайный лес')\n",
    "print(\"RMSE валидационной выборки:\", rmse_rfr)\n"
   ]
  },
  {
   "cell_type": "code",
   "execution_count": 89,
   "metadata": {},
   "outputs": [
    {
     "name": "stdout",
     "output_type": "stream",
     "text": [
      "Дерево решений\n",
      "RMSE валидационной выборки: 51.63503592190021\n"
     ]
    }
   ],
   "source": [
    "dtr = DecisionTreeRegressor(random_state = 12345)\n",
    "grid = {'min_samples_split': (2, 5), 'max_depth': (1,10)}\n",
    "tscv = TimeSeriesSplit(n_splits=5)\n",
    "gdtr = GridSearchCV(dtr, cv = tscv, param_grid=grid, scoring=mean_squared_error, n_jobs=-1)\n",
    "gdtr.fit(features_train, target_train)\n",
    "best_model_dtr = gdtr.best_estimator_\n",
    "predictions_valid = best_model_dtr.predict(features_valid)\n",
    "rmse_dtr = mean_squared_error(target_valid, predictions_valid)**0.5\n",
    "print('Дерево решений')\n",
    "print(\"RMSE валидационной выборки:\", rmse_dtr)\n"
   ]
  },
  {
   "cell_type": "code",
   "execution_count": 94,
   "metadata": {},
   "outputs": [],
   "source": [
    "initial_columns = ['dayofweek', 'hour', 'rolling_mean'] + lags\n",
    "features_train_boost = features_train[initial_columns]\n",
    "features_valid_boost = features_valid[initial_columns]\n",
    "features_test_boost = features_test[initial_columns]\n",
    "features_train_valid_boost = features_train_valid[initial_columns]"
   ]
  },
  {
   "cell_type": "code",
   "execution_count": 91,
   "metadata": {},
   "outputs": [
    {
     "name": "stdout",
     "output_type": "stream",
     "text": [
      "CatBoost\n",
      "RMSE валидационной выборки: 32.06691220065558\n"
     ]
    }
   ],
   "source": [
    "cat_features = ['dayofweek', 'hour']\n",
    "cbr = CatBoostRegressor(loss_function=\"RMSE\", iterations=100, depth = 10) \n",
    "cbr.fit(features_train_boost, target_train, cat_features = cat_features, verbose=False)\n",
    "predictions_valid = cbr.predict(features_valid_boost)\n",
    "rmse_cbr = mean_squared_error(target_valid, predictions_valid)**0.5\n",
    "print('CatBoost')\n",
    "print(\"RMSE валидационной выборки:\", rmse_cbr)"
   ]
  },
  {
   "cell_type": "code",
   "execution_count": 92,
   "metadata": {},
   "outputs": [
    {
     "name": "stdout",
     "output_type": "stream",
     "text": [
      "LGBM\n",
      "RMSE валидационной выборки: 30.6174537521225\n"
     ]
    }
   ],
   "source": [
    "for feature in cat_features:\n",
    "    features_train_boost[feature] = features_train_boost[feature].astype('category')\n",
    "    features_valid_boost[feature] = features_valid_boost[feature].astype('category')\n",
    "    features_test_boost[feature] = features_test_boost[feature].astype('category')\n",
    "    \n",
    "lgbr = LGBMRegressor(n_estimators = 100, n_jobs=-1)\n",
    "lgbr.fit(features_train_boost, target_train, verbose=False)\n",
    "predictions_valid = lgbr.predict(features_valid_boost) \n",
    "rmse_lgbr = mean_squared_error(target_valid, predictions_valid)**0.5\n",
    "print('LGBM')\n",
    "print(\"RMSE валидационной выборки:\", rmse_lgbr)\n"
   ]
  },
  {
   "cell_type": "markdown",
   "metadata": {},
   "source": [
    "**Вывод**: Лучший результат на валидационной выборке дали модели **линейной регрессии, CatBoost, LGBM**, остальные модели не дали целевого значения RMSE. Минимальный результат дала модель  **LGBM**, но на тестовой выборке проверим все три."
   ]
  },
  {
   "cell_type": "markdown",
   "metadata": {},
   "source": [
    "## Тестирование\n",
    "Перед тестированием дополнительно дообучим модели бустингов на тренировочной + валидационной выборках)"
   ]
  },
  {
   "cell_type": "code",
   "execution_count": 95,
   "metadata": {},
   "outputs": [
    {
     "data": {
      "text/plain": [
       "<catboost.core.CatBoostRegressor at 0x7f9dcd58ca30>"
      ]
     },
     "execution_count": 95,
     "metadata": {},
     "output_type": "execute_result"
    }
   ],
   "source": [
    "lgbr.fit(features_train_valid_boost, target_train_valid, verbose=False)\n",
    "cbr.fit(features_train_valid_boost, target_train_valid, cat_features = cat_features, verbose=False)"
   ]
  },
  {
   "cell_type": "code",
   "execution_count": 96,
   "metadata": {},
   "outputs": [],
   "source": [
    "predictions_test = best_model_lr.predict(features_test)\n",
    "rmse_lr_test = mean_squared_error(target_test, predictions_test)**0.5\n",
    "\n",
    "predictions_test = cbr.predict(features_test_boost)\n",
    "rmse_cbr_test = mean_squared_error(target_test, predictions_test)**0.5\n",
    "\n",
    "predictions_test = lgbr.predict(features_test_boost) \n",
    "rmse_lgbr_test = mean_squared_error(target_test, predictions_test)**0.5"
   ]
  },
  {
   "cell_type": "code",
   "execution_count": 97,
   "metadata": {},
   "outputs": [],
   "source": [
    "result = pd.DataFrame(data = [['LinearRegression', rmse_lr, rmse_lr_test],\n",
    "                              ['RandomForestRegressor', rmse_rfr, '-'],\n",
    "                              ['DecitionTreeRegressor', rmse_dtr, '-'],\n",
    "                              ['CatBoostRegressor', rmse_cbr, rmse_cbr_test],\n",
    "                              ['LGBMRegressor', rmse_lgbr, rmse_lgbr_test]],\n",
    "                      columns = ['Model', 'RMSE_valid', 'RMSE_test'])"
   ]
  },
  {
   "cell_type": "code",
   "execution_count": 98,
   "metadata": {
    "scrolled": false
   },
   "outputs": [
    {
     "data": {
      "text/html": [
       "<div>\n",
       "<style scoped>\n",
       "    .dataframe tbody tr th:only-of-type {\n",
       "        vertical-align: middle;\n",
       "    }\n",
       "\n",
       "    .dataframe tbody tr th {\n",
       "        vertical-align: top;\n",
       "    }\n",
       "\n",
       "    .dataframe thead th {\n",
       "        text-align: right;\n",
       "    }\n",
       "</style>\n",
       "<table border=\"1\" class=\"dataframe\">\n",
       "  <thead>\n",
       "    <tr style=\"text-align: right;\">\n",
       "      <th></th>\n",
       "      <th>Model</th>\n",
       "      <th>RMSE_valid</th>\n",
       "      <th>RMSE_test</th>\n",
       "    </tr>\n",
       "  </thead>\n",
       "  <tbody>\n",
       "    <tr>\n",
       "      <th>0</th>\n",
       "      <td>LinearRegression</td>\n",
       "      <td>32.332149</td>\n",
       "      <td>42.239177</td>\n",
       "    </tr>\n",
       "    <tr>\n",
       "      <th>1</th>\n",
       "      <td>RandomForestRegressor</td>\n",
       "      <td>51.909959</td>\n",
       "      <td>-</td>\n",
       "    </tr>\n",
       "    <tr>\n",
       "      <th>2</th>\n",
       "      <td>DecitionTreeRegressor</td>\n",
       "      <td>51.635036</td>\n",
       "      <td>-</td>\n",
       "    </tr>\n",
       "    <tr>\n",
       "      <th>3</th>\n",
       "      <td>CatBoostRegressor</td>\n",
       "      <td>32.066912</td>\n",
       "      <td>46.920433</td>\n",
       "    </tr>\n",
       "    <tr>\n",
       "      <th>4</th>\n",
       "      <td>LGBMRegressor</td>\n",
       "      <td>30.617454</td>\n",
       "      <td>41.635862</td>\n",
       "    </tr>\n",
       "  </tbody>\n",
       "</table>\n",
       "</div>"
      ],
      "text/plain": [
       "                   Model  RMSE_valid  RMSE_test\n",
       "0       LinearRegression   32.332149  42.239177\n",
       "1  RandomForestRegressor   51.909959          -\n",
       "2  DecitionTreeRegressor   51.635036          -\n",
       "3      CatBoostRegressor   32.066912  46.920433\n",
       "4          LGBMRegressor   30.617454  41.635862"
      ]
     },
     "metadata": {},
     "output_type": "display_data"
    }
   ],
   "source": [
    "display(result)"
   ]
  },
  {
   "cell_type": "markdown",
   "metadata": {},
   "source": [
    "На валидационной выборке три модели (линейная регрессия и бустинги) дали схожие результаты. Модели бустингов мы дополнительно дообучили на валидационной выборке, после чего все три модели также прошли финальное тестирование."
   ]
  }
 ],
 "metadata": {
  "ExecuteTimeLog": [
   {
    "duration": 412,
    "start_time": "2022-11-04T09:30:18.050Z"
   },
   {
    "duration": 96,
    "start_time": "2022-11-04T09:30:45.798Z"
   },
   {
    "duration": 114,
    "start_time": "2022-11-04T09:32:34.177Z"
   },
   {
    "duration": 14,
    "start_time": "2022-11-04T09:32:49.914Z"
   },
   {
    "duration": 21,
    "start_time": "2022-11-04T09:33:10.248Z"
   },
   {
    "duration": 14,
    "start_time": "2022-11-04T09:33:46.622Z"
   },
   {
    "duration": 26,
    "start_time": "2022-11-04T09:33:54.727Z"
   },
   {
    "duration": 18,
    "start_time": "2022-11-04T09:36:09.677Z"
   },
   {
    "duration": 50,
    "start_time": "2022-11-04T09:36:40.204Z"
   },
   {
    "duration": 33,
    "start_time": "2022-11-04T09:36:41.667Z"
   },
   {
    "duration": 21,
    "start_time": "2022-11-04T09:36:49.943Z"
   },
   {
    "duration": 10,
    "start_time": "2022-11-04T09:36:54.783Z"
   },
   {
    "duration": 11,
    "start_time": "2022-11-04T09:37:08.345Z"
   },
   {
    "duration": 25,
    "start_time": "2022-11-04T09:37:53.622Z"
   },
   {
    "duration": 10,
    "start_time": "2022-11-04T09:40:40.189Z"
   },
   {
    "duration": 11,
    "start_time": "2022-11-04T09:42:13.720Z"
   },
   {
    "duration": 49,
    "start_time": "2022-11-04T09:42:48.177Z"
   },
   {
    "duration": 18,
    "start_time": "2022-11-04T09:42:49.245Z"
   },
   {
    "duration": 7,
    "start_time": "2022-11-04T09:42:54.190Z"
   },
   {
    "duration": 649,
    "start_time": "2022-11-04T09:43:04.410Z"
   },
   {
    "duration": 3,
    "start_time": "2022-11-04T09:45:19.054Z"
   },
   {
    "duration": 210,
    "start_time": "2022-11-04T09:45:21.848Z"
   },
   {
    "duration": 250,
    "start_time": "2022-11-04T09:45:29.593Z"
   },
   {
    "duration": 220,
    "start_time": "2022-11-04T09:45:38.289Z"
   },
   {
    "duration": 6,
    "start_time": "2022-11-04T09:48:01.356Z"
   },
   {
    "duration": 5,
    "start_time": "2022-11-04T09:49:56.020Z"
   },
   {
    "duration": 4,
    "start_time": "2022-11-04T09:51:48.137Z"
   },
   {
    "duration": 6,
    "start_time": "2022-11-04T09:52:02.248Z"
   },
   {
    "duration": 10,
    "start_time": "2022-11-04T09:52:31.850Z"
   },
   {
    "duration": 9,
    "start_time": "2022-11-04T09:52:37.709Z"
   },
   {
    "duration": 17,
    "start_time": "2022-11-04T09:52:52.177Z"
   },
   {
    "duration": 753,
    "start_time": "2022-11-04T09:52:56.959Z"
   },
   {
    "duration": 7,
    "start_time": "2022-11-04T09:53:01.262Z"
   },
   {
    "duration": 5,
    "start_time": "2022-11-04T09:53:38.282Z"
   },
   {
    "duration": 6,
    "start_time": "2022-11-04T09:54:35.636Z"
   },
   {
    "duration": 183,
    "start_time": "2022-11-04T09:56:12.124Z"
   },
   {
    "duration": 21,
    "start_time": "2022-11-04T09:56:28.991Z"
   },
   {
    "duration": 7,
    "start_time": "2022-11-04T09:57:35.223Z"
   },
   {
    "duration": 6,
    "start_time": "2022-11-04T09:57:36.201Z"
   },
   {
    "duration": 5,
    "start_time": "2022-11-04T09:57:36.807Z"
   },
   {
    "duration": 7,
    "start_time": "2022-11-04T09:57:37.381Z"
   },
   {
    "duration": 13,
    "start_time": "2022-11-04T09:57:38.650Z"
   },
   {
    "duration": 7,
    "start_time": "2022-11-04T09:59:52.044Z"
   },
   {
    "duration": 8,
    "start_time": "2022-11-04T09:59:53.394Z"
   },
   {
    "duration": 7,
    "start_time": "2022-11-04T10:00:15.363Z"
   },
   {
    "duration": 5,
    "start_time": "2022-11-04T10:00:27.849Z"
   },
   {
    "duration": 6,
    "start_time": "2022-11-04T10:00:31.193Z"
   },
   {
    "duration": 9,
    "start_time": "2022-11-04T10:00:32.747Z"
   },
   {
    "duration": 6,
    "start_time": "2022-11-04T10:00:41.202Z"
   },
   {
    "duration": 8,
    "start_time": "2022-11-04T10:00:42.346Z"
   },
   {
    "duration": 7,
    "start_time": "2022-11-04T10:00:50.085Z"
   },
   {
    "duration": 7,
    "start_time": "2022-11-04T10:00:51.092Z"
   },
   {
    "duration": 19,
    "start_time": "2022-11-04T10:01:35.438Z"
   },
   {
    "duration": 12,
    "start_time": "2022-11-04T10:01:49.012Z"
   },
   {
    "duration": 5,
    "start_time": "2022-11-04T10:02:04.093Z"
   },
   {
    "duration": 7,
    "start_time": "2022-11-04T10:02:05.563Z"
   },
   {
    "duration": 6,
    "start_time": "2022-11-04T10:02:07.317Z"
   },
   {
    "duration": 8,
    "start_time": "2022-11-04T10:02:11.352Z"
   },
   {
    "duration": 13,
    "start_time": "2022-11-04T10:02:13.400Z"
   },
   {
    "duration": 7,
    "start_time": "2022-11-04T10:02:37.449Z"
   },
   {
    "duration": 7,
    "start_time": "2022-11-04T10:02:38.854Z"
   },
   {
    "duration": 12,
    "start_time": "2022-11-04T10:02:40.538Z"
   },
   {
    "duration": 12,
    "start_time": "2022-11-04T10:03:09.775Z"
   },
   {
    "duration": 8,
    "start_time": "2022-11-04T10:04:04.911Z"
   },
   {
    "duration": 6,
    "start_time": "2022-11-04T10:04:06.552Z"
   },
   {
    "duration": 8,
    "start_time": "2022-11-04T10:04:08.170Z"
   },
   {
    "duration": 12,
    "start_time": "2022-11-04T10:04:10.072Z"
   },
   {
    "duration": 12,
    "start_time": "2022-11-04T10:04:14.196Z"
   },
   {
    "duration": 6,
    "start_time": "2022-11-04T10:04:31.348Z"
   },
   {
    "duration": 9,
    "start_time": "2022-11-04T10:04:32.151Z"
   },
   {
    "duration": 12,
    "start_time": "2022-11-04T10:04:32.795Z"
   },
   {
    "duration": 12,
    "start_time": "2022-11-04T13:05:29.691Z"
   },
   {
    "duration": 12,
    "start_time": "2022-11-04T13:05:46.810Z"
   },
   {
    "duration": 3,
    "start_time": "2022-11-04T13:06:19.774Z"
   },
   {
    "duration": 8,
    "start_time": "2022-11-04T13:06:23.427Z"
   },
   {
    "duration": 46,
    "start_time": "2022-11-04T13:06:25.806Z"
   },
   {
    "duration": 4,
    "start_time": "2022-11-04T13:07:04.369Z"
   },
   {
    "duration": 49,
    "start_time": "2022-11-04T13:07:08.657Z"
   },
   {
    "duration": 62,
    "start_time": "2022-11-04T13:07:22.592Z"
   },
   {
    "duration": 14,
    "start_time": "2022-11-04T13:09:59.355Z"
   },
   {
    "duration": 29,
    "start_time": "2022-11-04T13:10:23.069Z"
   },
   {
    "duration": 15,
    "start_time": "2022-11-04T13:10:27.397Z"
   },
   {
    "duration": 11,
    "start_time": "2022-11-04T13:10:39.234Z"
   },
   {
    "duration": 329,
    "start_time": "2022-11-04T13:10:48.439Z"
   },
   {
    "duration": 20,
    "start_time": "2022-11-04T13:12:22.987Z"
   },
   {
    "duration": 18,
    "start_time": "2022-11-04T13:12:40.865Z"
   },
   {
    "duration": 100,
    "start_time": "2022-11-04T13:12:47.840Z"
   },
   {
    "duration": 89,
    "start_time": "2022-11-04T13:23:16.625Z"
   },
   {
    "duration": 111,
    "start_time": "2022-11-04T13:25:40.376Z"
   },
   {
    "duration": 1419,
    "start_time": "2022-11-04T13:26:28.430Z"
   },
   {
    "duration": 14267,
    "start_time": "2022-11-04T13:26:51.629Z"
   },
   {
    "duration": 51032,
    "start_time": "2022-11-04T13:41:13.441Z"
   },
   {
    "duration": 4,
    "start_time": "2022-11-04T13:52:10.804Z"
   },
   {
    "duration": 50,
    "start_time": "2022-11-04T13:52:39.379Z"
   },
   {
    "duration": 46,
    "start_time": "2022-11-04T13:55:25.794Z"
   },
   {
    "duration": 316,
    "start_time": "2022-11-04T13:56:10.403Z"
   },
   {
    "duration": 39,
    "start_time": "2022-11-04T14:01:23.659Z"
   },
   {
    "duration": 320,
    "start_time": "2022-11-04T14:01:26.800Z"
   },
   {
    "duration": 41,
    "start_time": "2022-11-04T14:01:34.394Z"
   },
   {
    "duration": 315,
    "start_time": "2022-11-04T14:01:37.168Z"
   },
   {
    "duration": 127,
    "start_time": "2022-11-04T14:01:38.964Z"
   },
   {
    "duration": 4591,
    "start_time": "2022-11-04T14:01:41.154Z"
   },
   {
    "duration": 14251,
    "start_time": "2022-11-04T14:02:15.472Z"
   },
   {
    "duration": 1433,
    "start_time": "2022-11-04T14:07:49.121Z"
   },
   {
    "duration": 52,
    "start_time": "2022-11-04T14:07:50.557Z"
   },
   {
    "duration": 26,
    "start_time": "2022-11-04T14:07:50.611Z"
   },
   {
    "duration": 260,
    "start_time": "2022-11-04T14:07:50.640Z"
   },
   {
    "duration": 5,
    "start_time": "2022-11-04T14:07:50.902Z"
   },
   {
    "duration": 42,
    "start_time": "2022-11-04T14:07:50.909Z"
   },
   {
    "duration": 20,
    "start_time": "2022-11-04T14:07:50.954Z"
   },
   {
    "duration": 40,
    "start_time": "2022-11-04T14:07:50.977Z"
   },
   {
    "duration": 50,
    "start_time": "2022-11-04T14:07:51.020Z"
   },
   {
    "duration": 66,
    "start_time": "2022-11-04T14:07:51.073Z"
   },
   {
    "duration": 477,
    "start_time": "2022-11-04T14:07:51.153Z"
   },
   {
    "duration": 148,
    "start_time": "2022-11-04T14:07:51.633Z"
   },
   {
    "duration": 11329,
    "start_time": "2022-11-04T14:07:51.784Z"
   },
   {
    "duration": 135548,
    "start_time": "2022-11-04T14:08:03.115Z"
   },
   {
    "duration": 146,
    "start_time": "2022-11-04T14:10:18.666Z"
   },
   {
    "duration": 0,
    "start_time": "2022-11-04T14:10:18.814Z"
   },
   {
    "duration": 0,
    "start_time": "2022-11-04T14:10:18.815Z"
   },
   {
    "duration": 30,
    "start_time": "2022-11-04T14:10:33.870Z"
   },
   {
    "duration": 43,
    "start_time": "2022-11-04T14:10:36.237Z"
   },
   {
    "duration": 47,
    "start_time": "2022-11-04T14:10:51.495Z"
   },
   {
    "duration": 11,
    "start_time": "2022-11-04T14:11:04.124Z"
   },
   {
    "duration": 5,
    "start_time": "2022-11-04T14:11:15.556Z"
   },
   {
    "duration": 9,
    "start_time": "2022-11-04T14:11:17.757Z"
   },
   {
    "duration": 42,
    "start_time": "2022-11-04T14:34:10.364Z"
   },
   {
    "duration": 28,
    "start_time": "2022-11-04T14:35:15.077Z"
   },
   {
    "duration": 27,
    "start_time": "2022-11-04T14:35:27.295Z"
   },
   {
    "duration": 7,
    "start_time": "2022-11-04T14:35:46.223Z"
   },
   {
    "duration": 4,
    "start_time": "2022-11-04T14:35:48.522Z"
   },
   {
    "duration": 48,
    "start_time": "2022-11-04T14:35:50.104Z"
   },
   {
    "duration": 19,
    "start_time": "2022-11-04T14:35:51.845Z"
   },
   {
    "duration": 9,
    "start_time": "2022-11-04T14:35:54.472Z"
   },
   {
    "duration": 317,
    "start_time": "2022-11-04T14:35:56.650Z"
   },
   {
    "duration": 10,
    "start_time": "2022-11-04T14:36:00.523Z"
   },
   {
    "duration": 14,
    "start_time": "2022-11-04T14:36:16.874Z"
   },
   {
    "duration": 20,
    "start_time": "2022-11-04T14:36:36.253Z"
   },
   {
    "duration": 235,
    "start_time": "2022-11-04T14:36:54.482Z"
   },
   {
    "duration": 14,
    "start_time": "2022-11-04T14:37:13.334Z"
   },
   {
    "duration": 262,
    "start_time": "2022-11-04T14:37:19.124Z"
   },
   {
    "duration": 13,
    "start_time": "2022-11-04T14:37:28.595Z"
   },
   {
    "duration": 192,
    "start_time": "2022-11-04T14:37:31.277Z"
   },
   {
    "duration": 5,
    "start_time": "2022-11-04T14:37:40.466Z"
   },
   {
    "duration": 54,
    "start_time": "2022-11-04T14:37:43.652Z"
   },
   {
    "duration": 16,
    "start_time": "2022-11-04T14:37:45.305Z"
   },
   {
    "duration": 19,
    "start_time": "2022-11-04T14:37:48.159Z"
   },
   {
    "duration": 249,
    "start_time": "2022-11-04T14:37:50.025Z"
   },
   {
    "duration": 13,
    "start_time": "2022-11-04T14:37:52.869Z"
   },
   {
    "duration": 255,
    "start_time": "2022-11-04T14:37:54.834Z"
   },
   {
    "duration": 5,
    "start_time": "2022-11-04T14:38:09.100Z"
   },
   {
    "duration": 11,
    "start_time": "2022-11-04T14:38:11.284Z"
   },
   {
    "duration": 8,
    "start_time": "2022-11-04T14:38:12.817Z"
   },
   {
    "duration": 7,
    "start_time": "2022-11-04T14:38:14.370Z"
   },
   {
    "duration": 11,
    "start_time": "2022-11-04T14:38:16.399Z"
   },
   {
    "duration": 42,
    "start_time": "2022-11-04T14:38:18.106Z"
   },
   {
    "duration": 310,
    "start_time": "2022-11-04T14:38:20.175Z"
   },
   {
    "duration": 100,
    "start_time": "2022-11-04T14:38:22.425Z"
   },
   {
    "duration": 10378,
    "start_time": "2022-11-04T14:38:24.966Z"
   },
   {
    "duration": 115356,
    "start_time": "2022-11-04T14:38:41.419Z"
   },
   {
    "duration": 27,
    "start_time": "2022-11-04T14:41:07.901Z"
   },
   {
    "duration": 5,
    "start_time": "2022-11-04T14:41:09.991Z"
   },
   {
    "duration": 9,
    "start_time": "2022-11-04T14:41:12.022Z"
   },
   {
    "duration": 3,
    "start_time": "2022-11-04T14:45:03.702Z"
   },
   {
    "duration": 2,
    "start_time": "2022-11-04T14:45:05.220Z"
   },
   {
    "duration": 4,
    "start_time": "2022-11-04T14:45:07.793Z"
   },
   {
    "duration": 19,
    "start_time": "2022-11-04T14:45:09.930Z"
   },
   {
    "duration": 10,
    "start_time": "2022-11-04T14:45:12.217Z"
   },
   {
    "duration": 7,
    "start_time": "2022-11-04T14:45:14.033Z"
   },
   {
    "duration": 10,
    "start_time": "2022-11-04T14:45:15.991Z"
   },
   {
    "duration": 511,
    "start_time": "2022-11-04T14:45:18.950Z"
   },
   {
    "duration": 436,
    "start_time": "2022-11-04T14:45:21.541Z"
   },
   {
    "duration": 128,
    "start_time": "2022-11-04T14:45:24.078Z"
   },
   {
    "duration": 64743,
    "start_time": "2022-11-04T14:45:26.276Z"
   },
   {
    "duration": 170776,
    "start_time": "2022-11-04T14:48:20.899Z"
   },
   {
    "duration": 183,
    "start_time": "2022-11-04T14:52:11.891Z"
   },
   {
    "duration": 5,
    "start_time": "2022-11-04T14:52:18.501Z"
   },
   {
    "duration": 9,
    "start_time": "2022-11-04T14:52:20.981Z"
   },
   {
    "duration": 1690,
    "start_time": "2022-11-04T14:55:40.489Z"
   },
   {
    "duration": 53,
    "start_time": "2022-11-04T14:55:42.181Z"
   },
   {
    "duration": 23,
    "start_time": "2022-11-04T14:55:42.236Z"
   },
   {
    "duration": 21,
    "start_time": "2022-11-04T14:55:42.264Z"
   },
   {
    "duration": 253,
    "start_time": "2022-11-04T14:55:42.287Z"
   },
   {
    "duration": 2,
    "start_time": "2022-11-04T14:55:42.542Z"
   },
   {
    "duration": 29,
    "start_time": "2022-11-04T14:55:42.545Z"
   },
   {
    "duration": 7,
    "start_time": "2022-11-04T14:55:42.576Z"
   },
   {
    "duration": 13,
    "start_time": "2022-11-04T14:55:42.584Z"
   },
   {
    "duration": 7,
    "start_time": "2022-11-04T14:55:42.599Z"
   },
   {
    "duration": 11,
    "start_time": "2022-11-04T14:55:42.608Z"
   },
   {
    "duration": 12,
    "start_time": "2022-11-04T14:55:42.620Z"
   },
   {
    "duration": 50,
    "start_time": "2022-11-04T14:55:42.635Z"
   },
   {
    "duration": 456,
    "start_time": "2022-11-04T14:55:42.688Z"
   },
   {
    "duration": 120,
    "start_time": "2022-11-04T14:55:43.145Z"
   },
   {
    "duration": 15797,
    "start_time": "2022-11-04T14:55:43.267Z"
   },
   {
    "duration": 294298,
    "start_time": "2022-11-04T14:55:59.072Z"
   },
   {
    "duration": 100,
    "start_time": "2022-11-04T15:00:53.373Z"
   },
   {
    "duration": 11,
    "start_time": "2022-11-04T15:00:53.476Z"
   },
   {
    "duration": 17,
    "start_time": "2022-11-04T15:00:53.489Z"
   },
   {
    "duration": 46,
    "start_time": "2022-11-04T17:35:07.220Z"
   },
   {
    "duration": 1546,
    "start_time": "2022-11-04T17:35:10.648Z"
   },
   {
    "duration": 118,
    "start_time": "2022-11-04T17:35:15.554Z"
   },
   {
    "duration": 19,
    "start_time": "2022-11-04T17:35:17.944Z"
   },
   {
    "duration": 18,
    "start_time": "2022-11-04T17:35:22.633Z"
   },
   {
    "duration": 241,
    "start_time": "2022-11-04T17:35:25.821Z"
   },
   {
    "duration": 3,
    "start_time": "2022-11-04T17:35:31.847Z"
   },
   {
    "duration": 11,
    "start_time": "2022-11-04T17:35:33.806Z"
   },
   {
    "duration": 7,
    "start_time": "2022-11-04T17:35:35.628Z"
   },
   {
    "duration": 6,
    "start_time": "2022-11-04T17:35:38.362Z"
   },
   {
    "duration": 68,
    "start_time": "2022-11-04T17:35:39.736Z"
   },
   {
    "duration": 47,
    "start_time": "2022-11-04T17:35:41.570Z"
   },
   {
    "duration": 553,
    "start_time": "2022-11-04T17:35:54.025Z"
   },
   {
    "duration": 211,
    "start_time": "2022-11-04T17:36:00.963Z"
   },
   {
    "duration": 218707,
    "start_time": "2022-11-04T17:36:19.488Z"
   },
   {
    "duration": 85,
    "start_time": "2022-11-04T17:39:58.197Z"
   },
   {
    "duration": 10,
    "start_time": "2022-11-04T17:41:36.749Z"
   },
   {
    "duration": 28,
    "start_time": "2022-11-04T17:42:25.179Z"
   },
   {
    "duration": 25,
    "start_time": "2022-11-04T17:42:29.716Z"
   },
   {
    "duration": 36,
    "start_time": "2022-11-04T17:42:36.547Z"
   },
   {
    "duration": 564,
    "start_time": "2022-11-04T17:42:39.508Z"
   },
   {
    "duration": 632,
    "start_time": "2022-11-04T17:42:58.544Z"
   },
   {
    "duration": 28,
    "start_time": "2022-11-04T17:43:28.641Z"
   },
   {
    "duration": 4,
    "start_time": "2022-11-04T17:43:38.461Z"
   },
   {
    "duration": 44,
    "start_time": "2022-11-04T17:43:41.029Z"
   },
   {
    "duration": 16,
    "start_time": "2022-11-04T17:43:43.241Z"
   },
   {
    "duration": 16,
    "start_time": "2022-11-04T17:43:45.651Z"
   },
   {
    "duration": 296,
    "start_time": "2022-11-04T17:43:47.859Z"
   },
   {
    "duration": 285,
    "start_time": "2022-11-04T17:44:01.549Z"
   },
   {
    "duration": 175,
    "start_time": "2022-11-04T17:44:14.038Z"
   },
   {
    "duration": 660,
    "start_time": "2022-11-04T17:44:21.445Z"
   },
   {
    "duration": 304,
    "start_time": "2022-11-04T17:45:03.845Z"
   },
   {
    "duration": 361,
    "start_time": "2022-11-04T17:45:36.789Z"
   },
   {
    "duration": 294,
    "start_time": "2022-11-04T17:46:00.283Z"
   },
   {
    "duration": 316,
    "start_time": "2022-11-04T17:46:15.565Z"
   },
   {
    "duration": 348,
    "start_time": "2022-11-04T17:46:31.902Z"
   },
   {
    "duration": 5,
    "start_time": "2022-11-04T17:47:16.593Z"
   },
   {
    "duration": 32,
    "start_time": "2022-11-04T17:47:23.211Z"
   },
   {
    "duration": 427,
    "start_time": "2022-11-04T17:47:42.627Z"
   },
   {
    "duration": 171,
    "start_time": "2022-11-04T17:48:03.940Z"
   },
   {
    "duration": 26,
    "start_time": "2022-11-04T17:48:45.035Z"
   },
   {
    "duration": 9,
    "start_time": "2022-11-04T17:48:46.058Z"
   },
   {
    "duration": 6,
    "start_time": "2022-11-04T17:48:48.420Z"
   },
   {
    "duration": 8,
    "start_time": "2022-11-04T17:48:50.985Z"
   },
   {
    "duration": 343,
    "start_time": "2022-11-04T17:48:53.938Z"
   },
   {
    "duration": 913,
    "start_time": "2022-11-04T17:48:56.902Z"
   },
   {
    "duration": 343,
    "start_time": "2022-11-04T17:49:00.257Z"
   },
   {
    "duration": 478966,
    "start_time": "2022-11-04T17:49:07.520Z"
   },
   {
    "duration": 1362,
    "start_time": "2022-11-04T17:57:37.288Z"
   },
   {
    "duration": 46,
    "start_time": "2022-11-04T17:57:38.652Z"
   },
   {
    "duration": 16,
    "start_time": "2022-11-04T17:57:38.700Z"
   },
   {
    "duration": 15,
    "start_time": "2022-11-04T17:57:38.718Z"
   },
   {
    "duration": 351,
    "start_time": "2022-11-04T17:57:38.735Z"
   },
   {
    "duration": 419,
    "start_time": "2022-11-04T17:57:39.087Z"
   },
   {
    "duration": 2,
    "start_time": "2022-11-04T17:57:39.507Z"
   },
   {
    "duration": 6,
    "start_time": "2022-11-04T17:57:39.511Z"
   },
   {
    "duration": 8,
    "start_time": "2022-11-04T17:57:39.519Z"
   },
   {
    "duration": 44,
    "start_time": "2022-11-04T17:57:39.529Z"
   },
   {
    "duration": 9,
    "start_time": "2022-11-04T17:57:39.575Z"
   },
   {
    "duration": 6,
    "start_time": "2022-11-04T17:57:39.586Z"
   },
   {
    "duration": 12,
    "start_time": "2022-11-04T17:57:39.594Z"
   },
   {
    "duration": 471,
    "start_time": "2022-11-04T17:57:39.608Z"
   },
   {
    "duration": 847,
    "start_time": "2022-11-04T17:57:40.081Z"
   },
   {
    "duration": 332,
    "start_time": "2022-11-04T17:57:40.930Z"
   },
   {
    "duration": 374936,
    "start_time": "2022-11-04T17:58:10.975Z"
   },
   {
    "duration": 9,
    "start_time": "2022-11-04T18:04:57.508Z"
   },
   {
    "duration": 1411,
    "start_time": "2022-11-04T18:05:10.511Z"
   },
   {
    "duration": 48,
    "start_time": "2022-11-04T18:05:11.925Z"
   },
   {
    "duration": 20,
    "start_time": "2022-11-04T18:05:14.933Z"
   },
   {
    "duration": 16,
    "start_time": "2022-11-04T18:05:17.745Z"
   },
   {
    "duration": 343,
    "start_time": "2022-11-04T18:05:20.041Z"
   },
   {
    "duration": 434,
    "start_time": "2022-11-04T18:05:23.292Z"
   },
   {
    "duration": 4,
    "start_time": "2022-11-04T18:05:38.906Z"
   },
   {
    "duration": 16,
    "start_time": "2022-11-04T18:05:41.092Z"
   },
   {
    "duration": 8,
    "start_time": "2022-11-04T18:05:43.297Z"
   },
   {
    "duration": 6,
    "start_time": "2022-11-04T18:05:45.767Z"
   },
   {
    "duration": 8,
    "start_time": "2022-11-04T18:05:47.717Z"
   },
   {
    "duration": 106,
    "start_time": "2022-11-04T18:05:49.771Z"
   },
   {
    "duration": 4,
    "start_time": "2022-11-04T18:06:14.952Z"
   },
   {
    "duration": 19,
    "start_time": "2022-11-04T18:06:16.935Z"
   },
   {
    "duration": 7,
    "start_time": "2022-11-04T18:06:18.608Z"
   },
   {
    "duration": 6,
    "start_time": "2022-11-04T18:06:21.103Z"
   },
   {
    "duration": 7,
    "start_time": "2022-11-04T18:06:22.716Z"
   },
   {
    "duration": 225,
    "start_time": "2022-11-04T18:06:27.254Z"
   },
   {
    "duration": 794,
    "start_time": "2022-11-04T18:06:30.550Z"
   },
   {
    "duration": 342,
    "start_time": "2022-11-04T18:06:34.164Z"
   },
   {
    "duration": 2776,
    "start_time": "2022-11-04T18:06:50.747Z"
   },
   {
    "duration": 530,
    "start_time": "2022-11-04T18:07:01.859Z"
   },
   {
    "duration": 166,
    "start_time": "2022-11-04T18:08:29.611Z"
   },
   {
    "duration": 4,
    "start_time": "2022-11-04T18:08:31.554Z"
   },
   {
    "duration": 7,
    "start_time": "2022-11-04T18:08:33.968Z"
   },
   {
    "duration": 160,
    "start_time": "2022-11-04T18:09:03.619Z"
   },
   {
    "duration": 108,
    "start_time": "2022-11-04T18:09:10.572Z"
   },
   {
    "duration": 4,
    "start_time": "2022-11-04T18:09:12.455Z"
   },
   {
    "duration": 11,
    "start_time": "2022-11-04T18:09:58.075Z"
   },
   {
    "duration": 6,
    "start_time": "2022-11-04T18:09:59.504Z"
   },
   {
    "duration": 7,
    "start_time": "2022-11-04T18:10:04.089Z"
   },
   {
    "duration": 284,
    "start_time": "2022-11-04T18:10:06.095Z"
   },
   {
    "duration": 4,
    "start_time": "2022-11-04T18:10:16.491Z"
   },
   {
    "duration": 12,
    "start_time": "2022-11-04T18:10:18.359Z"
   },
   {
    "duration": 4,
    "start_time": "2022-11-04T18:10:23.899Z"
   },
   {
    "duration": 45,
    "start_time": "2022-11-04T18:10:25.792Z"
   },
   {
    "duration": 14,
    "start_time": "2022-11-04T18:10:28.137Z"
   },
   {
    "duration": 16,
    "start_time": "2022-11-04T18:10:30.516Z"
   },
   {
    "duration": 289,
    "start_time": "2022-11-04T18:10:32.741Z"
   },
   {
    "duration": 311,
    "start_time": "2022-11-04T18:10:36.981Z"
   },
   {
    "duration": 352,
    "start_time": "2022-11-04T18:10:40.162Z"
   },
   {
    "duration": 4,
    "start_time": "2022-11-04T18:10:44.244Z"
   },
   {
    "duration": 21,
    "start_time": "2022-11-04T18:10:46.383Z"
   },
   {
    "duration": 10,
    "start_time": "2022-11-04T18:10:49.090Z"
   },
   {
    "duration": 6,
    "start_time": "2022-11-04T18:10:51.950Z"
   },
   {
    "duration": 8,
    "start_time": "2022-11-04T18:10:53.796Z"
   },
   {
    "duration": 483,
    "start_time": "2022-11-04T18:10:56.697Z"
   },
   {
    "duration": 748,
    "start_time": "2022-11-04T18:11:00.408Z"
   },
   {
    "duration": 339,
    "start_time": "2022-11-04T18:11:04.390Z"
   },
   {
    "duration": 2991,
    "start_time": "2022-11-04T18:11:14.325Z"
   },
   {
    "duration": 559,
    "start_time": "2022-11-04T18:11:20.228Z"
   },
   {
    "duration": 139,
    "start_time": "2022-11-04T18:11:25.245Z"
   },
   {
    "duration": 4,
    "start_time": "2022-11-04T18:11:27.373Z"
   },
   {
    "duration": 8,
    "start_time": "2022-11-04T18:11:30.660Z"
   },
   {
    "duration": 4010,
    "start_time": "2022-11-04T18:12:55.868Z"
   },
   {
    "duration": 5438,
    "start_time": "2022-11-04T18:13:11.172Z"
   },
   {
    "duration": 129,
    "start_time": "2022-11-04T18:13:21.149Z"
   },
   {
    "duration": 4,
    "start_time": "2022-11-04T18:13:23.526Z"
   },
   {
    "duration": 8,
    "start_time": "2022-11-04T18:13:26.317Z"
   },
   {
    "duration": 59,
    "start_time": "2022-11-04T19:03:04.422Z"
   },
   {
    "duration": 1940,
    "start_time": "2022-11-04T19:03:11.036Z"
   },
   {
    "duration": 139,
    "start_time": "2022-11-04T19:03:13.049Z"
   },
   {
    "duration": 23,
    "start_time": "2022-11-04T19:03:16.640Z"
   },
   {
    "duration": 21,
    "start_time": "2022-11-04T19:03:18.051Z"
   },
   {
    "duration": 317,
    "start_time": "2022-11-04T19:03:18.323Z"
   },
   {
    "duration": 691,
    "start_time": "2022-11-04T19:03:21.274Z"
   },
   {
    "duration": 793,
    "start_time": "2022-11-04T19:03:36.965Z"
   },
   {
    "duration": 409,
    "start_time": "2022-11-04T19:03:52.797Z"
   },
   {
    "duration": 4,
    "start_time": "2022-11-04T19:14:58.611Z"
   },
   {
    "duration": 71,
    "start_time": "2022-11-04T19:25:34.720Z"
   },
   {
    "duration": 3,
    "start_time": "2022-11-04T19:25:48.700Z"
   },
   {
    "duration": 22,
    "start_time": "2022-11-04T19:25:50.177Z"
   },
   {
    "duration": 12,
    "start_time": "2022-11-04T19:25:51.273Z"
   },
   {
    "duration": 7,
    "start_time": "2022-11-04T19:25:52.874Z"
   },
   {
    "duration": 10,
    "start_time": "2022-11-04T19:25:53.567Z"
   },
   {
    "duration": 6,
    "start_time": "2022-11-04T19:26:07.369Z"
   },
   {
    "duration": 1864,
    "start_time": "2022-11-05T20:01:33.635Z"
   },
   {
    "duration": 156,
    "start_time": "2022-11-05T20:01:38.028Z"
   },
   {
    "duration": 26,
    "start_time": "2022-11-05T20:01:40.233Z"
   },
   {
    "duration": 20,
    "start_time": "2022-11-05T20:01:42.973Z"
   },
   {
    "duration": 390,
    "start_time": "2022-11-05T20:01:45.109Z"
   },
   {
    "duration": 1126,
    "start_time": "2022-11-05T20:01:49.272Z"
   },
   {
    "duration": 1363,
    "start_time": "2022-11-05T20:04:40.908Z"
   },
   {
    "duration": 1077,
    "start_time": "2022-11-05T20:05:38.605Z"
   },
   {
    "duration": 1163,
    "start_time": "2022-11-05T20:06:09.933Z"
   },
   {
    "duration": 995,
    "start_time": "2022-11-05T20:06:41.471Z"
   },
   {
    "duration": 1126,
    "start_time": "2022-11-05T20:06:57.140Z"
   },
   {
    "duration": 1097,
    "start_time": "2022-11-05T20:07:12.661Z"
   },
   {
    "duration": 4,
    "start_time": "2022-11-05T20:07:56.826Z"
   },
   {
    "duration": 4,
    "start_time": "2022-11-05T20:35:53.111Z"
   },
   {
    "duration": 1212,
    "start_time": "2022-11-05T20:35:56.698Z"
   },
   {
    "duration": 4,
    "start_time": "2022-11-05T20:37:52.411Z"
   },
   {
    "duration": 1145,
    "start_time": "2022-11-05T20:37:56.639Z"
   },
   {
    "duration": 28,
    "start_time": "2022-11-05T20:38:11.889Z"
   },
   {
    "duration": 27,
    "start_time": "2022-11-05T20:38:29.332Z"
   },
   {
    "duration": 32,
    "start_time": "2022-11-05T20:38:59.216Z"
   },
   {
    "duration": 28,
    "start_time": "2022-11-05T20:43:39.538Z"
   },
   {
    "duration": 51,
    "start_time": "2022-11-05T20:44:33.588Z"
   },
   {
    "duration": 27,
    "start_time": "2022-11-05T20:46:11.367Z"
   },
   {
    "duration": 27,
    "start_time": "2022-11-05T20:46:38.569Z"
   },
   {
    "duration": 34,
    "start_time": "2022-11-05T20:46:47.338Z"
   },
   {
    "duration": 24,
    "start_time": "2022-11-05T20:47:32.208Z"
   },
   {
    "duration": 38,
    "start_time": "2022-11-05T20:48:02.800Z"
   },
   {
    "duration": 35,
    "start_time": "2022-11-05T20:48:51.250Z"
   },
   {
    "duration": 6,
    "start_time": "2022-11-05T20:48:59.883Z"
   },
   {
    "duration": 20,
    "start_time": "2022-11-05T20:49:02.452Z"
   },
   {
    "duration": 16,
    "start_time": "2022-11-05T20:50:02.174Z"
   },
   {
    "duration": 32,
    "start_time": "2022-11-05T20:50:41.572Z"
   },
   {
    "duration": 4,
    "start_time": "2022-11-05T20:50:48.501Z"
   },
   {
    "duration": 47,
    "start_time": "2022-11-05T20:50:51.236Z"
   },
   {
    "duration": 16,
    "start_time": "2022-11-05T20:50:53.250Z"
   },
   {
    "duration": 16,
    "start_time": "2022-11-05T20:50:55.669Z"
   },
   {
    "duration": 321,
    "start_time": "2022-11-05T20:50:57.851Z"
   },
   {
    "duration": 1218,
    "start_time": "2022-11-05T20:51:00.644Z"
   },
   {
    "duration": 4,
    "start_time": "2022-11-05T20:51:07.054Z"
   },
   {
    "duration": 53,
    "start_time": "2022-11-05T20:51:10.036Z"
   },
   {
    "duration": 27,
    "start_time": "2022-11-05T20:51:18.016Z"
   },
   {
    "duration": 36,
    "start_time": "2022-11-05T20:51:32.148Z"
   },
   {
    "duration": 4,
    "start_time": "2022-11-05T20:51:42.315Z"
   },
   {
    "duration": 72,
    "start_time": "2022-11-05T20:51:42.323Z"
   },
   {
    "duration": 18,
    "start_time": "2022-11-05T20:51:42.397Z"
   },
   {
    "duration": 17,
    "start_time": "2022-11-05T20:51:42.416Z"
   },
   {
    "duration": 333,
    "start_time": "2022-11-05T20:51:42.435Z"
   },
   {
    "duration": 1161,
    "start_time": "2022-11-05T20:51:42.770Z"
   },
   {
    "duration": 4,
    "start_time": "2022-11-05T20:51:43.932Z"
   },
   {
    "duration": 4,
    "start_time": "2022-11-05T20:52:03.108Z"
   },
   {
    "duration": 64,
    "start_time": "2022-11-05T20:52:06.065Z"
   },
   {
    "duration": 4,
    "start_time": "2022-11-05T20:52:51.386Z"
   },
   {
    "duration": 52,
    "start_time": "2022-11-05T20:52:51.393Z"
   },
   {
    "duration": 16,
    "start_time": "2022-11-05T20:52:51.448Z"
   },
   {
    "duration": 16,
    "start_time": "2022-11-05T20:52:51.466Z"
   },
   {
    "duration": 359,
    "start_time": "2022-11-05T20:52:51.485Z"
   },
   {
    "duration": 1130,
    "start_time": "2022-11-05T20:52:51.847Z"
   },
   {
    "duration": 4,
    "start_time": "2022-11-05T20:52:52.979Z"
   },
   {
    "duration": 69,
    "start_time": "2022-11-05T20:52:58.240Z"
   },
   {
    "duration": 21,
    "start_time": "2022-11-05T20:53:05.156Z"
   },
   {
    "duration": 7,
    "start_time": "2022-11-05T20:53:10.278Z"
   },
   {
    "duration": 8,
    "start_time": "2022-11-05T20:53:13.645Z"
   },
   {
    "duration": 646,
    "start_time": "2022-11-05T20:53:16.286Z"
   },
   {
    "duration": 988,
    "start_time": "2022-11-05T20:53:25.202Z"
   },
   {
    "duration": 417,
    "start_time": "2022-11-05T20:53:28.987Z"
   },
   {
    "duration": 6059,
    "start_time": "2022-11-05T20:53:37.399Z"
   },
   {
    "duration": 1972,
    "start_time": "2022-11-05T20:53:46.566Z"
   },
   {
    "duration": 188,
    "start_time": "2022-11-05T20:53:52.536Z"
   },
   {
    "duration": 4,
    "start_time": "2022-11-05T20:53:54.489Z"
   },
   {
    "duration": 9,
    "start_time": "2022-11-05T20:53:56.933Z"
   },
   {
    "duration": 23,
    "start_time": "2022-11-05T20:54:47.306Z"
   },
   {
    "duration": 6,
    "start_time": "2022-11-05T20:54:51.138Z"
   },
   {
    "duration": 30,
    "start_time": "2022-11-05T20:55:09.835Z"
   },
   {
    "duration": 44,
    "start_time": "2022-11-05T20:55:38.404Z"
   },
   {
    "duration": 4,
    "start_time": "2022-11-05T20:56:02.909Z"
   },
   {
    "duration": 49,
    "start_time": "2022-11-05T20:56:02.915Z"
   },
   {
    "duration": 16,
    "start_time": "2022-11-05T20:56:02.991Z"
   },
   {
    "duration": 17,
    "start_time": "2022-11-05T20:56:03.009Z"
   },
   {
    "duration": 334,
    "start_time": "2022-11-05T20:56:03.028Z"
   },
   {
    "duration": 1249,
    "start_time": "2022-11-05T20:56:03.364Z"
   },
   {
    "duration": 4,
    "start_time": "2022-11-05T20:56:09.507Z"
   },
   {
    "duration": 39,
    "start_time": "2022-11-05T20:56:12.289Z"
   },
   {
    "duration": 27,
    "start_time": "2022-11-05T20:56:15.754Z"
   },
   {
    "duration": 8,
    "start_time": "2022-11-05T20:56:19.639Z"
   },
   {
    "duration": 14,
    "start_time": "2022-11-05T20:56:21.945Z"
   },
   {
    "duration": 787,
    "start_time": "2022-11-05T20:56:24.340Z"
   },
   {
    "duration": 975,
    "start_time": "2022-11-05T20:56:28.536Z"
   },
   {
    "duration": 482,
    "start_time": "2022-11-05T20:56:31.704Z"
   },
   {
    "duration": 5901,
    "start_time": "2022-11-05T20:56:35.048Z"
   },
   {
    "duration": 302497,
    "start_time": "2022-11-05T20:56:44.535Z"
   },
   {
    "duration": 212,
    "start_time": "2022-11-05T21:02:10.518Z"
   },
   {
    "duration": 5,
    "start_time": "2022-11-05T21:02:16.068Z"
   },
   {
    "duration": 9,
    "start_time": "2022-11-05T21:02:17.956Z"
   },
   {
    "duration": 15,
    "start_time": "2022-11-05T21:03:06.535Z"
   },
   {
    "duration": 4,
    "start_time": "2022-11-05T21:03:39.248Z"
   },
   {
    "duration": 61,
    "start_time": "2022-11-05T21:03:39.257Z"
   },
   {
    "duration": 19,
    "start_time": "2022-11-05T21:03:39.320Z"
   },
   {
    "duration": 16,
    "start_time": "2022-11-05T21:03:39.341Z"
   },
   {
    "duration": 345,
    "start_time": "2022-11-05T21:03:39.360Z"
   },
   {
    "duration": 1221,
    "start_time": "2022-11-05T21:03:39.708Z"
   },
   {
    "duration": 5,
    "start_time": "2022-11-05T21:03:40.931Z"
   },
   {
    "duration": 61,
    "start_time": "2022-11-05T21:03:40.938Z"
   },
   {
    "duration": 11,
    "start_time": "2022-11-05T21:03:50.766Z"
   },
   {
    "duration": 8,
    "start_time": "2022-11-05T21:03:55.614Z"
   },
   {
    "duration": 10,
    "start_time": "2022-11-05T21:03:57.277Z"
   },
   {
    "duration": 624,
    "start_time": "2022-11-05T21:03:59.006Z"
   },
   {
    "duration": 987,
    "start_time": "2022-11-05T21:04:02.813Z"
   },
   {
    "duration": 422,
    "start_time": "2022-11-05T21:04:06.086Z"
   },
   {
    "duration": 6033,
    "start_time": "2022-11-05T21:04:08.474Z"
   },
   {
    "duration": 13111,
    "start_time": "2022-11-05T21:04:16.735Z"
   },
   {
    "duration": 19,
    "start_time": "2022-11-05T21:06:32.399Z"
   },
   {
    "duration": 21,
    "start_time": "2022-11-05T21:07:00.056Z"
   },
   {
    "duration": 20,
    "start_time": "2022-11-05T21:07:13.072Z"
   },
   {
    "duration": 20,
    "start_time": "2022-11-05T21:07:28.064Z"
   },
   {
    "duration": 17,
    "start_time": "2022-11-05T21:07:44.974Z"
   },
   {
    "duration": 19,
    "start_time": "2022-11-05T21:09:40.293Z"
   },
   {
    "duration": 7,
    "start_time": "2022-11-05T21:09:40.315Z"
   },
   {
    "duration": 9,
    "start_time": "2022-11-05T21:09:40.328Z"
   },
   {
    "duration": 788,
    "start_time": "2022-11-05T21:09:40.340Z"
   },
   {
    "duration": 1246,
    "start_time": "2022-11-05T21:09:41.132Z"
   },
   {
    "duration": 443,
    "start_time": "2022-11-05T21:09:42.379Z"
   },
   {
    "duration": 23,
    "start_time": "2022-11-05T21:09:42.824Z"
   },
   {
    "duration": 0,
    "start_time": "2022-11-05T21:09:42.849Z"
   },
   {
    "duration": 0,
    "start_time": "2022-11-05T21:09:42.850Z"
   },
   {
    "duration": 0,
    "start_time": "2022-11-05T21:09:42.852Z"
   },
   {
    "duration": 0,
    "start_time": "2022-11-05T21:09:42.853Z"
   },
   {
    "duration": 1604,
    "start_time": "2022-11-05T21:10:09.740Z"
   },
   {
    "duration": 54,
    "start_time": "2022-11-05T21:10:15.258Z"
   },
   {
    "duration": 21,
    "start_time": "2022-11-05T21:10:17.679Z"
   },
   {
    "duration": 19,
    "start_time": "2022-11-05T21:10:22.069Z"
   },
   {
    "duration": 402,
    "start_time": "2022-11-05T21:10:26.058Z"
   },
   {
    "duration": 1247,
    "start_time": "2022-11-05T21:10:33.084Z"
   },
   {
    "duration": 64,
    "start_time": "2022-11-05T21:10:56.192Z"
   },
   {
    "duration": 4,
    "start_time": "2022-11-05T21:11:13.605Z"
   },
   {
    "duration": 61,
    "start_time": "2022-11-05T21:12:11.778Z"
   },
   {
    "duration": 22,
    "start_time": "2022-11-05T21:12:15.128Z"
   },
   {
    "duration": 8,
    "start_time": "2022-11-05T21:12:20.658Z"
   },
   {
    "duration": 9,
    "start_time": "2022-11-05T21:12:22.985Z"
   },
   {
    "duration": 772,
    "start_time": "2022-11-05T21:12:26.362Z"
   },
   {
    "duration": 1059,
    "start_time": "2022-11-05T21:12:31.787Z"
   },
   {
    "duration": 411,
    "start_time": "2022-11-05T21:12:36.510Z"
   },
   {
    "duration": 143,
    "start_time": "2022-11-05T21:12:47.078Z"
   },
   {
    "duration": 2053,
    "start_time": "2022-11-05T21:13:09.614Z"
   },
   {
    "duration": 21,
    "start_time": "2022-11-05T21:13:41.566Z"
   },
   {
    "duration": 2125,
    "start_time": "2022-11-05T21:14:40.769Z"
   },
   {
    "duration": 28,
    "start_time": "2022-11-05T21:15:43.871Z"
   },
   {
    "duration": 2033,
    "start_time": "2022-11-05T21:15:55.390Z"
   },
   {
    "duration": 29,
    "start_time": "2022-11-05T21:17:03.600Z"
   },
   {
    "duration": 24,
    "start_time": "2022-11-05T21:17:39.048Z"
   },
   {
    "duration": 28,
    "start_time": "2022-11-05T21:19:14.701Z"
   },
   {
    "duration": 19,
    "start_time": "2022-11-05T21:19:25.395Z"
   },
   {
    "duration": 5,
    "start_time": "2022-11-05T21:19:36.329Z"
   },
   {
    "duration": 49,
    "start_time": "2022-11-05T21:19:36.344Z"
   },
   {
    "duration": 16,
    "start_time": "2022-11-05T21:19:36.396Z"
   },
   {
    "duration": 19,
    "start_time": "2022-11-05T21:19:36.414Z"
   },
   {
    "duration": 363,
    "start_time": "2022-11-05T21:19:36.435Z"
   },
   {
    "duration": 1295,
    "start_time": "2022-11-05T21:19:36.800Z"
   },
   {
    "duration": 4,
    "start_time": "2022-11-05T21:19:38.097Z"
   },
   {
    "duration": 53,
    "start_time": "2022-11-05T21:19:38.102Z"
   },
   {
    "duration": 29,
    "start_time": "2022-11-05T21:20:16.671Z"
   },
   {
    "duration": 33,
    "start_time": "2022-11-05T21:20:40.331Z"
   },
   {
    "duration": 1977,
    "start_time": "2022-11-05T21:22:17.794Z"
   },
   {
    "duration": 2070,
    "start_time": "2022-11-05T21:22:33.710Z"
   },
   {
    "duration": 6414,
    "start_time": "2022-11-05T21:22:59.697Z"
   },
   {
    "duration": 303963,
    "start_time": "2022-11-05T21:23:18.361Z"
   },
   {
    "duration": 212,
    "start_time": "2022-11-05T21:30:47.419Z"
   },
   {
    "duration": 6,
    "start_time": "2022-11-05T21:30:50.269Z"
   },
   {
    "duration": 12,
    "start_time": "2022-11-05T21:30:52.963Z"
   },
   {
    "duration": 25,
    "start_time": "2022-11-05T21:32:41.403Z"
   },
   {
    "duration": 5,
    "start_time": "2022-11-05T21:33:02.798Z"
   },
   {
    "duration": 21,
    "start_time": "2022-11-05T21:33:21.965Z"
   },
   {
    "duration": 16,
    "start_time": "2022-11-05T21:33:31.659Z"
   },
   {
    "duration": 125,
    "start_time": "2022-11-05T21:35:05.938Z"
   },
   {
    "duration": 4,
    "start_time": "2022-11-05T21:35:10.469Z"
   },
   {
    "duration": 16,
    "start_time": "2022-11-05T21:35:33.878Z"
   },
   {
    "duration": 4,
    "start_time": "2022-11-05T21:35:54.537Z"
   },
   {
    "duration": 35,
    "start_time": "2022-11-05T21:35:57.171Z"
   },
   {
    "duration": 54,
    "start_time": "2022-11-05T21:36:09.330Z"
   },
   {
    "duration": 6,
    "start_time": "2022-11-05T21:37:52.007Z"
   },
   {
    "duration": 5854,
    "start_time": "2022-11-05T21:37:56.156Z"
   },
   {
    "duration": 1213,
    "start_time": "2022-11-05T21:38:04.725Z"
   },
   {
    "duration": 21,
    "start_time": "2022-11-05T21:38:09.106Z"
   },
   {
    "duration": 4,
    "start_time": "2022-11-05T21:40:13.156Z"
   },
   {
    "duration": 53,
    "start_time": "2022-11-05T21:40:13.162Z"
   },
   {
    "duration": 26,
    "start_time": "2022-11-05T21:40:13.217Z"
   },
   {
    "duration": 15,
    "start_time": "2022-11-05T21:40:13.245Z"
   },
   {
    "duration": 378,
    "start_time": "2022-11-05T21:40:13.263Z"
   },
   {
    "duration": 1198,
    "start_time": "2022-11-05T21:40:13.643Z"
   },
   {
    "duration": 4,
    "start_time": "2022-11-05T21:40:14.842Z"
   },
   {
    "duration": 4,
    "start_time": "2022-11-05T21:40:26.149Z"
   },
   {
    "duration": 57,
    "start_time": "2022-11-05T21:40:28.797Z"
   },
   {
    "duration": 34,
    "start_time": "2022-11-05T21:40:35.467Z"
   },
   {
    "duration": 7,
    "start_time": "2022-11-05T21:40:38.015Z"
   },
   {
    "duration": 7,
    "start_time": "2022-11-05T21:40:40.513Z"
   },
   {
    "duration": 10,
    "start_time": "2022-11-05T21:40:42.510Z"
   },
   {
    "duration": 1478,
    "start_time": "2022-11-05T21:40:45.252Z"
   },
   {
    "duration": 1048,
    "start_time": "2022-11-05T21:40:50.172Z"
   },
   {
    "duration": 450,
    "start_time": "2022-11-05T21:40:54.175Z"
   },
   {
    "duration": 6,
    "start_time": "2022-11-05T21:40:58.651Z"
   },
   {
    "duration": 12,
    "start_time": "2022-11-05T21:41:02.235Z"
   },
   {
    "duration": 6657,
    "start_time": "2022-11-05T21:41:13.505Z"
   },
   {
    "duration": 5734,
    "start_time": "2022-11-05T21:41:45.382Z"
   },
   {
    "duration": 18,
    "start_time": "2022-11-05T21:41:54.865Z"
   },
   {
    "duration": 1250,
    "start_time": "2022-11-05T21:42:07.390Z"
   },
   {
    "duration": 127,
    "start_time": "2022-11-05T21:42:13.204Z"
   },
   {
    "duration": 5,
    "start_time": "2022-11-05T21:42:16.517Z"
   },
   {
    "duration": 9,
    "start_time": "2022-11-05T21:42:18.803Z"
   },
   {
    "duration": 7,
    "start_time": "2022-11-05T21:43:54.922Z"
   },
   {
    "duration": 8,
    "start_time": "2022-11-05T21:44:15.288Z"
   },
   {
    "duration": 11,
    "start_time": "2022-11-05T21:44:17.520Z"
   },
   {
    "duration": 8,
    "start_time": "2022-11-05T21:44:33.742Z"
   },
   {
    "duration": 10,
    "start_time": "2022-11-05T21:44:36.152Z"
   },
   {
    "duration": 774,
    "start_time": "2022-11-05T21:44:40.655Z"
   },
   {
    "duration": 1024,
    "start_time": "2022-11-05T21:44:45.316Z"
   },
   {
    "duration": 454,
    "start_time": "2022-11-05T21:44:48.610Z"
   },
   {
    "duration": 7,
    "start_time": "2022-11-05T21:44:51.226Z"
   },
   {
    "duration": 5796,
    "start_time": "2022-11-05T21:44:53.038Z"
   },
   {
    "duration": 1176,
    "start_time": "2022-11-05T21:45:01.863Z"
   },
   {
    "duration": 14,
    "start_time": "2022-11-05T21:45:57.381Z"
   },
   {
    "duration": 9,
    "start_time": "2022-11-05T21:46:32.589Z"
   },
   {
    "duration": 197641,
    "start_time": "2022-11-05T21:47:11.559Z"
   },
   {
    "duration": 144,
    "start_time": "2022-11-05T21:51:24.282Z"
   },
   {
    "duration": 4,
    "start_time": "2022-11-05T21:51:26.584Z"
   },
   {
    "duration": 8,
    "start_time": "2022-11-05T21:51:29.806Z"
   }
  ],
  "kernelspec": {
   "display_name": "Python 3 (ipykernel)",
   "language": "python",
   "name": "python3"
  },
  "language_info": {
   "codemirror_mode": {
    "name": "ipython",
    "version": 3
   },
   "file_extension": ".py",
   "mimetype": "text/x-python",
   "name": "python",
   "nbconvert_exporter": "python",
   "pygments_lexer": "ipython3",
   "version": "3.9.13"
  },
  "toc": {
   "base_numbering": 1,
   "nav_menu": {},
   "number_sections": true,
   "sideBar": true,
   "skip_h1_title": true,
   "title_cell": "Содержание",
   "title_sidebar": "Contents",
   "toc_cell": true,
   "toc_position": {},
   "toc_section_display": true,
   "toc_window_display": true
  }
 },
 "nbformat": 4,
 "nbformat_minor": 2
}
