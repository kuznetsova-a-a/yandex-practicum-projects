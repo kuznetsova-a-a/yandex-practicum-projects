{
 "cells": [
  {
   "cell_type": "markdown",
   "metadata": {},
   "source": [
    "# Определение стоимости автомобилей"
   ]
  },
  {
   "cell_type": "markdown",
   "metadata": {},
   "source": [
    "Сервис по продаже автомобилей с пробегом «Не бит, не крашен» разрабатывает приложение для привлечения новых клиентов. В нём можно быстро узнать рыночную стоимость своего автомобиля. В нашем распоряжении исторические данные: технические характеристики, комплектации и цены автомобилей. Мы будем строить модели для определения стоимости подержанного автомобиля,  попутно оценивая такие параметры модели как:\n",
    "- качество предсказания;\n",
    "- скорость предсказания;\n",
    "- время обучения."
   ]
  },
  {
   "cell_type": "markdown",
   "metadata": {},
   "source": [
    "## Подготовка данных\n",
    "В нашем распоряжении файл данных с характеристиками продаваемых автомобилей и ценами:\n",
    "- DateCrawled — дата скачивания анкеты из базы\n",
    "- VehicleType — тип автомобильного кузова\n",
    "- RegistrationYear — год регистрации автомобиля, \n",
    "- Gearbox — тип коробки передач\n",
    "- Power — мощность (л. с.)\n",
    "- Model — модель автомобиля\n",
    "- Kilometer — пробег (км)\n",
    "- RegistrationMonth — месяц регистрации автомобиля\n",
    "- FuelType — тип топлива\n",
    "- Brand — марка автомобиля\n",
    "- Repaired — была машина в ремонте или нет\n",
    "- DateCreated — дата создания анкеты\n",
    "- NumberOfPictures — количество фотографий автомобиля\n",
    "- PostalCode — почтовый индекс владельца анкеты (пользователя)\n",
    "- LastSeen — дата последней активности пользователя\n",
    "- Price - цена автомобиля в евро"
   ]
  },
  {
   "cell_type": "code",
   "execution_count": 3,
   "metadata": {},
   "outputs": [],
   "source": [
    "import pandas as pd\n",
    "import statistics as st\n",
    "import warnings\n",
    "from sklearn.metrics import mean_squared_error\n",
    "from sklearn.preprocessing import OrdinalEncoder, StandardScaler\n",
    "from sklearn.model_selection import train_test_split\n",
    "from sklearn.model_selection import GridSearchCV\n",
    "from sklearn.tree import DecisionTreeRegressor\n",
    "from sklearn.ensemble import RandomForestClassifier\n",
    "from catboost import CatBoostRegressor\n",
    "from lightgbm import LGBMRegressor\n",
    "warnings.filterwarnings('ignore')"
   ]
  },
  {
   "cell_type": "code",
   "execution_count": 4,
   "metadata": {
    "scrolled": false
   },
   "outputs": [
    {
     "name": "stdout",
     "output_type": "stream",
     "text": [
      "<class 'pandas.core.frame.DataFrame'>\n",
      "RangeIndex: 354369 entries, 0 to 354368\n",
      "Data columns (total 16 columns):\n",
      " #   Column             Non-Null Count   Dtype \n",
      "---  ------             --------------   ----- \n",
      " 0   DateCrawled        354369 non-null  object\n",
      " 1   Price              354369 non-null  int64 \n",
      " 2   VehicleType        316879 non-null  object\n",
      " 3   RegistrationYear   354369 non-null  int64 \n",
      " 4   Gearbox            334536 non-null  object\n",
      " 5   Power              354369 non-null  int64 \n",
      " 6   Model              334664 non-null  object\n",
      " 7   Kilometer          354369 non-null  int64 \n",
      " 8   RegistrationMonth  354369 non-null  int64 \n",
      " 9   FuelType           321474 non-null  object\n",
      " 10  Brand              354369 non-null  object\n",
      " 11  Repaired           283215 non-null  object\n",
      " 12  DateCreated        354369 non-null  object\n",
      " 13  NumberOfPictures   354369 non-null  int64 \n",
      " 14  PostalCode         354369 non-null  int64 \n",
      " 15  LastSeen           354369 non-null  object\n",
      "dtypes: int64(7), object(9)\n",
      "memory usage: 43.3+ MB\n"
     ]
    },
    {
     "data": {
      "text/html": [
       "<div>\n",
       "<style scoped>\n",
       "    .dataframe tbody tr th:only-of-type {\n",
       "        vertical-align: middle;\n",
       "    }\n",
       "\n",
       "    .dataframe tbody tr th {\n",
       "        vertical-align: top;\n",
       "    }\n",
       "\n",
       "    .dataframe thead th {\n",
       "        text-align: right;\n",
       "    }\n",
       "</style>\n",
       "<table border=\"1\" class=\"dataframe\">\n",
       "  <thead>\n",
       "    <tr style=\"text-align: right;\">\n",
       "      <th></th>\n",
       "      <th>DateCrawled</th>\n",
       "      <th>Price</th>\n",
       "      <th>VehicleType</th>\n",
       "      <th>RegistrationYear</th>\n",
       "      <th>Gearbox</th>\n",
       "      <th>Power</th>\n",
       "      <th>Model</th>\n",
       "      <th>Kilometer</th>\n",
       "      <th>RegistrationMonth</th>\n",
       "      <th>FuelType</th>\n",
       "      <th>Brand</th>\n",
       "      <th>Repaired</th>\n",
       "      <th>DateCreated</th>\n",
       "      <th>NumberOfPictures</th>\n",
       "      <th>PostalCode</th>\n",
       "      <th>LastSeen</th>\n",
       "    </tr>\n",
       "  </thead>\n",
       "  <tbody>\n",
       "    <tr>\n",
       "      <th>0</th>\n",
       "      <td>2016-03-24 11:52:17</td>\n",
       "      <td>480</td>\n",
       "      <td>NaN</td>\n",
       "      <td>1993</td>\n",
       "      <td>manual</td>\n",
       "      <td>0</td>\n",
       "      <td>golf</td>\n",
       "      <td>150000</td>\n",
       "      <td>0</td>\n",
       "      <td>petrol</td>\n",
       "      <td>volkswagen</td>\n",
       "      <td>NaN</td>\n",
       "      <td>2016-03-24 00:00:00</td>\n",
       "      <td>0</td>\n",
       "      <td>70435</td>\n",
       "      <td>2016-04-07 03:16:57</td>\n",
       "    </tr>\n",
       "    <tr>\n",
       "      <th>1</th>\n",
       "      <td>2016-03-24 10:58:45</td>\n",
       "      <td>18300</td>\n",
       "      <td>coupe</td>\n",
       "      <td>2011</td>\n",
       "      <td>manual</td>\n",
       "      <td>190</td>\n",
       "      <td>NaN</td>\n",
       "      <td>125000</td>\n",
       "      <td>5</td>\n",
       "      <td>gasoline</td>\n",
       "      <td>audi</td>\n",
       "      <td>yes</td>\n",
       "      <td>2016-03-24 00:00:00</td>\n",
       "      <td>0</td>\n",
       "      <td>66954</td>\n",
       "      <td>2016-04-07 01:46:50</td>\n",
       "    </tr>\n",
       "    <tr>\n",
       "      <th>2</th>\n",
       "      <td>2016-03-14 12:52:21</td>\n",
       "      <td>9800</td>\n",
       "      <td>suv</td>\n",
       "      <td>2004</td>\n",
       "      <td>auto</td>\n",
       "      <td>163</td>\n",
       "      <td>grand</td>\n",
       "      <td>125000</td>\n",
       "      <td>8</td>\n",
       "      <td>gasoline</td>\n",
       "      <td>jeep</td>\n",
       "      <td>NaN</td>\n",
       "      <td>2016-03-14 00:00:00</td>\n",
       "      <td>0</td>\n",
       "      <td>90480</td>\n",
       "      <td>2016-04-05 12:47:46</td>\n",
       "    </tr>\n",
       "    <tr>\n",
       "      <th>3</th>\n",
       "      <td>2016-03-17 16:54:04</td>\n",
       "      <td>1500</td>\n",
       "      <td>small</td>\n",
       "      <td>2001</td>\n",
       "      <td>manual</td>\n",
       "      <td>75</td>\n",
       "      <td>golf</td>\n",
       "      <td>150000</td>\n",
       "      <td>6</td>\n",
       "      <td>petrol</td>\n",
       "      <td>volkswagen</td>\n",
       "      <td>no</td>\n",
       "      <td>2016-03-17 00:00:00</td>\n",
       "      <td>0</td>\n",
       "      <td>91074</td>\n",
       "      <td>2016-03-17 17:40:17</td>\n",
       "    </tr>\n",
       "    <tr>\n",
       "      <th>4</th>\n",
       "      <td>2016-03-31 17:25:20</td>\n",
       "      <td>3600</td>\n",
       "      <td>small</td>\n",
       "      <td>2008</td>\n",
       "      <td>manual</td>\n",
       "      <td>69</td>\n",
       "      <td>fabia</td>\n",
       "      <td>90000</td>\n",
       "      <td>7</td>\n",
       "      <td>gasoline</td>\n",
       "      <td>skoda</td>\n",
       "      <td>no</td>\n",
       "      <td>2016-03-31 00:00:00</td>\n",
       "      <td>0</td>\n",
       "      <td>60437</td>\n",
       "      <td>2016-04-06 10:17:21</td>\n",
       "    </tr>\n",
       "  </tbody>\n",
       "</table>\n",
       "</div>"
      ],
      "text/plain": [
       "           DateCrawled  Price VehicleType  RegistrationYear Gearbox  Power  \\\n",
       "0  2016-03-24 11:52:17    480         NaN              1993  manual      0   \n",
       "1  2016-03-24 10:58:45  18300       coupe              2011  manual    190   \n",
       "2  2016-03-14 12:52:21   9800         suv              2004    auto    163   \n",
       "3  2016-03-17 16:54:04   1500       small              2001  manual     75   \n",
       "4  2016-03-31 17:25:20   3600       small              2008  manual     69   \n",
       "\n",
       "   Model  Kilometer  RegistrationMonth  FuelType       Brand Repaired  \\\n",
       "0   golf     150000                  0    petrol  volkswagen      NaN   \n",
       "1    NaN     125000                  5  gasoline        audi      yes   \n",
       "2  grand     125000                  8  gasoline        jeep      NaN   \n",
       "3   golf     150000                  6    petrol  volkswagen       no   \n",
       "4  fabia      90000                  7  gasoline       skoda       no   \n",
       "\n",
       "           DateCreated  NumberOfPictures  PostalCode             LastSeen  \n",
       "0  2016-03-24 00:00:00                 0       70435  2016-04-07 03:16:57  \n",
       "1  2016-03-24 00:00:00                 0       66954  2016-04-07 01:46:50  \n",
       "2  2016-03-14 00:00:00                 0       90480  2016-04-05 12:47:46  \n",
       "3  2016-03-17 00:00:00                 0       91074  2016-03-17 17:40:17  \n",
       "4  2016-03-31 00:00:00                 0       60437  2016-04-06 10:17:21  "
      ]
     },
     "metadata": {},
     "output_type": "display_data"
    }
   ],
   "source": [
    "try:\n",
    "    data = pd.read_csv('/datasets/autos.csv')\n",
    "except:\n",
    "    data = pd.read_csv('C:\\\\YP\\\\autos.csv')\n",
    "data.info()\n",
    "display(data.head())"
   ]
  },
  {
   "cell_type": "markdown",
   "metadata": {},
   "source": [
    "Проверим данные на дубликаты."
   ]
  },
  {
   "cell_type": "code",
   "execution_count": 5,
   "metadata": {
    "scrolled": true
   },
   "outputs": [
    {
     "name": "stdout",
     "output_type": "stream",
     "text": [
      "<class 'pandas.core.frame.DataFrame'>\n",
      "RangeIndex: 354365 entries, 0 to 354364\n",
      "Data columns (total 16 columns):\n",
      " #   Column             Non-Null Count   Dtype \n",
      "---  ------             --------------   ----- \n",
      " 0   DateCrawled        354365 non-null  object\n",
      " 1   Price              354365 non-null  int64 \n",
      " 2   VehicleType        316875 non-null  object\n",
      " 3   RegistrationYear   354365 non-null  int64 \n",
      " 4   Gearbox            334532 non-null  object\n",
      " 5   Power              354365 non-null  int64 \n",
      " 6   Model              334660 non-null  object\n",
      " 7   Kilometer          354365 non-null  int64 \n",
      " 8   RegistrationMonth  354365 non-null  int64 \n",
      " 9   FuelType           321470 non-null  object\n",
      " 10  Brand              354365 non-null  object\n",
      " 11  Repaired           283211 non-null  object\n",
      " 12  DateCreated        354365 non-null  object\n",
      " 13  NumberOfPictures   354365 non-null  int64 \n",
      " 14  PostalCode         354365 non-null  int64 \n",
      " 15  LastSeen           354365 non-null  object\n",
      "dtypes: int64(7), object(9)\n",
      "memory usage: 43.3+ MB\n"
     ]
    }
   ],
   "source": [
    "data = data.drop_duplicates().reset_index(drop = True)\n",
    "data.info()"
   ]
  },
  {
   "cell_type": "markdown",
   "metadata": {},
   "source": [
    "Маловероятно, чтобы такие параметры как дата создания объявления/скачивания объявления, месяц регистрации, дата последнего визита владельца, индекс владельца и количество фото автомобиля влияли на итоговую цену автомобиля, поэтому мы удалим столбцы, содержание эти данные."
   ]
  },
  {
   "cell_type": "code",
   "execution_count": 6,
   "metadata": {
    "scrolled": true
   },
   "outputs": [
    {
     "name": "stdout",
     "output_type": "stream",
     "text": [
      "<class 'pandas.core.frame.DataFrame'>\n",
      "RangeIndex: 354365 entries, 0 to 354364\n",
      "Data columns (total 10 columns):\n",
      " #   Column            Non-Null Count   Dtype \n",
      "---  ------            --------------   ----- \n",
      " 0   Price             354365 non-null  int64 \n",
      " 1   VehicleType       316875 non-null  object\n",
      " 2   RegistrationYear  354365 non-null  int64 \n",
      " 3   Gearbox           334532 non-null  object\n",
      " 4   Power             354365 non-null  int64 \n",
      " 5   Model             334660 non-null  object\n",
      " 6   Kilometer         354365 non-null  int64 \n",
      " 7   FuelType          321470 non-null  object\n",
      " 8   Brand             354365 non-null  object\n",
      " 9   Repaired          283211 non-null  object\n",
      "dtypes: int64(4), object(6)\n",
      "memory usage: 27.0+ MB\n"
     ]
    }
   ],
   "source": [
    "data = data.drop(columns = ['DateCrawled', 'DateCreated', 'PostalCode', 'RegistrationMonth', 'NumberOfPictures', 'LastSeen'], axis = 1)\n",
    "data.info()"
   ]
  },
  {
   "cell_type": "markdown",
   "metadata": {},
   "source": [
    "Обработаем данные следующим образом: \n",
    "- удалим заведомые выбросы (выбросы найдены в столбце `RegistrationYear`)\n",
    "- будем предполагать, что автомобиль по умолчанию не ремонтировался\n",
    "- пропуске в столбцах `VehicleType`, `Gearbox`, `Model`, `FuelType` заполним модовым значением по бренду\n",
    "- в графе `Power` удалим явно завышенные значения (их немного), а для нулевых и малых значений (таких данных большое количество) заполним медианным значением мощности по бренду, поскольку медиана не слишком чувствительна к выбросам\n",
    "- оставшиеся данные с пропусками удалим\n",
    "\n",
    "Мы отдаём себе отчёт, что предобработка выполнена недостаточно чисто, а кроме того может быть просачивание данных их тренировочной выборки в валидационную и тестовую, но всё же сделаем так, поскольку данные изначально даны очень грязные, и если оставить только корректные данные, то это кратно уменьшит датасет, при этом любая предобработка всё равно будет содержать значительные допущения."
   ]
  },
  {
   "cell_type": "code",
   "execution_count": 8,
   "metadata": {},
   "outputs": [
    {
     "data": {
      "text/plain": [
       "Repaired\n",
       "no     247158\n",
       "yes     36053\n",
       "Name: Repaired, dtype: int64"
      ]
     },
     "execution_count": 8,
     "metadata": {},
     "output_type": "execute_result"
    }
   ],
   "source": [
    "data.groupby('Repaired')['Repaired'].count()"
   ]
  },
  {
   "cell_type": "code",
   "execution_count": 9,
   "metadata": {},
   "outputs": [],
   "source": [
    "data['Repaired'] = data['Repaired'].fillna('no')\n"
   ]
  },
  {
   "cell_type": "code",
   "execution_count": 10,
   "metadata": {},
   "outputs": [],
   "source": [
    "brands = data['Brand'].unique()"
   ]
  },
  {
   "cell_type": "code",
   "execution_count": 11,
   "metadata": {},
   "outputs": [],
   "source": [
    "for brand in brands:\n",
    "    mode_fuel_type = st.mode(data[(data['Brand']==brand)]['FuelType'])\n",
    "    data.loc[(data['Brand']==brand)&(data['FuelType'].isna()), 'FuelType'] =  mode_fuel_type"
   ]
  },
  {
   "cell_type": "code",
   "execution_count": 12,
   "metadata": {},
   "outputs": [],
   "source": [
    "for brand in brands:\n",
    "    mode_model = st.mode(data[data['Brand']==brand]['Model'])\n",
    "    data.loc[(data['Brand']==brand)&(data['Model'].isna()),'Model'] = mode_model"
   ]
  },
  {
   "cell_type": "code",
   "execution_count": 13,
   "metadata": {},
   "outputs": [],
   "source": [
    "for brand in brands:\n",
    "    mode_gearbox = st.mode(data[data['Brand']==brand]['Gearbox'])\n",
    "    data.loc[(data['Brand']==brand)&(data['Gearbox'].isna()),'Gearbox'] = mode_gearbox"
   ]
  },
  {
   "cell_type": "code",
   "execution_count": 14,
   "metadata": {},
   "outputs": [],
   "source": [
    "for brand in brands:\n",
    "    mode_gearbox = st.mode(data[data['Brand']==brand]['VehicleType'])\n",
    "    data.loc[(data['Brand']==brand)&(data['VehicleType'].isna()),'VehicleType'] = mode_gearbox"
   ]
  },
  {
   "cell_type": "code",
   "execution_count": 15,
   "metadata": {
    "scrolled": true
   },
   "outputs": [
    {
     "name": "stdout",
     "output_type": "stream",
     "text": [
      "count    354365.000000\n",
      "mean       2004.234481\n",
      "std          90.228466\n",
      "min        1000.000000\n",
      "25%        1999.000000\n",
      "50%        2003.000000\n",
      "75%        2008.000000\n",
      "max        9999.000000\n",
      "Name: RegistrationYear, dtype: float64\n"
     ]
    }
   ],
   "source": [
    "print(data['RegistrationYear'].describe())\n",
    "data = data.query('(RegistrationYear > 1980) & (RegistrationYear <= 2016)')\n"
   ]
  },
  {
   "cell_type": "code",
   "execution_count": 16,
   "metadata": {
    "scrolled": true
   },
   "outputs": [
    {
     "data": {
      "text/plain": [
       "count    335795.000000\n",
       "mean     128576.557126\n",
       "std       37405.568445\n",
       "min        5000.000000\n",
       "25%      125000.000000\n",
       "50%      150000.000000\n",
       "75%      150000.000000\n",
       "max      150000.000000\n",
       "Name: Kilometer, dtype: float64"
      ]
     },
     "execution_count": 16,
     "metadata": {},
     "output_type": "execute_result"
    }
   ],
   "source": [
    "data['Kilometer'].describe()\n"
   ]
  },
  {
   "cell_type": "code",
   "execution_count": 17,
   "metadata": {},
   "outputs": [],
   "source": [
    "data['Power'].describe()\n",
    "data = data.query('(Power <= 2000)')"
   ]
  },
  {
   "cell_type": "code",
   "execution_count": 19,
   "metadata": {},
   "outputs": [],
   "source": [
    "for brand in brands:\n",
    "    median_power = data[data['Brand']==brand]['Power'].median()\n",
    "    data.loc[(data['Brand']==brand)&(data['Power']<100),'Power'] = median_power"
   ]
  },
  {
   "cell_type": "code",
   "execution_count": 20,
   "metadata": {},
   "outputs": [
    {
     "name": "stdout",
     "output_type": "stream",
     "text": [
      "<class 'pandas.core.frame.DataFrame'>\n",
      "Int64Index: 335688 entries, 0 to 354364\n",
      "Data columns (total 10 columns):\n",
      " #   Column            Non-Null Count   Dtype \n",
      "---  ------            --------------   ----- \n",
      " 0   Price             335688 non-null  int64 \n",
      " 1   VehicleType       334958 non-null  object\n",
      " 2   RegistrationYear  335688 non-null  int64 \n",
      " 3   Gearbox           335688 non-null  object\n",
      " 4   Power             335688 non-null  int64 \n",
      " 5   Model             333200 non-null  object\n",
      " 6   Kilometer         335688 non-null  int64 \n",
      " 7   FuelType          335688 non-null  object\n",
      " 8   Brand             335688 non-null  object\n",
      " 9   Repaired          335688 non-null  object\n",
      "dtypes: int64(4), object(6)\n",
      "memory usage: 28.2+ MB\n"
     ]
    }
   ],
   "source": [
    "data.info()"
   ]
  },
  {
   "cell_type": "code",
   "execution_count": 21,
   "metadata": {},
   "outputs": [
    {
     "name": "stdout",
     "output_type": "stream",
     "text": [
      "<class 'pandas.core.frame.DataFrame'>\n",
      "Int64Index: 333200 entries, 0 to 354364\n",
      "Data columns (total 10 columns):\n",
      " #   Column            Non-Null Count   Dtype \n",
      "---  ------            --------------   ----- \n",
      " 0   Price             333200 non-null  int64 \n",
      " 1   VehicleType       333200 non-null  object\n",
      " 2   RegistrationYear  333200 non-null  int64 \n",
      " 3   Gearbox           333200 non-null  object\n",
      " 4   Power             333200 non-null  int64 \n",
      " 5   Model             333200 non-null  object\n",
      " 6   Kilometer         333200 non-null  int64 \n",
      " 7   FuelType          333200 non-null  object\n",
      " 8   Brand             333200 non-null  object\n",
      " 9   Repaired          333200 non-null  object\n",
      "dtypes: int64(4), object(6)\n",
      "memory usage: 28.0+ MB\n"
     ]
    }
   ],
   "source": [
    "data = data.dropna(subset=['VehicleType', 'Model'])\n",
    "data.info()\n"
   ]
  },
  {
   "cell_type": "markdown",
   "metadata": {},
   "source": [
    "## Обучение моделей\n",
    "\n",
    "Мы имеем дело с задачей регрессии, поэтому рассмотрим простую модель регрессии (DecisionTreeRegressor) и модели, использующие бустинги (CatBoost и LightGBM)."
   ]
  },
  {
   "cell_type": "code",
   "execution_count": 22,
   "metadata": {},
   "outputs": [],
   "source": [
    "features =  data.drop(['Price'], axis = 1)\n",
    "target = data['Price']"
   ]
  },
  {
   "cell_type": "code",
   "execution_count": 23,
   "metadata": {},
   "outputs": [
    {
     "name": "stdout",
     "output_type": "stream",
     "text": [
      "(199920,) (66640,) (66640,)\n",
      "(199920, 9) (66640, 9) (66640, 9)\n"
     ]
    }
   ],
   "source": [
    "features_train_valid, features_test, target_train_valid, target_test = train_test_split(\n",
    "    features, target, test_size=0.2, random_state=12345)\n",
    "\n",
    "features_train, features_valid, target_train, target_valid = train_test_split(\n",
    "    features_train_valid, target_train_valid, test_size=0.25, random_state=12345)\n",
    "\n",
    "print(target_train.shape, target_valid.shape, target_test.shape)\n",
    "print(features_train.shape, features_valid.shape, features_test.shape)"
   ]
  },
  {
   "cell_type": "markdown",
   "metadata": {},
   "source": [
    "### Простые модели\n",
    "\n",
    "В качестве простой модели мы возьмём дерево решений. По существу, все оставшиеся признаки категориальны, даже если их и можно сравнить по порядку, поэтому DecisionTreeRegressor можно считать хорошим выбором.\n",
    "Дерево решений работает с категориальными признаками, переведённые в числовой формат, поэтому будем использовать порядковое кодирование. Подбор гиперпараметров осуществим с помощью GreedSearchCV."
   ]
  },
  {
   "cell_type": "code",
   "execution_count": 24,
   "metadata": {},
   "outputs": [],
   "source": [
    "features_ordinal_train = features_train.copy()\n",
    "features_ordinal_valid = features_valid.copy()\n",
    "features_ordinal_test = features_test.copy()"
   ]
  },
  {
   "cell_type": "code",
   "execution_count": 25,
   "metadata": {
    "scrolled": true
   },
   "outputs": [
    {
     "name": "stdout",
     "output_type": "stream",
     "text": [
      "<class 'pandas.core.frame.DataFrame'>\n",
      "Int64Index: 333200 entries, 0 to 354364\n",
      "Data columns (total 10 columns):\n",
      " #   Column            Non-Null Count   Dtype \n",
      "---  ------            --------------   ----- \n",
      " 0   Price             333200 non-null  int64 \n",
      " 1   VehicleType       333200 non-null  object\n",
      " 2   RegistrationYear  333200 non-null  int64 \n",
      " 3   Gearbox           333200 non-null  object\n",
      " 4   Power             333200 non-null  int64 \n",
      " 5   Model             333200 non-null  object\n",
      " 6   Kilometer         333200 non-null  int64 \n",
      " 7   FuelType          333200 non-null  object\n",
      " 8   Brand             333200 non-null  object\n",
      " 9   Repaired          333200 non-null  object\n",
      "dtypes: int64(4), object(6)\n",
      "memory usage: 28.0+ MB\n"
     ]
    }
   ],
   "source": [
    "data.info()"
   ]
  },
  {
   "cell_type": "code",
   "execution_count": 27,
   "metadata": {
    "scrolled": true
   },
   "outputs": [
    {
     "data": {
      "text/html": [
       "<style>#sk-container-id-1 {color: black;background-color: white;}#sk-container-id-1 pre{padding: 0;}#sk-container-id-1 div.sk-toggleable {background-color: white;}#sk-container-id-1 label.sk-toggleable__label {cursor: pointer;display: block;width: 100%;margin-bottom: 0;padding: 0.3em;box-sizing: border-box;text-align: center;}#sk-container-id-1 label.sk-toggleable__label-arrow:before {content: \"▸\";float: left;margin-right: 0.25em;color: #696969;}#sk-container-id-1 label.sk-toggleable__label-arrow:hover:before {color: black;}#sk-container-id-1 div.sk-estimator:hover label.sk-toggleable__label-arrow:before {color: black;}#sk-container-id-1 div.sk-toggleable__content {max-height: 0;max-width: 0;overflow: hidden;text-align: left;background-color: #f0f8ff;}#sk-container-id-1 div.sk-toggleable__content pre {margin: 0.2em;color: black;border-radius: 0.25em;background-color: #f0f8ff;}#sk-container-id-1 input.sk-toggleable__control:checked~div.sk-toggleable__content {max-height: 200px;max-width: 100%;overflow: auto;}#sk-container-id-1 input.sk-toggleable__control:checked~label.sk-toggleable__label-arrow:before {content: \"▾\";}#sk-container-id-1 div.sk-estimator input.sk-toggleable__control:checked~label.sk-toggleable__label {background-color: #d4ebff;}#sk-container-id-1 div.sk-label input.sk-toggleable__control:checked~label.sk-toggleable__label {background-color: #d4ebff;}#sk-container-id-1 input.sk-hidden--visually {border: 0;clip: rect(1px 1px 1px 1px);clip: rect(1px, 1px, 1px, 1px);height: 1px;margin: -1px;overflow: hidden;padding: 0;position: absolute;width: 1px;}#sk-container-id-1 div.sk-estimator {font-family: monospace;background-color: #f0f8ff;border: 1px dotted black;border-radius: 0.25em;box-sizing: border-box;margin-bottom: 0.5em;}#sk-container-id-1 div.sk-estimator:hover {background-color: #d4ebff;}#sk-container-id-1 div.sk-parallel-item::after {content: \"\";width: 100%;border-bottom: 1px solid gray;flex-grow: 1;}#sk-container-id-1 div.sk-label:hover label.sk-toggleable__label {background-color: #d4ebff;}#sk-container-id-1 div.sk-serial::before {content: \"\";position: absolute;border-left: 1px solid gray;box-sizing: border-box;top: 0;bottom: 0;left: 50%;z-index: 0;}#sk-container-id-1 div.sk-serial {display: flex;flex-direction: column;align-items: center;background-color: white;padding-right: 0.2em;padding-left: 0.2em;position: relative;}#sk-container-id-1 div.sk-item {position: relative;z-index: 1;}#sk-container-id-1 div.sk-parallel {display: flex;align-items: stretch;justify-content: center;background-color: white;position: relative;}#sk-container-id-1 div.sk-item::before, #sk-container-id-1 div.sk-parallel-item::before {content: \"\";position: absolute;border-left: 1px solid gray;box-sizing: border-box;top: 0;bottom: 0;left: 50%;z-index: -1;}#sk-container-id-1 div.sk-parallel-item {display: flex;flex-direction: column;z-index: 1;position: relative;background-color: white;}#sk-container-id-1 div.sk-parallel-item:first-child::after {align-self: flex-end;width: 50%;}#sk-container-id-1 div.sk-parallel-item:last-child::after {align-self: flex-start;width: 50%;}#sk-container-id-1 div.sk-parallel-item:only-child::after {width: 0;}#sk-container-id-1 div.sk-dashed-wrapped {border: 1px dashed gray;margin: 0 0.4em 0.5em 0.4em;box-sizing: border-box;padding-bottom: 0.4em;background-color: white;}#sk-container-id-1 div.sk-label label {font-family: monospace;font-weight: bold;display: inline-block;line-height: 1.2em;}#sk-container-id-1 div.sk-label-container {text-align: center;}#sk-container-id-1 div.sk-container {/* jupyter's `normalize.less` sets `[hidden] { display: none; }` but bootstrap.min.css set `[hidden] { display: none !important; }` so we also need the `!important` here to be able to override the default hidden behavior on the sphinx rendered scikit-learn.org. See: https://github.com/scikit-learn/scikit-learn/issues/21755 */display: inline-block !important;position: relative;}#sk-container-id-1 div.sk-text-repr-fallback {display: none;}</style><div id=\"sk-container-id-1\" class=\"sk-top-container\"><div class=\"sk-text-repr-fallback\"><pre>OrdinalEncoder()</pre><b>In a Jupyter environment, please rerun this cell to show the HTML representation or trust the notebook. <br />On GitHub, the HTML representation is unable to render, please try loading this page with nbviewer.org.</b></div><div class=\"sk-container\" hidden><div class=\"sk-item\"><div class=\"sk-estimator sk-toggleable\"><input class=\"sk-toggleable__control sk-hidden--visually\" id=\"sk-estimator-id-1\" type=\"checkbox\" checked><label for=\"sk-estimator-id-1\" class=\"sk-toggleable__label sk-toggleable__label-arrow\">OrdinalEncoder</label><div class=\"sk-toggleable__content\"><pre>OrdinalEncoder()</pre></div></div></div></div></div>"
      ],
      "text/plain": [
       "OrdinalEncoder()"
      ]
     },
     "execution_count": 27,
     "metadata": {},
     "output_type": "execute_result"
    }
   ],
   "source": [
    "cat_features = ['VehicleType', 'Gearbox', 'Model', 'FuelType', 'Brand', 'Repaired']\n",
    "encoder = OrdinalEncoder()\n",
    "encoder.fit(features_ordinal_train[cat_features])"
   ]
  },
  {
   "cell_type": "code",
   "execution_count": 28,
   "metadata": {},
   "outputs": [],
   "source": [
    "features_ordinal_train[cat_features] = encoder.transform(features_ordinal_train[cat_features])\n",
    "\n",
    "features_ordinal_valid[cat_features] = encoder.transform(features_ordinal_valid[cat_features])\n",
    "\n",
    "features_ordinal_test[cat_features] = encoder.transform(features_ordinal_test[cat_features])                                                                                        "
   ]
  },
  {
   "cell_type": "code",
   "execution_count": 29,
   "metadata": {},
   "outputs": [],
   "source": [
    "dtr = DecisionTreeRegressor(random_state = 12345)\n",
    "grid = {'min_samples_split': (2, 5), 'max_depth': (1,10)}\n",
    "\n",
    "gdtr = GridSearchCV(dtr, param_grid=grid, scoring=mean_squared_error, n_jobs=-1)\n",
    "gdtr.fit(features_ordinal_train, target_train)\n",
    "best_score = gdtr.best_score_\n",
    "best_model = gdtr.best_estimator_\n",
    "best_params = gdtr.best_params_"
   ]
  },
  {
   "cell_type": "code",
   "execution_count": 30,
   "metadata": {},
   "outputs": [
    {
     "name": "stdout",
     "output_type": "stream",
     "text": [
      "CPU times: total: 46.9 ms\n",
      "Wall time: 46.8 ms\n"
     ]
    },
    {
     "data": {
      "text/html": [
       "<style>#sk-container-id-2 {color: black;background-color: white;}#sk-container-id-2 pre{padding: 0;}#sk-container-id-2 div.sk-toggleable {background-color: white;}#sk-container-id-2 label.sk-toggleable__label {cursor: pointer;display: block;width: 100%;margin-bottom: 0;padding: 0.3em;box-sizing: border-box;text-align: center;}#sk-container-id-2 label.sk-toggleable__label-arrow:before {content: \"▸\";float: left;margin-right: 0.25em;color: #696969;}#sk-container-id-2 label.sk-toggleable__label-arrow:hover:before {color: black;}#sk-container-id-2 div.sk-estimator:hover label.sk-toggleable__label-arrow:before {color: black;}#sk-container-id-2 div.sk-toggleable__content {max-height: 0;max-width: 0;overflow: hidden;text-align: left;background-color: #f0f8ff;}#sk-container-id-2 div.sk-toggleable__content pre {margin: 0.2em;color: black;border-radius: 0.25em;background-color: #f0f8ff;}#sk-container-id-2 input.sk-toggleable__control:checked~div.sk-toggleable__content {max-height: 200px;max-width: 100%;overflow: auto;}#sk-container-id-2 input.sk-toggleable__control:checked~label.sk-toggleable__label-arrow:before {content: \"▾\";}#sk-container-id-2 div.sk-estimator input.sk-toggleable__control:checked~label.sk-toggleable__label {background-color: #d4ebff;}#sk-container-id-2 div.sk-label input.sk-toggleable__control:checked~label.sk-toggleable__label {background-color: #d4ebff;}#sk-container-id-2 input.sk-hidden--visually {border: 0;clip: rect(1px 1px 1px 1px);clip: rect(1px, 1px, 1px, 1px);height: 1px;margin: -1px;overflow: hidden;padding: 0;position: absolute;width: 1px;}#sk-container-id-2 div.sk-estimator {font-family: monospace;background-color: #f0f8ff;border: 1px dotted black;border-radius: 0.25em;box-sizing: border-box;margin-bottom: 0.5em;}#sk-container-id-2 div.sk-estimator:hover {background-color: #d4ebff;}#sk-container-id-2 div.sk-parallel-item::after {content: \"\";width: 100%;border-bottom: 1px solid gray;flex-grow: 1;}#sk-container-id-2 div.sk-label:hover label.sk-toggleable__label {background-color: #d4ebff;}#sk-container-id-2 div.sk-serial::before {content: \"\";position: absolute;border-left: 1px solid gray;box-sizing: border-box;top: 0;bottom: 0;left: 50%;z-index: 0;}#sk-container-id-2 div.sk-serial {display: flex;flex-direction: column;align-items: center;background-color: white;padding-right: 0.2em;padding-left: 0.2em;position: relative;}#sk-container-id-2 div.sk-item {position: relative;z-index: 1;}#sk-container-id-2 div.sk-parallel {display: flex;align-items: stretch;justify-content: center;background-color: white;position: relative;}#sk-container-id-2 div.sk-item::before, #sk-container-id-2 div.sk-parallel-item::before {content: \"\";position: absolute;border-left: 1px solid gray;box-sizing: border-box;top: 0;bottom: 0;left: 50%;z-index: -1;}#sk-container-id-2 div.sk-parallel-item {display: flex;flex-direction: column;z-index: 1;position: relative;background-color: white;}#sk-container-id-2 div.sk-parallel-item:first-child::after {align-self: flex-end;width: 50%;}#sk-container-id-2 div.sk-parallel-item:last-child::after {align-self: flex-start;width: 50%;}#sk-container-id-2 div.sk-parallel-item:only-child::after {width: 0;}#sk-container-id-2 div.sk-dashed-wrapped {border: 1px dashed gray;margin: 0 0.4em 0.5em 0.4em;box-sizing: border-box;padding-bottom: 0.4em;background-color: white;}#sk-container-id-2 div.sk-label label {font-family: monospace;font-weight: bold;display: inline-block;line-height: 1.2em;}#sk-container-id-2 div.sk-label-container {text-align: center;}#sk-container-id-2 div.sk-container {/* jupyter's `normalize.less` sets `[hidden] { display: none; }` but bootstrap.min.css set `[hidden] { display: none !important; }` so we also need the `!important` here to be able to override the default hidden behavior on the sphinx rendered scikit-learn.org. See: https://github.com/scikit-learn/scikit-learn/issues/21755 */display: inline-block !important;position: relative;}#sk-container-id-2 div.sk-text-repr-fallback {display: none;}</style><div id=\"sk-container-id-2\" class=\"sk-top-container\"><div class=\"sk-text-repr-fallback\"><pre>DecisionTreeRegressor(max_depth=1, random_state=12345)</pre><b>In a Jupyter environment, please rerun this cell to show the HTML representation or trust the notebook. <br />On GitHub, the HTML representation is unable to render, please try loading this page with nbviewer.org.</b></div><div class=\"sk-container\" hidden><div class=\"sk-item\"><div class=\"sk-estimator sk-toggleable\"><input class=\"sk-toggleable__control sk-hidden--visually\" id=\"sk-estimator-id-2\" type=\"checkbox\" checked><label for=\"sk-estimator-id-2\" class=\"sk-toggleable__label sk-toggleable__label-arrow\">DecisionTreeRegressor</label><div class=\"sk-toggleable__content\"><pre>DecisionTreeRegressor(max_depth=1, random_state=12345)</pre></div></div></div></div></div>"
      ],
      "text/plain": [
       "DecisionTreeRegressor(max_depth=1, random_state=12345)"
      ]
     },
     "execution_count": 30,
     "metadata": {},
     "output_type": "execute_result"
    }
   ],
   "source": [
    "%%time\n",
    "best_model.fit(features_ordinal_train, target_train)"
   ]
  },
  {
   "cell_type": "code",
   "execution_count": 31,
   "metadata": {},
   "outputs": [
    {
     "name": "stdout",
     "output_type": "stream",
     "text": [
      "RMSE для дерева решений:  3609.4220504848904\n",
      "CPU times: total: 0 ns\n",
      "Wall time: 0 ns\n"
     ]
    }
   ],
   "source": [
    "%%time\n",
    "predictions_valid_dtr = best_model.predict(features_ordinal_valid)\n",
    "print('RMSE для дерева решений: ', mean_squared_error(target_valid, predictions_valid_dtr)**0.5)"
   ]
  },
  {
   "cell_type": "markdown",
   "metadata": {},
   "source": [
    " ### Модели, использующие бустинг\n",
    "Мы рассмотрим 2 модели:  CatBoost и LightGBM. Обе эти модели имеют высокую скорость, а кроме того работают с категориальными признаками напрямую, без необходимости их предварительно обрабатывать, поэтому мы будем использовать выборки до применения порядкового кодирования. Отметим, что поскольку модели градиентного бустинга обучаются достаточно долго, а кроме того по умолчанию многие параметры имеют максимальное значение (в частности, количество деревьев или глубина дерева в CatBoost), то мы не будем подбирать параметры автоматически, попутно кроссвалидируя, вместо этого разобьём выборку на тренировочную, валидационную и тестовую части. Кроме того, мы нормировали количественные данные (на итоговый результат это никак не повлило).\n"
   ]
  },
  {
   "cell_type": "code",
   "execution_count": 32,
   "metadata": {},
   "outputs": [],
   "source": [
    "quant_features = ['RegistrationYear', 'Power', 'Kilometer']\n",
    "\n",
    "scaler = StandardScaler().fit(features_train[quant_features])\n",
    "\n",
    "features_train[quant_features] = scaler.transform(features_train[quant_features])\n",
    "features_valid[quant_features] = scaler.transform(features_valid[quant_features])\n",
    "features_test[quant_features] = scaler.transform(features_test[quant_features])"
   ]
  },
  {
   "cell_type": "markdown",
   "metadata": {},
   "source": [
    "#### CatBoost"
   ]
  },
  {
   "cell_type": "code",
   "execution_count": 34,
   "metadata": {},
   "outputs": [
    {
     "name": "stdout",
     "output_type": "stream",
     "text": [
      "CPU times: total: 3min 8s\n",
      "Wall time: 1min 37s\n"
     ]
    },
    {
     "data": {
      "text/plain": [
       "<catboost.core.CatBoostRegressor at 0x26848b87f40>"
      ]
     },
     "execution_count": 34,
     "metadata": {},
     "output_type": "execute_result"
    }
   ],
   "source": [
    "%%time\n",
    "cat_features = ['VehicleType', 'Gearbox', 'Model', 'FuelType', 'Brand', 'Repaired']\n",
    "\n",
    "cbr = CatBoostRegressor(loss_function=\"RMSE\", iterations=100, depth = 16) \n",
    "\n",
    "cbr.fit(features_train, target_train, cat_features = cat_features, verbose=False)\n",
    "\n"
   ]
  },
  {
   "cell_type": "code",
   "execution_count": 35,
   "metadata": {},
   "outputs": [
    {
     "name": "stdout",
     "output_type": "stream",
     "text": [
      "RMSE для CatBoost на валидационной выборке 1706.3384776182102\n",
      "CPU times: total: 141 ms\n",
      "Wall time: 126 ms\n"
     ]
    }
   ],
   "source": [
    "%%time\n",
    "predictions_valid = cbr.predict(features_valid)\n",
    "print('RMSE для CatBoost на валидационной выборке', mean_squared_error(target_valid, predictions_valid)**0.5)\n"
   ]
  },
  {
   "cell_type": "markdown",
   "metadata": {},
   "source": [
    "#### LightGBM"
   ]
  },
  {
   "cell_type": "code",
   "execution_count": 36,
   "metadata": {},
   "outputs": [],
   "source": [
    "for feature in cat_features:\n",
    "    features_train[feature] = features_train[feature].astype('category')\n",
    "    features_valid[feature] = features_valid[feature].astype('category')\n",
    "    features_test[feature] = features_test[feature].astype('category')\n",
    "    "
   ]
  },
  {
   "cell_type": "code",
   "execution_count": 37,
   "metadata": {},
   "outputs": [
    {
     "name": "stdout",
     "output_type": "stream",
     "text": [
      "CPU times: total: 3.11 s\n",
      "Wall time: 487 ms\n"
     ]
    },
    {
     "data": {
      "text/html": [
       "<style>#sk-container-id-3 {color: black;background-color: white;}#sk-container-id-3 pre{padding: 0;}#sk-container-id-3 div.sk-toggleable {background-color: white;}#sk-container-id-3 label.sk-toggleable__label {cursor: pointer;display: block;width: 100%;margin-bottom: 0;padding: 0.3em;box-sizing: border-box;text-align: center;}#sk-container-id-3 label.sk-toggleable__label-arrow:before {content: \"▸\";float: left;margin-right: 0.25em;color: #696969;}#sk-container-id-3 label.sk-toggleable__label-arrow:hover:before {color: black;}#sk-container-id-3 div.sk-estimator:hover label.sk-toggleable__label-arrow:before {color: black;}#sk-container-id-3 div.sk-toggleable__content {max-height: 0;max-width: 0;overflow: hidden;text-align: left;background-color: #f0f8ff;}#sk-container-id-3 div.sk-toggleable__content pre {margin: 0.2em;color: black;border-radius: 0.25em;background-color: #f0f8ff;}#sk-container-id-3 input.sk-toggleable__control:checked~div.sk-toggleable__content {max-height: 200px;max-width: 100%;overflow: auto;}#sk-container-id-3 input.sk-toggleable__control:checked~label.sk-toggleable__label-arrow:before {content: \"▾\";}#sk-container-id-3 div.sk-estimator input.sk-toggleable__control:checked~label.sk-toggleable__label {background-color: #d4ebff;}#sk-container-id-3 div.sk-label input.sk-toggleable__control:checked~label.sk-toggleable__label {background-color: #d4ebff;}#sk-container-id-3 input.sk-hidden--visually {border: 0;clip: rect(1px 1px 1px 1px);clip: rect(1px, 1px, 1px, 1px);height: 1px;margin: -1px;overflow: hidden;padding: 0;position: absolute;width: 1px;}#sk-container-id-3 div.sk-estimator {font-family: monospace;background-color: #f0f8ff;border: 1px dotted black;border-radius: 0.25em;box-sizing: border-box;margin-bottom: 0.5em;}#sk-container-id-3 div.sk-estimator:hover {background-color: #d4ebff;}#sk-container-id-3 div.sk-parallel-item::after {content: \"\";width: 100%;border-bottom: 1px solid gray;flex-grow: 1;}#sk-container-id-3 div.sk-label:hover label.sk-toggleable__label {background-color: #d4ebff;}#sk-container-id-3 div.sk-serial::before {content: \"\";position: absolute;border-left: 1px solid gray;box-sizing: border-box;top: 0;bottom: 0;left: 50%;z-index: 0;}#sk-container-id-3 div.sk-serial {display: flex;flex-direction: column;align-items: center;background-color: white;padding-right: 0.2em;padding-left: 0.2em;position: relative;}#sk-container-id-3 div.sk-item {position: relative;z-index: 1;}#sk-container-id-3 div.sk-parallel {display: flex;align-items: stretch;justify-content: center;background-color: white;position: relative;}#sk-container-id-3 div.sk-item::before, #sk-container-id-3 div.sk-parallel-item::before {content: \"\";position: absolute;border-left: 1px solid gray;box-sizing: border-box;top: 0;bottom: 0;left: 50%;z-index: -1;}#sk-container-id-3 div.sk-parallel-item {display: flex;flex-direction: column;z-index: 1;position: relative;background-color: white;}#sk-container-id-3 div.sk-parallel-item:first-child::after {align-self: flex-end;width: 50%;}#sk-container-id-3 div.sk-parallel-item:last-child::after {align-self: flex-start;width: 50%;}#sk-container-id-3 div.sk-parallel-item:only-child::after {width: 0;}#sk-container-id-3 div.sk-dashed-wrapped {border: 1px dashed gray;margin: 0 0.4em 0.5em 0.4em;box-sizing: border-box;padding-bottom: 0.4em;background-color: white;}#sk-container-id-3 div.sk-label label {font-family: monospace;font-weight: bold;display: inline-block;line-height: 1.2em;}#sk-container-id-3 div.sk-label-container {text-align: center;}#sk-container-id-3 div.sk-container {/* jupyter's `normalize.less` sets `[hidden] { display: none; }` but bootstrap.min.css set `[hidden] { display: none !important; }` so we also need the `!important` here to be able to override the default hidden behavior on the sphinx rendered scikit-learn.org. See: https://github.com/scikit-learn/scikit-learn/issues/21755 */display: inline-block !important;position: relative;}#sk-container-id-3 div.sk-text-repr-fallback {display: none;}</style><div id=\"sk-container-id-3\" class=\"sk-top-container\"><div class=\"sk-text-repr-fallback\"><pre>LGBMRegressor()</pre><b>In a Jupyter environment, please rerun this cell to show the HTML representation or trust the notebook. <br />On GitHub, the HTML representation is unable to render, please try loading this page with nbviewer.org.</b></div><div class=\"sk-container\" hidden><div class=\"sk-item\"><div class=\"sk-estimator sk-toggleable\"><input class=\"sk-toggleable__control sk-hidden--visually\" id=\"sk-estimator-id-3\" type=\"checkbox\" checked><label for=\"sk-estimator-id-3\" class=\"sk-toggleable__label sk-toggleable__label-arrow\">LGBMRegressor</label><div class=\"sk-toggleable__content\"><pre>LGBMRegressor()</pre></div></div></div></div></div>"
      ],
      "text/plain": [
       "LGBMRegressor()"
      ]
     },
     "execution_count": 37,
     "metadata": {},
     "output_type": "execute_result"
    }
   ],
   "source": [
    "%%time\n",
    "lgbr = LGBMRegressor(n_estimators = 100, n_jobs=-1)\n",
    "lgbr.fit(features_train, target_train, verbose=False)\n",
    "\n"
   ]
  },
  {
   "cell_type": "code",
   "execution_count": 38,
   "metadata": {},
   "outputs": [
    {
     "name": "stdout",
     "output_type": "stream",
     "text": [
      "RMSE для LightGBM на валидационной выборке 1725.1084309644168\n",
      "CPU times: total: 734 ms\n",
      "Wall time: 110 ms\n"
     ]
    }
   ],
   "source": [
    "%%time\n",
    "predictions_valid = lgbr.predict(features_valid)\n",
    "\n",
    "print('RMSE для LightGBM на валидационной выборке', mean_squared_error(target_valid, predictions_valid)**0.5)"
   ]
  },
  {
   "cell_type": "markdown",
   "metadata": {},
   "source": [
    "## Анализ моделей и итоговое тестирование"
   ]
  },
  {
   "cell_type": "markdown",
   "metadata": {},
   "source": [
    "Нами были рассмотрены 3 модели: дерево решений, бустинг с использованием библиотеки Catboost и бустинг с использованием LightGBM. Результаты работы (время обучения, время предсказания на валидационной выборке, RMSE на валидационной выборке) можно увидеть в таблице ниже. Дерево решений, хотя и быстро работает, но не даёт целевого значения RMSE, поэтому не подходит для итогового тестирования. Обе модели с ипользованием библиотек бустинга дают целевое значение RMSE, при этом CatBoost работаетточнее, поэтому для итогового тестирование выберем модель CatBoost.\n",
    "\n",
    "Итоговое тестирование пройдено успешно, RMSE очень близко к значению на валидационной выборке."
   ]
  },
  {
   "cell_type": "code",
   "execution_count": 39,
   "metadata": {},
   "outputs": [],
   "source": [
    "result = pd.DataFrame(data = [['DecisionTreeRegressor','47 ms','0 ms', 3609],\n",
    "                              ['CatBoost', '1min 37s' ,'126 ms', 1706],\n",
    "                              ['LightGBM','487ms','110 ms', 1725]], columns = ['Model', 'FitTime ', 'PredTime', 'RMSE_valid'])"
   ]
  },
  {
   "cell_type": "code",
   "execution_count": 40,
   "metadata": {
    "scrolled": true
   },
   "outputs": [
    {
     "data": {
      "text/html": [
       "<div>\n",
       "<style scoped>\n",
       "    .dataframe tbody tr th:only-of-type {\n",
       "        vertical-align: middle;\n",
       "    }\n",
       "\n",
       "    .dataframe tbody tr th {\n",
       "        vertical-align: top;\n",
       "    }\n",
       "\n",
       "    .dataframe thead th {\n",
       "        text-align: right;\n",
       "    }\n",
       "</style>\n",
       "<table border=\"1\" class=\"dataframe\">\n",
       "  <thead>\n",
       "    <tr style=\"text-align: right;\">\n",
       "      <th></th>\n",
       "      <th>Model</th>\n",
       "      <th>FitTime</th>\n",
       "      <th>PredTime</th>\n",
       "      <th>RMSE_valid</th>\n",
       "    </tr>\n",
       "  </thead>\n",
       "  <tbody>\n",
       "    <tr>\n",
       "      <th>0</th>\n",
       "      <td>DecisionTreeRegressor</td>\n",
       "      <td>47 ms</td>\n",
       "      <td>0 ms</td>\n",
       "      <td>3609</td>\n",
       "    </tr>\n",
       "    <tr>\n",
       "      <th>1</th>\n",
       "      <td>CatBoost</td>\n",
       "      <td>1min 37s</td>\n",
       "      <td>126 ms</td>\n",
       "      <td>1706</td>\n",
       "    </tr>\n",
       "    <tr>\n",
       "      <th>2</th>\n",
       "      <td>LightGBM</td>\n",
       "      <td>487ms</td>\n",
       "      <td>110 ms</td>\n",
       "      <td>1725</td>\n",
       "    </tr>\n",
       "  </tbody>\n",
       "</table>\n",
       "</div>"
      ],
      "text/plain": [
       "                   Model  FitTime  PredTime  RMSE_valid\n",
       "0  DecisionTreeRegressor     47 ms     0 ms        3609\n",
       "1               CatBoost  1min 37s   126 ms        1706\n",
       "2               LightGBM     487ms   110 ms        1725"
      ]
     },
     "metadata": {},
     "output_type": "display_data"
    }
   ],
   "source": [
    "display(result)"
   ]
  },
  {
   "cell_type": "code",
   "execution_count": 41,
   "metadata": {},
   "outputs": [
    {
     "name": "stdout",
     "output_type": "stream",
     "text": [
      "RMSE для Catboost на тестовой выборке 1706.2318083262446\n",
      "CPU times: total: 172 ms\n",
      "Wall time: 76.5 ms\n"
     ]
    }
   ],
   "source": [
    "%%time\n",
    "predictions_test = cbr.predict(features_test)\n",
    "print('RMSE для Catboost на тестовой выборке', mean_squared_error(target_test, predictions_test)**0.5)"
   ]
  }
 ],
 "metadata": {
  "ExecuteTimeLog": [
   {
    "duration": 48,
    "start_time": "2022-10-24T13:47:27.580Z"
   },
   {
    "duration": 377,
    "start_time": "2022-10-24T13:47:29.637Z"
   },
   {
    "duration": 2936,
    "start_time": "2022-10-24T13:47:32.575Z"
   },
   {
    "duration": 930,
    "start_time": "2022-10-24T13:47:59.935Z"
   },
   {
    "duration": 115,
    "start_time": "2022-10-24T13:51:32.804Z"
   },
   {
    "duration": 1070,
    "start_time": "2022-10-24T16:30:20.560Z"
   },
   {
    "duration": 92,
    "start_time": "2022-10-24T16:31:07.748Z"
   },
   {
    "duration": 1201,
    "start_time": "2022-10-24T16:31:13.217Z"
   },
   {
    "duration": 11,
    "start_time": "2022-10-24T16:31:18.860Z"
   },
   {
    "duration": 648,
    "start_time": "2022-10-24T16:31:54.526Z"
   },
   {
    "duration": 18,
    "start_time": "2022-10-24T16:33:25.839Z"
   },
   {
    "duration": 79,
    "start_time": "2022-10-24T16:34:57.052Z"
   },
   {
    "duration": 68,
    "start_time": "2022-10-24T16:35:09.862Z"
   },
   {
    "duration": 49,
    "start_time": "2022-10-24T16:35:20.166Z"
   },
   {
    "duration": 938,
    "start_time": "2022-10-24T16:35:31.461Z"
   },
   {
    "duration": 56,
    "start_time": "2022-10-24T16:35:37.742Z"
   },
   {
    "duration": 102,
    "start_time": "2022-10-24T16:36:27.495Z"
   },
   {
    "duration": 129,
    "start_time": "2022-10-24T16:36:37.117Z"
   },
   {
    "duration": 884,
    "start_time": "2022-10-24T16:36:51.680Z"
   },
   {
    "duration": 104,
    "start_time": "2022-10-24T16:36:58.167Z"
   },
   {
    "duration": 217,
    "start_time": "2022-10-24T16:37:11.315Z"
   },
   {
    "duration": 724,
    "start_time": "2022-10-24T16:37:50.500Z"
   },
   {
    "duration": 828,
    "start_time": "2022-10-24T16:38:06.490Z"
   },
   {
    "duration": 243,
    "start_time": "2022-10-24T16:38:13.812Z"
   },
   {
    "duration": 289,
    "start_time": "2022-10-24T16:39:40.890Z"
   },
   {
    "duration": 2,
    "start_time": "2022-10-24T16:41:30.143Z"
   },
   {
    "duration": 5039,
    "start_time": "2022-10-24T16:43:20.307Z"
   },
   {
    "duration": 20,
    "start_time": "2022-10-24T16:43:53.508Z"
   },
   {
    "duration": 102,
    "start_time": "2022-10-24T16:44:40.836Z"
   },
   {
    "duration": 240,
    "start_time": "2022-10-24T16:44:44.886Z"
   },
   {
    "duration": 1172,
    "start_time": "2022-10-24T16:44:50.862Z"
   },
   {
    "duration": 15,
    "start_time": "2022-10-24T16:44:56.783Z"
   },
   {
    "duration": 10,
    "start_time": "2022-10-24T16:46:20.071Z"
   },
   {
    "duration": 8,
    "start_time": "2022-10-24T16:48:59.654Z"
   },
   {
    "duration": 8,
    "start_time": "2022-10-24T16:49:05.783Z"
   },
   {
    "duration": 46,
    "start_time": "2022-10-24T16:49:11.532Z"
   },
   {
    "duration": 62,
    "start_time": "2022-10-24T16:56:47.555Z"
   },
   {
    "duration": 1117,
    "start_time": "2022-10-24T17:02:17.558Z"
   },
   {
    "duration": 124,
    "start_time": "2022-10-24T17:02:37.241Z"
   },
   {
    "duration": 9,
    "start_time": "2022-10-24T17:02:44.183Z"
   },
   {
    "duration": 3,
    "start_time": "2022-10-24T17:02:52.765Z"
   },
   {
    "duration": 1264,
    "start_time": "2022-10-24T17:02:52.778Z"
   },
   {
    "duration": 727,
    "start_time": "2022-10-24T17:02:54.044Z"
   },
   {
    "duration": 141,
    "start_time": "2022-10-24T17:02:54.772Z"
   },
   {
    "duration": 278,
    "start_time": "2022-10-24T17:02:54.915Z"
   },
   {
    "duration": 1241,
    "start_time": "2022-10-24T17:02:55.194Z"
   },
   {
    "duration": 19,
    "start_time": "2022-10-24T17:02:56.437Z"
   },
   {
    "duration": 19,
    "start_time": "2022-10-24T17:02:56.457Z"
   },
   {
    "duration": 77,
    "start_time": "2022-10-24T17:02:56.478Z"
   },
   {
    "duration": 47,
    "start_time": "2022-10-24T17:05:04.611Z"
   },
   {
    "duration": 1033,
    "start_time": "2022-10-24T17:05:32.103Z"
   },
   {
    "duration": 4,
    "start_time": "2022-10-24T17:05:44.906Z"
   },
   {
    "duration": 1215,
    "start_time": "2022-10-24T17:05:44.935Z"
   },
   {
    "duration": 687,
    "start_time": "2022-10-24T17:05:46.151Z"
   },
   {
    "duration": 138,
    "start_time": "2022-10-24T17:05:46.840Z"
   },
   {
    "duration": 264,
    "start_time": "2022-10-24T17:05:46.980Z"
   },
   {
    "duration": 1329,
    "start_time": "2022-10-24T17:05:47.248Z"
   },
   {
    "duration": 21,
    "start_time": "2022-10-24T17:05:48.579Z"
   },
   {
    "duration": 14,
    "start_time": "2022-10-24T17:05:48.601Z"
   },
   {
    "duration": 72,
    "start_time": "2022-10-24T17:05:48.616Z"
   },
   {
    "duration": 65,
    "start_time": "2022-10-24T17:06:01.193Z"
   },
   {
    "duration": 10,
    "start_time": "2022-10-24T17:06:48.540Z"
   },
   {
    "duration": 6987,
    "start_time": "2022-10-24T17:07:02.129Z"
   },
   {
    "duration": 7437,
    "start_time": "2022-10-24T17:07:28.507Z"
   },
   {
    "duration": 16246,
    "start_time": "2022-10-24T17:07:51.236Z"
   },
   {
    "duration": 1185,
    "start_time": "2022-10-24T19:50:29.391Z"
   },
   {
    "duration": 3,
    "start_time": "2022-10-24T19:50:40.505Z"
   },
   {
    "duration": 2948,
    "start_time": "2022-10-24T19:50:40.511Z"
   },
   {
    "duration": 721,
    "start_time": "2022-10-24T19:50:43.461Z"
   },
   {
    "duration": 128,
    "start_time": "2022-10-24T19:50:44.184Z"
   },
   {
    "duration": 284,
    "start_time": "2022-10-24T19:50:44.314Z"
   },
   {
    "duration": 1178,
    "start_time": "2022-10-24T19:50:44.600Z"
   },
   {
    "duration": 21,
    "start_time": "2022-10-24T19:50:45.780Z"
   },
   {
    "duration": 11,
    "start_time": "2022-10-24T19:50:45.803Z"
   },
   {
    "duration": 60,
    "start_time": "2022-10-24T19:50:45.815Z"
   },
   {
    "duration": 1200,
    "start_time": "2022-10-24T20:04:56.522Z"
   },
   {
    "duration": 4,
    "start_time": "2022-10-24T20:05:07.720Z"
   },
   {
    "duration": 1068,
    "start_time": "2022-10-24T20:05:07.727Z"
   },
   {
    "duration": 704,
    "start_time": "2022-10-24T20:05:08.796Z"
   },
   {
    "duration": 129,
    "start_time": "2022-10-24T20:05:09.502Z"
   },
   {
    "duration": 274,
    "start_time": "2022-10-24T20:05:09.634Z"
   },
   {
    "duration": 1268,
    "start_time": "2022-10-24T20:05:09.909Z"
   },
   {
    "duration": 20,
    "start_time": "2022-10-24T20:05:11.178Z"
   },
   {
    "duration": 12,
    "start_time": "2022-10-24T20:05:11.201Z"
   },
   {
    "duration": 76,
    "start_time": "2022-10-24T20:05:11.215Z"
   },
   {
    "duration": 102,
    "start_time": "2022-10-24T20:05:17.199Z"
   },
   {
    "duration": 1071,
    "start_time": "2022-10-24T20:05:26.727Z"
   },
   {
    "duration": 12,
    "start_time": "2022-10-24T20:05:50.726Z"
   },
   {
    "duration": 13,
    "start_time": "2022-10-24T20:06:06.690Z"
   },
   {
    "duration": 11,
    "start_time": "2022-10-24T20:06:18.021Z"
   },
   {
    "duration": 5,
    "start_time": "2022-10-24T20:06:35.971Z"
   },
   {
    "duration": 6268,
    "start_time": "2022-10-24T20:06:45.333Z"
   },
   {
    "duration": 4,
    "start_time": "2022-10-24T20:08:42.421Z"
   },
   {
    "duration": 17605,
    "start_time": "2022-10-24T20:09:37.915Z"
   },
   {
    "duration": 3,
    "start_time": "2022-10-24T20:11:55.578Z"
   },
   {
    "duration": 863,
    "start_time": "2022-10-24T20:11:55.583Z"
   },
   {
    "duration": 633,
    "start_time": "2022-10-24T20:11:56.447Z"
   },
   {
    "duration": 115,
    "start_time": "2022-10-24T20:11:57.081Z"
   },
   {
    "duration": 247,
    "start_time": "2022-10-24T20:11:57.198Z"
   },
   {
    "duration": 1252,
    "start_time": "2022-10-24T20:11:57.447Z"
   },
   {
    "duration": 16,
    "start_time": "2022-10-24T20:11:58.701Z"
   },
   {
    "duration": 20,
    "start_time": "2022-10-24T20:11:58.719Z"
   },
   {
    "duration": 66,
    "start_time": "2022-10-24T20:11:58.741Z"
   },
   {
    "duration": 1088,
    "start_time": "2022-10-24T20:12:04.215Z"
   },
   {
    "duration": 6365,
    "start_time": "2022-10-24T20:12:08.905Z"
   },
   {
    "duration": 1135,
    "start_time": "2022-10-26T09:34:56.748Z"
   },
   {
    "duration": 4,
    "start_time": "2022-10-26T09:35:05.180Z"
   },
   {
    "duration": 2908,
    "start_time": "2022-10-26T09:35:05.197Z"
   },
   {
    "duration": 607,
    "start_time": "2022-10-26T09:35:08.108Z"
   },
   {
    "duration": 122,
    "start_time": "2022-10-26T09:35:08.717Z"
   },
   {
    "duration": 214,
    "start_time": "2022-10-26T09:35:08.842Z"
   },
   {
    "duration": 1194,
    "start_time": "2022-10-26T09:35:09.057Z"
   },
   {
    "duration": 19,
    "start_time": "2022-10-26T09:35:10.253Z"
   },
   {
    "duration": 11,
    "start_time": "2022-10-26T09:35:10.274Z"
   },
   {
    "duration": 56,
    "start_time": "2022-10-26T09:35:45.044Z"
   },
   {
    "duration": 4940,
    "start_time": "2022-10-26T09:36:03.235Z"
   },
   {
    "duration": 14,
    "start_time": "2022-10-26T09:38:57.085Z"
   },
   {
    "duration": 65,
    "start_time": "2022-10-26T09:38:58.368Z"
   },
   {
    "duration": 17,
    "start_time": "2022-10-26T09:43:00.199Z"
   },
   {
    "duration": 70,
    "start_time": "2022-10-26T09:43:01.785Z"
   },
   {
    "duration": 668,
    "start_time": "2022-10-26T09:43:03.682Z"
   },
   {
    "duration": 2452,
    "start_time": "2022-10-26T09:43:45.802Z"
   },
   {
    "duration": 2660,
    "start_time": "2022-10-26T09:49:07.163Z"
   },
   {
    "duration": 10927,
    "start_time": "2022-10-26T09:49:28.397Z"
   },
   {
    "duration": 10251,
    "start_time": "2022-10-26T09:49:52.782Z"
   },
   {
    "duration": 283493,
    "start_time": "2022-10-26T09:52:08.835Z"
   },
   {
    "duration": 5889,
    "start_time": "2022-10-26T10:05:56.762Z"
   },
   {
    "duration": 8,
    "start_time": "2022-10-26T10:07:14.292Z"
   },
   {
    "duration": 149,
    "start_time": "2022-10-26T10:08:03.439Z"
   },
   {
    "duration": 3162,
    "start_time": "2022-10-26T10:08:19.481Z"
   },
   {
    "duration": 5874,
    "start_time": "2022-10-26T10:08:29.550Z"
   },
   {
    "duration": 9,
    "start_time": "2022-10-26T10:08:37.533Z"
   },
   {
    "duration": 24,
    "start_time": "2022-10-26T10:08:45.252Z"
   },
   {
    "duration": 24,
    "start_time": "2022-10-26T10:11:28.469Z"
   },
   {
    "duration": 38,
    "start_time": "2022-10-26T10:13:45.307Z"
   },
   {
    "duration": 37,
    "start_time": "2022-10-26T10:16:20.640Z"
   },
   {
    "duration": 55,
    "start_time": "2022-10-26T10:18:00.305Z"
   },
   {
    "duration": 25,
    "start_time": "2022-10-26T10:18:50.948Z"
   },
   {
    "duration": 12,
    "start_time": "2022-10-26T10:19:46.536Z"
   },
   {
    "duration": 37,
    "start_time": "2022-10-26T10:20:04.503Z"
   },
   {
    "duration": 42,
    "start_time": "2022-10-26T10:26:38.027Z"
   },
   {
    "duration": 162,
    "start_time": "2022-10-26T10:26:39.659Z"
   },
   {
    "duration": 0,
    "start_time": "2022-10-26T10:29:05.815Z"
   },
   {
    "duration": 0,
    "start_time": "2022-10-26T10:29:05.816Z"
   },
   {
    "duration": 19,
    "start_time": "2022-10-26T10:29:13.878Z"
   },
   {
    "duration": 71490,
    "start_time": "2022-10-26T10:29:31.434Z"
   },
   {
    "duration": 177250,
    "start_time": "2022-10-26T10:30:44.559Z"
   },
   {
    "duration": 2,
    "start_time": "2022-10-26T16:18:30.156Z"
   },
   {
    "duration": 450,
    "start_time": "2022-10-26T16:19:32.316Z"
   },
   {
    "duration": 8,
    "start_time": "2022-10-26T16:19:43.856Z"
   },
   {
    "duration": 7,
    "start_time": "2022-10-26T16:20:02.959Z"
   },
   {
    "duration": 20,
    "start_time": "2022-10-26T16:20:10.318Z"
   },
   {
    "duration": 9,
    "start_time": "2022-10-26T16:20:31.255Z"
   },
   {
    "duration": 27,
    "start_time": "2022-10-26T16:21:07.721Z"
   },
   {
    "duration": 25,
    "start_time": "2022-10-26T16:21:14.847Z"
   },
   {
    "duration": 26,
    "start_time": "2022-10-26T16:21:20.579Z"
   },
   {
    "duration": 64,
    "start_time": "2022-10-26T16:21:57.027Z"
   },
   {
    "duration": 60,
    "start_time": "2022-10-26T16:22:15.315Z"
   },
   {
    "duration": 10,
    "start_time": "2022-10-26T16:23:12.593Z"
   },
   {
    "duration": 16,
    "start_time": "2022-10-26T16:23:54.038Z"
   },
   {
    "duration": 20,
    "start_time": "2022-10-26T16:25:34.665Z"
   },
   {
    "duration": 36,
    "start_time": "2022-10-26T16:26:23.870Z"
   },
   {
    "duration": 101,
    "start_time": "2022-10-26T16:26:30.851Z"
   },
   {
    "duration": 6,
    "start_time": "2022-10-26T16:27:05.784Z"
   },
   {
    "duration": 14,
    "start_time": "2022-10-26T16:27:48.725Z"
   },
   {
    "duration": 23,
    "start_time": "2022-10-26T16:28:14.111Z"
   },
   {
    "duration": 33,
    "start_time": "2022-10-26T16:28:29.086Z"
   },
   {
    "duration": 34,
    "start_time": "2022-10-26T16:28:31.962Z"
   },
   {
    "duration": 14,
    "start_time": "2022-10-26T16:28:49.341Z"
   },
   {
    "duration": 16,
    "start_time": "2022-10-26T16:28:53.852Z"
   },
   {
    "duration": 199,
    "start_time": "2022-10-26T16:29:23.106Z"
   },
   {
    "duration": 3,
    "start_time": "2022-10-26T16:35:27.328Z"
   },
   {
    "duration": 4,
    "start_time": "2022-10-26T16:35:34.920Z"
   },
   {
    "duration": 750,
    "start_time": "2022-10-26T16:35:34.925Z"
   },
   {
    "duration": 532,
    "start_time": "2022-10-26T16:35:35.676Z"
   },
   {
    "duration": 112,
    "start_time": "2022-10-26T16:35:36.209Z"
   },
   {
    "duration": 223,
    "start_time": "2022-10-26T16:35:36.323Z"
   },
   {
    "duration": 35,
    "start_time": "2022-10-26T16:35:36.547Z"
   },
   {
    "duration": 6,
    "start_time": "2022-10-26T16:35:36.583Z"
   },
   {
    "duration": 14,
    "start_time": "2022-10-26T16:35:36.605Z"
   },
   {
    "duration": 15,
    "start_time": "2022-10-26T16:35:36.620Z"
   },
   {
    "duration": 1090,
    "start_time": "2022-10-26T16:35:36.636Z"
   },
   {
    "duration": 14,
    "start_time": "2022-10-26T16:35:37.728Z"
   },
   {
    "duration": 13,
    "start_time": "2022-10-26T16:35:37.744Z"
   },
   {
    "duration": 52,
    "start_time": "2022-10-26T16:35:37.759Z"
   },
   {
    "duration": 4627,
    "start_time": "2022-10-26T16:35:42.107Z"
   },
   {
    "duration": 137,
    "start_time": "2022-10-26T16:36:26.566Z"
   },
   {
    "duration": 3,
    "start_time": "2022-10-26T16:37:25.951Z"
   },
   {
    "duration": 11139,
    "start_time": "2022-10-26T16:37:38.175Z"
   },
   {
    "duration": 117,
    "start_time": "2022-10-26T16:38:23.314Z"
   },
   {
    "duration": 1326,
    "start_time": "2022-10-26T16:38:31.287Z"
   },
   {
    "duration": 2927,
    "start_time": "2022-10-26T16:38:32.615Z"
   },
   {
    "duration": 635,
    "start_time": "2022-10-26T16:38:35.544Z"
   },
   {
    "duration": 114,
    "start_time": "2022-10-26T16:38:36.181Z"
   },
   {
    "duration": 217,
    "start_time": "2022-10-26T16:38:36.304Z"
   },
   {
    "duration": 49,
    "start_time": "2022-10-26T16:38:36.523Z"
   },
   {
    "duration": 6,
    "start_time": "2022-10-26T16:38:36.573Z"
   },
   {
    "duration": 36,
    "start_time": "2022-10-26T16:38:36.580Z"
   },
   {
    "duration": 14,
    "start_time": "2022-10-26T16:38:36.617Z"
   },
   {
    "duration": 1087,
    "start_time": "2022-10-26T16:38:36.633Z"
   },
   {
    "duration": 15,
    "start_time": "2022-10-26T16:38:37.722Z"
   },
   {
    "duration": 11,
    "start_time": "2022-10-26T16:38:37.738Z"
   },
   {
    "duration": 62,
    "start_time": "2022-10-26T16:38:37.751Z"
   },
   {
    "duration": 4904,
    "start_time": "2022-10-26T16:38:37.815Z"
   },
   {
    "duration": 118,
    "start_time": "2022-10-26T16:40:02.053Z"
   },
   {
    "duration": 1462,
    "start_time": "2022-10-26T16:40:10.427Z"
   },
   {
    "duration": 2882,
    "start_time": "2022-10-26T16:40:11.891Z"
   },
   {
    "duration": 624,
    "start_time": "2022-10-26T16:40:14.774Z"
   },
   {
    "duration": 116,
    "start_time": "2022-10-26T16:40:15.401Z"
   },
   {
    "duration": 213,
    "start_time": "2022-10-26T16:40:15.518Z"
   },
   {
    "duration": 50,
    "start_time": "2022-10-26T16:40:15.733Z"
   },
   {
    "duration": 21,
    "start_time": "2022-10-26T16:40:15.785Z"
   },
   {
    "duration": 13,
    "start_time": "2022-10-26T16:40:15.808Z"
   },
   {
    "duration": 15,
    "start_time": "2022-10-26T16:40:15.823Z"
   },
   {
    "duration": 1022,
    "start_time": "2022-10-26T16:40:15.840Z"
   },
   {
    "duration": 14,
    "start_time": "2022-10-26T16:40:16.864Z"
   },
   {
    "duration": 15,
    "start_time": "2022-10-26T16:40:16.880Z"
   },
   {
    "duration": 217,
    "start_time": "2022-10-26T16:40:26.979Z"
   },
   {
    "duration": 53,
    "start_time": "2022-10-26T16:40:31.105Z"
   },
   {
    "duration": 111,
    "start_time": "2022-10-26T16:41:37.714Z"
   },
   {
    "duration": 1307,
    "start_time": "2022-10-26T16:41:46.848Z"
   },
   {
    "duration": 2916,
    "start_time": "2022-10-26T16:41:48.157Z"
   },
   {
    "duration": 648,
    "start_time": "2022-10-26T16:41:51.075Z"
   },
   {
    "duration": 124,
    "start_time": "2022-10-26T16:41:51.725Z"
   },
   {
    "duration": 227,
    "start_time": "2022-10-26T16:41:51.852Z"
   },
   {
    "duration": 57,
    "start_time": "2022-10-26T16:41:52.080Z"
   },
   {
    "duration": 6,
    "start_time": "2022-10-26T16:41:52.138Z"
   },
   {
    "duration": 14,
    "start_time": "2022-10-26T16:41:52.145Z"
   },
   {
    "duration": 14,
    "start_time": "2022-10-26T16:41:52.160Z"
   },
   {
    "duration": 1038,
    "start_time": "2022-10-26T16:41:52.176Z"
   },
   {
    "duration": 15,
    "start_time": "2022-10-26T16:41:53.215Z"
   },
   {
    "duration": 11,
    "start_time": "2022-10-26T16:41:53.231Z"
   },
   {
    "duration": 61,
    "start_time": "2022-10-26T16:41:53.244Z"
   },
   {
    "duration": 4880,
    "start_time": "2022-10-26T16:42:01.716Z"
   },
   {
    "duration": 3,
    "start_time": "2022-10-26T16:43:35.709Z"
   },
   {
    "duration": 808,
    "start_time": "2022-10-26T16:43:35.781Z"
   },
   {
    "duration": 533,
    "start_time": "2022-10-26T16:43:36.590Z"
   },
   {
    "duration": 110,
    "start_time": "2022-10-26T16:43:37.125Z"
   },
   {
    "duration": 269,
    "start_time": "2022-10-26T16:43:37.236Z"
   },
   {
    "duration": 46,
    "start_time": "2022-10-26T16:43:37.507Z"
   },
   {
    "duration": 5,
    "start_time": "2022-10-26T16:43:37.555Z"
   },
   {
    "duration": 17,
    "start_time": "2022-10-26T16:43:37.562Z"
   },
   {
    "duration": 39,
    "start_time": "2022-10-26T16:43:37.581Z"
   },
   {
    "duration": 1098,
    "start_time": "2022-10-26T16:43:37.621Z"
   },
   {
    "duration": 15,
    "start_time": "2022-10-26T16:43:38.720Z"
   },
   {
    "duration": 15,
    "start_time": "2022-10-26T16:43:38.736Z"
   },
   {
    "duration": 53,
    "start_time": "2022-10-26T16:43:38.752Z"
   },
   {
    "duration": 5050,
    "start_time": "2022-10-26T16:43:38.807Z"
   },
   {
    "duration": 1971,
    "start_time": "2022-10-26T16:49:46.395Z"
   },
   {
    "duration": 13,
    "start_time": "2022-10-26T16:49:54.334Z"
   },
   {
    "duration": 64,
    "start_time": "2022-10-26T16:49:55.920Z"
   },
   {
    "duration": 5704,
    "start_time": "2022-10-26T16:49:58.059Z"
   },
   {
    "duration": 4904,
    "start_time": "2022-10-26T16:51:12.249Z"
   },
   {
    "duration": 8249,
    "start_time": "2022-10-26T16:51:29.779Z"
   },
   {
    "duration": 882,
    "start_time": "2022-10-26T16:52:10.291Z"
   },
   {
    "duration": 124692,
    "start_time": "2022-10-26T16:52:20.327Z"
   },
   {
    "duration": 38,
    "start_time": "2022-10-26T17:02:00.758Z"
   },
   {
    "duration": 116,
    "start_time": "2022-10-26T17:02:21.797Z"
   },
   {
    "duration": 22,
    "start_time": "2022-10-26T17:03:28.713Z"
   },
   {
    "duration": 122,
    "start_time": "2022-10-26T17:03:30.528Z"
   },
   {
    "duration": 102,
    "start_time": "2022-10-26T17:04:44.412Z"
   },
   {
    "duration": 8,
    "start_time": "2022-10-26T17:05:18.448Z"
   },
   {
    "duration": 4,
    "start_time": "2022-10-26T17:05:22.826Z"
   },
   {
    "duration": 4,
    "start_time": "2022-10-26T17:05:30.459Z"
   },
   {
    "duration": 87305,
    "start_time": "2022-10-26T17:05:53.110Z"
   },
   {
    "duration": 50507,
    "start_time": "2022-10-26T17:08:24.325Z"
   },
   {
    "duration": 125605,
    "start_time": "2022-10-26T17:11:04.322Z"
   },
   {
    "duration": 118323,
    "start_time": "2022-10-26T17:13:09.929Z"
   },
   {
    "duration": 164,
    "start_time": "2022-10-26T17:17:45.597Z"
   },
   {
    "duration": 24068,
    "start_time": "2022-10-26T17:17:51.154Z"
   },
   {
    "duration": 164,
    "start_time": "2022-10-26T17:18:15.223Z"
   },
   {
    "duration": 164,
    "start_time": "2022-10-26T17:18:38.176Z"
   },
   {
    "duration": 3,
    "start_time": "2022-10-26T17:21:35.253Z"
   },
   {
    "duration": 807,
    "start_time": "2022-10-26T17:21:37.817Z"
   },
   {
    "duration": 4,
    "start_time": "2022-10-26T17:21:47.029Z"
   },
   {
    "duration": 811,
    "start_time": "2022-10-26T17:21:47.043Z"
   },
   {
    "duration": 588,
    "start_time": "2022-10-26T17:21:47.855Z"
   },
   {
    "duration": 106,
    "start_time": "2022-10-26T17:21:48.444Z"
   },
   {
    "duration": 234,
    "start_time": "2022-10-26T17:21:48.552Z"
   },
   {
    "duration": 44,
    "start_time": "2022-10-26T17:21:48.787Z"
   },
   {
    "duration": 6,
    "start_time": "2022-10-26T17:21:48.832Z"
   },
   {
    "duration": 14,
    "start_time": "2022-10-26T17:21:48.839Z"
   },
   {
    "duration": 15,
    "start_time": "2022-10-26T17:21:48.855Z"
   },
   {
    "duration": 1070,
    "start_time": "2022-10-26T17:21:48.872Z"
   },
   {
    "duration": 15,
    "start_time": "2022-10-26T17:21:49.944Z"
   },
   {
    "duration": 10,
    "start_time": "2022-10-26T17:21:49.961Z"
   },
   {
    "duration": 60,
    "start_time": "2022-10-26T17:21:49.973Z"
   },
   {
    "duration": 4674,
    "start_time": "2022-10-26T17:21:50.035Z"
   },
   {
    "duration": 14,
    "start_time": "2022-10-26T17:21:54.710Z"
   },
   {
    "duration": 2,
    "start_time": "2022-10-26T17:21:54.726Z"
   },
   {
    "duration": 129,
    "start_time": "2022-10-26T17:21:54.730Z"
   },
   {
    "duration": 114799,
    "start_time": "2022-10-26T17:21:57.207Z"
   },
   {
    "duration": 165,
    "start_time": "2022-10-26T17:24:09.504Z"
   },
   {
    "duration": 123215,
    "start_time": "2022-10-26T17:24:13.160Z"
   },
   {
    "duration": 167,
    "start_time": "2022-10-26T17:27:30.716Z"
   },
   {
    "duration": 181,
    "start_time": "2022-10-26T17:27:37.776Z"
   },
   {
    "duration": 182,
    "start_time": "2022-10-26T17:27:48.901Z"
   },
   {
    "duration": 120,
    "start_time": "2022-10-26T17:27:53.904Z"
   },
   {
    "duration": 2496,
    "start_time": "2022-10-26T17:27:59.570Z"
   },
   {
    "duration": 131,
    "start_time": "2022-10-26T17:28:23.121Z"
   },
   {
    "duration": 114,
    "start_time": "2022-10-26T17:28:25.378Z"
   },
   {
    "duration": 2054,
    "start_time": "2022-10-26T17:28:27.452Z"
   },
   {
    "duration": 16,
    "start_time": "2022-10-26T17:29:15.727Z"
   },
   {
    "duration": 139,
    "start_time": "2022-10-26T17:29:19.694Z"
   },
   {
    "duration": 117,
    "start_time": "2022-10-26T17:29:22.848Z"
   },
   {
    "duration": 114800,
    "start_time": "2022-10-26T17:29:26.031Z"
   },
   {
    "duration": 160,
    "start_time": "2022-10-26T17:31:42.037Z"
   },
   {
    "duration": 121676,
    "start_time": "2022-10-26T17:33:49.931Z"
   },
   {
    "duration": 164,
    "start_time": "2022-10-26T17:36:31.826Z"
   },
   {
    "duration": 113,
    "start_time": "2022-10-26T17:36:36.047Z"
   },
   {
    "duration": 2951,
    "start_time": "2022-10-26T17:36:38.461Z"
   },
   {
    "duration": 115,
    "start_time": "2022-10-26T17:36:47.918Z"
   },
   {
    "duration": 4776,
    "start_time": "2022-10-26T17:37:07.539Z"
   },
   {
    "duration": 75,
    "start_time": "2022-10-26T17:37:27.495Z"
   },
   {
    "duration": 116063,
    "start_time": "2022-10-26T17:37:34.355Z"
   },
   {
    "duration": 37,
    "start_time": "2022-10-26T17:39:30.420Z"
   },
   {
    "duration": 584,
    "start_time": "2022-10-26T17:43:25.734Z"
   },
   {
    "duration": 100,
    "start_time": "2022-10-26T17:43:30.980Z"
   },
   {
    "duration": 9,
    "start_time": "2022-10-26T17:43:56.965Z"
   },
   {
    "duration": 7715,
    "start_time": "2022-10-26T17:44:01.897Z"
   },
   {
    "duration": 598,
    "start_time": "2022-10-26T17:44:13.924Z"
   },
   {
    "duration": 110,
    "start_time": "2022-10-26T17:44:47.372Z"
   },
   {
    "duration": 5696,
    "start_time": "2022-10-26T17:44:50.317Z"
   },
   {
    "duration": 4,
    "start_time": "2022-10-26T17:44:58.717Z"
   },
   {
    "duration": 617,
    "start_time": "2022-10-26T17:45:14.103Z"
   },
   {
    "duration": 4851,
    "start_time": "2022-10-26T17:45:28.762Z"
   },
   {
    "duration": 543,
    "start_time": "2022-10-26T17:45:36.383Z"
   },
   {
    "duration": 5530,
    "start_time": "2022-10-26T17:45:41.285Z"
   },
   {
    "duration": 5,
    "start_time": "2022-10-26T17:45:49.449Z"
   },
   {
    "duration": 618,
    "start_time": "2022-10-26T17:46:26.807Z"
   },
   {
    "duration": 59,
    "start_time": "2022-10-29T15:03:46.003Z"
   },
   {
    "duration": 54,
    "start_time": "2022-10-29T15:05:11.403Z"
   },
   {
    "duration": 1279,
    "start_time": "2022-10-29T15:05:18.492Z"
   },
   {
    "duration": 1354,
    "start_time": "2022-10-29T15:05:19.773Z"
   },
   {
    "duration": 745,
    "start_time": "2022-10-29T15:05:21.134Z"
   },
   {
    "duration": 151,
    "start_time": "2022-10-29T15:05:21.881Z"
   },
   {
    "duration": 305,
    "start_time": "2022-10-29T15:05:22.034Z"
   },
   {
    "duration": 494,
    "start_time": "2022-10-29T15:05:27.587Z"
   },
   {
    "duration": 50,
    "start_time": "2022-10-29T15:07:32.789Z"
   },
   {
    "duration": 14,
    "start_time": "2022-10-29T15:07:41.719Z"
   },
   {
    "duration": 981,
    "start_time": "2022-10-29T15:07:41.735Z"
   },
   {
    "duration": 680,
    "start_time": "2022-10-29T15:07:42.717Z"
   },
   {
    "duration": 137,
    "start_time": "2022-10-29T15:07:43.399Z"
   },
   {
    "duration": 333,
    "start_time": "2022-10-29T15:07:43.538Z"
   },
   {
    "duration": 167,
    "start_time": "2022-10-29T15:07:43.873Z"
   },
   {
    "duration": 49,
    "start_time": "2022-10-29T15:07:44.042Z"
   },
   {
    "duration": 6,
    "start_time": "2022-10-29T15:07:44.093Z"
   },
   {
    "duration": 43,
    "start_time": "2022-10-29T15:07:44.101Z"
   },
   {
    "duration": 33,
    "start_time": "2022-10-29T15:07:44.147Z"
   },
   {
    "duration": 87,
    "start_time": "2022-10-29T15:09:54.667Z"
   },
   {
    "duration": 8,
    "start_time": "2022-10-29T15:10:23.310Z"
   },
   {
    "duration": 9,
    "start_time": "2022-10-29T15:10:32.349Z"
   },
   {
    "duration": 60,
    "start_time": "2022-10-29T15:10:34.536Z"
   },
   {
    "duration": 88,
    "start_time": "2022-10-29T15:56:27.903Z"
   },
   {
    "duration": 202,
    "start_time": "2022-10-29T15:57:16.433Z"
   },
   {
    "duration": 24,
    "start_time": "2022-10-29T15:59:07.572Z"
   },
   {
    "duration": 215,
    "start_time": "2022-10-29T16:00:02.763Z"
   },
   {
    "duration": 95,
    "start_time": "2022-10-29T16:00:55.261Z"
   },
   {
    "duration": 200,
    "start_time": "2022-10-29T16:00:57.098Z"
   },
   {
    "duration": 98,
    "start_time": "2022-10-29T16:01:05.541Z"
   },
   {
    "duration": 232,
    "start_time": "2022-10-29T16:01:07.349Z"
   },
   {
    "duration": 78,
    "start_time": "2022-10-29T16:01:17.891Z"
   },
   {
    "duration": 200,
    "start_time": "2022-10-29T16:01:21.254Z"
   },
   {
    "duration": 75,
    "start_time": "2022-10-29T16:01:40.506Z"
   },
   {
    "duration": 211,
    "start_time": "2022-10-29T16:01:42.448Z"
   },
   {
    "duration": 77,
    "start_time": "2022-10-29T16:01:52.183Z"
   },
   {
    "duration": 203,
    "start_time": "2022-10-29T16:01:54.737Z"
   },
   {
    "duration": 81,
    "start_time": "2022-10-29T16:02:04.153Z"
   },
   {
    "duration": 230,
    "start_time": "2022-10-29T16:02:06.003Z"
   },
   {
    "duration": 72,
    "start_time": "2022-10-29T16:02:17.763Z"
   },
   {
    "duration": 205,
    "start_time": "2022-10-29T16:02:19.653Z"
   },
   {
    "duration": 73,
    "start_time": "2022-10-29T16:02:47.178Z"
   },
   {
    "duration": 253,
    "start_time": "2022-10-29T16:02:49.066Z"
   },
   {
    "duration": 121,
    "start_time": "2022-10-29T16:05:22.014Z"
   },
   {
    "duration": 241,
    "start_time": "2022-10-29T16:05:24.012Z"
   },
   {
    "duration": 66,
    "start_time": "2022-10-29T16:09:36.039Z"
   },
   {
    "duration": 203,
    "start_time": "2022-10-29T16:09:38.468Z"
   },
   {
    "duration": 72,
    "start_time": "2022-10-29T16:09:47.580Z"
   },
   {
    "duration": 198,
    "start_time": "2022-10-29T16:09:49.343Z"
   },
   {
    "duration": 72,
    "start_time": "2022-10-29T16:10:34.743Z"
   },
   {
    "duration": 11,
    "start_time": "2022-10-29T16:10:51.810Z"
   },
   {
    "duration": 68,
    "start_time": "2022-10-29T16:10:53.542Z"
   },
   {
    "duration": 655,
    "start_time": "2022-10-29T16:10:56.721Z"
   },
   {
    "duration": 65,
    "start_time": "2022-10-29T16:19:40.217Z"
   },
   {
    "duration": 52,
    "start_time": "2022-10-29T16:23:25.417Z"
   },
   {
    "duration": 11,
    "start_time": "2022-10-29T16:23:27.445Z"
   },
   {
    "duration": 15,
    "start_time": "2022-10-29T16:23:42.912Z"
   },
   {
    "duration": 210,
    "start_time": "2022-10-29T16:24:10.767Z"
   },
   {
    "duration": 141,
    "start_time": "2022-10-29T16:24:16.348Z"
   },
   {
    "duration": 399,
    "start_time": "2022-10-29T16:24:54.572Z"
   },
   {
    "duration": 93,
    "start_time": "2022-10-29T16:25:43.216Z"
   },
   {
    "duration": 150,
    "start_time": "2022-10-29T16:26:39.964Z"
   },
   {
    "duration": 84,
    "start_time": "2022-10-29T16:28:17.090Z"
   },
   {
    "duration": 40,
    "start_time": "2022-10-29T16:28:43.268Z"
   },
   {
    "duration": 290,
    "start_time": "2022-10-29T16:29:52.784Z"
   },
   {
    "duration": 19,
    "start_time": "2022-10-29T16:29:55.159Z"
   },
   {
    "duration": 19,
    "start_time": "2022-10-29T16:30:34.175Z"
   },
   {
    "duration": 3,
    "start_time": "2022-10-29T16:30:49.109Z"
   },
   {
    "duration": 897,
    "start_time": "2022-10-29T16:30:49.155Z"
   },
   {
    "duration": 640,
    "start_time": "2022-10-29T16:30:50.054Z"
   },
   {
    "duration": 126,
    "start_time": "2022-10-29T16:30:50.696Z"
   },
   {
    "duration": 286,
    "start_time": "2022-10-29T16:30:50.824Z"
   },
   {
    "duration": 48,
    "start_time": "2022-10-29T16:30:51.112Z"
   },
   {
    "duration": 6,
    "start_time": "2022-10-29T16:30:51.162Z"
   },
   {
    "duration": 18,
    "start_time": "2022-10-29T16:30:51.170Z"
   },
   {
    "duration": 54,
    "start_time": "2022-10-29T16:30:51.189Z"
   },
   {
    "duration": 15,
    "start_time": "2022-10-29T16:30:56.177Z"
   },
   {
    "duration": 79,
    "start_time": "2022-10-29T16:30:58.055Z"
   },
   {
    "duration": 67,
    "start_time": "2022-10-29T16:31:08.296Z"
   },
   {
    "duration": 46,
    "start_time": "2022-10-29T16:31:10.144Z"
   },
   {
    "duration": 10,
    "start_time": "2022-10-29T16:31:12.412Z"
   },
   {
    "duration": 145,
    "start_time": "2022-10-29T16:31:41.439Z"
   },
   {
    "duration": 144,
    "start_time": "2022-10-29T16:31:43.783Z"
   },
   {
    "duration": 366,
    "start_time": "2022-10-29T16:32:43.174Z"
   },
   {
    "duration": 12,
    "start_time": "2022-10-29T16:33:26.203Z"
   },
   {
    "duration": 79,
    "start_time": "2022-10-29T16:33:27.762Z"
   },
   {
    "duration": 75,
    "start_time": "2022-10-29T16:33:38.464Z"
   },
   {
    "duration": 52,
    "start_time": "2022-10-29T16:33:40.173Z"
   },
   {
    "duration": 136,
    "start_time": "2022-10-29T16:33:42.672Z"
   },
   {
    "duration": 348,
    "start_time": "2022-10-29T16:33:44.773Z"
   },
   {
    "duration": 106,
    "start_time": "2022-10-29T16:35:05.942Z"
   },
   {
    "duration": 21,
    "start_time": "2022-10-29T16:35:07.600Z"
   },
   {
    "duration": 19,
    "start_time": "2022-10-29T16:35:25.398Z"
   },
   {
    "duration": 117,
    "start_time": "2022-10-29T16:35:56.481Z"
   },
   {
    "duration": 118,
    "start_time": "2022-10-29T16:39:13.287Z"
   },
   {
    "duration": 47,
    "start_time": "2022-10-29T16:39:43.544Z"
   },
   {
    "duration": 93,
    "start_time": "2022-10-29T16:40:37.790Z"
   },
   {
    "duration": 96,
    "start_time": "2022-10-29T16:42:19.484Z"
   },
   {
    "duration": 20,
    "start_time": "2022-10-29T16:42:21.307Z"
   },
   {
    "duration": 26,
    "start_time": "2022-10-29T16:42:42.551Z"
   },
   {
    "duration": 53,
    "start_time": "2022-10-29T16:44:08.147Z"
   },
   {
    "duration": 14,
    "start_time": "2022-10-29T16:44:10.269Z"
   },
   {
    "duration": 21,
    "start_time": "2022-10-29T16:44:13.013Z"
   },
   {
    "duration": 17,
    "start_time": "2022-10-29T16:44:46.684Z"
   },
   {
    "duration": 69,
    "start_time": "2022-10-29T16:46:42.820Z"
   },
   {
    "duration": 76,
    "start_time": "2022-10-29T16:47:04.745Z"
   },
   {
    "duration": 3,
    "start_time": "2022-10-29T16:47:18.197Z"
   },
   {
    "duration": 958,
    "start_time": "2022-10-29T16:47:20.627Z"
   },
   {
    "duration": 650,
    "start_time": "2022-10-29T16:47:24.307Z"
   },
   {
    "duration": 141,
    "start_time": "2022-10-29T16:47:28.521Z"
   },
   {
    "duration": 260,
    "start_time": "2022-10-29T16:47:32.140Z"
   },
   {
    "duration": 37,
    "start_time": "2022-10-29T16:47:36.039Z"
   },
   {
    "duration": 230,
    "start_time": "2022-10-29T16:47:38.358Z"
   },
   {
    "duration": 51,
    "start_time": "2022-10-29T16:47:48.990Z"
   },
   {
    "duration": 14,
    "start_time": "2022-10-29T16:47:51.090Z"
   },
   {
    "duration": 65,
    "start_time": "2022-10-29T16:47:53.443Z"
   },
   {
    "duration": 26,
    "start_time": "2022-10-29T16:47:57.310Z"
   },
   {
    "duration": 91,
    "start_time": "2022-10-29T16:47:59.136Z"
   },
   {
    "duration": 68,
    "start_time": "2022-10-29T16:48:01.639Z"
   },
   {
    "duration": 98,
    "start_time": "2022-10-29T16:48:04.016Z"
   },
   {
    "duration": 66,
    "start_time": "2022-10-29T16:48:13.565Z"
   },
   {
    "duration": 418,
    "start_time": "2022-10-29T16:48:15.663Z"
   },
   {
    "duration": 55,
    "start_time": "2022-10-29T16:48:53.217Z"
   },
   {
    "duration": 67,
    "start_time": "2022-10-29T16:49:12.851Z"
   },
   {
    "duration": 77,
    "start_time": "2022-10-29T16:49:59.416Z"
   },
   {
    "duration": 30,
    "start_time": "2022-10-29T16:50:18.977Z"
   },
   {
    "duration": 63,
    "start_time": "2022-10-29T16:50:21.404Z"
   },
   {
    "duration": 28,
    "start_time": "2022-10-29T16:50:30.232Z"
   },
   {
    "duration": 77,
    "start_time": "2022-10-29T16:50:32.369Z"
   },
   {
    "duration": 61,
    "start_time": "2022-10-29T16:58:10.149Z"
   },
   {
    "duration": 3,
    "start_time": "2022-10-29T16:58:18.408Z"
   },
   {
    "duration": 1024,
    "start_time": "2022-10-29T16:58:18.418Z"
   },
   {
    "duration": 609,
    "start_time": "2022-10-29T16:58:19.444Z"
   },
   {
    "duration": 129,
    "start_time": "2022-10-29T16:58:20.054Z"
   },
   {
    "duration": 276,
    "start_time": "2022-10-29T16:58:20.186Z"
   },
   {
    "duration": 36,
    "start_time": "2022-10-29T16:58:20.464Z"
   },
   {
    "duration": 212,
    "start_time": "2022-10-29T16:58:20.501Z"
   },
   {
    "duration": 23,
    "start_time": "2022-10-29T16:58:20.721Z"
   },
   {
    "duration": 89,
    "start_time": "2022-10-29T16:58:20.746Z"
   },
   {
    "duration": 80,
    "start_time": "2022-10-29T16:58:20.838Z"
   },
   {
    "duration": 25,
    "start_time": "2022-10-29T16:58:20.921Z"
   },
   {
    "duration": 171,
    "start_time": "2022-10-29T16:58:20.947Z"
   },
   {
    "duration": 171,
    "start_time": "2022-10-29T16:58:31.543Z"
   },
   {
    "duration": 118,
    "start_time": "2022-10-29T16:58:34.734Z"
   },
   {
    "duration": 116,
    "start_time": "2022-10-29T16:58:37.223Z"
   },
   {
    "duration": 139,
    "start_time": "2022-10-29T17:00:13.767Z"
   },
   {
    "duration": 758,
    "start_time": "2022-10-29T17:00:16.907Z"
   },
   {
    "duration": 320,
    "start_time": "2022-10-29T17:02:29.638Z"
   },
   {
    "duration": 323,
    "start_time": "2022-10-29T17:05:38.628Z"
   },
   {
    "duration": 22,
    "start_time": "2022-10-29T17:06:41.440Z"
   },
   {
    "duration": 13,
    "start_time": "2022-10-29T17:07:10.506Z"
   },
   {
    "duration": 4,
    "start_time": "2022-10-29T17:07:57.594Z"
   },
   {
    "duration": 871,
    "start_time": "2022-10-29T17:07:57.603Z"
   },
   {
    "duration": 657,
    "start_time": "2022-10-29T17:07:58.476Z"
   },
   {
    "duration": 166,
    "start_time": "2022-10-29T17:07:59.136Z"
   },
   {
    "duration": 305,
    "start_time": "2022-10-29T17:07:59.304Z"
   },
   {
    "duration": 59,
    "start_time": "2022-10-29T17:07:59.610Z"
   },
   {
    "duration": 234,
    "start_time": "2022-10-29T17:07:59.671Z"
   },
   {
    "duration": 30,
    "start_time": "2022-10-29T17:07:59.907Z"
   },
   {
    "duration": 102,
    "start_time": "2022-10-29T17:07:59.939Z"
   },
   {
    "duration": 103,
    "start_time": "2022-10-29T17:08:00.042Z"
   },
   {
    "duration": 23,
    "start_time": "2022-10-29T17:08:00.148Z"
   },
   {
    "duration": 171,
    "start_time": "2022-10-29T17:08:00.172Z"
   },
   {
    "duration": 127,
    "start_time": "2022-10-29T17:08:00.344Z"
   },
   {
    "duration": 113,
    "start_time": "2022-10-29T17:08:00.472Z"
   },
   {
    "duration": 154,
    "start_time": "2022-10-29T17:08:00.586Z"
   },
   {
    "duration": 798,
    "start_time": "2022-10-29T17:08:00.742Z"
   },
   {
    "duration": 24,
    "start_time": "2022-10-29T17:08:59.411Z"
   },
   {
    "duration": 5,
    "start_time": "2022-10-29T17:09:05.068Z"
   },
   {
    "duration": 893,
    "start_time": "2022-10-29T17:09:05.089Z"
   },
   {
    "duration": 623,
    "start_time": "2022-10-29T17:09:05.984Z"
   },
   {
    "duration": 130,
    "start_time": "2022-10-29T17:09:06.608Z"
   },
   {
    "duration": 272,
    "start_time": "2022-10-29T17:09:06.740Z"
   },
   {
    "duration": 54,
    "start_time": "2022-10-29T17:09:07.013Z"
   },
   {
    "duration": 248,
    "start_time": "2022-10-29T17:09:07.068Z"
   },
   {
    "duration": 15,
    "start_time": "2022-10-29T17:09:07.332Z"
   },
   {
    "duration": 99,
    "start_time": "2022-10-29T17:09:07.349Z"
   },
   {
    "duration": 110,
    "start_time": "2022-10-29T17:09:07.449Z"
   },
   {
    "duration": 24,
    "start_time": "2022-10-29T17:09:09.985Z"
   },
   {
    "duration": 173,
    "start_time": "2022-10-29T17:09:11.572Z"
   },
   {
    "duration": 121,
    "start_time": "2022-10-29T17:09:13.938Z"
   },
   {
    "duration": 107,
    "start_time": "2022-10-29T17:09:16.239Z"
   },
   {
    "duration": 130,
    "start_time": "2022-10-29T17:09:20.037Z"
   },
   {
    "duration": 784,
    "start_time": "2022-10-29T17:09:22.001Z"
   },
   {
    "duration": 14,
    "start_time": "2022-10-29T17:09:26.445Z"
   },
   {
    "duration": 19,
    "start_time": "2022-10-29T17:14:02.610Z"
   },
   {
    "duration": 3,
    "start_time": "2022-10-29T17:14:09.399Z"
   },
   {
    "duration": 1005,
    "start_time": "2022-10-29T17:14:09.410Z"
   },
   {
    "duration": 700,
    "start_time": "2022-10-29T17:14:10.417Z"
   },
   {
    "duration": 148,
    "start_time": "2022-10-29T17:14:11.119Z"
   },
   {
    "duration": 303,
    "start_time": "2022-10-29T17:14:11.269Z"
   },
   {
    "duration": 66,
    "start_time": "2022-10-29T17:14:11.574Z"
   },
   {
    "duration": 270,
    "start_time": "2022-10-29T17:14:11.642Z"
   },
   {
    "duration": 25,
    "start_time": "2022-10-29T17:14:11.913Z"
   },
   {
    "duration": 108,
    "start_time": "2022-10-29T17:14:11.940Z"
   },
   {
    "duration": 112,
    "start_time": "2022-10-29T17:14:12.050Z"
   },
   {
    "duration": 26,
    "start_time": "2022-10-29T17:14:12.164Z"
   },
   {
    "duration": 198,
    "start_time": "2022-10-29T17:14:12.191Z"
   },
   {
    "duration": 163,
    "start_time": "2022-10-29T17:14:12.390Z"
   },
   {
    "duration": 142,
    "start_time": "2022-10-29T17:14:12.555Z"
   },
   {
    "duration": 180,
    "start_time": "2022-10-29T17:14:12.699Z"
   },
   {
    "duration": 76,
    "start_time": "2022-10-29T17:14:22.755Z"
   },
   {
    "duration": 53,
    "start_time": "2022-10-29T17:17:53.000Z"
   },
   {
    "duration": 1149,
    "start_time": "2022-10-29T17:18:03.342Z"
   },
   {
    "duration": 14,
    "start_time": "2022-10-29T17:18:14.237Z"
   },
   {
    "duration": 810,
    "start_time": "2022-10-29T17:18:17.448Z"
   },
   {
    "duration": 3504,
    "start_time": "2022-10-29T17:18:22.482Z"
   },
   {
    "duration": 43,
    "start_time": "2022-10-29T17:20:43.056Z"
   },
   {
    "duration": 99,
    "start_time": "2022-10-29T17:20:44.791Z"
   },
   {
    "duration": 40,
    "start_time": "2022-10-29T17:20:56.595Z"
   },
   {
    "duration": 42,
    "start_time": "2022-10-29T17:22:49.341Z"
   },
   {
    "duration": 105,
    "start_time": "2022-10-29T17:22:51.411Z"
   },
   {
    "duration": 187,
    "start_time": "2022-10-29T17:24:48.449Z"
   },
   {
    "duration": 25,
    "start_time": "2022-10-29T17:28:59.536Z"
   },
   {
    "duration": 1427,
    "start_time": "2022-10-29T17:29:31.793Z"
   },
   {
    "duration": 4,
    "start_time": "2022-10-29T17:29:39.849Z"
   },
   {
    "duration": 830,
    "start_time": "2022-10-29T17:29:39.857Z"
   },
   {
    "duration": 613,
    "start_time": "2022-10-29T17:29:40.689Z"
   },
   {
    "duration": 134,
    "start_time": "2022-10-29T17:29:41.304Z"
   },
   {
    "duration": 197,
    "start_time": "2022-10-29T17:29:41.441Z"
   },
   {
    "duration": 48,
    "start_time": "2022-10-29T17:29:41.640Z"
   },
   {
    "duration": 248,
    "start_time": "2022-10-29T17:29:41.691Z"
   },
   {
    "duration": 14,
    "start_time": "2022-10-29T17:29:41.940Z"
   },
   {
    "duration": 107,
    "start_time": "2022-10-29T17:29:41.955Z"
   },
   {
    "duration": 1845,
    "start_time": "2022-10-29T17:29:58.853Z"
   },
   {
    "duration": 34,
    "start_time": "2022-10-29T17:30:03.606Z"
   },
   {
    "duration": 179,
    "start_time": "2022-10-29T17:30:05.294Z"
   },
   {
    "duration": 128,
    "start_time": "2022-10-29T17:30:07.651Z"
   },
   {
    "duration": 117,
    "start_time": "2022-10-29T17:30:09.759Z"
   },
   {
    "duration": 157,
    "start_time": "2022-10-29T17:30:18.438Z"
   },
   {
    "duration": 92,
    "start_time": "2022-10-29T17:30:21.315Z"
   },
   {
    "duration": 1584,
    "start_time": "2022-10-29T17:30:55.133Z"
   },
   {
    "duration": 26,
    "start_time": "2022-10-29T17:31:00.466Z"
   },
   {
    "duration": 225,
    "start_time": "2022-10-29T17:31:06.970Z"
   },
   {
    "duration": 151,
    "start_time": "2022-10-29T17:31:09.149Z"
   },
   {
    "duration": 122,
    "start_time": "2022-10-29T17:31:11.349Z"
   },
   {
    "duration": 160,
    "start_time": "2022-10-29T17:31:14.077Z"
   },
   {
    "duration": 109,
    "start_time": "2022-10-29T17:31:17.066Z"
   },
   {
    "duration": 1298,
    "start_time": "2022-10-29T17:31:31.640Z"
   },
   {
    "duration": 368,
    "start_time": "2022-10-29T17:31:42.837Z"
   },
   {
    "duration": 427,
    "start_time": "2022-10-29T17:33:23.804Z"
   },
   {
    "duration": 28,
    "start_time": "2022-10-29T17:33:45.211Z"
   },
   {
    "duration": 3,
    "start_time": "2022-10-29T17:34:00.771Z"
   },
   {
    "duration": 984,
    "start_time": "2022-10-29T17:34:00.782Z"
   },
   {
    "duration": 655,
    "start_time": "2022-10-29T17:34:01.768Z"
   },
   {
    "duration": 164,
    "start_time": "2022-10-29T17:34:02.425Z"
   },
   {
    "duration": 207,
    "start_time": "2022-10-29T17:34:02.592Z"
   },
   {
    "duration": 53,
    "start_time": "2022-10-29T17:34:02.801Z"
   },
   {
    "duration": 285,
    "start_time": "2022-10-29T17:34:02.856Z"
   },
   {
    "duration": 15,
    "start_time": "2022-10-29T17:34:03.143Z"
   },
   {
    "duration": 112,
    "start_time": "2022-10-29T17:34:03.160Z"
   },
   {
    "duration": 1719,
    "start_time": "2022-10-29T17:34:03.274Z"
   },
   {
    "duration": 42,
    "start_time": "2022-10-29T17:34:04.995Z"
   },
   {
    "duration": 198,
    "start_time": "2022-10-29T17:34:05.041Z"
   },
   {
    "duration": 130,
    "start_time": "2022-10-29T17:34:05.241Z"
   },
   {
    "duration": 123,
    "start_time": "2022-10-29T17:34:05.373Z"
   },
   {
    "duration": 172,
    "start_time": "2022-10-29T17:34:05.497Z"
   },
   {
    "duration": 1369,
    "start_time": "2022-10-29T17:34:05.671Z"
   },
   {
    "duration": 33,
    "start_time": "2022-10-29T17:34:18.498Z"
   },
   {
    "duration": 22,
    "start_time": "2022-10-29T17:34:49.867Z"
   },
   {
    "duration": 104,
    "start_time": "2022-10-29T17:34:52.377Z"
   },
   {
    "duration": 4,
    "start_time": "2022-10-29T17:35:01.899Z"
   },
   {
    "duration": 967,
    "start_time": "2022-10-29T17:35:01.910Z"
   },
   {
    "duration": 668,
    "start_time": "2022-10-29T17:35:02.879Z"
   },
   {
    "duration": 153,
    "start_time": "2022-10-29T17:35:03.550Z"
   },
   {
    "duration": 236,
    "start_time": "2022-10-29T17:35:03.706Z"
   },
   {
    "duration": 41,
    "start_time": "2022-10-29T17:35:03.944Z"
   },
   {
    "duration": 258,
    "start_time": "2022-10-29T17:35:03.987Z"
   },
   {
    "duration": 14,
    "start_time": "2022-10-29T17:35:04.247Z"
   },
   {
    "duration": 95,
    "start_time": "2022-10-29T17:35:04.263Z"
   },
   {
    "duration": 1795,
    "start_time": "2022-10-29T17:35:04.361Z"
   },
   {
    "duration": 29,
    "start_time": "2022-10-29T17:35:06.158Z"
   },
   {
    "duration": 205,
    "start_time": "2022-10-29T17:35:06.188Z"
   },
   {
    "duration": 181,
    "start_time": "2022-10-29T17:35:06.394Z"
   },
   {
    "duration": 122,
    "start_time": "2022-10-29T17:35:06.577Z"
   },
   {
    "duration": 193,
    "start_time": "2022-10-29T17:35:18.767Z"
   },
   {
    "duration": 1315,
    "start_time": "2022-10-29T17:35:21.066Z"
   },
   {
    "duration": 28,
    "start_time": "2022-10-29T17:35:25.786Z"
   },
   {
    "duration": 18,
    "start_time": "2022-10-29T17:35:54.848Z"
   },
   {
    "duration": 32,
    "start_time": "2022-10-29T17:36:58.320Z"
   },
   {
    "duration": 3,
    "start_time": "2022-10-29T17:38:45.291Z"
   },
   {
    "duration": 855,
    "start_time": "2022-10-29T17:38:53.804Z"
   },
   {
    "duration": 581,
    "start_time": "2022-10-29T17:38:58.202Z"
   },
   {
    "duration": 127,
    "start_time": "2022-10-29T17:39:03.448Z"
   },
   {
    "duration": 229,
    "start_time": "2022-10-29T17:39:07.008Z"
   },
   {
    "duration": 39,
    "start_time": "2022-10-29T17:39:20.210Z"
   },
   {
    "duration": 229,
    "start_time": "2022-10-29T17:39:30.673Z"
   },
   {
    "duration": 14,
    "start_time": "2022-10-29T17:39:34.669Z"
   },
   {
    "duration": 83,
    "start_time": "2022-10-29T17:39:38.090Z"
   },
   {
    "duration": 1706,
    "start_time": "2022-10-29T17:39:40.965Z"
   },
   {
    "duration": 60,
    "start_time": "2022-10-29T17:40:10.267Z"
   },
   {
    "duration": 1602,
    "start_time": "2022-10-29T17:40:19.086Z"
   },
   {
    "duration": 33,
    "start_time": "2022-10-29T17:40:22.909Z"
   },
   {
    "duration": 137,
    "start_time": "2022-10-29T17:40:54.241Z"
   },
   {
    "duration": 104,
    "start_time": "2022-10-29T17:42:28.286Z"
   },
   {
    "duration": 1642,
    "start_time": "2022-10-29T17:43:22.834Z"
   },
   {
    "duration": 110,
    "start_time": "2022-10-29T17:43:28.457Z"
   },
   {
    "duration": 4,
    "start_time": "2022-10-29T17:43:54.210Z"
   },
   {
    "duration": 890,
    "start_time": "2022-10-29T17:43:54.217Z"
   },
   {
    "duration": 688,
    "start_time": "2022-10-29T17:43:55.109Z"
   },
   {
    "duration": 137,
    "start_time": "2022-10-29T17:43:55.799Z"
   },
   {
    "duration": 170,
    "start_time": "2022-10-29T17:43:55.939Z"
   },
   {
    "duration": 146,
    "start_time": "2022-10-29T17:43:56.112Z"
   },
   {
    "duration": 232,
    "start_time": "2022-10-29T17:43:56.260Z"
   },
   {
    "duration": 14,
    "start_time": "2022-10-29T17:43:56.494Z"
   },
   {
    "duration": 122,
    "start_time": "2022-10-29T17:44:11.497Z"
   },
   {
    "duration": 82,
    "start_time": "2022-10-29T17:44:15.573Z"
   },
   {
    "duration": 109,
    "start_time": "2022-10-29T17:44:17.697Z"
   },
   {
    "duration": 119,
    "start_time": "2022-10-29T17:44:49.507Z"
   },
   {
    "duration": 1796,
    "start_time": "2022-10-29T17:45:38.244Z"
   },
   {
    "duration": 128,
    "start_time": "2022-10-29T17:45:42.122Z"
   },
   {
    "duration": 111,
    "start_time": "2022-10-29T17:46:18.146Z"
   },
   {
    "duration": 27,
    "start_time": "2022-10-29T17:46:21.640Z"
   },
   {
    "duration": 182,
    "start_time": "2022-10-29T17:46:24.438Z"
   },
   {
    "duration": 132,
    "start_time": "2022-10-29T17:46:26.837Z"
   },
   {
    "duration": 157,
    "start_time": "2022-10-29T17:46:29.284Z"
   },
   {
    "duration": 109,
    "start_time": "2022-10-29T17:46:34.695Z"
   },
   {
    "duration": 148,
    "start_time": "2022-10-29T17:46:37.238Z"
   },
   {
    "duration": 151,
    "start_time": "2022-10-29T17:46:43.243Z"
   },
   {
    "duration": 1284,
    "start_time": "2022-10-29T17:46:45.423Z"
   },
   {
    "duration": 3850,
    "start_time": "2022-10-29T17:46:52.666Z"
   },
   {
    "duration": 25,
    "start_time": "2022-10-29T17:47:05.948Z"
   },
   {
    "duration": 183,
    "start_time": "2022-10-29T17:51:19.715Z"
   },
   {
    "duration": 1466,
    "start_time": "2022-10-29T17:51:30.201Z"
   },
   {
    "duration": 3,
    "start_time": "2022-10-29T17:54:17.000Z"
   },
   {
    "duration": 4,
    "start_time": "2022-10-29T17:54:51.243Z"
   },
   {
    "duration": 878,
    "start_time": "2022-10-29T17:54:51.266Z"
   },
   {
    "duration": 575,
    "start_time": "2022-10-29T17:54:52.146Z"
   },
   {
    "duration": 126,
    "start_time": "2022-10-29T17:54:52.722Z"
   },
   {
    "duration": 183,
    "start_time": "2022-10-29T17:54:52.851Z"
   },
   {
    "duration": 41,
    "start_time": "2022-10-29T17:54:53.035Z"
   },
   {
    "duration": 250,
    "start_time": "2022-10-29T17:54:53.077Z"
   },
   {
    "duration": 19,
    "start_time": "2022-10-29T17:54:53.328Z"
   },
   {
    "duration": 112,
    "start_time": "2022-10-29T17:54:53.349Z"
   },
   {
    "duration": 89,
    "start_time": "2022-10-29T17:54:53.462Z"
   },
   {
    "duration": 117,
    "start_time": "2022-10-29T17:54:53.553Z"
   },
   {
    "duration": 1617,
    "start_time": "2022-10-29T17:54:53.671Z"
   },
   {
    "duration": 108,
    "start_time": "2022-10-29T17:54:55.289Z"
   },
   {
    "duration": 49,
    "start_time": "2022-10-29T17:54:55.399Z"
   },
   {
    "duration": 191,
    "start_time": "2022-10-29T17:54:55.450Z"
   },
   {
    "duration": 3,
    "start_time": "2022-10-29T17:54:57.806Z"
   },
   {
    "duration": 126,
    "start_time": "2022-10-29T17:54:59.662Z"
   },
   {
    "duration": 112,
    "start_time": "2022-10-29T17:57:11.044Z"
   },
   {
    "duration": 161,
    "start_time": "2022-10-29T17:57:12.986Z"
   },
   {
    "duration": 149,
    "start_time": "2022-10-29T17:57:22.690Z"
   },
   {
    "duration": 1331,
    "start_time": "2022-10-29T17:57:24.790Z"
   },
   {
    "duration": 42,
    "start_time": "2022-10-29T17:59:31.463Z"
   },
   {
    "duration": 6,
    "start_time": "2022-10-29T17:59:39.064Z"
   },
   {
    "duration": 1018,
    "start_time": "2022-10-29T17:59:39.088Z"
   },
   {
    "duration": 599,
    "start_time": "2022-10-29T17:59:40.108Z"
   },
   {
    "duration": 128,
    "start_time": "2022-10-29T17:59:40.709Z"
   },
   {
    "duration": 187,
    "start_time": "2022-10-29T17:59:40.840Z"
   },
   {
    "duration": 3,
    "start_time": "2022-10-29T17:59:50.388Z"
   },
   {
    "duration": 865,
    "start_time": "2022-10-29T17:59:50.407Z"
   },
   {
    "duration": 641,
    "start_time": "2022-10-29T17:59:51.274Z"
   },
   {
    "duration": 134,
    "start_time": "2022-10-29T17:59:51.916Z"
   },
   {
    "duration": 185,
    "start_time": "2022-10-29T17:59:52.052Z"
   },
   {
    "duration": 35,
    "start_time": "2022-10-29T17:59:52.239Z"
   },
   {
    "duration": 5,
    "start_time": "2022-10-29T17:59:55.301Z"
   },
   {
    "duration": 14,
    "start_time": "2022-10-29T17:59:57.760Z"
   },
   {
    "duration": 221,
    "start_time": "2022-10-29T18:00:22.954Z"
   },
   {
    "duration": 1665,
    "start_time": "2022-10-29T18:00:31.712Z"
   },
   {
    "duration": 112,
    "start_time": "2022-10-29T18:00:34.715Z"
   },
   {
    "duration": 52,
    "start_time": "2022-10-29T18:10:02.498Z"
   },
   {
    "duration": 15,
    "start_time": "2022-10-29T18:10:05.043Z"
   },
   {
    "duration": 4,
    "start_time": "2022-10-29T18:10:10.201Z"
   },
   {
    "duration": 859,
    "start_time": "2022-10-29T18:10:10.222Z"
   },
   {
    "duration": 600,
    "start_time": "2022-10-29T18:10:11.084Z"
   },
   {
    "duration": 130,
    "start_time": "2022-10-29T18:10:11.686Z"
   },
   {
    "duration": 179,
    "start_time": "2022-10-29T18:10:11.828Z"
   },
   {
    "duration": 43,
    "start_time": "2022-10-29T18:10:12.009Z"
   },
   {
    "duration": 13,
    "start_time": "2022-10-29T18:10:12.055Z"
   },
   {
    "duration": 92,
    "start_time": "2022-10-29T18:10:31.988Z"
   },
   {
    "duration": 32,
    "start_time": "2022-10-29T18:11:10.676Z"
   },
   {
    "duration": 88,
    "start_time": "2022-10-29T18:11:12.472Z"
   },
   {
    "duration": 1656,
    "start_time": "2022-10-29T18:11:15.089Z"
   },
   {
    "duration": 85,
    "start_time": "2022-10-29T18:11:18.647Z"
   },
   {
    "duration": 21,
    "start_time": "2022-10-29T18:11:21.896Z"
   },
   {
    "duration": 126,
    "start_time": "2022-10-29T18:11:23.843Z"
   },
   {
    "duration": 3,
    "start_time": "2022-10-29T18:11:32.204Z"
   },
   {
    "duration": 5,
    "start_time": "2022-10-29T18:11:39.723Z"
   },
   {
    "duration": 65,
    "start_time": "2022-10-29T18:11:41.384Z"
   },
   {
    "duration": 108,
    "start_time": "2022-10-29T18:11:43.501Z"
   },
   {
    "duration": 761,
    "start_time": "2022-10-29T18:11:45.451Z"
   },
   {
    "duration": 919,
    "start_time": "2022-10-29T18:11:54.643Z"
   },
   {
    "duration": 3396,
    "start_time": "2022-10-29T18:12:02.152Z"
   },
   {
    "duration": 145,
    "start_time": "2022-10-29T18:12:10.701Z"
   },
   {
    "duration": 1368,
    "start_time": "2022-10-29T18:12:23.245Z"
   },
   {
    "duration": 4,
    "start_time": "2022-10-29T18:12:57.502Z"
   },
   {
    "duration": 867,
    "start_time": "2022-10-29T18:12:57.520Z"
   },
   {
    "duration": 655,
    "start_time": "2022-10-29T18:12:58.389Z"
   },
   {
    "duration": 170,
    "start_time": "2022-10-29T18:12:59.047Z"
   },
   {
    "duration": 191,
    "start_time": "2022-10-29T18:12:59.221Z"
   },
   {
    "duration": 53,
    "start_time": "2022-10-29T18:12:59.414Z"
   },
   {
    "duration": 15,
    "start_time": "2022-10-29T18:12:59.469Z"
   },
   {
    "duration": 96,
    "start_time": "2022-10-29T18:12:59.485Z"
   },
   {
    "duration": 48,
    "start_time": "2022-10-29T18:12:59.583Z"
   },
   {
    "duration": 80,
    "start_time": "2022-10-29T18:12:59.632Z"
   },
   {
    "duration": 1617,
    "start_time": "2022-10-29T18:12:59.723Z"
   },
   {
    "duration": 93,
    "start_time": "2022-10-29T18:13:01.342Z"
   },
   {
    "duration": 19,
    "start_time": "2022-10-29T18:13:01.437Z"
   },
   {
    "duration": 126,
    "start_time": "2022-10-29T18:13:01.457Z"
   },
   {
    "duration": 3,
    "start_time": "2022-10-29T18:13:01.586Z"
   },
   {
    "duration": 92,
    "start_time": "2022-10-29T18:13:01.590Z"
   },
   {
    "duration": 71,
    "start_time": "2022-10-29T18:14:23.021Z"
   },
   {
    "duration": 780,
    "start_time": "2022-10-29T18:14:37.639Z"
   },
   {
    "duration": 65,
    "start_time": "2022-10-29T18:15:14.391Z"
   },
   {
    "duration": 1575,
    "start_time": "2022-10-29T18:16:30.616Z"
   },
   {
    "duration": 79,
    "start_time": "2022-10-29T18:16:34.050Z"
   },
   {
    "duration": 16,
    "start_time": "2022-10-29T18:16:37.274Z"
   },
   {
    "duration": 134,
    "start_time": "2022-10-29T18:16:38.895Z"
   },
   {
    "duration": 4,
    "start_time": "2022-10-29T18:16:42.038Z"
   },
   {
    "duration": 67,
    "start_time": "2022-10-29T18:16:43.708Z"
   },
   {
    "duration": 105,
    "start_time": "2022-10-29T18:16:45.469Z"
   },
   {
    "duration": 869,
    "start_time": "2022-10-29T18:16:47.343Z"
   },
   {
    "duration": 14,
    "start_time": "2022-10-29T18:16:51.206Z"
   },
   {
    "duration": 3281,
    "start_time": "2022-10-29T18:16:53.376Z"
   },
   {
    "duration": 139,
    "start_time": "2022-10-29T18:17:28.311Z"
   },
   {
    "duration": 1347,
    "start_time": "2022-10-29T18:17:30.941Z"
   },
   {
    "duration": 31,
    "start_time": "2022-10-29T18:18:51.510Z"
   },
   {
    "duration": 4,
    "start_time": "2022-10-29T18:20:42.141Z"
   },
   {
    "duration": 888,
    "start_time": "2022-10-29T18:20:42.148Z"
   },
   {
    "duration": 600,
    "start_time": "2022-10-29T18:20:43.038Z"
   },
   {
    "duration": 122,
    "start_time": "2022-10-29T18:20:43.641Z"
   },
   {
    "duration": 188,
    "start_time": "2022-10-29T18:20:43.766Z"
   },
   {
    "duration": 34,
    "start_time": "2022-10-29T18:20:43.956Z"
   },
   {
    "duration": 45,
    "start_time": "2022-10-29T18:20:43.992Z"
   },
   {
    "duration": 77,
    "start_time": "2022-10-29T18:20:44.039Z"
   },
   {
    "duration": 51,
    "start_time": "2022-10-29T18:20:44.118Z"
   },
   {
    "duration": 84,
    "start_time": "2022-10-29T18:20:44.171Z"
   },
   {
    "duration": 1600,
    "start_time": "2022-10-29T18:20:44.257Z"
   },
   {
    "duration": 87,
    "start_time": "2022-10-29T18:20:45.859Z"
   },
   {
    "duration": 16,
    "start_time": "2022-10-29T18:20:45.948Z"
   },
   {
    "duration": 126,
    "start_time": "2022-10-29T18:20:45.966Z"
   },
   {
    "duration": 9,
    "start_time": "2022-10-29T18:20:46.094Z"
   },
   {
    "duration": 80,
    "start_time": "2022-10-29T18:20:46.105Z"
   },
   {
    "duration": 112,
    "start_time": "2022-10-29T18:20:46.186Z"
   },
   {
    "duration": 869,
    "start_time": "2022-10-29T18:20:46.300Z"
   },
   {
    "duration": 14,
    "start_time": "2022-10-29T18:20:47.172Z"
   },
   {
    "duration": 3461,
    "start_time": "2022-10-29T18:20:47.187Z"
   },
   {
    "duration": 140,
    "start_time": "2022-10-29T18:20:50.650Z"
   },
   {
    "duration": 87,
    "start_time": "2022-10-29T18:20:57.048Z"
   },
   {
    "duration": 110940,
    "start_time": "2022-10-29T18:21:05.853Z"
   },
   {
    "duration": 144,
    "start_time": "2022-10-29T18:23:05.469Z"
   },
   {
    "duration": 117266,
    "start_time": "2022-10-29T18:23:09.080Z"
   },
   {
    "duration": 123,
    "start_time": "2022-10-29T18:27:00.638Z"
   },
   {
    "duration": 260,
    "start_time": "2022-10-29T18:27:34.256Z"
   },
   {
    "duration": 174189,
    "start_time": "2022-10-29T18:27:36.808Z"
   },
   {
    "duration": 4,
    "start_time": "2022-10-29T18:36:45.514Z"
   },
   {
    "duration": 878,
    "start_time": "2022-10-29T18:36:48.113Z"
   },
   {
    "duration": 1775,
    "start_time": "2022-10-29T18:38:35.595Z"
   },
   {
    "duration": 21,
    "start_time": "2022-10-29T18:38:41.488Z"
   },
   {
    "duration": 21,
    "start_time": "2022-10-29T18:39:28.788Z"
   },
   {
    "duration": 20,
    "start_time": "2022-10-29T18:39:34.999Z"
   },
   {
    "duration": 2395,
    "start_time": "2022-10-29T18:41:47.015Z"
   },
   {
    "duration": 2277,
    "start_time": "2022-10-29T18:44:51.562Z"
   },
   {
    "duration": 45,
    "start_time": "2022-10-29T18:45:38.537Z"
   },
   {
    "duration": 2407,
    "start_time": "2022-10-29T18:45:48.037Z"
   },
   {
    "duration": 55,
    "start_time": "2022-10-29T18:46:02.438Z"
   },
   {
    "duration": 2205,
    "start_time": "2022-10-29T18:46:25.012Z"
   },
   {
    "duration": 55,
    "start_time": "2022-10-29T18:46:29.638Z"
   },
   {
    "duration": 16,
    "start_time": "2022-10-29T18:46:32.252Z"
   },
   {
    "duration": 139,
    "start_time": "2022-10-29T18:46:34.286Z"
   },
   {
    "duration": 54,
    "start_time": "2022-10-29T18:46:37.521Z"
   },
   {
    "duration": 44,
    "start_time": "2022-10-29T18:47:32.214Z"
   },
   {
    "duration": 22,
    "start_time": "2022-10-29T18:47:35.933Z"
   },
   {
    "duration": 60,
    "start_time": "2022-10-29T18:47:39.678Z"
   },
   {
    "duration": 24,
    "start_time": "2022-10-29T18:47:42.412Z"
   },
   {
    "duration": 126,
    "start_time": "2022-10-29T18:47:45.790Z"
   },
   {
    "duration": 2168,
    "start_time": "2022-10-29T18:48:12.037Z"
   },
   {
    "duration": 2300,
    "start_time": "2022-10-29T18:48:19.342Z"
   },
   {
    "duration": 129,
    "start_time": "2022-10-29T18:48:26.841Z"
   },
   {
    "duration": 2891,
    "start_time": "2022-10-29T18:49:29.631Z"
   },
   {
    "duration": 144,
    "start_time": "2022-10-29T18:49:41.514Z"
   },
   {
    "duration": 2281,
    "start_time": "2022-10-29T18:50:41.436Z"
   },
   {
    "duration": 139,
    "start_time": "2022-10-29T18:50:47.404Z"
   },
   {
    "duration": 2129,
    "start_time": "2022-10-29T18:52:30.369Z"
   },
   {
    "duration": 178,
    "start_time": "2022-10-29T18:52:48.860Z"
   },
   {
    "duration": 4,
    "start_time": "2022-10-29T18:53:14.094Z"
   },
   {
    "duration": 891,
    "start_time": "2022-10-29T18:53:14.207Z"
   },
   {
    "duration": 696,
    "start_time": "2022-10-29T18:53:15.100Z"
   },
   {
    "duration": 144,
    "start_time": "2022-10-29T18:53:15.797Z"
   },
   {
    "duration": 36,
    "start_time": "2022-10-29T18:53:15.943Z"
   },
   {
    "duration": 1862,
    "start_time": "2022-10-29T18:53:39.877Z"
   },
   {
    "duration": 2303,
    "start_time": "2022-10-29T18:53:56.163Z"
   },
   {
    "duration": 79,
    "start_time": "2022-10-29T18:54:01.306Z"
   },
   {
    "duration": 2474,
    "start_time": "2022-10-29T18:54:32.393Z"
   },
   {
    "duration": 75,
    "start_time": "2022-10-29T18:54:47.160Z"
   },
   {
    "duration": 5,
    "start_time": "2022-10-29T18:54:57.858Z"
   },
   {
    "duration": 847,
    "start_time": "2022-10-29T18:54:57.921Z"
   },
   {
    "duration": 826,
    "start_time": "2022-10-29T18:54:58.770Z"
   },
   {
    "duration": 139,
    "start_time": "2022-10-29T18:54:59.597Z"
   },
   {
    "duration": 36,
    "start_time": "2022-10-29T18:54:59.737Z"
   },
   {
    "duration": 29,
    "start_time": "2022-10-29T18:55:02.054Z"
   },
   {
    "duration": 2958,
    "start_time": "2022-10-29T18:55:03.922Z"
   },
   {
    "duration": 93,
    "start_time": "2022-10-29T18:55:09.896Z"
   },
   {
    "duration": 2838,
    "start_time": "2022-10-29T18:57:23.302Z"
   },
   {
    "duration": 92,
    "start_time": "2022-10-29T18:57:28.667Z"
   },
   {
    "duration": 2216,
    "start_time": "2022-10-29T18:58:25.189Z"
   },
   {
    "duration": 2106,
    "start_time": "2022-10-29T18:58:44.321Z"
   },
   {
    "duration": 3,
    "start_time": "2022-10-29T18:58:49.948Z"
   },
   {
    "duration": 883,
    "start_time": "2022-10-29T18:58:49.988Z"
   },
   {
    "duration": 599,
    "start_time": "2022-10-29T18:58:50.873Z"
   },
   {
    "duration": 126,
    "start_time": "2022-10-29T18:58:51.474Z"
   },
   {
    "duration": 48,
    "start_time": "2022-10-29T18:58:51.602Z"
   },
   {
    "duration": 20,
    "start_time": "2022-10-29T18:58:51.652Z"
   },
   {
    "duration": 2119,
    "start_time": "2022-10-29T18:58:55.578Z"
   },
   {
    "duration": 94,
    "start_time": "2022-10-29T18:58:59.438Z"
   },
   {
    "duration": 39,
    "start_time": "2022-10-29T19:01:32.796Z"
   },
   {
    "duration": 2123,
    "start_time": "2022-10-29T19:02:55.987Z"
   },
   {
    "duration": 90,
    "start_time": "2022-10-29T19:03:02.003Z"
   },
   {
    "duration": 2291,
    "start_time": "2022-10-29T19:05:17.540Z"
   },
   {
    "duration": 22,
    "start_time": "2022-10-29T19:05:22.557Z"
   },
   {
    "duration": 2201,
    "start_time": "2022-10-29T19:05:24.837Z"
   },
   {
    "duration": 91,
    "start_time": "2022-10-29T19:05:28.737Z"
   },
   {
    "duration": 4,
    "start_time": "2022-10-29T19:05:37.438Z"
   },
   {
    "duration": 883,
    "start_time": "2022-10-29T19:05:37.481Z"
   },
   {
    "duration": 689,
    "start_time": "2022-10-29T19:05:38.366Z"
   },
   {
    "duration": 155,
    "start_time": "2022-10-29T19:05:39.057Z"
   },
   {
    "duration": 47,
    "start_time": "2022-10-29T19:05:39.215Z"
   },
   {
    "duration": 21,
    "start_time": "2022-10-29T19:05:39.263Z"
   },
   {
    "duration": 2223,
    "start_time": "2022-10-29T19:05:39.285Z"
   },
   {
    "duration": 88,
    "start_time": "2022-10-29T19:05:45.421Z"
   },
   {
    "duration": 2338,
    "start_time": "2022-10-29T19:05:57.193Z"
   },
   {
    "duration": 36,
    "start_time": "2022-10-29T19:06:09.758Z"
   },
   {
    "duration": 2288,
    "start_time": "2022-10-29T19:06:15.588Z"
   },
   {
    "duration": 92,
    "start_time": "2022-10-29T19:06:20.213Z"
   },
   {
    "duration": 2175,
    "start_time": "2022-10-29T19:06:43.838Z"
   },
   {
    "duration": 87,
    "start_time": "2022-10-29T19:06:48.379Z"
   },
   {
    "duration": 4,
    "start_time": "2022-10-29T19:07:23.715Z"
   },
   {
    "duration": 837,
    "start_time": "2022-10-29T19:07:23.760Z"
   },
   {
    "duration": 637,
    "start_time": "2022-10-29T19:07:24.599Z"
   },
   {
    "duration": 119,
    "start_time": "2022-10-29T19:07:25.237Z"
   },
   {
    "duration": 36,
    "start_time": "2022-10-29T19:07:25.358Z"
   },
   {
    "duration": 28,
    "start_time": "2022-10-29T19:07:25.395Z"
   },
   {
    "duration": 2215,
    "start_time": "2022-10-29T19:07:25.429Z"
   },
   {
    "duration": 2381,
    "start_time": "2022-10-29T19:07:27.645Z"
   },
   {
    "duration": 42,
    "start_time": "2022-10-29T19:07:30.031Z"
   },
   {
    "duration": 14,
    "start_time": "2022-10-29T19:07:30.074Z"
   },
   {
    "duration": 97,
    "start_time": "2022-10-29T19:07:30.090Z"
   },
   {
    "duration": 40,
    "start_time": "2022-10-29T19:07:30.188Z"
   },
   {
    "duration": 77,
    "start_time": "2022-10-29T19:07:30.234Z"
   },
   {
    "duration": 1570,
    "start_time": "2022-10-29T19:07:30.313Z"
   },
   {
    "duration": 84,
    "start_time": "2022-10-29T19:07:54.503Z"
   },
   {
    "duration": 1258,
    "start_time": "2022-10-29T19:09:11.469Z"
   },
   {
    "duration": 1079,
    "start_time": "2022-10-29T19:09:14.807Z"
   },
   {
    "duration": 755,
    "start_time": "2022-10-29T19:09:19.004Z"
   },
   {
    "duration": 129,
    "start_time": "2022-10-29T19:09:22.241Z"
   },
   {
    "duration": 44,
    "start_time": "2022-10-29T19:09:31.123Z"
   },
   {
    "duration": 29,
    "start_time": "2022-10-29T19:09:34.041Z"
   },
   {
    "duration": 2306,
    "start_time": "2022-10-29T19:09:36.384Z"
   },
   {
    "duration": 2285,
    "start_time": "2022-10-29T19:09:40.883Z"
   },
   {
    "duration": 47,
    "start_time": "2022-10-29T19:09:45.155Z"
   },
   {
    "duration": 16,
    "start_time": "2022-10-29T19:09:54.994Z"
   },
   {
    "duration": 39,
    "start_time": "2022-10-29T19:09:57.394Z"
   },
   {
    "duration": 76,
    "start_time": "2022-10-29T19:09:59.841Z"
   },
   {
    "duration": 21,
    "start_time": "2022-10-29T19:11:45.140Z"
   },
   {
    "duration": 127,
    "start_time": "2022-10-29T19:11:46.933Z"
   },
   {
    "duration": 8,
    "start_time": "2022-10-29T19:11:53.238Z"
   },
   {
    "duration": 2174,
    "start_time": "2022-10-29T19:11:59.140Z"
   },
   {
    "duration": 2186,
    "start_time": "2022-10-29T19:12:03.313Z"
   },
   {
    "duration": 39,
    "start_time": "2022-10-29T19:12:07.140Z"
   },
   {
    "duration": 15,
    "start_time": "2022-10-29T19:12:10.170Z"
   },
   {
    "duration": 35,
    "start_time": "2022-10-29T19:12:12.636Z"
   },
   {
    "duration": 86,
    "start_time": "2022-10-29T19:12:14.696Z"
   },
   {
    "duration": 2131,
    "start_time": "2022-10-29T19:15:11.875Z"
   },
   {
    "duration": 22,
    "start_time": "2022-10-29T19:15:21.528Z"
   },
   {
    "duration": 2173,
    "start_time": "2022-10-29T19:15:24.863Z"
   },
   {
    "duration": 2177,
    "start_time": "2022-10-29T19:15:28.737Z"
   },
   {
    "duration": 37,
    "start_time": "2022-10-29T19:15:33.404Z"
   },
   {
    "duration": 21,
    "start_time": "2022-10-29T19:15:36.214Z"
   },
   {
    "duration": 79,
    "start_time": "2022-10-29T19:15:39.120Z"
   },
   {
    "duration": 1587,
    "start_time": "2022-10-29T19:15:47.348Z"
   },
   {
    "duration": 92,
    "start_time": "2022-10-29T19:15:51.083Z"
   },
   {
    "duration": 14,
    "start_time": "2022-10-29T19:15:54.605Z"
   },
   {
    "duration": 133,
    "start_time": "2022-10-29T19:15:56.557Z"
   },
   {
    "duration": 35,
    "start_time": "2022-10-29T19:15:59.029Z"
   },
   {
    "duration": 28,
    "start_time": "2022-10-29T19:16:00.837Z"
   },
   {
    "duration": 143,
    "start_time": "2022-10-29T19:18:31.236Z"
   },
   {
    "duration": 17,
    "start_time": "2022-10-29T19:18:38.287Z"
   },
   {
    "duration": 119,
    "start_time": "2022-10-29T19:18:40.144Z"
   },
   {
    "duration": 14,
    "start_time": "2022-10-29T19:18:42.961Z"
   },
   {
    "duration": 68,
    "start_time": "2022-10-29T19:18:44.811Z"
   },
   {
    "duration": 110,
    "start_time": "2022-10-29T19:18:46.999Z"
   },
   {
    "duration": 876,
    "start_time": "2022-10-29T19:18:49.264Z"
   },
   {
    "duration": 18,
    "start_time": "2022-10-29T19:18:54.009Z"
   },
   {
    "duration": 3341,
    "start_time": "2022-10-29T19:18:59.714Z"
   },
   {
    "duration": 146,
    "start_time": "2022-10-29T19:19:10.171Z"
   },
   {
    "duration": 108327,
    "start_time": "2022-10-29T19:19:12.558Z"
   },
   {
    "duration": 253,
    "start_time": "2022-10-29T19:21:17.913Z"
   },
   {
    "duration": 115910,
    "start_time": "2022-10-29T19:21:21.183Z"
   },
   {
    "duration": 138,
    "start_time": "2022-10-29T19:24:33.833Z"
   },
   {
    "duration": 303,
    "start_time": "2022-10-29T19:24:40.701Z"
   },
   {
    "duration": 15,
    "start_time": "2022-10-29T19:25:03.543Z"
   },
   {
    "duration": 287708,
    "start_time": "2022-10-29T19:25:05.748Z"
   },
   {
    "duration": 8,
    "start_time": "2022-10-29T19:29:53.458Z"
   },
   {
    "duration": 5,
    "start_time": "2022-10-29T19:30:06.180Z"
   },
   {
    "duration": 10,
    "start_time": "2022-10-29T19:30:21.744Z"
   },
   {
    "duration": 10,
    "start_time": "2022-10-29T19:30:39.725Z"
   },
   {
    "duration": 432,
    "start_time": "2022-10-29T19:30:53.953Z"
   },
   {
    "duration": 11,
    "start_time": "2022-10-29T19:31:01.669Z"
   },
   {
    "duration": 11,
    "start_time": "2022-10-29T19:31:10.261Z"
   },
   {
    "duration": 16,
    "start_time": "2022-10-29T19:31:16.262Z"
   },
   {
    "duration": 147077,
    "start_time": "2022-10-29T19:31:18.238Z"
   },
   {
    "duration": 44,
    "start_time": "2022-10-29T19:34:14.247Z"
   },
   {
    "duration": 1273,
    "start_time": "2022-10-29T19:34:19.562Z"
   },
   {
    "duration": 1013,
    "start_time": "2022-10-29T19:34:23.978Z"
   },
   {
    "duration": 719,
    "start_time": "2022-10-29T19:34:27.996Z"
   },
   {
    "duration": 138,
    "start_time": "2022-10-29T19:34:31.224Z"
   },
   {
    "duration": 32,
    "start_time": "2022-10-29T19:34:33.918Z"
   },
   {
    "duration": 23,
    "start_time": "2022-10-29T19:34:36.145Z"
   },
   {
    "duration": 2444,
    "start_time": "2022-10-29T19:34:39.802Z"
   },
   {
    "duration": 2477,
    "start_time": "2022-10-29T19:34:43.697Z"
   },
   {
    "duration": 2546,
    "start_time": "2022-10-29T19:34:48.680Z"
   },
   {
    "duration": 2519,
    "start_time": "2022-10-29T19:34:55.019Z"
   },
   {
    "duration": 74,
    "start_time": "2022-10-29T19:34:59.095Z"
   },
   {
    "duration": 24,
    "start_time": "2022-10-29T19:35:01.593Z"
   },
   {
    "duration": 55,
    "start_time": "2022-10-29T19:35:03.686Z"
   },
   {
    "duration": 1716,
    "start_time": "2022-10-29T19:35:06.040Z"
   },
   {
    "duration": 179,
    "start_time": "2022-10-29T19:35:09.305Z"
   },
   {
    "duration": 27,
    "start_time": "2022-10-29T19:35:13.207Z"
   },
   {
    "duration": 202,
    "start_time": "2022-10-29T19:35:15.309Z"
   },
   {
    "duration": 43,
    "start_time": "2022-10-29T19:35:18.142Z"
   },
   {
    "duration": 111,
    "start_time": "2022-10-29T19:35:20.109Z"
   },
   {
    "duration": 140,
    "start_time": "2022-10-29T19:36:02.298Z"
   },
   {
    "duration": 208,
    "start_time": "2022-10-29T19:36:41.587Z"
   },
   {
    "duration": 32,
    "start_time": "2022-10-29T19:36:44.441Z"
   },
   {
    "duration": 127,
    "start_time": "2022-10-29T19:36:45.850Z"
   },
   {
    "duration": 13,
    "start_time": "2022-10-29T19:36:48.345Z"
   },
   {
    "duration": 85,
    "start_time": "2022-10-29T19:36:49.950Z"
   },
   {
    "duration": 94,
    "start_time": "2022-10-29T19:36:52.196Z"
   },
   {
    "duration": 111,
    "start_time": "2022-10-29T19:36:54.578Z"
   },
   {
    "duration": 1000,
    "start_time": "2022-10-29T19:36:56.410Z"
   },
   {
    "duration": 3520,
    "start_time": "2022-10-29T19:37:00.342Z"
   },
   {
    "duration": 219,
    "start_time": "2022-10-29T19:37:08.083Z"
   },
   {
    "duration": 112766,
    "start_time": "2022-10-29T19:37:10.332Z"
   },
   {
    "duration": 184,
    "start_time": "2022-10-29T19:39:08.023Z"
   },
   {
    "duration": 6889,
    "start_time": "2022-10-29T19:39:10.444Z"
   },
   {
    "duration": 147,
    "start_time": "2022-10-29T19:39:23.650Z"
   },
   {
    "duration": 309,
    "start_time": "2022-10-29T19:39:31.994Z"
   },
   {
    "duration": 339878,
    "start_time": "2022-10-29T19:39:33.747Z"
   },
   {
    "duration": 43,
    "start_time": "2022-10-29T20:07:48.109Z"
   },
   {
    "duration": 3,
    "start_time": "2022-10-29T20:25:33.566Z"
   },
   {
    "duration": 52,
    "start_time": "2022-10-29T20:25:44.038Z"
   },
   {
    "duration": 10,
    "start_time": "2022-10-29T20:25:45.788Z"
   },
   {
    "duration": 144,
    "start_time": "2022-10-29T20:28:28.458Z"
   },
   {
    "duration": 1211,
    "start_time": "2022-10-29T20:29:30.564Z"
   },
   {
    "duration": 967,
    "start_time": "2022-10-29T20:29:33.879Z"
   },
   {
    "duration": 731,
    "start_time": "2022-10-29T20:29:37.583Z"
   },
   {
    "duration": 144,
    "start_time": "2022-10-29T20:29:41.051Z"
   },
   {
    "duration": 44,
    "start_time": "2022-10-29T20:29:43.937Z"
   },
   {
    "duration": 21,
    "start_time": "2022-10-29T20:29:49.359Z"
   },
   {
    "duration": 23,
    "start_time": "2022-10-29T20:30:01.880Z"
   },
   {
    "duration": 2259,
    "start_time": "2022-10-29T20:30:03.899Z"
   },
   {
    "duration": 2322,
    "start_time": "2022-10-29T20:30:08.058Z"
   },
   {
    "duration": 2297,
    "start_time": "2022-10-29T20:30:12.285Z"
   },
   {
    "duration": 2319,
    "start_time": "2022-10-29T20:30:16.166Z"
   },
   {
    "duration": 47,
    "start_time": "2022-10-29T20:30:20.061Z"
   },
   {
    "duration": 18,
    "start_time": "2022-10-29T20:30:22.785Z"
   },
   {
    "duration": 35,
    "start_time": "2022-10-29T20:30:25.844Z"
   },
   {
    "duration": 1644,
    "start_time": "2022-10-29T20:30:27.659Z"
   },
   {
    "duration": 138,
    "start_time": "2022-10-29T20:30:35.445Z"
   },
   {
    "duration": 88,
    "start_time": "2022-10-29T20:31:01.122Z"
   },
   {
    "duration": 14,
    "start_time": "2022-10-29T20:31:05.539Z"
   },
   {
    "duration": 134,
    "start_time": "2022-10-29T20:31:07.338Z"
   },
   {
    "duration": 38,
    "start_time": "2022-10-29T20:31:10.698Z"
   },
   {
    "duration": 79,
    "start_time": "2022-10-29T20:31:13.346Z"
   },
   {
    "duration": 63,
    "start_time": "2022-10-29T20:31:18.241Z"
   },
   {
    "duration": 938,
    "start_time": "2022-10-29T20:31:20.401Z"
   },
   {
    "duration": 3148,
    "start_time": "2022-10-29T20:31:29.166Z"
   },
   {
    "duration": 61,
    "start_time": "2022-10-29T20:31:34.667Z"
   },
   {
    "duration": 15,
    "start_time": "2022-10-29T20:31:37.285Z"
   },
   {
    "duration": 157,
    "start_time": "2022-10-29T20:31:42.858Z"
   },
   {
    "duration": 103566,
    "start_time": "2022-10-29T20:31:48.363Z"
   },
   {
    "duration": 149,
    "start_time": "2022-10-29T20:33:39.615Z"
   },
   {
    "duration": 150,
    "start_time": "2022-10-29T20:33:44.483Z"
   },
   {
    "duration": 280,
    "start_time": "2022-10-29T20:33:46.946Z"
   },
   {
    "duration": 329282,
    "start_time": "2022-10-29T20:33:49.057Z"
   },
   {
    "duration": 590,
    "start_time": "2022-10-29T20:42:55.861Z"
   },
   {
    "duration": 708,
    "start_time": "2022-10-29T20:43:01.320Z"
   },
   {
    "duration": 5,
    "start_time": "2022-10-29T20:48:59.442Z"
   },
   {
    "duration": 12,
    "start_time": "2022-10-29T20:49:00.605Z"
   },
   {
    "duration": 110,
    "start_time": "2022-10-29T20:49:59.546Z"
   },
   {
    "duration": 1302,
    "start_time": "2023-01-21T15:57:14.615Z"
   },
   {
    "duration": 101,
    "start_time": "2023-01-21T16:22:05.156Z"
   }
  ],
  "kernelspec": {
   "display_name": "Python 3 (ipykernel)",
   "language": "python",
   "name": "python3"
  },
  "language_info": {
   "codemirror_mode": {
    "name": "ipython",
    "version": 3
   },
   "file_extension": ".py",
   "mimetype": "text/x-python",
   "name": "python",
   "nbconvert_exporter": "python",
   "pygments_lexer": "ipython3",
   "version": "3.9.13"
  },
  "toc": {
   "base_numbering": 1,
   "nav_menu": {},
   "number_sections": true,
   "sideBar": true,
   "skip_h1_title": true,
   "title_cell": "Table of Contents",
   "title_sidebar": "Contents",
   "toc_cell": false,
   "toc_position": {},
   "toc_section_display": true,
   "toc_window_display": false
  }
 },
 "nbformat": 4,
 "nbformat_minor": 2
}
