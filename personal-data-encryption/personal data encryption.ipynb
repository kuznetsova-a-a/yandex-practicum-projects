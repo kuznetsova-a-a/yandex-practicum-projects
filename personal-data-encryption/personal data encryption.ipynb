{
 "cells": [
  {
   "cell_type": "markdown",
   "metadata": {},
   "source": [
    "# Защита персональных данных клиентов"
   ]
  },
  {
   "cell_type": "markdown",
   "metadata": {},
   "source": [
    "Требуется защитить данные клиентов страховой компании «Хоть потоп». Мы предложим метод преобразования данных, после применения которого сложно восстановить персональную информацию и обоснуем корректность его работы,т.е. что при использовании данного метода качество моделей машинного обучения не ухудшится. "
   ]
  },
  {
   "cell_type": "markdown",
   "metadata": {},
   "source": [
    "## Загрузка данных\n",
    "\n",
    "Мы видим, что данные представлены четырьмя колонками признаков (пол, возраст, величина зарплаты, количество членов семьи), целевым же признаком является количество полученных страховых выплат.\n",
    "Данные не содержат пропусков, но содержат дубликаты. Дубликаты оставлены, поскольку могло иметь место просто совпадение чисел (нет уникального идентификатора клиента). Изучение распределения признаков показывает, что признаки не содержат нереалистичных данных, а значит не требуют предобработки."
   ]
  },
  {
   "cell_type": "code",
   "execution_count": 47,
   "metadata": {},
   "outputs": [],
   "source": [
    "import pandas as pd\n",
    "import numpy as np\n",
    "import matplotlib.pyplot as plt\n",
    "from sklearn.model_selection import train_test_split\n",
    "from sklearn.metrics import r2_score"
   ]
  },
  {
   "cell_type": "code",
   "execution_count": 48,
   "metadata": {},
   "outputs": [
    {
     "data": {
      "text/html": [
       "<div>\n",
       "<style scoped>\n",
       "    .dataframe tbody tr th:only-of-type {\n",
       "        vertical-align: middle;\n",
       "    }\n",
       "\n",
       "    .dataframe tbody tr th {\n",
       "        vertical-align: top;\n",
       "    }\n",
       "\n",
       "    .dataframe thead th {\n",
       "        text-align: right;\n",
       "    }\n",
       "</style>\n",
       "<table border=\"1\" class=\"dataframe\">\n",
       "  <thead>\n",
       "    <tr style=\"text-align: right;\">\n",
       "      <th></th>\n",
       "      <th>Пол</th>\n",
       "      <th>Возраст</th>\n",
       "      <th>Зарплата</th>\n",
       "      <th>Члены семьи</th>\n",
       "      <th>Страховые выплаты</th>\n",
       "    </tr>\n",
       "  </thead>\n",
       "  <tbody>\n",
       "    <tr>\n",
       "      <th>0</th>\n",
       "      <td>1</td>\n",
       "      <td>41.0</td>\n",
       "      <td>49600.0</td>\n",
       "      <td>1</td>\n",
       "      <td>0</td>\n",
       "    </tr>\n",
       "    <tr>\n",
       "      <th>1</th>\n",
       "      <td>0</td>\n",
       "      <td>46.0</td>\n",
       "      <td>38000.0</td>\n",
       "      <td>1</td>\n",
       "      <td>1</td>\n",
       "    </tr>\n",
       "    <tr>\n",
       "      <th>2</th>\n",
       "      <td>0</td>\n",
       "      <td>29.0</td>\n",
       "      <td>21000.0</td>\n",
       "      <td>0</td>\n",
       "      <td>0</td>\n",
       "    </tr>\n",
       "    <tr>\n",
       "      <th>3</th>\n",
       "      <td>0</td>\n",
       "      <td>21.0</td>\n",
       "      <td>41700.0</td>\n",
       "      <td>2</td>\n",
       "      <td>0</td>\n",
       "    </tr>\n",
       "    <tr>\n",
       "      <th>4</th>\n",
       "      <td>1</td>\n",
       "      <td>28.0</td>\n",
       "      <td>26100.0</td>\n",
       "      <td>0</td>\n",
       "      <td>0</td>\n",
       "    </tr>\n",
       "  </tbody>\n",
       "</table>\n",
       "</div>"
      ],
      "text/plain": [
       "   Пол  Возраст  Зарплата  Члены семьи  Страховые выплаты\n",
       "0    1     41.0   49600.0            1                  0\n",
       "1    0     46.0   38000.0            1                  1\n",
       "2    0     29.0   21000.0            0                  0\n",
       "3    0     21.0   41700.0            2                  0\n",
       "4    1     28.0   26100.0            0                  0"
      ]
     },
     "metadata": {},
     "output_type": "display_data"
    },
    {
     "name": "stdout",
     "output_type": "stream",
     "text": [
      "<class 'pandas.core.frame.DataFrame'>\n",
      "RangeIndex: 5000 entries, 0 to 4999\n",
      "Data columns (total 5 columns):\n",
      " #   Column             Non-Null Count  Dtype  \n",
      "---  ------             --------------  -----  \n",
      " 0   Пол                5000 non-null   int64  \n",
      " 1   Возраст            5000 non-null   float64\n",
      " 2   Зарплата           5000 non-null   float64\n",
      " 3   Члены семьи        5000 non-null   int64  \n",
      " 4   Страховые выплаты  5000 non-null   int64  \n",
      "dtypes: float64(2), int64(3)\n",
      "memory usage: 195.4 KB\n"
     ]
    }
   ],
   "source": [
    "data = pd.read_csv('/datasets/insurance.csv')\n",
    "display(data.head())\n",
    "data.info()"
   ]
  },
  {
   "cell_type": "code",
   "execution_count": 49,
   "metadata": {},
   "outputs": [
    {
     "data": {
      "text/plain": [
       "153"
      ]
     },
     "execution_count": 49,
     "metadata": {},
     "output_type": "execute_result"
    }
   ],
   "source": [
    "data.duplicated().sum()"
   ]
  },
  {
   "cell_type": "code",
   "execution_count": 51,
   "metadata": {
    "scrolled": true
   },
   "outputs": [
    {
     "data": {
      "text/html": [
       "<div>\n",
       "<style scoped>\n",
       "    .dataframe tbody tr th:only-of-type {\n",
       "        vertical-align: middle;\n",
       "    }\n",
       "\n",
       "    .dataframe tbody tr th {\n",
       "        vertical-align: top;\n",
       "    }\n",
       "\n",
       "    .dataframe thead th {\n",
       "        text-align: right;\n",
       "    }\n",
       "</style>\n",
       "<table border=\"1\" class=\"dataframe\">\n",
       "  <thead>\n",
       "    <tr style=\"text-align: right;\">\n",
       "      <th></th>\n",
       "      <th>Возраст</th>\n",
       "      <th>Зарплата</th>\n",
       "    </tr>\n",
       "  </thead>\n",
       "  <tbody>\n",
       "    <tr>\n",
       "      <th>count</th>\n",
       "      <td>4847.000000</td>\n",
       "      <td>4847.000000</td>\n",
       "    </tr>\n",
       "    <tr>\n",
       "      <th>mean</th>\n",
       "      <td>31.023932</td>\n",
       "      <td>39895.811842</td>\n",
       "    </tr>\n",
       "    <tr>\n",
       "      <th>std</th>\n",
       "      <td>8.487995</td>\n",
       "      <td>9972.953985</td>\n",
       "    </tr>\n",
       "    <tr>\n",
       "      <th>min</th>\n",
       "      <td>18.000000</td>\n",
       "      <td>5300.000000</td>\n",
       "    </tr>\n",
       "    <tr>\n",
       "      <th>25%</th>\n",
       "      <td>24.000000</td>\n",
       "      <td>33200.000000</td>\n",
       "    </tr>\n",
       "    <tr>\n",
       "      <th>50%</th>\n",
       "      <td>30.000000</td>\n",
       "      <td>40200.000000</td>\n",
       "    </tr>\n",
       "    <tr>\n",
       "      <th>75%</th>\n",
       "      <td>37.000000</td>\n",
       "      <td>46600.000000</td>\n",
       "    </tr>\n",
       "    <tr>\n",
       "      <th>max</th>\n",
       "      <td>65.000000</td>\n",
       "      <td>79000.000000</td>\n",
       "    </tr>\n",
       "  </tbody>\n",
       "</table>\n",
       "</div>"
      ],
      "text/plain": [
       "           Возраст      Зарплата\n",
       "count  4847.000000   4847.000000\n",
       "mean     31.023932  39895.811842\n",
       "std       8.487995   9972.953985\n",
       "min      18.000000   5300.000000\n",
       "25%      24.000000  33200.000000\n",
       "50%      30.000000  40200.000000\n",
       "75%      37.000000  46600.000000\n",
       "max      65.000000  79000.000000"
      ]
     },
     "metadata": {},
     "output_type": "display_data"
    }
   ],
   "source": [
    "data_age_salary = pd.concat([data['Возраст'].describe(), data['Зарплата'].describe()], axis=1)\n",
    "display(data_age_salary)\n",
    "                             "
   ]
  },
  {
   "cell_type": "code",
   "execution_count": 52,
   "metadata": {},
   "outputs": [
    {
     "data": {
      "image/png": "[encoded data removed]",
      "text/plain": [
       "<Figure size 432x288 with 1 Axes>"
      ]
     },
     "metadata": {
      "needs_background": "light"
     },
     "output_type": "display_data"
    }
   ],
   "source": [
    "plt.hist(data['Члены семьи'])\n",
    "plt.title('Распределение количества членов семьи')\n",
    "plt.show();\n",
    "\n"
   ]
  },
  {
   "cell_type": "code",
   "execution_count": 53,
   "metadata": {},
   "outputs": [
    {
     "data": {
      "text/plain": [
       "Пол\n",
       "0    2431\n",
       "1    2416\n",
       "Name: Пол, dtype: int64"
      ]
     },
     "metadata": {},
     "output_type": "display_data"
    }
   ],
   "source": [
    "display(data.groupby('Пол')['Пол'].count())"
   ]
  },
  {
   "cell_type": "code",
   "execution_count": 54,
   "metadata": {},
   "outputs": [
    {
     "data": {
      "text/plain": [
       "Страховые выплаты\n",
       "0    4284\n",
       "1     423\n",
       "2     114\n",
       "3      18\n",
       "4       7\n",
       "5       1\n",
       "Name: Страховые выплаты, dtype: int64"
      ]
     },
     "metadata": {},
     "output_type": "display_data"
    }
   ],
   "source": [
    "display(data.groupby('Страховые выплаты')['Страховые выплаты'].count())"
   ]
  },
  {
   "cell_type": "markdown",
   "metadata": {},
   "source": [
    "## Умножение матриц"
   ]
  },
  {
   "cell_type": "markdown",
   "metadata": {},
   "source": [
    "Предположим, что признаки умножают на обратимую матрицу. Изменится ли качество линейной регрессии, если её можно обучить заново?"
   ]
  },
  {
   "cell_type": "markdown",
   "metadata": {},
   "source": [
    "Обозначения:\n",
    "\n",
    "- $X$ — матрица признаков (нулевой столбец состоит из единиц)\n",
    "\n",
    "- $y$ — вектор целевого признака\n",
    "\n",
    "- $P$ — матрица, на которую умножаются признаки\n",
    "\n",
    "- $w$ — вектор весов линейной регрессии (нулевой элемент равен сдвигу)"
   ]
  },
  {
   "cell_type": "markdown",
   "metadata": {},
   "source": [
    "Предсказания:\n",
    "\n",
    "$$\n",
    "a = Xw\n",
    "$$\n",
    "\n",
    "Задача обучения:\n",
    "\n",
    "\\begin{equation}\n",
    "w = \\arg\\min_w MSE(Xw, y)\n",
    "\\end{equation}\n",
    "\n",
    "Формула обучения:\n",
    "\n",
    "$$\n",
    "w = (X^T X)^{-1} X^T y\n",
    "$$"
   ]
  },
  {
   "cell_type": "markdown",
   "metadata": {},
   "source": [
    "**Ответ:** При умножении на обратимую матрицу качество регрессии не изменится.\n",
    "\n",
    "**Обоснование:** Пусть мы разбили признаки и целевой признак на обучающую и тестовую части, т.е $X_{train}, y_{train}, X_{test}, y_{test}$ --- матрица признаков и вектор целевого признака для обучающей и тестовой выборок, соответственно. \n",
    "\n",
    "Тогда матрица $w$ находится по формуле\n",
    "$$\n",
    "w = (X_{train}^T X_{train})^{-1} ~X_{train}^T ~y_{train},\n",
    "$$\n",
    "а качество обучения на тестовой выборке определяется метрикой\n",
    "$$\n",
    "\\mu(y_{pred}, y_{test}), ~~ y_{pred} = X_{test} w,\n",
    "$$\n",
    "где $\\mu$ - выбранная метрика (*MSE, r2_score*, и т.д.)\n",
    "\n",
    "Предположим, мы умножаем матрицы признаков с добавленным первым столбцом единиц на обратимую матрицу A размера $(n+1) \\cdot (n+1)$, т.е.\n",
    "\\begin{equation}\n",
    "X'_{train} = X_{train} A, ~~ y'_{train} = A, ~~ X'_{test} = X_{test} A, ~~\n",
    "\\end{equation}\n",
    "тогда новая матрица $w'$ имеет вид\n",
    "$$\n",
    "w' = ((X_{train} A)^T X_{train} A)^{-1} (X_{train} A)^T y_{train} = (A^T X_{train}^T X_{train} A)^{-1} A^T X^T_{train} y_{train}\n",
    "$$\n",
    "$$\n",
    "= A^{-1} (X_{train}^T X_{train})^{-1} (A^T)^{-1} A^T X^T_{train} y_{train} = A^{-1}~ (X_{train}^T X_{train})^{-1} ~X^T_{train}~ y_{train} = A^{-1}w.\n",
    "$$\n",
    "Новые предсказания не тестовой выборке не изменятся, поскольку\n",
    "$$\n",
    "y'_{pred} =  X'_{test} w' = X_{test} A A^{-1}w = X_{test} w = y_{pred},\n",
    "$$\n",
    "а значит любая метрика качества обучения сохранит своё значение.\n",
    "\n",
    "Замечание: в наших выкладках мы использовали следующие свойства матриц: $(AB)^T = B^T A^T$, $(AB)^{-1} = B^{-1} A^{-1}$ и $A^{-1}A = AA^{-1} = E$."
   ]
  },
  {
   "cell_type": "markdown",
   "metadata": {},
   "source": [
    "## Алгоритм преобразования"
   ]
  },
  {
   "cell_type": "markdown",
   "metadata": {},
   "source": [
    "**Алгоритм**\n",
    "- к матрице признаков добавим слева столбец единиц, назовём полученную матрицу расширенной матрицей признаков;\n",
    "\n",
    "- умножим расширенную матрицу признаков справа  на  сгенерированную обратимую матрицу, размера $(n+1)*(n+1)$, где $n$ - количество признаков, получим зашифрованную матрицу признаков;\n",
    "\n",
    "- обучим модель на зашифрованных данных и получим предсказания"
   ]
  },
  {
   "cell_type": "markdown",
   "metadata": {},
   "source": [
    "**Обоснование**\n",
    "В разделе \"Умножение матриц\" доказано, что при таком преобразовании предсказания не изменятся, а значит качество машинного обучения также сохранится."
   ]
  },
  {
   "cell_type": "markdown",
   "metadata": {},
   "source": [
    "## Проверка алгоритма\n",
    "Созданим класс линейной регрессии, согласно предложенной формуле обучения."
   ]
  },
  {
   "cell_type": "code",
   "execution_count": 55,
   "metadata": {},
   "outputs": [],
   "source": [
    "class LinearRegression:\n",
    "    def fit(self, train_features, train_target):\n",
    "        X = train_features \n",
    "        y = train_target\n",
    "        self.w = np.linalg.inv(X.T @ X) @ X.T @ y\n",
    "        \n",
    "\n",
    "    def predict(self, test_features):\n",
    "        return test_features.dot(self.w)"
   ]
  },
  {
   "cell_type": "markdown",
   "metadata": {},
   "source": [
    "Сначала обучим модель на исходных (незашифрованных) данных. Разобьём данные на тренировочную и тестовую выборки, проверив корректность разбиения."
   ]
  },
  {
   "cell_type": "code",
   "execution_count": 56,
   "metadata": {},
   "outputs": [
    {
     "name": "stdout",
     "output_type": "stream",
     "text": [
      "(3635, 4) (1212, 4) (3635,) (1212,)\n"
     ]
    }
   ],
   "source": [
    "features = data.drop(['Страховые выплаты'], axis = 1).astype('float')\n",
    "target = data['Страховые выплаты']\n",
    "\n",
    "features_train, features_test, target_train, target_test = train_test_split(\n",
    "    features, target, test_size=0.25, random_state=12345)\n",
    "\n",
    "print(features_train.shape, features_test.shape, target_train.shape, target_test.shape)\n"
   ]
  },
  {
   "cell_type": "markdown",
   "metadata": {},
   "source": [
    "Добавим столбец единиц справа к  тестовой и тренировочной части данных, поскольку формула обучения предполагает использование расширенной матрицы признаков. Обучим модель на незашифрованных данных, вычислим метрику `r2-score` и дополнительно выведем вектор предказаний для тестовой части выборки."
   ]
  },
  {
   "cell_type": "code",
   "execution_count": 57,
   "metadata": {},
   "outputs": [
    {
     "name": "stdout",
     "output_type": "stream",
     "text": [
      "r2_score на незашифрованных данных  0.4230772749214827\n",
      "Вектор предказаний:\n",
      "[-0.11466092  0.21699995  0.22306595 ... -0.04468839 -0.05881157\n",
      "  0.89181229]\n"
     ]
    }
   ],
   "source": [
    "features_train_enlarged = np.concatenate((np.ones((features_train.shape[0], 1)), features_train), axis=1)\n",
    "features_test_enlarged = np.concatenate((np.ones((features_test.shape[0], 1)), features_test), axis=1)\n",
    "\n",
    "model = LinearRegression()\n",
    "model.fit(features_train_enlarged, target_train)\n",
    "predictions_test = model.predict(features_test_enlarged)\n",
    "print('r2_score на незашифрованных данных ', r2_score(target_test, predictions_test))\n",
    "\n",
    "print('Вектор предказаний:')\n",
    "print(predictions_test)"
   ]
  },
  {
   "cell_type": "markdown",
   "metadata": {},
   "source": [
    "Сгенерируем произвольную матрицу A подходящего размера, проверив её обратимость."
   ]
  },
  {
   "cell_type": "code",
   "execution_count": 58,
   "metadata": {},
   "outputs": [
    {
     "name": "stdout",
     "output_type": "stream",
     "text": [
      "[[0.12354817 0.87551871 0.44409176 0.57338499 0.00207594]\n",
      " [0.83190071 0.69398881 0.63333857 0.9159159  0.37501831]\n",
      " [0.45172047 0.86944289 0.66935953 0.96787398 0.36826718]\n",
      " [0.8099552  0.82004067 0.55751782 0.33446648 0.76650633]\n",
      " [0.38183627 0.40367421 0.22386034 0.19974117 0.28477762]]\n",
      "[[  0.43076983   2.19901919  -2.52580304  -0.54232744   1.82704338]\n",
      " [  0.75993069  -1.49609287   0.22505205  -1.88255501   6.7406831 ]\n",
      " [  3.54478538   4.0093775   -4.02641879   8.80096058 -23.78748299]\n",
      " [ -2.24423765  -1.28354726   3.30492393  -3.82198816   7.7200438 ]\n",
      " [ -2.86721326  -3.07922561   3.9147093   -0.84191458   4.79107887]]\n"
     ]
    }
   ],
   "source": [
    "n = features.shape[1]\n",
    "A = np.random.rand(n+1, n+1)\n",
    "print(A)\n",
    "try:\n",
    "    A1 = np.linalg.inv(A)\n",
    "    print(A1)\n",
    "except:\n",
    "    print('Матрица А вырождена')"
   ]
  },
  {
   "cell_type": "markdown",
   "metadata": {},
   "source": [
    "Зашифруем данные, умножим расширенную матрицу признаков справа на матрицу A."
   ]
  },
  {
   "cell_type": "code",
   "execution_count": 59,
   "metadata": {},
   "outputs": [],
   "source": [
    "features_train_encrypted = np.concatenate((np.ones((features_train.shape[0], 1)), features_train), axis=1) @ A\n",
    "features_test_encrypted = np.concatenate((np.ones((features_test.shape[0], 1)), features_test), axis=1) @ A\n"
   ]
  },
  {
   "cell_type": "markdown",
   "metadata": {},
   "source": [
    "Обучим модель на зашифрованных данных, выведем метрику `r2_score` и вектор предсказаний."
   ]
  },
  {
   "cell_type": "code",
   "execution_count": 60,
   "metadata": {},
   "outputs": [
    {
     "name": "stdout",
     "output_type": "stream",
     "text": [
      "r2_score на зашифрованных данных  0.4230835403776698\n",
      "Вектор предказаний:\n",
      "[-0.11458988  0.21698315  0.22308307 ... -0.04467313 -0.05872208\n",
      "  0.89179577]\n"
     ]
    }
   ],
   "source": [
    "model = LinearRegression()\n",
    "model.fit(features_train_encrypted, target_train)\n",
    "predictions_test = model.predict(features_test_encrypted)\n",
    "print('r2_score на зашифрованных данных ', r2_score(target_test, predictions_test))\n",
    "print('Вектор предказаний:')\n",
    "print(predictions_test)"
   ]
  },
  {
   "cell_type": "markdown",
   "metadata": {},
   "source": [
    "## Вывод\n",
    "Предложенным нами алгоритм шифрования персональных данных, состоящий в умножении матрицы признаков на случайную обратимую матрицу, работает корректно, и сохраняет качество линейной регрессии. Более того, предложенный алгоритм сохраняет вектор предсказаний."
   ]
  }
 ],
 "metadata": {
  "ExecuteTimeLog": [
   {
    "duration": 403,
    "start_time": "2022-10-10T07:32:16.384Z"
   },
   {
    "duration": 99,
    "start_time": "2022-10-10T07:32:19.336Z"
   },
   {
    "duration": 5,
    "start_time": "2022-10-10T10:52:24.634Z"
   },
   {
    "duration": 5,
    "start_time": "2022-10-10T10:52:48.856Z"
   },
   {
    "duration": 5,
    "start_time": "2022-10-10T10:54:32.952Z"
   },
   {
    "duration": 771,
    "start_time": "2022-10-10T10:55:36.017Z"
   },
   {
    "duration": 127,
    "start_time": "2022-10-10T10:56:52.120Z"
   },
   {
    "duration": 17,
    "start_time": "2022-10-10T10:59:05.032Z"
   },
   {
    "duration": 7,
    "start_time": "2022-10-10T10:59:10.571Z"
   },
   {
    "duration": 8,
    "start_time": "2022-10-10T10:59:34.705Z"
   },
   {
    "duration": 11,
    "start_time": "2022-10-10T10:59:38.658Z"
   },
   {
    "duration": 13,
    "start_time": "2022-10-10T11:00:55.410Z"
   },
   {
    "duration": 4,
    "start_time": "2022-10-10T11:01:11.498Z"
   },
   {
    "duration": 16,
    "start_time": "2022-10-10T11:01:15.418Z"
   },
   {
    "duration": 3,
    "start_time": "2022-10-10T11:01:37.201Z"
   },
   {
    "duration": 2,
    "start_time": "2022-10-10T11:01:45.915Z"
   },
   {
    "duration": 9,
    "start_time": "2022-10-10T11:01:50.620Z"
   },
   {
    "duration": 9,
    "start_time": "2022-10-10T11:02:45.393Z"
   },
   {
    "duration": 10,
    "start_time": "2022-10-10T11:04:42.652Z"
   },
   {
    "duration": 5,
    "start_time": "2022-10-10T11:05:57.372Z"
   },
   {
    "duration": 6,
    "start_time": "2022-10-10T11:07:07.671Z"
   },
   {
    "duration": 12,
    "start_time": "2022-10-10T11:08:17.710Z"
   },
   {
    "duration": 4,
    "start_time": "2022-10-10T11:09:13.150Z"
   },
   {
    "duration": 3,
    "start_time": "2022-10-10T11:09:54.962Z"
   },
   {
    "duration": 8,
    "start_time": "2022-10-10T11:09:56.587Z"
   },
   {
    "duration": 11,
    "start_time": "2022-10-10T11:10:10.391Z"
   },
   {
    "duration": 322,
    "start_time": "2022-10-10T11:11:06.248Z"
   },
   {
    "duration": 21,
    "start_time": "2022-10-10T11:13:26.644Z"
   },
   {
    "duration": 8,
    "start_time": "2022-10-10T11:13:36.276Z"
   },
   {
    "duration": 5,
    "start_time": "2022-10-10T11:13:38.836Z"
   },
   {
    "duration": 9,
    "start_time": "2022-10-10T11:13:40.928Z"
   },
   {
    "duration": 6,
    "start_time": "2022-10-10T11:15:03.825Z"
   },
   {
    "duration": 7,
    "start_time": "2022-10-10T11:15:05.880Z"
   },
   {
    "duration": 9,
    "start_time": "2022-10-10T11:15:20.031Z"
   },
   {
    "duration": 44,
    "start_time": "2022-10-10T21:47:02.751Z"
   },
   {
    "duration": 1001,
    "start_time": "2022-10-10T21:47:07.383Z"
   },
   {
    "duration": 96,
    "start_time": "2022-10-10T21:47:08.386Z"
   },
   {
    "duration": 4,
    "start_time": "2022-10-10T21:47:08.483Z"
   },
   {
    "duration": 10,
    "start_time": "2022-10-10T21:47:08.489Z"
   },
   {
    "duration": 254,
    "start_time": "2022-10-10T21:47:08.502Z"
   },
   {
    "duration": 3,
    "start_time": "2022-10-10T21:47:23.457Z"
   },
   {
    "duration": 7,
    "start_time": "2022-10-10T21:47:25.628Z"
   },
   {
    "duration": 35,
    "start_time": "2022-10-10T21:47:27.894Z"
   },
   {
    "duration": 3,
    "start_time": "2022-10-10T21:48:23.746Z"
   },
   {
    "duration": 8,
    "start_time": "2022-10-10T21:48:25.508Z"
   },
   {
    "duration": 103,
    "start_time": "2022-10-10T21:48:28.123Z"
   },
   {
    "duration": 5,
    "start_time": "2022-10-10T21:49:45.290Z"
   },
   {
    "duration": 4,
    "start_time": "2022-10-10T21:49:48.758Z"
   },
   {
    "duration": 8,
    "start_time": "2022-10-10T21:49:51.135Z"
   },
   {
    "duration": 60,
    "start_time": "2022-10-10T21:51:21.661Z"
   },
   {
    "duration": 9,
    "start_time": "2022-10-10T21:52:05.158Z"
   },
   {
    "duration": 6,
    "start_time": "2022-10-10T21:52:06.949Z"
   },
   {
    "duration": 3,
    "start_time": "2022-10-10T21:52:11.374Z"
   },
   {
    "duration": 8,
    "start_time": "2022-10-10T21:52:13.100Z"
   },
   {
    "duration": 6,
    "start_time": "2022-10-10T21:52:22.073Z"
   },
   {
    "duration": 54,
    "start_time": "2022-10-12T10:35:17.833Z"
   },
   {
    "duration": 1089,
    "start_time": "2022-10-12T10:35:23.671Z"
   },
   {
    "duration": 103,
    "start_time": "2022-10-12T10:35:24.762Z"
   },
   {
    "duration": 4,
    "start_time": "2022-10-12T10:35:24.866Z"
   },
   {
    "duration": 34,
    "start_time": "2022-10-12T10:35:24.871Z"
   },
   {
    "duration": 16,
    "start_time": "2022-10-12T10:35:24.907Z"
   },
   {
    "duration": 5,
    "start_time": "2022-10-12T10:37:33.253Z"
   },
   {
    "duration": 4,
    "start_time": "2022-10-12T10:37:36.299Z"
   },
   {
    "duration": 7,
    "start_time": "2022-10-12T10:38:07.280Z"
   },
   {
    "duration": 99,
    "start_time": "2022-10-12T18:26:59.461Z"
   },
   {
    "duration": 1086,
    "start_time": "2022-10-12T18:27:36.629Z"
   },
   {
    "duration": 114,
    "start_time": "2022-10-12T18:27:39.581Z"
   },
   {
    "duration": 94,
    "start_time": "2022-10-12T18:27:42.813Z"
   },
   {
    "duration": 13,
    "start_time": "2022-10-12T18:27:50.178Z"
   },
   {
    "duration": 8,
    "start_time": "2022-10-12T18:29:54.355Z"
   },
   {
    "duration": 421,
    "start_time": "2022-10-12T18:30:13.173Z"
   },
   {
    "duration": 130,
    "start_time": "2022-10-12T18:30:16.746Z"
   },
   {
    "duration": 366,
    "start_time": "2022-10-12T18:36:24.697Z"
   },
   {
    "duration": 237,
    "start_time": "2022-10-12T18:37:09.537Z"
   },
   {
    "duration": 233,
    "start_time": "2022-10-12T18:38:16.449Z"
   },
   {
    "duration": 300,
    "start_time": "2022-10-12T18:38:34.156Z"
   },
   {
    "duration": 218,
    "start_time": "2022-10-12T18:39:22.962Z"
   },
   {
    "duration": 124,
    "start_time": "2022-10-12T18:39:36.876Z"
   },
   {
    "duration": 7,
    "start_time": "2022-10-12T18:40:20.587Z"
   },
   {
    "duration": 10,
    "start_time": "2022-10-12T18:40:47.389Z"
   },
   {
    "duration": 9,
    "start_time": "2022-10-12T18:40:56.585Z"
   },
   {
    "duration": 6,
    "start_time": "2022-10-12T18:41:55.554Z"
   },
   {
    "duration": 18,
    "start_time": "2022-10-12T18:42:45.499Z"
   },
   {
    "duration": 15,
    "start_time": "2022-10-12T18:42:52.711Z"
   },
   {
    "duration": 8,
    "start_time": "2022-10-12T18:43:03.297Z"
   },
   {
    "duration": 12,
    "start_time": "2022-10-12T18:44:58.764Z"
   },
   {
    "duration": 14,
    "start_time": "2022-10-12T18:45:02.039Z"
   },
   {
    "duration": 131,
    "start_time": "2022-10-12T18:45:06.503Z"
   },
   {
    "duration": 7,
    "start_time": "2022-10-12T18:45:09.501Z"
   },
   {
    "duration": 3,
    "start_time": "2022-10-12T18:45:11.756Z"
   },
   {
    "duration": 48,
    "start_time": "2022-10-12T18:45:11.761Z"
   },
   {
    "duration": 9,
    "start_time": "2022-10-12T18:45:11.812Z"
   },
   {
    "duration": 25,
    "start_time": "2022-10-12T18:45:11.823Z"
   },
   {
    "duration": 13,
    "start_time": "2022-10-12T18:45:11.851Z"
   },
   {
    "duration": 134,
    "start_time": "2022-10-12T18:45:11.865Z"
   },
   {
    "duration": 9,
    "start_time": "2022-10-12T18:45:12.000Z"
   },
   {
    "duration": 19,
    "start_time": "2022-10-12T18:45:12.018Z"
   },
   {
    "duration": 17,
    "start_time": "2022-10-12T18:45:12.038Z"
   },
   {
    "duration": 8,
    "start_time": "2022-10-12T18:45:12.057Z"
   },
   {
    "duration": 44,
    "start_time": "2022-10-12T18:45:12.067Z"
   },
   {
    "duration": 101,
    "start_time": "2022-10-12T18:45:12.112Z"
   },
   {
    "duration": 10,
    "start_time": "2022-10-12T18:45:12.214Z"
   },
   {
    "duration": 82,
    "start_time": "2022-10-12T18:45:12.226Z"
   },
   {
    "duration": 8,
    "start_time": "2022-10-12T18:48:17.733Z"
   },
   {
    "duration": 4,
    "start_time": "2022-10-12T18:49:38.929Z"
   },
   {
    "duration": 7,
    "start_time": "2022-10-12T18:49:40.836Z"
   },
   {
    "duration": 7,
    "start_time": "2022-10-12T18:49:43.632Z"
   },
   {
    "duration": 8,
    "start_time": "2022-10-12T18:49:46.126Z"
   },
   {
    "duration": 8,
    "start_time": "2022-10-12T18:49:48.712Z"
   },
   {
    "duration": 7,
    "start_time": "2022-10-12T18:49:50.596Z"
   },
   {
    "duration": 2,
    "start_time": "2022-10-12T18:50:02.835Z"
   },
   {
    "duration": 52,
    "start_time": "2022-10-12T18:50:02.841Z"
   },
   {
    "duration": 6,
    "start_time": "2022-10-12T18:50:02.895Z"
   },
   {
    "duration": 34,
    "start_time": "2022-10-12T18:50:02.902Z"
   },
   {
    "duration": 12,
    "start_time": "2022-10-12T18:50:02.938Z"
   },
   {
    "duration": 128,
    "start_time": "2022-10-12T18:50:02.952Z"
   },
   {
    "duration": 5,
    "start_time": "2022-10-12T18:50:03.082Z"
   },
   {
    "duration": 7,
    "start_time": "2022-10-12T18:50:03.089Z"
   },
   {
    "duration": 5,
    "start_time": "2022-10-12T18:50:03.105Z"
   },
   {
    "duration": 10,
    "start_time": "2022-10-12T18:50:03.111Z"
   },
   {
    "duration": 27,
    "start_time": "2022-10-12T18:50:03.124Z"
   },
   {
    "duration": 61,
    "start_time": "2022-10-12T18:50:03.153Z"
   },
   {
    "duration": 112,
    "start_time": "2022-10-12T18:50:03.216Z"
   },
   {
    "duration": 19,
    "start_time": "2022-10-12T18:50:03.330Z"
   },
   {
    "duration": 2,
    "start_time": "2022-10-12T18:58:53.490Z"
   }
  ],
  "kernelspec": {
   "display_name": "Python 3 (ipykernel)",
   "language": "python",
   "name": "python3"
  },
  "language_info": {
   "codemirror_mode": {
    "name": "ipython",
    "version": 3
   },
   "file_extension": ".py",
   "mimetype": "text/x-python",
   "name": "python",
   "nbconvert_exporter": "python",
   "pygments_lexer": "ipython3",
   "version": "3.9.13"
  },
  "toc": {
   "base_numbering": 1,
   "nav_menu": {},
   "number_sections": true,
   "sideBar": true,
   "skip_h1_title": true,
   "title_cell": "Содержание",
   "title_sidebar": "Contents",
   "toc_cell": true,
   "toc_position": {},
   "toc_section_display": true,
   "toc_window_display": true
  }
 },
 "nbformat": 4,
 "nbformat_minor": 2
}
