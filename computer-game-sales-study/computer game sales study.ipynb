{
 "cells": [
  {
   "cell_type": "markdown",
   "metadata": {},
   "source": [
    "### Описание проекта\n",
    "Мы изучим данные о продажах компьютерных игр, оценки пользователей и экспертов, жанры и платформы и выявим некоторые закономерности, позволяющие спланировать рекламные кампании.\n"
   ]
  },
  {
   "cell_type": "markdown",
   "metadata": {},
   "source": [
    "### Общая информация о данных"
   ]
  },
  {
   "cell_type": "code",
   "execution_count": 1,
   "metadata": {},
   "outputs": [],
   "source": [
    "import pandas as pd\n",
    "import matplotlib.pyplot as plt\n",
    "import numpy as np"
   ]
  },
  {
   "cell_type": "code",
   "execution_count": 2,
   "metadata": {},
   "outputs": [
    {
     "data": {
      "text/html": [
       "<div>\n",
       "<style scoped>\n",
       "    .dataframe tbody tr th:only-of-type {\n",
       "        vertical-align: middle;\n",
       "    }\n",
       "\n",
       "    .dataframe tbody tr th {\n",
       "        vertical-align: top;\n",
       "    }\n",
       "\n",
       "    .dataframe thead th {\n",
       "        text-align: right;\n",
       "    }\n",
       "</style>\n",
       "<table border=\"1\" class=\"dataframe\">\n",
       "  <thead>\n",
       "    <tr style=\"text-align: right;\">\n",
       "      <th></th>\n",
       "      <th>Name</th>\n",
       "      <th>Platform</th>\n",
       "      <th>Year_of_Release</th>\n",
       "      <th>Genre</th>\n",
       "      <th>NA_sales</th>\n",
       "      <th>EU_sales</th>\n",
       "      <th>JP_sales</th>\n",
       "      <th>Other_sales</th>\n",
       "      <th>Critic_Score</th>\n",
       "      <th>User_Score</th>\n",
       "      <th>Rating</th>\n",
       "    </tr>\n",
       "  </thead>\n",
       "  <tbody>\n",
       "    <tr>\n",
       "      <th>0</th>\n",
       "      <td>Wii Sports</td>\n",
       "      <td>Wii</td>\n",
       "      <td>2006.0</td>\n",
       "      <td>Sports</td>\n",
       "      <td>41.36</td>\n",
       "      <td>28.96</td>\n",
       "      <td>3.77</td>\n",
       "      <td>8.45</td>\n",
       "      <td>76.0</td>\n",
       "      <td>8</td>\n",
       "      <td>E</td>\n",
       "    </tr>\n",
       "    <tr>\n",
       "      <th>1</th>\n",
       "      <td>Super Mario Bros.</td>\n",
       "      <td>NES</td>\n",
       "      <td>1985.0</td>\n",
       "      <td>Platform</td>\n",
       "      <td>29.08</td>\n",
       "      <td>3.58</td>\n",
       "      <td>6.81</td>\n",
       "      <td>0.77</td>\n",
       "      <td>NaN</td>\n",
       "      <td>NaN</td>\n",
       "      <td>NaN</td>\n",
       "    </tr>\n",
       "    <tr>\n",
       "      <th>2</th>\n",
       "      <td>Mario Kart Wii</td>\n",
       "      <td>Wii</td>\n",
       "      <td>2008.0</td>\n",
       "      <td>Racing</td>\n",
       "      <td>15.68</td>\n",
       "      <td>12.76</td>\n",
       "      <td>3.79</td>\n",
       "      <td>3.29</td>\n",
       "      <td>82.0</td>\n",
       "      <td>8.3</td>\n",
       "      <td>E</td>\n",
       "    </tr>\n",
       "    <tr>\n",
       "      <th>3</th>\n",
       "      <td>Wii Sports Resort</td>\n",
       "      <td>Wii</td>\n",
       "      <td>2009.0</td>\n",
       "      <td>Sports</td>\n",
       "      <td>15.61</td>\n",
       "      <td>10.93</td>\n",
       "      <td>3.28</td>\n",
       "      <td>2.95</td>\n",
       "      <td>80.0</td>\n",
       "      <td>8</td>\n",
       "      <td>E</td>\n",
       "    </tr>\n",
       "    <tr>\n",
       "      <th>4</th>\n",
       "      <td>Pokemon Red/Pokemon Blue</td>\n",
       "      <td>GB</td>\n",
       "      <td>1996.0</td>\n",
       "      <td>Role-Playing</td>\n",
       "      <td>11.27</td>\n",
       "      <td>8.89</td>\n",
       "      <td>10.22</td>\n",
       "      <td>1.00</td>\n",
       "      <td>NaN</td>\n",
       "      <td>NaN</td>\n",
       "      <td>NaN</td>\n",
       "    </tr>\n",
       "  </tbody>\n",
       "</table>\n",
       "</div>"
      ],
      "text/plain": [
       "                       Name Platform  Year_of_Release         Genre  NA_sales  \\\n",
       "0                Wii Sports      Wii           2006.0        Sports     41.36   \n",
       "1         Super Mario Bros.      NES           1985.0      Platform     29.08   \n",
       "2            Mario Kart Wii      Wii           2008.0        Racing     15.68   \n",
       "3         Wii Sports Resort      Wii           2009.0        Sports     15.61   \n",
       "4  Pokemon Red/Pokemon Blue       GB           1996.0  Role-Playing     11.27   \n",
       "\n",
       "   EU_sales  JP_sales  Other_sales  Critic_Score User_Score Rating  \n",
       "0     28.96      3.77         8.45          76.0          8      E  \n",
       "1      3.58      6.81         0.77           NaN        NaN    NaN  \n",
       "2     12.76      3.79         3.29          82.0        8.3      E  \n",
       "3     10.93      3.28         2.95          80.0          8      E  \n",
       "4      8.89     10.22         1.00           NaN        NaN    NaN  "
      ]
     },
     "metadata": {},
     "output_type": "display_data"
    }
   ],
   "source": [
    "try:\n",
    "    data = pd.read_csv('/datasets/games.csv')\n",
    "except:\n",
    "    data=pd.read_csv('C:\\\\YP\\\\games.csv')\n",
    "display(data.head())"
   ]
  },
  {
   "cell_type": "code",
   "execution_count": 3,
   "metadata": {
    "scrolled": true
   },
   "outputs": [
    {
     "name": "stdout",
     "output_type": "stream",
     "text": [
      "<class 'pandas.core.frame.DataFrame'>\n",
      "RangeIndex: 16715 entries, 0 to 16714\n",
      "Data columns (total 11 columns):\n",
      " #   Column           Non-Null Count  Dtype  \n",
      "---  ------           --------------  -----  \n",
      " 0   Name             16713 non-null  object \n",
      " 1   Platform         16715 non-null  object \n",
      " 2   Year_of_Release  16446 non-null  float64\n",
      " 3   Genre            16713 non-null  object \n",
      " 4   NA_sales         16715 non-null  float64\n",
      " 5   EU_sales         16715 non-null  float64\n",
      " 6   JP_sales         16715 non-null  float64\n",
      " 7   Other_sales      16715 non-null  float64\n",
      " 8   Critic_Score     8137 non-null   float64\n",
      " 9   User_Score       10014 non-null  object \n",
      " 10  Rating           9949 non-null   object \n",
      "dtypes: float64(6), object(5)\n",
      "memory usage: 1.4+ MB\n"
     ]
    }
   ],
   "source": [
    "data.info()"
   ]
  },
  {
   "cell_type": "markdown",
   "metadata": {},
   "source": [
    "### Предобработка данных\n",
    "В данных выявлены следующие проблемы:\n",
    "- столбцы имеют неудобные названия\n",
    "- пропуски в названии игры, годе выпуска, жанре (незначительное количество)\n",
    "- пропуски в оценках критиков и пользователей (значительное количество)\n",
    "- пропуски в рейтингах\n",
    "- столбец года выпуска имеет неверный формат (float64 вместо int)\n",
    "- столбец рейтинга пользователей имеет строковый формат вместо числового; кроме того, некоторые ячейки пользовательского рейтинга имеют значение `tbd` (скорее всего, речь о \"to be determined\" - ситуации с новыми играми, либо с играми, в которых недостаточно информации для оценком пользователей)\n",
    "\n",
    "К пропускам, вероятно, привели технические ошибки (при переносе информации вручную забыли добавить название игры) либо недостаток информации (неизвестен год выпуска старой игры, недостаточно пользователей или критиков поставили игре оценку). \n",
    "\n",
    "Мы проделали следующие действия в рамках предобработки данных:\n",
    "- переименовали столбцы\n",
    "- проверили на дубликаты\n",
    "- проверили на неявные дубликаты\n",
    "- удалили строки с пропусками в названиях игры, годах выпуска и жанре, поскольку эти значения присутствовали в очень незначительном относительно всего датасета количестве\n",
    "- **пропущенные и `tdb`-значения в столбце `user_score` заполнили значением -1, которое не будем в дальнейшем использовать в исследовательском анализе**\n",
    "- **пропущенные в столбце `critic_score` также заполнили значением -1, которое не будем в дальнейшем использовать в исследовательском анализе**\n",
    "- те значения, которые не удалось заполнить, оставили пропущенными, не учитывая их в ситуации проверки гипотезы\n",
    "- заменили формат столбцов `year_of_release` и `user_score`\n",
    "- добавили столбец `total_sales` с суммарными данными продаж игр по всем регионам"
   ]
  },
  {
   "cell_type": "code",
   "execution_count": 4,
   "metadata": {},
   "outputs": [
    {
     "name": "stdout",
     "output_type": "stream",
     "text": [
      "<class 'pandas.core.frame.DataFrame'>\n",
      "RangeIndex: 16715 entries, 0 to 16714\n",
      "Data columns (total 11 columns):\n",
      " #   Column           Non-Null Count  Dtype  \n",
      "---  ------           --------------  -----  \n",
      " 0   name             16713 non-null  object \n",
      " 1   platform         16715 non-null  object \n",
      " 2   year_of_release  16446 non-null  float64\n",
      " 3   genre            16713 non-null  object \n",
      " 4   na_sales         16715 non-null  float64\n",
      " 5   eu_sales         16715 non-null  float64\n",
      " 6   jp_sales         16715 non-null  float64\n",
      " 7   other_sales      16715 non-null  float64\n",
      " 8   critic_score     8137 non-null   float64\n",
      " 9   user_score       10014 non-null  object \n",
      " 10  rating           9949 non-null   object \n",
      "dtypes: float64(6), object(5)\n",
      "memory usage: 1.4+ MB\n"
     ]
    }
   ],
   "source": [
    "#переименование столбцов\n",
    "data = data.rename(columns = {'Name':'name', 'Platform': 'platform', 'Year_of_Release':'year_of_release', 'Genre':'genre', \n",
    "                             'NA_sales':'na_sales', 'EU_sales':'eu_sales', 'JP_sales':'jp_sales', 'Other_sales':'other_sales',\n",
    "                             'Critic_Score':'critic_score', 'User_Score':'user_score', 'Rating':'rating'})\n",
    "data.info()"
   ]
  },
  {
   "cell_type": "code",
   "execution_count": 5,
   "metadata": {},
   "outputs": [
    {
     "name": "stdout",
     "output_type": "stream",
     "text": [
      "<class 'pandas.core.frame.DataFrame'>\n",
      "Int64Index: 16715 entries, 0 to 16714\n",
      "Data columns (total 11 columns):\n",
      " #   Column           Non-Null Count  Dtype  \n",
      "---  ------           --------------  -----  \n",
      " 0   name             16713 non-null  object \n",
      " 1   platform         16715 non-null  object \n",
      " 2   year_of_release  16446 non-null  float64\n",
      " 3   genre            16713 non-null  object \n",
      " 4   na_sales         16715 non-null  float64\n",
      " 5   eu_sales         16715 non-null  float64\n",
      " 6   jp_sales         16715 non-null  float64\n",
      " 7   other_sales      16715 non-null  float64\n",
      " 8   critic_score     8137 non-null   float64\n",
      " 9   user_score       10014 non-null  object \n",
      " 10  rating           9949 non-null   object \n",
      "dtypes: float64(6), object(5)\n",
      "memory usage: 1.5+ MB\n"
     ]
    }
   ],
   "source": [
    "# проверка на дубликаты\n",
    "data = data.drop_duplicates()\n",
    "data.info()\n"
   ]
  },
  {
   "cell_type": "code",
   "execution_count": 6,
   "metadata": {},
   "outputs": [],
   "source": [
    "# удаление строк с пропусками в столбцах 'year_of_release', 'genre', 'name'\n",
    "data = data.dropna(subset=['year_of_release', 'genre', 'name'])\n",
    "\n",
    "data['year_of_release']=data['year_of_release'].astype('int')\n"
   ]
  },
  {
   "cell_type": "code",
   "execution_count": 7,
   "metadata": {},
   "outputs": [
    {
     "name": "stdout",
     "output_type": "stream",
     "text": [
      "['Sports' 'Platform' 'Racing' 'Role-Playing' 'Puzzle' 'Misc' 'Shooter'\n",
      " 'Simulation' 'Action' 'Fighting' 'Adventure' 'Strategy']\n",
      "['Wii' 'NES' 'GB' 'DS' 'X360' 'PS3' 'PS2' 'SNES' 'GBA' 'PS4' '3DS' 'N64'\n",
      " 'PS' 'XB' 'PC' '2600' 'PSP' 'XOne' 'WiiU' 'GC' 'GEN' 'DC' 'PSV' 'SAT'\n",
      " 'SCD' 'WS' 'NG' 'TG16' '3DO' 'GG' 'PCFX']\n",
      "['E' nan 'M' 'T' 'E10+' 'K-A' 'AO' 'EC' 'RP']\n"
     ]
    }
   ],
   "source": [
    "# проверка на неявные дубликаты\n",
    "print(data['genre'].unique())\n",
    "print(data['platform'].unique())\n",
    "print(data['rating'].unique())"
   ]
  },
  {
   "cell_type": "code",
   "execution_count": 8,
   "metadata": {},
   "outputs": [
    {
     "name": "stdout",
     "output_type": "stream",
     "text": [
      "[2006 1985 2008 2009 1996 1989 1984 2005 1999 2007 2010 2013 2004 1990\n",
      " 1988 2002 2001 2011 1998 2015 2012 2014 1992 1997 1993 1994 1982 2016\n",
      " 2003 1986 2000 1995 1991 1981 1987 1980 1983]\n"
     ]
    }
   ],
   "source": [
    "# проверка выбросов в значениях годов выпуска\n",
    "print(data['year_of_release'].unique())"
   ]
  },
  {
   "cell_type": "code",
   "execution_count": 9,
   "metadata": {},
   "outputs": [
    {
     "name": "stdout",
     "output_type": "stream",
     "text": [
      "[76. nan 82. 80. 89. 58. 87. 91. 61. 97. 95. 77. 88. 83. 94. 93. 85. 86.\n",
      " 98. 96. 90. 84. 73. 74. 78. 92. 71. 72. 68. 62. 49. 67. 81. 66. 56. 79.\n",
      " 70. 59. 64. 75. 60. 63. 69. 50. 25. 42. 44. 55. 48. 57. 29. 47. 65. 54.\n",
      " 20. 53. 37. 38. 33. 52. 30. 32. 43. 45. 51. 40. 46. 39. 34. 41. 36. 31.\n",
      " 27. 35. 26. 19. 28. 23. 24. 21. 17. 13.]\n"
     ]
    }
   ],
   "source": [
    "print(data['critic_score'].unique())"
   ]
  },
  {
   "cell_type": "code",
   "execution_count": 10,
   "metadata": {},
   "outputs": [
    {
     "name": "stdout",
     "output_type": "stream",
     "text": [
      "['8' nan '8.3' '8.5' '6.6' '8.4' '8.6' '7.7' '6.3' '7.4' '8.2' '9' '7.9'\n",
      " '8.1' '8.7' '7.1' '3.4' '5.3' '4.8' '3.2' '8.9' '6.4' '7.8' '7.5' '2.6'\n",
      " '7.2' '9.2' '7' '7.3' '4.3' '7.6' '5.7' '5' '9.1' '6.5' 'tbd' '8.8' '6.9'\n",
      " '9.4' '6.8' '6.1' '6.7' '5.4' '4' '4.9' '4.5' '9.3' '6.2' '4.2' '6' '3.7'\n",
      " '4.1' '5.8' '5.6' '5.5' '4.4' '4.6' '5.9' '3.9' '3.1' '2.9' '5.2' '3.3'\n",
      " '4.7' '5.1' '3.5' '2.5' '1.9' '3' '2.7' '2.2' '2' '9.5' '2.1' '3.6' '2.8'\n",
      " '1.8' '3.8' '0' '1.6' '9.6' '2.4' '1.7' '1.1' '0.3' '1.5' '0.7' '1.2'\n",
      " '2.3' '0.5' '1.3' '0.2' '0.6' '1.4' '0.9' '1' '9.7']\n"
     ]
    }
   ],
   "source": [
    "print(data['user_score'].unique())"
   ]
  },
  {
   "cell_type": "code",
   "execution_count": 11,
   "metadata": {},
   "outputs": [],
   "source": [
    "# добавление столбца с суммарными продажами по регионам\n",
    "data['total_sales']=data['na_sales']+data['eu_sales']+data['jp_sales']+data['other_sales']"
   ]
  },
  {
   "cell_type": "code",
   "execution_count": 12,
   "metadata": {},
   "outputs": [],
   "source": [
    "# обработка значения tbd и пропусков в столбце 'user_score'\n",
    "data.loc[((data['user_score']==\"tbd\")|(data['user_score'].isna())),'user_score']=-1\n",
    "\n",
    "data['user_score'] = data['user_score'].astype('float')\n"
   ]
  },
  {
   "cell_type": "code",
   "execution_count": 13,
   "metadata": {},
   "outputs": [],
   "source": [
    "# обработка пропусков в столбце 'critic_score'\n",
    "data.loc[(data['critic_score'].isna()),'critic_score']= -1"
   ]
  },
  {
   "cell_type": "code",
   "execution_count": 14,
   "metadata": {},
   "outputs": [],
   "source": [
    "# обработка пропусков в рейтингах игр\n",
    "data.loc[(data['rating'].isna()),'rating']= '-'"
   ]
  },
  {
   "cell_type": "markdown",
   "metadata": {},
   "source": [
    "### Исследовательский анализ данных"
   ]
  },
  {
   "cell_type": "markdown",
   "metadata": {},
   "source": [
    "Выясним количество игр, выпущенных в разные годы. Вы видим, что количество игр, сравнимое с актуальным 2016 годом, выпускалось начиная с 2000 года, а максимум пришёлся на 2007-2011 гг."
   ]
  },
  {
   "cell_type": "code",
   "execution_count": 15,
   "metadata": {
    "scrolled": true
   },
   "outputs": [
    {
     "name": "stdout",
     "output_type": "stream",
     "text": [
      "                 count\n",
      "year_of_release       \n",
      "1980                 9\n",
      "1981                46\n",
      "1982                36\n",
      "1983                17\n",
      "1984                14\n",
      "1985                14\n",
      "1986                21\n",
      "1987                16\n",
      "1988                15\n",
      "1989                17\n",
      "1990                16\n",
      "1991                41\n",
      "1992                43\n",
      "1993                60\n",
      "1994               121\n",
      "1995               219\n",
      "1996               263\n",
      "1997               289\n",
      "1998               379\n",
      "1999               338\n",
      "2000               350\n",
      "2001               482\n",
      "2002               829\n",
      "2003               775\n",
      "2004               762\n",
      "2005               939\n",
      "2006              1006\n",
      "2007              1197\n",
      "2008              1427\n",
      "2009              1426\n",
      "2010              1255\n",
      "2011              1136\n",
      "2012               653\n",
      "2013               544\n",
      "2014               581\n",
      "2015               606\n",
      "2016               502\n"
     ]
    }
   ],
   "source": [
    "print(data.groupby('year_of_release').agg(count=('name','count')))"
   ]
  },
  {
   "cell_type": "markdown",
   "metadata": {},
   "source": [
    "#### Наиболее популярные платформы\n",
    "Исследуем продажи на разных платформах. Выведем топ-10 платформ с наибольшими продажами и отдельно построим графики для продаж топ-5 самых популярных платформ. Мы видим, что средний срок, за который появляется, набирает популярность и исчезает платформа, составляет 10 лет, таким образом, для исследования популярности платформ в дальнейшем достаточно брать срок с 2006 года."
   ]
  },
  {
   "cell_type": "code",
   "execution_count": 16,
   "metadata": {},
   "outputs": [
    {
     "name": "stdout",
     "output_type": "stream",
     "text": [
      "          total_sales\n",
      "platform             \n",
      "PS2           1233.56\n",
      "X360           961.24\n",
      "PS3            931.34\n",
      "Wii            891.18\n",
      "DS             802.78\n",
      "PS             727.58\n",
      "PS4            314.14\n",
      "GBA            312.88\n",
      "PSP            289.53\n",
      "3DS            257.81\n"
     ]
    }
   ],
   "source": [
    "data_grouped=data.groupby('platform').agg(total_sales=('total_sales','sum')).sort_values(by='total_sales', ascending=False)\n",
    "print(data_grouped.head(10))\n"
   ]
  },
  {
   "cell_type": "code",
   "execution_count": 17,
   "metadata": {},
   "outputs": [
    {
     "data": {
      "image/png": "[encoded data removed]",
      "text/plain": [
       "<Figure size 640x480 with 1 Axes>"
      ]
     },
     "metadata": {},
     "output_type": "display_data"
    },
    {
     "data": {
      "image/png": "[encoded data removed]",
      "text/plain": [
       "<Figure size 640x480 with 1 Axes>"
      ]
     },
     "metadata": {},
     "output_type": "display_data"
    },
    {
     "data": {
      "image/png": "[encoded data removed]",
      "text/plain": [
       "<Figure size 640x480 with 1 Axes>"
      ]
     },
     "metadata": {},
     "output_type": "display_data"
    },
    {
     "data": {
      "image/png": "[encoded data removed]",
      "text/plain": [
       "<Figure size 640x480 with 1 Axes>"
      ]
     },
     "metadata": {},
     "output_type": "display_data"
    },
    {
     "data": {
      "image/png": "[encoded data removed]",
      "text/plain": [
       "<Figure size 640x480 with 1 Axes>"
      ]
     },
     "metadata": {},
     "output_type": "display_data"
    }
   ],
   "source": [
    "popular_platforms = ['PS2', 'X360', 'PS3', 'Wii', 'DS']\n",
    "for platform in popular_platforms:\n",
    "    data.query('platform == @platform').plot(kind='scatter', x='year_of_release', y='total_sales', label=platform, grid=True)\n",
    "    plt.show();"
   ]
  },
  {
   "cell_type": "code",
   "execution_count": 18,
   "metadata": {},
   "outputs": [
    {
     "data": {
      "image/png": "[encoded data removed]",
      "text/plain": [
       "<Figure size 640x480 with 1 Axes>"
      ]
     },
     "metadata": {},
     "output_type": "display_data"
    }
   ],
   "source": [
    "#для платформы DS мы видим выброс в районе 1985 года, скорее всего, это опечатка, поэтому для построения графика \n",
    "# ограничимся промежутком (2003,2014)\n",
    "\n",
    "data.query('platform == \"DS\"').plot(kind='scatter', x='year_of_release', y='total_sales', label='Total sales for DS', grid=True, xlim=(2003,2014))\n",
    "plt.show();"
   ]
  },
  {
   "cell_type": "markdown",
   "metadata": {},
   "source": [
    "Выясним потенциально прибыльные платформы, изучив данные по продажам с 2006 по 2016 год. Мы видим, что на конец 2016 года **сохраняют популярность платформы: 3DS, PS4, XOne**  и отчасти *PS, PS3, PSV, WiiU (хотя они уже находится на излете популярности).*"
   ]
  },
  {
   "cell_type": "code",
   "execution_count": 19,
   "metadata": {},
   "outputs": [
    {
     "name": "stdout",
     "output_type": "stream",
     "text": [
      "year_of_release   1980   1981   1982   1983   1984   1985   1986   1987  \\\n",
      "platform                                                                  \n",
      "2600             11.38  35.68  28.88   5.84   0.27   0.45   0.67   1.94   \n",
      "3DO                NaN    NaN    NaN    NaN    NaN    NaN    NaN    NaN   \n",
      "3DS                NaN    NaN    NaN    NaN    NaN    NaN    NaN    NaN   \n",
      "DC                 NaN    NaN    NaN    NaN    NaN    NaN    NaN    NaN   \n",
      "DS                 NaN    NaN    NaN    NaN    NaN   0.02    NaN    NaN   \n",
      "GB                 NaN    NaN    NaN    NaN    NaN    NaN    NaN    NaN   \n",
      "GBA                NaN    NaN    NaN    NaN    NaN    NaN    NaN    NaN   \n",
      "GC                 NaN    NaN    NaN    NaN    NaN    NaN    NaN    NaN   \n",
      "GEN                NaN    NaN    NaN    NaN    NaN    NaN    NaN    NaN   \n",
      "GG                 NaN    NaN    NaN    NaN    NaN    NaN    NaN    NaN   \n",
      "N64                NaN    NaN    NaN    NaN    NaN    NaN    NaN    NaN   \n",
      "NES                NaN    NaN    NaN  10.96  50.08  53.44  36.41  19.76   \n",
      "NG                 NaN    NaN    NaN    NaN    NaN    NaN    NaN    NaN   \n",
      "PC                 NaN    NaN    NaN    NaN    NaN   0.04    NaN    NaN   \n",
      "PCFX               NaN    NaN    NaN    NaN    NaN    NaN    NaN    NaN   \n",
      "PS                 NaN    NaN    NaN    NaN    NaN    NaN    NaN    NaN   \n",
      "PS2                NaN    NaN    NaN    NaN    NaN    NaN    NaN    NaN   \n",
      "PS3                NaN    NaN    NaN    NaN    NaN    NaN    NaN    NaN   \n",
      "PS4                NaN    NaN    NaN    NaN    NaN    NaN    NaN    NaN   \n",
      "PSP                NaN    NaN    NaN    NaN    NaN    NaN    NaN    NaN   \n",
      "PSV                NaN    NaN    NaN    NaN    NaN    NaN    NaN    NaN   \n",
      "SAT                NaN    NaN    NaN    NaN    NaN    NaN    NaN    NaN   \n",
      "SCD                NaN    NaN    NaN    NaN    NaN    NaN    NaN    NaN   \n",
      "SNES               NaN    NaN    NaN    NaN    NaN    NaN    NaN    NaN   \n",
      "TG16               NaN    NaN    NaN    NaN    NaN    NaN    NaN    NaN   \n",
      "WS                 NaN    NaN    NaN    NaN    NaN    NaN    NaN    NaN   \n",
      "Wii                NaN    NaN    NaN    NaN    NaN    NaN    NaN    NaN   \n",
      "WiiU               NaN    NaN    NaN    NaN    NaN    NaN    NaN    NaN   \n",
      "X360               NaN    NaN    NaN    NaN    NaN    NaN    NaN    NaN   \n",
      "XB                 NaN    NaN    NaN    NaN    NaN    NaN    NaN    NaN   \n",
      "XOne               NaN    NaN    NaN    NaN    NaN    NaN    NaN    NaN   \n",
      "\n",
      "year_of_release   1988   1989  ...    2007    2008    2009    2010    2011  \\\n",
      "platform                       ...                                           \n",
      "2600              0.74   0.63  ...     NaN     NaN     NaN     NaN     NaN   \n",
      "3DO                NaN    NaN  ...     NaN     NaN     NaN     NaN     NaN   \n",
      "3DS                NaN    NaN  ...     NaN     NaN     NaN     NaN   63.20   \n",
      "DC                 NaN    NaN  ...    0.02    0.04     NaN     NaN     NaN   \n",
      "DS                 NaN    NaN  ...  146.94  145.31  119.54   85.02   26.18   \n",
      "GB                1.43  64.97  ...     NaN     NaN     NaN     NaN     NaN   \n",
      "GBA                NaN    NaN  ...    3.40     NaN     NaN     NaN     NaN   \n",
      "GC                 NaN    NaN  ...    0.27     NaN     NaN     NaN     NaN   \n",
      "GEN                NaN    NaN  ...     NaN     NaN     NaN     NaN     NaN   \n",
      "GG                 NaN    NaN  ...     NaN     NaN     NaN     NaN     NaN   \n",
      "N64                NaN    NaN  ...     NaN     NaN     NaN     NaN     NaN   \n",
      "NES              45.01   7.85  ...     NaN     NaN     NaN     NaN     NaN   \n",
      "NG                 NaN    NaN  ...     NaN     NaN     NaN     NaN     NaN   \n",
      "PC                0.03    NaN  ...    9.28   12.42   16.91   24.28   35.03   \n",
      "PCFX               NaN    NaN  ...     NaN     NaN     NaN     NaN     NaN   \n",
      "PS                 NaN    NaN  ...     NaN     NaN     NaN     NaN     NaN   \n",
      "PS2                NaN    NaN  ...   75.99   53.90   26.40    5.64    0.45   \n",
      "PS3                NaN    NaN  ...   73.19  118.52  130.93  142.17  156.78   \n",
      "PS4                NaN    NaN  ...     NaN     NaN     NaN     NaN     NaN   \n",
      "PSP                NaN    NaN  ...   46.93   34.55   37.78   35.04   17.82   \n",
      "PSV                NaN    NaN  ...     NaN     NaN     NaN     NaN    4.63   \n",
      "SAT                NaN    NaN  ...     NaN     NaN     NaN     NaN     NaN   \n",
      "SCD                NaN    NaN  ...     NaN     NaN     NaN     NaN     NaN   \n",
      "SNES               NaN    NaN  ...     NaN     NaN     NaN     NaN     NaN   \n",
      "TG16               NaN    NaN  ...     NaN     NaN     NaN     NaN     NaN   \n",
      "WS                 NaN    NaN  ...     NaN     NaN     NaN     NaN     NaN   \n",
      "Wii                NaN    NaN  ...  152.77  171.32  206.97  127.95   59.65   \n",
      "WiiU               NaN    NaN  ...     NaN     NaN     NaN     NaN     NaN   \n",
      "X360               NaN    NaN  ...   95.41  135.26  120.29  170.03  143.84   \n",
      "XB                 NaN    NaN  ...    0.55    0.18     NaN     NaN     NaN   \n",
      "XOne               NaN    NaN  ...     NaN     NaN     NaN     NaN     NaN   \n",
      "\n",
      "year_of_release    2012    2013    2014    2015   2016  \n",
      "platform                                                \n",
      "2600                NaN     NaN     NaN     NaN    NaN  \n",
      "3DO                 NaN     NaN     NaN     NaN    NaN  \n",
      "3DS               51.36   56.57   43.76   27.78  15.14  \n",
      "DC                  NaN     NaN     NaN     NaN    NaN  \n",
      "DS                11.01    1.54     NaN     NaN    NaN  \n",
      "GB                  NaN     NaN     NaN     NaN    NaN  \n",
      "GBA                 NaN     NaN     NaN     NaN    NaN  \n",
      "GC                  NaN     NaN     NaN     NaN    NaN  \n",
      "GEN                 NaN     NaN     NaN     NaN    NaN  \n",
      "GG                  NaN     NaN     NaN     NaN    NaN  \n",
      "N64                 NaN     NaN     NaN     NaN    NaN  \n",
      "NES                 NaN     NaN     NaN     NaN    NaN  \n",
      "NG                  NaN     NaN     NaN     NaN    NaN  \n",
      "PC                23.22   12.38   13.28    8.52   5.25  \n",
      "PCFX                NaN     NaN     NaN     NaN    NaN  \n",
      "PS                  NaN     NaN     NaN     NaN    NaN  \n",
      "PS2                 NaN     NaN     NaN     NaN    NaN  \n",
      "PS3              107.36  113.25   47.76   16.82   3.60  \n",
      "PS4                 NaN   25.99  100.00  118.90  69.25  \n",
      "PSP                7.69    3.14    0.24    0.12    NaN  \n",
      "PSV               16.19   10.59   11.90    6.25   4.25  \n",
      "SAT                 NaN     NaN     NaN     NaN    NaN  \n",
      "SCD                 NaN     NaN     NaN     NaN    NaN  \n",
      "SNES                NaN     NaN     NaN     NaN    NaN  \n",
      "TG16                NaN     NaN     NaN     NaN    NaN  \n",
      "WS                  NaN     NaN     NaN     NaN    NaN  \n",
      "Wii               21.71    8.59    3.75    1.14   0.18  \n",
      "WiiU              17.56   21.65   22.03   16.35   4.60  \n",
      "X360              99.74   88.58   34.74   11.96   1.52  \n",
      "XB                  NaN     NaN     NaN     NaN    NaN  \n",
      "XOne                NaN   18.96   54.07   60.14  26.15  \n",
      "\n",
      "[31 rows x 37 columns]\n"
     ]
    }
   ],
   "source": [
    "print(data.pivot_table(index='platform', columns='year_of_release', values='total_sales', aggfunc='sum'))"
   ]
  },
  {
   "cell_type": "markdown",
   "metadata": {},
   "source": [
    "Выберем 5 наиболее популярных платформ на конец 2016 года."
   ]
  },
  {
   "cell_type": "code",
   "execution_count": 20,
   "metadata": {},
   "outputs": [
    {
     "name": "stdout",
     "output_type": "stream",
     "text": [
      "          total_sales\n",
      "platform             \n",
      "PS4             69.25\n",
      "XOne            26.15\n",
      "3DS             15.14\n",
      "PC               5.25\n",
      "WiiU             4.60\n"
     ]
    }
   ],
   "source": [
    "print(data.query('year_of_release == 2016').groupby('platform').agg(total_sales=('total_sales','sum')).sort_values(by='total_sales', ascending=False).head())"
   ]
  },
  {
   "cell_type": "markdown",
   "metadata": {},
   "source": [
    "Далее мы ограничимся для прогнозирования только данными с 2012 года. Построим суммарных графики продаж на пяти наиболее популярных платформах за период с 2012 по 2016 гг.\n"
   ]
  },
  {
   "cell_type": "code",
   "execution_count": 21,
   "metadata": {},
   "outputs": [
    {
     "name": "stdout",
     "output_type": "stream",
     "text": [
      "Total sales for PS4\n"
     ]
    },
    {
     "data": {
      "image/png": "[encoded data removed]",
      "text/plain": [
       "<Figure size 640x480 with 1 Axes>"
      ]
     },
     "metadata": {},
     "output_type": "display_data"
    },
    {
     "name": "stdout",
     "output_type": "stream",
     "text": [
      "Total sales for XOne\n"
     ]
    },
    {
     "data": {
      "image/png": "[encoded data removed]",
      "text/plain": [
       "<Figure size 640x480 with 1 Axes>"
      ]
     },
     "metadata": {},
     "output_type": "display_data"
    },
    {
     "name": "stdout",
     "output_type": "stream",
     "text": [
      "Total sales for 3DS\n"
     ]
    },
    {
     "data": {
      "image/png": "[encoded data removed]",
      "text/plain": [
       "<Figure size 640x480 with 1 Axes>"
      ]
     },
     "metadata": {},
     "output_type": "display_data"
    },
    {
     "name": "stdout",
     "output_type": "stream",
     "text": [
      "Total sales for PC\n"
     ]
    },
    {
     "data": {
      "image/png": "[encoded data removed]",
      "text/plain": [
       "<Figure size 640x480 with 1 Axes>"
      ]
     },
     "metadata": {},
     "output_type": "display_data"
    },
    {
     "name": "stdout",
     "output_type": "stream",
     "text": [
      "Total sales for WiiU\n"
     ]
    },
    {
     "data": {
      "image/png": "[encoded data removed]",
      "text/plain": [
       "<Figure size 640x480 with 1 Axes>"
      ]
     },
     "metadata": {},
     "output_type": "display_data"
    }
   ],
   "source": [
    "data = data.query('year_of_release > 2011')\n",
    "popular_platforms_2016 = ['PS4', 'XOne', '3DS', 'PC', 'WiiU']\n",
    "\n",
    "for platform in popular_platforms_2016:\n",
    "    print('Total sales for', platform)\n",
    "    data.query('platform == @platform').groupby('year_of_release')['total_sales'].sum().plot(kind='bar', x='year_of_release', \n",
    "                                            y='total_sales')\n",
    "    plt.show();"
   ]
  },
  {
   "cell_type": "markdown",
   "metadata": {},
   "source": [
    "#### Диаграмма размаха по глобальным продажам игр в разбивке по пяти наиболее популярным платформам на конец 2016 года.\n",
    "Мы построили \"ящики с усами\" для топ-5 наиболее популярных платформ на конец 2016 года, а также нашли описательные статистики. Мы видим, что для платформ PS4, XOne и WiiU медианное глобальных продаж составляет в районе 0.2 млн. проданных копий, при этом есть игры, продажи которых существенно превосходят данные значения. Медианные значения продаж для платформ PC и 3DS меньше (0.12 и 0.05 млн., соответственно). Таким образом, мы можем считать наиболее перспективными платформы PS4, ХOne и WiiU."
   ]
  },
  {
   "cell_type": "code",
   "execution_count": 22,
   "metadata": {},
   "outputs": [
    {
     "data": {
      "image/png": "[encoded data removed]",
      "text/plain": [
       "<Figure size 2000x1000 with 1 Axes>"
      ]
     },
     "metadata": {},
     "output_type": "display_data"
    }
   ],
   "source": [
    "data.boxplot(by='platform', column='total_sales', figsize = (20, 10), grid = True)\n",
    "plt.show();\n",
    "\n",
    "#data.boxplot(by='platform', column='total_sales', figsize = (20, 10), grid = True, ylim =(0,3))\n",
    "#plt.show();\n"
   ]
  },
  {
   "cell_type": "code",
   "execution_count": 23,
   "metadata": {
    "scrolled": true
   },
   "outputs": [
    {
     "data": {
      "image/png": "[encoded data removed]",
      "text/plain": [
       "<Figure size 1300x800 with 1 Axes>"
      ]
     },
     "metadata": {},
     "output_type": "display_data"
    },
    {
     "data": {
      "image/png": "[encoded data removed]",
      "text/plain": [
       "<Figure size 1300x800 with 1 Axes>"
      ]
     },
     "metadata": {},
     "output_type": "display_data"
    }
   ],
   "source": [
    "# Другой вариант визуализации\n",
    "import seaborn as sns\n",
    "data_temp, y = data, 'total_sales'\n",
    "plt.figure(figsize=(13, 8))\n",
    "(sns.boxplot(data = data_temp, y = y, x='platform')\n",
    "    .set(title = 'Продажи по перспективным платформам', xlabel = 'Платформы', ylabel = 'Общие продажи'))\n",
    "plt.show()\n",
    "plt.figure(figsize=(13, 8))\n",
    "(sns.boxplot(data = data_temp, y = y, x='platform')\n",
    "    .set(title = 'Продажи по перспективным платформам', xlabel = 'Платформы', ylabel = 'Общие продажи', ylim=(0, 2)))\n",
    "plt.show()"
   ]
  },
  {
   "cell_type": "markdown",
   "metadata": {},
   "source": [
    "#### Исследование корреляции продаж и оценок критиков\n",
    "Глобально между продажами и оценками пользователей есть слабая положительная связь (коэффициент корреляции равен 0.3)."
   ]
  },
  {
   "cell_type": "code",
   "execution_count": 24,
   "metadata": {},
   "outputs": [
    {
     "data": {
      "image/png": "[encoded data removed]",
      "text/plain": [
       "<Figure size 640x480 with 1 Axes>"
      ]
     },
     "metadata": {},
     "output_type": "display_data"
    },
    {
     "name": "stdout",
     "output_type": "stream",
     "text": [
      "Коэффициент корреляции продаж и оценок критиков равен 0.3081967459207781\n"
     ]
    }
   ],
   "source": [
    "data\n",
    "data.query('critic_score>=0').plot(x='critic_score', y='total_sales', kind='scatter', alpha=0.03)\n",
    "plt.show();\n",
    "cor=data.query('critic_score>=0')['critic_score'].corr(data.query('critic_score>=0')['total_sales'])\n",
    "print('Коэффициент корреляции продаж и оценок критиков равен', cor)"
   ]
  },
  {
   "cell_type": "markdown",
   "metadata": {},
   "source": [
    "#### Исследование корреляции продаж и оценок пользователей\n",
    "Глобально между продажами и оценками пользователей практически нет связи (коэффициент корреляции близок к нулю)."
   ]
  },
  {
   "cell_type": "code",
   "execution_count": 35,
   "metadata": {},
   "outputs": [
    {
     "data": {
      "image/png": "[encoded data removed]",
      "text/plain": [
       "<Figure size 640x480 with 1 Axes>"
      ]
     },
     "metadata": {},
     "output_type": "display_data"
    },
    {
     "name": "stdout",
     "output_type": "stream",
     "text": [
      "Коэффициент корреляции продаж и оценок пользователей равен 0.004428817675493256\n"
     ]
    }
   ],
   "source": [
    "data.query('user_score>=0').plot(x='user_score', y='total_sales', kind='scatter', alpha=0.1)\n",
    "plt.show();\n",
    "\n",
    "cor=data.query('user_score>=0')['user_score'].corr(data.query('user_score>=0')['total_sales'])\n",
    "print('Коэффициент корреляции продаж и оценок пользователей равен', cor)"
   ]
  },
  {
   "cell_type": "markdown",
   "metadata": {},
   "source": [
    "#### Исследование корреляции продаж и оценок критиков внутри одной платформы.\n",
    "Выводы внутри наиболее популярных платформ совпадают с глобальными выводами (слабая положительная связь), коэффициент корреляции выше глобального для платформ `PS4`, `XOne`, `WiiU`, ниже глобального - для платформ `3DC`, `PC`.\n"
   ]
  },
  {
   "cell_type": "code",
   "execution_count": 36,
   "metadata": {
    "scrolled": false
   },
   "outputs": [
    {
     "data": {
      "image/png": "[encoded data removed]",
      "text/plain": [
       "<Figure size 640x480 with 1 Axes>"
      ]
     },
     "metadata": {},
     "output_type": "display_data"
    },
    {
     "name": "stdout",
     "output_type": "stream",
     "text": [
      "Коэффициент корреляции продаж и оценок критиков равен внутри платформы PS4 = 0.40656790206178095\n"
     ]
    },
    {
     "data": {
      "image/png": "[encoded data removed]",
      "text/plain": [
       "<Figure size 640x480 with 1 Axes>"
      ]
     },
     "metadata": {},
     "output_type": "display_data"
    },
    {
     "name": "stdout",
     "output_type": "stream",
     "text": [
      "Коэффициент корреляции продаж и оценок критиков равен внутри платформы XOne = 0.4169983280084017\n"
     ]
    },
    {
     "data": {
      "image/png": "[encoded data removed]",
      "text/plain": [
       "<Figure size 640x480 with 1 Axes>"
      ]
     },
     "metadata": {},
     "output_type": "display_data"
    },
    {
     "name": "stdout",
     "output_type": "stream",
     "text": [
      "Коэффициент корреляции продаж и оценок критиков равен внутри платформы 3DS = 0.3208028695360785\n"
     ]
    },
    {
     "data": {
      "image/png": "[encoded data removed]",
      "text/plain": [
       "<Figure size 640x480 with 1 Axes>"
      ]
     },
     "metadata": {},
     "output_type": "display_data"
    },
    {
     "name": "stdout",
     "output_type": "stream",
     "text": [
      "Коэффициент корреляции продаж и оценок критиков равен внутри платформы PC = 0.23724324311567915\n"
     ]
    },
    {
     "data": {
      "image/png": "[encoded data removed]",
      "text/plain": [
       "<Figure size 640x480 with 1 Axes>"
      ]
     },
     "metadata": {},
     "output_type": "display_data"
    },
    {
     "name": "stdout",
     "output_type": "stream",
     "text": [
      "Коэффициент корреляции продаж и оценок критиков равен внутри платформы WiiU = 0.34837976012017485\n"
     ]
    }
   ],
   "source": [
    "popular_platforms_2016 = ['PS4', 'XOne', '3DS', 'PC', 'WiiU']\n",
    "for platform in popular_platforms_2016:\n",
    "    data_platform = data.query('platform == @platform')\n",
    "    data_platform = data_platform.query('critic_score>=0')\n",
    "    data_platform.plot(x='critic_score', y='total_sales', kind='scatter', alpha=0.1)\n",
    "    plt.show();\n",
    "    cor = data_platform['critic_score'].corr(data_platform['total_sales'])\n",
    "    print('Коэффициент корреляции продаж и оценок критиков равен внутри платформы', platform, '=', cor)\n",
    "\n"
   ]
  },
  {
   "cell_type": "markdown",
   "metadata": {},
   "source": [
    "#### Исследование корреляции продаж и оценок пользователей внутри одной платформы.\n",
    "Выводы внутри наиболее популярных платформ совпадают также с глобальными выводами (связь практически отсутствует, коэффициент корреляции близок к нулю) для всех платформ, кроме `WiiU` (коэффициент корреляции равен 0.4)."
   ]
  },
  {
   "cell_type": "code",
   "execution_count": 37,
   "metadata": {},
   "outputs": [
    {
     "data": {
      "image/png": "[encoded data removed]",
      "text/plain": [
       "<Figure size 640x480 with 1 Axes>"
      ]
     },
     "metadata": {},
     "output_type": "display_data"
    },
    {
     "name": "stdout",
     "output_type": "stream",
     "text": [
      "Коэффициент корреляции продаж и оценок пользователей внутри платформы PS4 = -0.031957110204556376\n"
     ]
    },
    {
     "data": {
      "image/png": "[encoded data removed]",
      "text/plain": [
       "<Figure size 640x480 with 1 Axes>"
      ]
     },
     "metadata": {},
     "output_type": "display_data"
    },
    {
     "name": "stdout",
     "output_type": "stream",
     "text": [
      "Коэффициент корреляции продаж и оценок пользователей внутри платформы XOne = -0.06892505328279414\n"
     ]
    },
    {
     "data": {
      "image/png": "[encoded data removed]",
      "text/plain": [
       "<Figure size 640x480 with 1 Axes>"
      ]
     },
     "metadata": {},
     "output_type": "display_data"
    },
    {
     "name": "stdout",
     "output_type": "stream",
     "text": [
      "Коэффициент корреляции продаж и оценок пользователей внутри платформы 3DS = 0.19758263411038599\n"
     ]
    },
    {
     "data": {
      "image/png": "[encoded data removed]",
      "text/plain": [
       "<Figure size 640x480 with 1 Axes>"
      ]
     },
     "metadata": {},
     "output_type": "display_data"
    },
    {
     "name": "stdout",
     "output_type": "stream",
     "text": [
      "Коэффициент корреляции продаж и оценок пользователей внутри платформы PC = -0.12186747630735577\n"
     ]
    },
    {
     "data": {
      "image/png": "[encoded data removed]",
      "text/plain": [
       "<Figure size 640x480 with 1 Axes>"
      ]
     },
     "metadata": {},
     "output_type": "display_data"
    },
    {
     "name": "stdout",
     "output_type": "stream",
     "text": [
      "Коэффициент корреляции продаж и оценок пользователей внутри платформы WiiU = 0.4002190202148617\n"
     ]
    }
   ],
   "source": [
    "for platform in popular_platforms_2016:\n",
    "    data_platform = data.query('(platform == @platform)&(user_score> =0)')\n",
    "    \n",
    "    data_platform.plot(x='user_score', y='total_sales', kind='scatter', alpha=0.1)\n",
    "    plt.show();\n",
    "    cor = data_platform['user_score'].corr(data_platform['total_sales'])\n",
    "    print('Коэффициент корреляции продаж и оценок пользователей внутри платформы', platform, '=', cor)"
   ]
  },
  {
   "cell_type": "markdown",
   "metadata": {},
   "source": [
    "#### Распределение игр по жанрам\n",
    "Наиболее прибыльными жанрами в общей статистике являются `Action`, `Sports`, `Shooter`, `Misc`, `Role-Playing`, но при этом прибыльность может быть обусловлена выходом отдельных популярных игр в соответствующем жанре. \n",
    "Исходя из исследования медианных значений и диаграмм размаха для жанров, мы можем назвать наиболее прибыльными жанрами `Shooter`, `Sports`, `Platform`, `Role-Playing`, `Racing`, из которых жанр `Shooter` наименее предсказуем (имеет максимальный среди пятёрки лидеров размах)."
   ]
  },
  {
   "cell_type": "code",
   "execution_count": 28,
   "metadata": {},
   "outputs": [
    {
     "data": {
      "text/html": [
       "<div>\n",
       "<style scoped>\n",
       "    .dataframe tbody tr th:only-of-type {\n",
       "        vertical-align: middle;\n",
       "    }\n",
       "\n",
       "    .dataframe tbody tr th {\n",
       "        vertical-align: top;\n",
       "    }\n",
       "\n",
       "    .dataframe thead th {\n",
       "        text-align: right;\n",
       "    }\n",
       "</style>\n",
       "<table border=\"1\" class=\"dataframe\">\n",
       "  <thead>\n",
       "    <tr style=\"text-align: right;\">\n",
       "      <th></th>\n",
       "      <th>sum</th>\n",
       "      <th>median</th>\n",
       "    </tr>\n",
       "    <tr>\n",
       "      <th>genre</th>\n",
       "      <th></th>\n",
       "      <th></th>\n",
       "    </tr>\n",
       "  </thead>\n",
       "  <tbody>\n",
       "    <tr>\n",
       "      <th>Shooter</th>\n",
       "      <td>304.73</td>\n",
       "      <td>0.44</td>\n",
       "    </tr>\n",
       "    <tr>\n",
       "      <th>Sports</th>\n",
       "      <td>181.07</td>\n",
       "      <td>0.24</td>\n",
       "    </tr>\n",
       "    <tr>\n",
       "      <th>Platform</th>\n",
       "      <td>61.00</td>\n",
       "      <td>0.21</td>\n",
       "    </tr>\n",
       "    <tr>\n",
       "      <th>Role-Playing</th>\n",
       "      <td>192.80</td>\n",
       "      <td>0.14</td>\n",
       "    </tr>\n",
       "    <tr>\n",
       "      <th>Racing</th>\n",
       "      <td>53.50</td>\n",
       "      <td>0.14</td>\n",
       "    </tr>\n",
       "  </tbody>\n",
       "</table>\n",
       "</div>"
      ],
      "text/plain": [
       "                 sum  median\n",
       "genre                       \n",
       "Shooter       304.73    0.44\n",
       "Sports        181.07    0.24\n",
       "Platform       61.00    0.21\n",
       "Role-Playing  192.80    0.14\n",
       "Racing         53.50    0.14"
      ]
     },
     "metadata": {},
     "output_type": "display_data"
    },
    {
     "data": {
      "image/png": "[encoded data removed]",
      "text/plain": [
       "<Figure size 2000x1000 with 1 Axes>"
      ]
     },
     "metadata": {},
     "output_type": "display_data"
    }
   ],
   "source": [
    "display(data.groupby('genre').agg(sum=('total_sales','sum'),median=('total_sales','median'))\n",
    "        .sort_values(by='median', ascending=False).head())\n",
    "data.boxplot(by='genre', column='total_sales', grid=True, figsize=(20,10))\n",
    "plt.show();"
   ]
  },
  {
   "cell_type": "markdown",
   "metadata": {},
   "source": [
    "### Портрет пользователя по регионам\n",
    "\n",
    "В **Северной Америке** наиболее продаваемыми жанрами по сумме продаж являются `Action`, `Shooter`,  `Sports`, `Misc`, `Role-Playing`, по медианным продажам - `Shooter`, `Platform`, `Sports`, `Fighting`, `Racing`, самыми популярными платформами - `X360`, `Wii`, `PS3`, `DS`, `PS4`, самыми продаваемыми играми являются игры с рейтингом E, M, T, E10+ и игры без рейтинга.\n",
    "\n"
   ]
  },
  {
   "cell_type": "code",
   "execution_count": 29,
   "metadata": {},
   "outputs": [
    {
     "data": {
      "text/html": [
       "<div>\n",
       "<style scoped>\n",
       "    .dataframe tbody tr th:only-of-type {\n",
       "        vertical-align: middle;\n",
       "    }\n",
       "\n",
       "    .dataframe tbody tr th {\n",
       "        vertical-align: top;\n",
       "    }\n",
       "\n",
       "    .dataframe thead th {\n",
       "        text-align: right;\n",
       "    }\n",
       "</style>\n",
       "<table border=\"1\" class=\"dataframe\">\n",
       "  <thead>\n",
       "    <tr style=\"text-align: right;\">\n",
       "      <th></th>\n",
       "      <th>na_sales</th>\n",
       "      <th>median</th>\n",
       "    </tr>\n",
       "    <tr>\n",
       "      <th>genre</th>\n",
       "      <th></th>\n",
       "      <th></th>\n",
       "    </tr>\n",
       "  </thead>\n",
       "  <tbody>\n",
       "    <tr>\n",
       "      <th>Shooter</th>\n",
       "      <td>144.77</td>\n",
       "      <td>0.20</td>\n",
       "    </tr>\n",
       "    <tr>\n",
       "      <th>Platform</th>\n",
       "      <td>25.38</td>\n",
       "      <td>0.09</td>\n",
       "    </tr>\n",
       "    <tr>\n",
       "      <th>Sports</th>\n",
       "      <td>81.53</td>\n",
       "      <td>0.08</td>\n",
       "    </tr>\n",
       "    <tr>\n",
       "      <th>Fighting</th>\n",
       "      <td>19.79</td>\n",
       "      <td>0.05</td>\n",
       "    </tr>\n",
       "    <tr>\n",
       "      <th>Racing</th>\n",
       "      <td>17.22</td>\n",
       "      <td>0.04</td>\n",
       "    </tr>\n",
       "  </tbody>\n",
       "</table>\n",
       "</div>"
      ],
      "text/plain": [
       "          na_sales  median\n",
       "genre                     \n",
       "Shooter     144.77    0.20\n",
       "Platform     25.38    0.09\n",
       "Sports       81.53    0.08\n",
       "Fighting     19.79    0.05\n",
       "Racing       17.22    0.04"
      ]
     },
     "metadata": {},
     "output_type": "display_data"
    },
    {
     "data": {
      "text/html": [
       "<div>\n",
       "<style scoped>\n",
       "    .dataframe tbody tr th:only-of-type {\n",
       "        vertical-align: middle;\n",
       "    }\n",
       "\n",
       "    .dataframe tbody tr th {\n",
       "        vertical-align: top;\n",
       "    }\n",
       "\n",
       "    .dataframe thead th {\n",
       "        text-align: right;\n",
       "    }\n",
       "</style>\n",
       "<table border=\"1\" class=\"dataframe\">\n",
       "  <thead>\n",
       "    <tr style=\"text-align: right;\">\n",
       "      <th></th>\n",
       "      <th>na_sales</th>\n",
       "      <th>part</th>\n",
       "    </tr>\n",
       "    <tr>\n",
       "      <th>platform</th>\n",
       "      <th></th>\n",
       "      <th></th>\n",
       "    </tr>\n",
       "  </thead>\n",
       "  <tbody>\n",
       "    <tr>\n",
       "      <th>X360</th>\n",
       "      <td>140.05</td>\n",
       "      <td>0.236983</td>\n",
       "    </tr>\n",
       "    <tr>\n",
       "      <th>PS4</th>\n",
       "      <td>108.74</td>\n",
       "      <td>0.184003</td>\n",
       "    </tr>\n",
       "    <tr>\n",
       "      <th>PS3</th>\n",
       "      <td>103.38</td>\n",
       "      <td>0.174933</td>\n",
       "    </tr>\n",
       "    <tr>\n",
       "      <th>XOne</th>\n",
       "      <td>93.12</td>\n",
       "      <td>0.157571</td>\n",
       "    </tr>\n",
       "    <tr>\n",
       "      <th>3DS</th>\n",
       "      <td>55.31</td>\n",
       "      <td>0.093592</td>\n",
       "    </tr>\n",
       "  </tbody>\n",
       "</table>\n",
       "</div>"
      ],
      "text/plain": [
       "          na_sales      part\n",
       "platform                    \n",
       "X360        140.05  0.236983\n",
       "PS4         108.74  0.184003\n",
       "PS3         103.38  0.174933\n",
       "XOne         93.12  0.157571\n",
       "3DS          55.31  0.093592"
      ]
     },
     "metadata": {},
     "output_type": "display_data"
    },
    {
     "data": {
      "text/html": [
       "<div>\n",
       "<style scoped>\n",
       "    .dataframe tbody tr th:only-of-type {\n",
       "        vertical-align: middle;\n",
       "    }\n",
       "\n",
       "    .dataframe tbody tr th {\n",
       "        vertical-align: top;\n",
       "    }\n",
       "\n",
       "    .dataframe thead th {\n",
       "        text-align: right;\n",
       "    }\n",
       "</style>\n",
       "<table border=\"1\" class=\"dataframe\">\n",
       "  <thead>\n",
       "    <tr style=\"text-align: right;\">\n",
       "      <th></th>\n",
       "      <th>na_sales</th>\n",
       "    </tr>\n",
       "    <tr>\n",
       "      <th>rating</th>\n",
       "      <th></th>\n",
       "    </tr>\n",
       "  </thead>\n",
       "  <tbody>\n",
       "    <tr>\n",
       "      <th>M</th>\n",
       "      <td>231.57</td>\n",
       "    </tr>\n",
       "    <tr>\n",
       "      <th>E</th>\n",
       "      <td>114.37</td>\n",
       "    </tr>\n",
       "    <tr>\n",
       "      <th>-</th>\n",
       "      <td>103.31</td>\n",
       "    </tr>\n",
       "    <tr>\n",
       "      <th>E10+</th>\n",
       "      <td>75.70</td>\n",
       "    </tr>\n",
       "    <tr>\n",
       "      <th>T</th>\n",
       "      <td>66.02</td>\n",
       "    </tr>\n",
       "  </tbody>\n",
       "</table>\n",
       "</div>"
      ],
      "text/plain": [
       "        na_sales\n",
       "rating          \n",
       "M         231.57\n",
       "E         114.37\n",
       "-         103.31\n",
       "E10+       75.70\n",
       "T          66.02"
      ]
     },
     "metadata": {},
     "output_type": "display_data"
    }
   ],
   "source": [
    "display(data.groupby('genre').agg(na_sales=('na_sales','sum'), median=('na_sales','median')).sort_values(by='median', ascending=False).head())\n",
    "na_platform=data.groupby('platform').agg(na_sales=('na_sales','sum'))\n",
    "na_sales_sum = na_platform['na_sales'].sum()\n",
    "na_platform['part']=na_platform['na_sales']/na_sales_sum \n",
    "display(na_platform.sort_values(by='na_sales', ascending=False).head())\n",
    "display(data.groupby('rating').agg(na_sales=('na_sales','sum')).sort_values(by='na_sales', ascending=False))\n"
   ]
  },
  {
   "cell_type": "markdown",
   "metadata": {},
   "source": [
    "В **Японии** наиболее продаваемыми жанрами являются `Role-Playing`, `Action`, `Misc`, `Sports`, `Adventure`, наиболее прибыльными по медианному среднем - `Role-Playing`, `Fighting`, `Misc`, `Action`, `Adventure`, самыми популярными платформами - `DS`, `3DS`, `PS3`, `PSP`, `Wii`, самыми продаваемыми играми являются игры без рейтинга и игры с рейтингом E, M, T, E10+."
   ]
  },
  {
   "cell_type": "code",
   "execution_count": 30,
   "metadata": {},
   "outputs": [
    {
     "data": {
      "text/html": [
       "<div>\n",
       "<style scoped>\n",
       "    .dataframe tbody tr th:only-of-type {\n",
       "        vertical-align: middle;\n",
       "    }\n",
       "\n",
       "    .dataframe tbody tr th {\n",
       "        vertical-align: top;\n",
       "    }\n",
       "\n",
       "    .dataframe thead th {\n",
       "        text-align: right;\n",
       "    }\n",
       "</style>\n",
       "<table border=\"1\" class=\"dataframe\">\n",
       "  <thead>\n",
       "    <tr style=\"text-align: right;\">\n",
       "      <th></th>\n",
       "      <th>sum</th>\n",
       "      <th>median</th>\n",
       "    </tr>\n",
       "    <tr>\n",
       "      <th>genre</th>\n",
       "      <th></th>\n",
       "      <th></th>\n",
       "    </tr>\n",
       "  </thead>\n",
       "  <tbody>\n",
       "    <tr>\n",
       "      <th>Role-Playing</th>\n",
       "      <td>65.44</td>\n",
       "      <td>0.06</td>\n",
       "    </tr>\n",
       "    <tr>\n",
       "      <th>Fighting</th>\n",
       "      <td>9.44</td>\n",
       "      <td>0.03</td>\n",
       "    </tr>\n",
       "    <tr>\n",
       "      <th>Misc</th>\n",
       "      <td>12.86</td>\n",
       "      <td>0.02</td>\n",
       "    </tr>\n",
       "    <tr>\n",
       "      <th>Action</th>\n",
       "      <td>52.80</td>\n",
       "      <td>0.01</td>\n",
       "    </tr>\n",
       "    <tr>\n",
       "      <th>Adventure</th>\n",
       "      <td>8.24</td>\n",
       "      <td>0.01</td>\n",
       "    </tr>\n",
       "  </tbody>\n",
       "</table>\n",
       "</div>"
      ],
      "text/plain": [
       "                sum  median\n",
       "genre                      \n",
       "Role-Playing  65.44    0.06\n",
       "Fighting       9.44    0.03\n",
       "Misc          12.86    0.02\n",
       "Action        52.80    0.01\n",
       "Adventure      8.24    0.01"
      ]
     },
     "metadata": {},
     "output_type": "display_data"
    },
    {
     "data": {
      "text/html": [
       "<div>\n",
       "<style scoped>\n",
       "    .dataframe tbody tr th:only-of-type {\n",
       "        vertical-align: middle;\n",
       "    }\n",
       "\n",
       "    .dataframe tbody tr th {\n",
       "        vertical-align: top;\n",
       "    }\n",
       "\n",
       "    .dataframe thead th {\n",
       "        text-align: right;\n",
       "    }\n",
       "</style>\n",
       "<table border=\"1\" class=\"dataframe\">\n",
       "  <thead>\n",
       "    <tr style=\"text-align: right;\">\n",
       "      <th></th>\n",
       "      <th>jp_sales</th>\n",
       "      <th>part</th>\n",
       "    </tr>\n",
       "    <tr>\n",
       "      <th>platform</th>\n",
       "      <th></th>\n",
       "      <th></th>\n",
       "    </tr>\n",
       "  </thead>\n",
       "  <tbody>\n",
       "    <tr>\n",
       "      <th>3DS</th>\n",
       "      <td>87.79</td>\n",
       "      <td>0.455862</td>\n",
       "    </tr>\n",
       "    <tr>\n",
       "      <th>PS3</th>\n",
       "      <td>35.29</td>\n",
       "      <td>0.183249</td>\n",
       "    </tr>\n",
       "    <tr>\n",
       "      <th>PSV</th>\n",
       "      <td>21.04</td>\n",
       "      <td>0.109253</td>\n",
       "    </tr>\n",
       "    <tr>\n",
       "      <th>PS4</th>\n",
       "      <td>15.96</td>\n",
       "      <td>0.082875</td>\n",
       "    </tr>\n",
       "    <tr>\n",
       "      <th>WiiU</th>\n",
       "      <td>13.01</td>\n",
       "      <td>0.067556</td>\n",
       "    </tr>\n",
       "  </tbody>\n",
       "</table>\n",
       "</div>"
      ],
      "text/plain": [
       "          jp_sales      part\n",
       "platform                    \n",
       "3DS          87.79  0.455862\n",
       "PS3          35.29  0.183249\n",
       "PSV          21.04  0.109253\n",
       "PS4          15.96  0.082875\n",
       "WiiU         13.01  0.067556"
      ]
     },
     "metadata": {},
     "output_type": "display_data"
    },
    {
     "data": {
      "text/html": [
       "<div>\n",
       "<style scoped>\n",
       "    .dataframe tbody tr th:only-of-type {\n",
       "        vertical-align: middle;\n",
       "    }\n",
       "\n",
       "    .dataframe tbody tr th {\n",
       "        vertical-align: top;\n",
       "    }\n",
       "\n",
       "    .dataframe thead th {\n",
       "        text-align: right;\n",
       "    }\n",
       "</style>\n",
       "<table border=\"1\" class=\"dataframe\">\n",
       "  <thead>\n",
       "    <tr style=\"text-align: right;\">\n",
       "      <th></th>\n",
       "      <th>jp_sales</th>\n",
       "    </tr>\n",
       "    <tr>\n",
       "      <th>rating</th>\n",
       "      <th></th>\n",
       "    </tr>\n",
       "  </thead>\n",
       "  <tbody>\n",
       "    <tr>\n",
       "      <th>-</th>\n",
       "      <td>108.84</td>\n",
       "    </tr>\n",
       "    <tr>\n",
       "      <th>E</th>\n",
       "      <td>28.33</td>\n",
       "    </tr>\n",
       "    <tr>\n",
       "      <th>T</th>\n",
       "      <td>26.02</td>\n",
       "    </tr>\n",
       "    <tr>\n",
       "      <th>M</th>\n",
       "      <td>21.20</td>\n",
       "    </tr>\n",
       "    <tr>\n",
       "      <th>E10+</th>\n",
       "      <td>8.19</td>\n",
       "    </tr>\n",
       "  </tbody>\n",
       "</table>\n",
       "</div>"
      ],
      "text/plain": [
       "        jp_sales\n",
       "rating          \n",
       "-         108.84\n",
       "E          28.33\n",
       "T          26.02\n",
       "M          21.20\n",
       "E10+        8.19"
      ]
     },
     "metadata": {},
     "output_type": "display_data"
    }
   ],
   "source": [
    "display(data.groupby('genre').agg(sum=('jp_sales','sum'), median=('jp_sales', 'median')).sort_values(by='median', ascending=False).head())\n",
    "jp_platform = data.groupby('platform').agg(jp_sales=('jp_sales','sum'))\n",
    "jp_sales_sum = jp_platform['jp_sales'].sum()\n",
    "jp_platform['part']=jp_platform['jp_sales']/jp_sales_sum \n",
    "display(jp_platform.sort_values(by='jp_sales', ascending=False).head())\n",
    "display(data.groupby('rating').agg(jp_sales=('jp_sales','sum')).sort_values(by='jp_sales', ascending=False))\n"
   ]
  },
  {
   "cell_type": "code",
   "execution_count": 31,
   "metadata": {},
   "outputs": [
    {
     "name": "stdout",
     "output_type": "stream",
     "text": [
      "0 0.0\n"
     ]
    },
    {
     "data": {
      "text/plain": [
       "-       1275\n",
       "M        498\n",
       "T        412\n",
       "E        395\n",
       "E10+     306\n",
       "Name: rating, dtype: int64"
      ]
     },
     "execution_count": 31,
     "metadata": {},
     "output_type": "execute_result"
    }
   ],
   "source": [
    "# Комментарий ревьюера\n",
    "temp = data.copy()\n",
    "print(temp.rating.isna().sum(), temp.rating.isna().sum()/len(temp))\n",
    "temp.rating.value_counts()"
   ]
  },
  {
   "cell_type": "markdown",
   "metadata": {},
   "source": [
    "В **Европе** наиболее прибыльными жанрами являются `Action`, `Shooter`,  `Sports`, `Misc`, `Racing`,  самыми стабильно популярными жанрами по медианному среднему продаж - `Shooter`, `Racing`, `Platform`, `Sports`, `Simulaton`, самыми популярными платформами - `PS3`, `X360`, `Wii`, `PS4`, `DS`, самыми продаваемыми играми являются игры с рейтингом E, M, T, E10+ и игры без рейтинга."
   ]
  },
  {
   "cell_type": "code",
   "execution_count": 32,
   "metadata": {},
   "outputs": [
    {
     "data": {
      "text/html": [
       "<div>\n",
       "<style scoped>\n",
       "    .dataframe tbody tr th:only-of-type {\n",
       "        vertical-align: middle;\n",
       "    }\n",
       "\n",
       "    .dataframe tbody tr th {\n",
       "        vertical-align: top;\n",
       "    }\n",
       "\n",
       "    .dataframe thead th {\n",
       "        text-align: right;\n",
       "    }\n",
       "</style>\n",
       "<table border=\"1\" class=\"dataframe\">\n",
       "  <thead>\n",
       "    <tr style=\"text-align: right;\">\n",
       "      <th></th>\n",
       "      <th>eu_sales</th>\n",
       "      <th>median</th>\n",
       "    </tr>\n",
       "    <tr>\n",
       "      <th>genre</th>\n",
       "      <th></th>\n",
       "      <th></th>\n",
       "    </tr>\n",
       "  </thead>\n",
       "  <tbody>\n",
       "    <tr>\n",
       "      <th>Shooter</th>\n",
       "      <td>113.47</td>\n",
       "      <td>0.17</td>\n",
       "    </tr>\n",
       "    <tr>\n",
       "      <th>Racing</th>\n",
       "      <td>27.29</td>\n",
       "      <td>0.09</td>\n",
       "    </tr>\n",
       "    <tr>\n",
       "      <th>Platform</th>\n",
       "      <td>21.41</td>\n",
       "      <td>0.08</td>\n",
       "    </tr>\n",
       "    <tr>\n",
       "      <th>Sports</th>\n",
       "      <td>69.09</td>\n",
       "      <td>0.05</td>\n",
       "    </tr>\n",
       "    <tr>\n",
       "      <th>Simulation</th>\n",
       "      <td>14.55</td>\n",
       "      <td>0.03</td>\n",
       "    </tr>\n",
       "  </tbody>\n",
       "</table>\n",
       "</div>"
      ],
      "text/plain": [
       "            eu_sales  median\n",
       "genre                       \n",
       "Shooter       113.47    0.17\n",
       "Racing         27.29    0.09\n",
       "Platform       21.41    0.08\n",
       "Sports         69.09    0.05\n",
       "Simulation     14.55    0.03"
      ]
     },
     "metadata": {},
     "output_type": "display_data"
    },
    {
     "data": {
      "text/html": [
       "<div>\n",
       "<style scoped>\n",
       "    .dataframe tbody tr th:only-of-type {\n",
       "        vertical-align: middle;\n",
       "    }\n",
       "\n",
       "    .dataframe tbody tr th {\n",
       "        vertical-align: top;\n",
       "    }\n",
       "\n",
       "    .dataframe thead th {\n",
       "        text-align: right;\n",
       "    }\n",
       "</style>\n",
       "<table border=\"1\" class=\"dataframe\">\n",
       "  <thead>\n",
       "    <tr style=\"text-align: right;\">\n",
       "      <th></th>\n",
       "      <th>eu_sales</th>\n",
       "      <th>part</th>\n",
       "    </tr>\n",
       "    <tr>\n",
       "      <th>platform</th>\n",
       "      <th></th>\n",
       "      <th></th>\n",
       "    </tr>\n",
       "  </thead>\n",
       "  <tbody>\n",
       "    <tr>\n",
       "      <th>PS4</th>\n",
       "      <td>141.09</td>\n",
       "      <td>0.278383</td>\n",
       "    </tr>\n",
       "    <tr>\n",
       "      <th>PS3</th>\n",
       "      <td>106.86</td>\n",
       "      <td>0.210844</td>\n",
       "    </tr>\n",
       "    <tr>\n",
       "      <th>X360</th>\n",
       "      <td>74.52</td>\n",
       "      <td>0.147034</td>\n",
       "    </tr>\n",
       "    <tr>\n",
       "      <th>XOne</th>\n",
       "      <td>51.59</td>\n",
       "      <td>0.101792</td>\n",
       "    </tr>\n",
       "    <tr>\n",
       "      <th>3DS</th>\n",
       "      <td>42.64</td>\n",
       "      <td>0.084132</td>\n",
       "    </tr>\n",
       "  </tbody>\n",
       "</table>\n",
       "</div>"
      ],
      "text/plain": [
       "          eu_sales      part\n",
       "platform                    \n",
       "PS4         141.09  0.278383\n",
       "PS3         106.86  0.210844\n",
       "X360         74.52  0.147034\n",
       "XOne         51.59  0.101792\n",
       "3DS          42.64  0.084132"
      ]
     },
     "metadata": {},
     "output_type": "display_data"
    },
    {
     "data": {
      "text/html": [
       "<div>\n",
       "<style scoped>\n",
       "    .dataframe tbody tr th:only-of-type {\n",
       "        vertical-align: middle;\n",
       "    }\n",
       "\n",
       "    .dataframe tbody tr th {\n",
       "        vertical-align: top;\n",
       "    }\n",
       "\n",
       "    .dataframe thead th {\n",
       "        text-align: right;\n",
       "    }\n",
       "</style>\n",
       "<table border=\"1\" class=\"dataframe\">\n",
       "  <thead>\n",
       "    <tr style=\"text-align: right;\">\n",
       "      <th></th>\n",
       "      <th>eu_sales</th>\n",
       "    </tr>\n",
       "    <tr>\n",
       "      <th>rating</th>\n",
       "      <th></th>\n",
       "    </tr>\n",
       "  </thead>\n",
       "  <tbody>\n",
       "    <tr>\n",
       "      <th>M</th>\n",
       "      <td>193.96</td>\n",
       "    </tr>\n",
       "    <tr>\n",
       "      <th>E</th>\n",
       "      <td>113.03</td>\n",
       "    </tr>\n",
       "    <tr>\n",
       "      <th>-</th>\n",
       "      <td>91.50</td>\n",
       "    </tr>\n",
       "    <tr>\n",
       "      <th>E10+</th>\n",
       "      <td>55.37</td>\n",
       "    </tr>\n",
       "    <tr>\n",
       "      <th>T</th>\n",
       "      <td>52.96</td>\n",
       "    </tr>\n",
       "  </tbody>\n",
       "</table>\n",
       "</div>"
      ],
      "text/plain": [
       "        eu_sales\n",
       "rating          \n",
       "M         193.96\n",
       "E         113.03\n",
       "-          91.50\n",
       "E10+       55.37\n",
       "T          52.96"
      ]
     },
     "metadata": {},
     "output_type": "display_data"
    }
   ],
   "source": [
    "display(data.groupby('genre').agg(eu_sales=('eu_sales','sum'), median = ('eu_sales', 'median')).sort_values(by='median', ascending=False).head())\n",
    "eu_platform = data.groupby('platform').agg(eu_sales=('eu_sales','sum'))\n",
    "eu_sales_sum = eu_platform['eu_sales'].sum()\n",
    "eu_platform['part']=eu_platform['eu_sales']/eu_sales_sum \n",
    "display(eu_platform.sort_values(by='eu_sales', ascending=False).head())\n",
    "display(data.groupby('rating').agg(eu_sales=('eu_sales','sum')).sort_values(by='eu_sales', ascending=False))\n"
   ]
  },
  {
   "cell_type": "markdown",
   "metadata": {},
   "source": [
    "### Проверка гипотез"
   ]
  },
  {
   "cell_type": "markdown",
   "metadata": {},
   "source": [
    "H0: Средние пользовательские рейтинги платформ Xbox One и PC одинаковые\n",
    "\n",
    "H1: Средние пользовательские рейтинги платформ Xbox One и PC разные\n",
    "\n",
    "Мы воспользуемся критерием равенства средних значений для независимых выборок с различными дисперсиями.\n",
    "Уровень значимости мы берем равным 0.05.\n",
    "Для дополнительной проверки мы вычислим p-value для критерия равенства средних значений для независимых выборок с одинаковыми дисперсиями и убедимся в совпадении результатов."
   ]
  },
  {
   "cell_type": "code",
   "execution_count": 33,
   "metadata": {},
   "outputs": [
    {
     "name": "stdout",
     "output_type": "stream",
     "text": [
      "Средний пользовательский рейтинг платформы Xbox One равен 6.521428571428572\n",
      "Средний пользовательский рейтинг платформы PC равен 6.4286407766990274\n",
      "Дисперсия пользовательского рейтинга платформы Xbox One равна 1.8965188383045533\n",
      "Дисперсия пользовательского рейтинга платформы PC равна 2.7569952398906565\n",
      "p-value different var =  0.5489537965134912\n",
      "p-value equal var =  0.5535080500643661\n",
      "Принимаем гипотезу Н0: Средние пользовательские рейтинги платформ Xbox One и PC одинаковые\n"
     ]
    }
   ],
   "source": [
    "from scipy import stats as st\n",
    "\n",
    "H0 = 'Средние пользовательские рейтинги платформ Xbox One и PC одинаковые'\n",
    "H1 = 'Средние пользовательские рейтинги платформ Xbox One и PC разные'\n",
    "data_clean = data[data['user_score']>=0]\n",
    "\n",
    "results = st.ttest_ind(data_clean.query('platform==\"XOne\"')['user_score'], \n",
    "                       data_clean.query('platform==\"PC\"')['user_score'], equal_var = False)\n",
    "results2 = st.ttest_ind(data_clean.query('platform==\"XOne\"')['user_score'], \n",
    "                       data_clean.query('platform==\"PC\"')['user_score'], equal_var = True)\n",
    "\n",
    "\n",
    "alpha = 0.05\n",
    "pv = results.pvalue\n",
    "pv2 = results2.pvalue\n",
    "print('Средний пользовательский рейтинг платформы Xbox One равен', data_clean.query('platform==\"XOne\"')['user_score'].mean())\n",
    "print('Средний пользовательский рейтинг платформы PC равен', data_clean.query('platform==\"PC\"')['user_score'].mean())\n",
    "print('Дисперсия пользовательского рейтинга платформы Xbox One равна', np.var(data_clean.query('platform==\"XOne\"')['user_score']))\n",
    "print('Дисперсия пользовательского рейтинга платформы PC равна', np.var(data_clean.query('platform==\"PC\"')['user_score']))\n",
    "\n",
    "print('p-value different var = ', pv)\n",
    "print('p-value equal var = ', pv2)\n",
    "if (pv < alpha) and (pv2 < alpha):\n",
    "    print('Принимаем гипотезу Н1:', H1)\n",
    "elif (pv>= alpha) and (pv2 >= alpha):\n",
    "    print('Принимаем гипотезу Н0:', H0)\n",
    "else:\n",
    "    print('Результат противоречив, требуется дополнительное исследование')"
   ]
  },
  {
   "cell_type": "markdown",
   "metadata": {},
   "source": [
    "H0: Средние пользовательские рейтинги жанров Action и Sports одинаковые\n",
    "\n",
    "H1: Средние пользовательские рейтинги жанров Action и Sports разные\n",
    "\n",
    "Мы воспользуемся критерием равенства средних значений для независимых выборок с различными дисперсиями.\n",
    "Уровень значимости мы берем равным 0.05.\n",
    "Для дополнительной проверки мы вычислим p-value для критерия равенства средних значений для независимых выборок с одинаковыми дисперсиями и убедимся в совпадении результатов."
   ]
  },
  {
   "cell_type": "code",
   "execution_count": 34,
   "metadata": {},
   "outputs": [
    {
     "name": "stdout",
     "output_type": "stream",
     "text": [
      "Средний пользовательский рейтинг жанра Action равен 6.825047801147227\n",
      "Средний пользовательский рейтинг жанра Sports равен 5.455897435897437\n",
      "Дисперсия пользовательского рейтинга жанра Action равна 1.8854720340439228\n",
      "Дисперсия пользовательского рейтинга жанра Sports равна 3.007388297172914\n",
      "p-value different var =  4.24307776572644e-20\n",
      "p-value equal var =  4.24307776572644e-20\n",
      "Принимаем гипотезу Н1: Средние пользовательские рейтинги жанров Action и Sports разные\n"
     ]
    }
   ],
   "source": [
    "H0 = 'Средние пользовательские рейтинги жанров Action и Sports одинаковые'\n",
    "H1 = 'Средние пользовательские рейтинги жанров Action и Sports разные'\n",
    "results = st.ttest_ind(data_clean.query('genre==\"Action\"')['user_score'], \n",
    "                       data_clean.query('genre==\"Sports\"')['user_score'], equal_var = False)\n",
    "results2 = st.ttest_ind(data_clean.query('genre==\"Action\"')['user_score'], \n",
    "                       data_clean.query('genre==\"Sports\"')['user_score'], equal_var = False)\n",
    "\n",
    "alpha = 0.05\n",
    "pv = results.pvalue\n",
    "pv2 = results2.pvalue\n",
    "print('Средний пользовательский рейтинг жанра Action равен', data_clean.query('genre==\"Action\"')['user_score'].mean())\n",
    "print('Средний пользовательский рейтинг жанра Sports равен', data_clean.query('genre==\"Sports\"')['user_score'].mean())\n",
    "print('Дисперсия пользовательского рейтинга жанра Action равна', np.var(data_clean.query('genre==\"Action\"')['user_score']))\n",
    "print('Дисперсия пользовательского рейтинга жанра Sports равна', np.var(data_clean.query('genre==\"Sports\"')['user_score']))\n",
    "print('p-value different var = ', pv)\n",
    "print('p-value equal var = ', pv2)\n",
    "if (pv  < alpha):\n",
    "    print('Принимаем гипотезу Н1:', H1)\n",
    "else :\n",
    "    print('Принимаем гипотезу Н0:', H0)"
   ]
  },
  {
   "cell_type": "markdown",
   "metadata": {},
   "source": [
    "### Вывод"
   ]
  },
  {
   "cell_type": "markdown",
   "metadata": {},
   "source": [
    "Мы изучили данные о продажах компьютерных игр за период с 1985 по 2016 год с целью выявления факторов, влияющих на продажи.\n",
    "Мы изучили, как на продажу игры влияют следующие факторы: \n",
    "- регион пользователя\n",
    "- используемая платформа\n",
    "- жанр игры\n",
    "- рейтинг игры\n",
    "- оценки критиков и пользователей.\n",
    "\n",
    "**Мы установили, что портрет пользователя Европы и Северной Америки во многом схожи, а вот тенденции, имеющие место в Японии, существенно отличаются, поэтому мы рекомендуем сконцентрироваться на Европейском и Североамериканском регионах.**\n",
    "\n",
    "Мы установили, что платформы набирают популярность и теряют её за 10 лет, таким образом, для прогнозирования взяли половину этого период, т.е. данные с 2011 года. На конец 2016 года наиболее прибыльными платформами в мире оказались: `PS4`, `XOne`, `3DS`, `PC`, `WiiU`, при этом любопытно, что в отдельных регионах наиболее прибыльными могут являться платформы, не вошедшие в мировой ТОП-5. В частности, в Европе лидерами продаж стали - `PS3`, `X360`, `Wii`, `PS4`, `DS` (платформы перечислены в порядке убывания доли рынка от 23% до 8%), в Северной Америке - `X360`, `Wii`, `PS3`, `DS`, `PS4` (от 26% до 5%), в Японии - `DS`, `3DS`, `PS3`, `PSP`, `Wii` (от 21% до 12%).\n",
    "\n",
    "**Мы рекомендуем сконцентрироваться на платформе PS4 во всех регионах, кроме Японии - она наиболее прибыльная как в мире, так и в Европе и Северной Америке.**\n",
    "Наиболее прибыльными жанрами в общей статистике оказались `Action`, `Sports`, `Shooter`, `Misc`, `Role-Playing`, при этом в Северной Америке ситуация совпадает с общемировой (наиболее популярны `Action`, `Shooter`,  `Sports`, `Misc`, `Role-Playing` - перечислены в порядке убывания популярности), в Европе - `Action`, `Shooter`,  `Sports`, `Misc`, `Racing`, в Японии -  `Role-Playing`, `Action`, `Misc`, `Sports`, `Adventure`.\n",
    "\n",
    "Отметим, что прибыльность жанров, в частности, `Action`, может быть обусловлено отдельными популярными играми, но не является стабильным прибыльным жанром. Дополнительно рассматривая медианные значения продаж по жанрам для выявления стабильно прибыльных жанром, мы установили, что\n",
    "\n",
    "**Жанрами, которые сочетают высокую суммарную прибыль с высокой медианной являются Shooter, Racing, Sports в Европе, Shooter и Sports в Северной Америке, а также Role-Playing, Misc, Action в Японии.**\n",
    "\n",
    "Во всех регионах подавляющую долю рынка занимают игры с рейтингами Е, М, Т, Е10+ и игры вне рейтинга, при этом\n",
    "\n",
    "**в Европе и Северной Америке наибольшую популярность имеют игры с рейтингами E и М, а в Японии - игры вне рейтинга (мы уже отмечали, что японские тендецнии отличаются от мировых).**\n",
    "\n",
    "Мы изучили влияние оценок пользователей и критиков на продажи и можем сделать следующие выводы:\n",
    "    - отзывы пользователей практически не влияют на продажи как глобально, так и при изучении отдельных платформ\n",
    "    - отзывы критиков незначительно, но всё же влияют на продажи (коэффициент корреляции в среднем 0.3), при этом внутри платформ эффект может быть как более, так и менее выражен.\n",
    "    \n",
    "    \n",
    "**Для рекомендуемой платформы PS4 коэффициент корреляции между оценками критиков и продажами выше среднего и равен 0.4.**\n"
   ]
  }
 ],
 "metadata": {
  "ExecuteTimeLog": [
   {
    "duration": 831,
    "start_time": "2022-07-26T12:20:56.003Z"
   },
   {
    "duration": 14,
    "start_time": "2022-07-26T12:21:55.418Z"
   },
   {
    "duration": 13,
    "start_time": "2022-07-26T12:23:26.465Z"
   },
   {
    "duration": 5,
    "start_time": "2022-07-26T12:26:50.147Z"
   },
   {
    "duration": 19,
    "start_time": "2022-07-26T12:26:59.240Z"
   },
   {
    "duration": 1211,
    "start_time": "2022-07-26T12:28:52.962Z"
   },
   {
    "duration": 13,
    "start_time": "2022-07-26T12:29:11.779Z"
   },
   {
    "duration": 8,
    "start_time": "2022-07-26T12:31:54.282Z"
   },
   {
    "duration": 24,
    "start_time": "2022-07-26T12:32:14.513Z"
   },
   {
    "duration": 32,
    "start_time": "2022-07-26T12:32:23.042Z"
   },
   {
    "duration": 24,
    "start_time": "2022-07-26T12:33:04.897Z"
   },
   {
    "duration": 22,
    "start_time": "2022-07-26T12:33:13.225Z"
   },
   {
    "duration": 28,
    "start_time": "2022-07-26T12:33:30.848Z"
   },
   {
    "duration": 58,
    "start_time": "2022-07-26T12:33:59.843Z"
   },
   {
    "duration": 14,
    "start_time": "2022-07-26T12:34:01.987Z"
   },
   {
    "duration": 25,
    "start_time": "2022-07-26T12:34:04.228Z"
   },
   {
    "duration": 9,
    "start_time": "2022-07-26T12:34:27.597Z"
   },
   {
    "duration": 9,
    "start_time": "2022-07-26T12:34:31.041Z"
   },
   {
    "duration": 16,
    "start_time": "2022-07-26T12:35:48.807Z"
   },
   {
    "duration": 561,
    "start_time": "2022-07-27T10:46:59.138Z"
   },
   {
    "duration": 13,
    "start_time": "2022-07-27T10:46:59.701Z"
   },
   {
    "duration": 20,
    "start_time": "2022-07-27T10:46:59.715Z"
   },
   {
    "duration": 22,
    "start_time": "2022-07-27T10:46:59.737Z"
   },
   {
    "duration": 11,
    "start_time": "2022-07-27T10:46:59.761Z"
   },
   {
    "duration": 4,
    "start_time": "2022-07-27T10:48:34.609Z"
   },
   {
    "duration": 4,
    "start_time": "2022-07-27T10:49:13.629Z"
   },
   {
    "duration": 4,
    "start_time": "2022-07-27T10:49:45.010Z"
   },
   {
    "duration": 5,
    "start_time": "2022-07-27T10:50:07.643Z"
   },
   {
    "duration": 4,
    "start_time": "2022-07-27T10:50:19.632Z"
   },
   {
    "duration": 67,
    "start_time": "2022-07-27T10:51:17.588Z"
   },
   {
    "duration": 18,
    "start_time": "2022-07-27T10:52:02.566Z"
   },
   {
    "duration": 13,
    "start_time": "2022-07-27T10:52:23.569Z"
   },
   {
    "duration": 5,
    "start_time": "2022-07-27T10:53:28.585Z"
   },
   {
    "duration": 7,
    "start_time": "2022-07-27T11:02:50.574Z"
   },
   {
    "duration": 8,
    "start_time": "2022-07-27T11:04:15.187Z"
   },
   {
    "duration": 12,
    "start_time": "2022-07-27T11:05:17.093Z"
   },
   {
    "duration": 65,
    "start_time": "2022-07-27T11:05:34.780Z"
   },
   {
    "duration": 13,
    "start_time": "2022-07-27T11:05:34.846Z"
   },
   {
    "duration": 13,
    "start_time": "2022-07-27T11:05:34.860Z"
   },
   {
    "duration": 22,
    "start_time": "2022-07-27T11:05:34.875Z"
   },
   {
    "duration": 46,
    "start_time": "2022-07-27T11:05:34.899Z"
   },
   {
    "duration": 4,
    "start_time": "2022-07-27T11:05:34.946Z"
   },
   {
    "duration": 6,
    "start_time": "2022-07-27T11:05:34.952Z"
   },
   {
    "duration": 6,
    "start_time": "2022-07-27T11:05:34.960Z"
   },
   {
    "duration": 6,
    "start_time": "2022-07-27T11:05:34.968Z"
   },
   {
    "duration": 7,
    "start_time": "2022-07-27T11:05:34.976Z"
   },
   {
    "duration": 21,
    "start_time": "2022-07-27T11:05:34.984Z"
   },
   {
    "duration": 38,
    "start_time": "2022-07-27T11:05:35.007Z"
   },
   {
    "duration": 19,
    "start_time": "2022-07-27T11:05:35.047Z"
   },
   {
    "duration": 72,
    "start_time": "2022-07-27T11:06:49.155Z"
   },
   {
    "duration": 9,
    "start_time": "2022-07-27T11:07:01.048Z"
   },
   {
    "duration": 9,
    "start_time": "2022-07-27T11:07:33.407Z"
   },
   {
    "duration": 8,
    "start_time": "2022-07-27T11:08:32.370Z"
   },
   {
    "duration": 5,
    "start_time": "2022-07-27T11:08:58.961Z"
   },
   {
    "duration": 5,
    "start_time": "2022-07-27T11:09:15.797Z"
   },
   {
    "duration": 7,
    "start_time": "2022-07-27T11:09:52.898Z"
   },
   {
    "duration": 7,
    "start_time": "2022-07-27T11:10:04.397Z"
   },
   {
    "duration": 5,
    "start_time": "2022-07-27T11:10:35.768Z"
   },
   {
    "duration": 20,
    "start_time": "2022-07-27T11:11:37.638Z"
   },
   {
    "duration": 8,
    "start_time": "2022-07-27T11:13:13.272Z"
   },
   {
    "duration": 27,
    "start_time": "2022-07-27T11:13:24.966Z"
   },
   {
    "duration": 19,
    "start_time": "2022-07-27T11:14:01.578Z"
   },
   {
    "duration": 11,
    "start_time": "2022-07-27T11:14:46.450Z"
   },
   {
    "duration": 14,
    "start_time": "2022-07-27T11:15:05.463Z"
   },
   {
    "duration": 22,
    "start_time": "2022-07-27T11:15:18.228Z"
   },
   {
    "duration": 13,
    "start_time": "2022-07-27T11:16:55.608Z"
   },
   {
    "duration": 35523,
    "start_time": "2022-07-27T11:19:14.893Z"
   },
   {
    "duration": 65367,
    "start_time": "2022-07-27T11:19:58.258Z"
   },
   {
    "duration": 90,
    "start_time": "2022-07-27T11:24:52.767Z"
   },
   {
    "duration": 62646,
    "start_time": "2022-07-27T11:26:11.746Z"
   },
   {
    "duration": 24,
    "start_time": "2022-07-27T11:27:31.504Z"
   },
   {
    "duration": 5,
    "start_time": "2022-07-27T11:29:57.221Z"
   },
   {
    "duration": 58,
    "start_time": "2022-07-27T11:30:55.516Z"
   },
   {
    "duration": 11,
    "start_time": "2022-07-27T11:30:55.576Z"
   },
   {
    "duration": 14,
    "start_time": "2022-07-27T11:30:55.589Z"
   },
   {
    "duration": 45,
    "start_time": "2022-07-27T11:30:55.604Z"
   },
   {
    "duration": 9,
    "start_time": "2022-07-27T11:30:55.651Z"
   },
   {
    "duration": 7,
    "start_time": "2022-07-27T11:30:55.661Z"
   },
   {
    "duration": 8,
    "start_time": "2022-07-27T11:30:55.669Z"
   },
   {
    "duration": 8,
    "start_time": "2022-07-27T11:30:55.679Z"
   },
   {
    "duration": 9,
    "start_time": "2022-07-27T11:30:55.690Z"
   },
   {
    "duration": 36,
    "start_time": "2022-07-27T11:30:55.700Z"
   },
   {
    "duration": 21,
    "start_time": "2022-07-27T11:30:55.737Z"
   },
   {
    "duration": 4,
    "start_time": "2022-07-27T11:30:55.759Z"
   },
   {
    "duration": 20,
    "start_time": "2022-07-27T11:30:55.765Z"
   },
   {
    "duration": 7,
    "start_time": "2022-07-27T11:30:55.786Z"
   },
   {
    "duration": 37,
    "start_time": "2022-07-27T11:30:55.794Z"
   },
   {
    "duration": 7,
    "start_time": "2022-07-27T11:30:55.833Z"
   },
   {
    "duration": 20,
    "start_time": "2022-07-27T11:30:55.844Z"
   },
   {
    "duration": 13,
    "start_time": "2022-07-27T11:30:55.866Z"
   },
   {
    "duration": 20,
    "start_time": "2022-07-27T11:30:55.881Z"
   },
   {
    "duration": 0,
    "start_time": "2022-07-27T11:30:55.902Z"
   },
   {
    "duration": 16,
    "start_time": "2022-07-27T11:31:42.951Z"
   },
   {
    "duration": 4,
    "start_time": "2022-07-27T11:33:00.474Z"
   },
   {
    "duration": 45,
    "start_time": "2022-07-27T11:33:57.823Z"
   },
   {
    "duration": 6,
    "start_time": "2022-07-27T11:36:31.973Z"
   },
   {
    "duration": 31,
    "start_time": "2022-07-27T11:36:51.376Z"
   },
   {
    "duration": 6,
    "start_time": "2022-07-27T11:36:58.133Z"
   },
   {
    "duration": 8,
    "start_time": "2022-07-27T11:37:47.158Z"
   },
   {
    "duration": 13,
    "start_time": "2022-07-27T12:45:05.398Z"
   },
   {
    "duration": 6,
    "start_time": "2022-07-27T12:45:21.508Z"
   },
   {
    "duration": 11,
    "start_time": "2022-07-27T12:47:25.319Z"
   },
   {
    "duration": 15,
    "start_time": "2022-07-27T12:49:29.893Z"
   },
   {
    "duration": 13,
    "start_time": "2022-07-27T12:49:36.736Z"
   },
   {
    "duration": 12,
    "start_time": "2022-07-27T12:49:44.708Z"
   },
   {
    "duration": 12,
    "start_time": "2022-07-27T12:50:43.794Z"
   },
   {
    "duration": 11,
    "start_time": "2022-07-27T12:50:57.064Z"
   },
   {
    "duration": 13,
    "start_time": "2022-07-27T12:51:18.509Z"
   },
   {
    "duration": 12,
    "start_time": "2022-07-27T12:51:26.058Z"
   },
   {
    "duration": 8,
    "start_time": "2022-07-27T13:04:45.086Z"
   },
   {
    "duration": 8,
    "start_time": "2022-07-27T13:04:52.149Z"
   },
   {
    "duration": 874,
    "start_time": "2022-07-27T13:06:25.578Z"
   },
   {
    "duration": 12,
    "start_time": "2022-07-27T13:07:09.635Z"
   },
   {
    "duration": 11,
    "start_time": "2022-07-27T13:07:38.351Z"
   },
   {
    "duration": 75,
    "start_time": "2022-07-27T13:08:11.712Z"
   },
   {
    "duration": 1185,
    "start_time": "2022-07-27T13:08:49.793Z"
   },
   {
    "duration": 124,
    "start_time": "2022-07-27T13:08:59.431Z"
   },
   {
    "duration": 59,
    "start_time": "2022-07-27T13:11:56.705Z"
   },
   {
    "duration": 26,
    "start_time": "2022-07-27T13:12:25.270Z"
   },
   {
    "duration": 59,
    "start_time": "2022-07-27T13:13:18.538Z"
   },
   {
    "duration": 12,
    "start_time": "2022-07-27T13:13:18.600Z"
   },
   {
    "duration": 12,
    "start_time": "2022-07-27T13:13:18.614Z"
   },
   {
    "duration": 23,
    "start_time": "2022-07-27T13:13:18.628Z"
   },
   {
    "duration": 8,
    "start_time": "2022-07-27T13:13:18.652Z"
   },
   {
    "duration": 13,
    "start_time": "2022-07-27T13:13:18.664Z"
   },
   {
    "duration": 5,
    "start_time": "2022-07-27T13:13:18.679Z"
   },
   {
    "duration": 6,
    "start_time": "2022-07-27T13:13:18.686Z"
   },
   {
    "duration": 7,
    "start_time": "2022-07-27T13:13:18.694Z"
   },
   {
    "duration": 29,
    "start_time": "2022-07-27T13:13:18.703Z"
   },
   {
    "duration": 15,
    "start_time": "2022-07-27T13:13:18.734Z"
   },
   {
    "duration": 4,
    "start_time": "2022-07-27T13:13:18.750Z"
   },
   {
    "duration": 18,
    "start_time": "2022-07-27T13:13:18.755Z"
   },
   {
    "duration": 6,
    "start_time": "2022-07-27T13:13:18.774Z"
   },
   {
    "duration": 6,
    "start_time": "2022-07-27T13:13:18.782Z"
   },
   {
    "duration": 42,
    "start_time": "2022-07-27T13:13:18.789Z"
   },
   {
    "duration": 13,
    "start_time": "2022-07-27T13:13:18.834Z"
   },
   {
    "duration": 8,
    "start_time": "2022-07-27T13:13:18.849Z"
   },
   {
    "duration": 0,
    "start_time": "2022-07-27T13:14:00.715Z"
   },
   {
    "duration": 0,
    "start_time": "2022-07-27T13:14:00.716Z"
   },
   {
    "duration": 0,
    "start_time": "2022-07-27T13:14:00.717Z"
   },
   {
    "duration": 0,
    "start_time": "2022-07-27T13:14:00.731Z"
   },
   {
    "duration": 0,
    "start_time": "2022-07-27T13:14:00.732Z"
   },
   {
    "duration": 11,
    "start_time": "2022-07-27T13:14:03.359Z"
   },
   {
    "duration": 12,
    "start_time": "2022-07-27T13:14:06.259Z"
   },
   {
    "duration": 202,
    "start_time": "2022-07-27T13:14:08.845Z"
   },
   {
    "duration": 114,
    "start_time": "2022-07-27T13:15:18.688Z"
   },
   {
    "duration": 1225,
    "start_time": "2022-07-27T13:15:56.662Z"
   },
   {
    "duration": 24827,
    "start_time": "2022-07-27T13:16:10.933Z"
   },
   {
    "duration": 170,
    "start_time": "2022-07-27T13:17:23.290Z"
   },
   {
    "duration": 176,
    "start_time": "2022-07-27T13:19:04.943Z"
   },
   {
    "duration": 149,
    "start_time": "2022-07-27T13:19:52.455Z"
   },
   {
    "duration": 468,
    "start_time": "2022-07-27T13:20:50.098Z"
   },
   {
    "duration": 159,
    "start_time": "2022-07-27T13:21:24.273Z"
   },
   {
    "duration": 210,
    "start_time": "2022-07-27T13:24:17.872Z"
   },
   {
    "duration": 155,
    "start_time": "2022-07-27T13:24:34.211Z"
   },
   {
    "duration": 139,
    "start_time": "2022-07-27T13:25:16.117Z"
   },
   {
    "duration": 147,
    "start_time": "2022-07-27T13:25:32.302Z"
   },
   {
    "duration": 12,
    "start_time": "2022-07-27T14:03:57.038Z"
   },
   {
    "duration": 134,
    "start_time": "2022-07-27T14:05:56.180Z"
   },
   {
    "duration": 1334,
    "start_time": "2022-07-27T14:06:25.478Z"
   },
   {
    "duration": 5,
    "start_time": "2022-07-27T14:06:57.034Z"
   },
   {
    "duration": 1406,
    "start_time": "2022-07-27T14:07:29.083Z"
   },
   {
    "duration": 7,
    "start_time": "2022-07-27T14:07:48.401Z"
   },
   {
    "duration": 17,
    "start_time": "2022-07-27T14:36:56.898Z"
   },
   {
    "duration": 32,
    "start_time": "2022-07-27T14:37:04.886Z"
   },
   {
    "duration": 129,
    "start_time": "2022-07-27T14:55:32.477Z"
   },
   {
    "duration": 127,
    "start_time": "2022-07-27T14:55:45.095Z"
   },
   {
    "duration": 132,
    "start_time": "2022-07-27T14:57:32.960Z"
   },
   {
    "duration": 121,
    "start_time": "2022-07-27T14:58:14.045Z"
   },
   {
    "duration": 267,
    "start_time": "2022-07-27T15:00:44.509Z"
   },
   {
    "duration": 13,
    "start_time": "2022-07-27T15:01:15.435Z"
   },
   {
    "duration": 13,
    "start_time": "2022-07-27T15:02:08.269Z"
   },
   {
    "duration": 57568,
    "start_time": "2022-07-27T15:02:32.727Z"
   },
   {
    "duration": 138,
    "start_time": "2022-07-27T15:18:52.971Z"
   },
   {
    "duration": 12,
    "start_time": "2022-07-27T15:19:15.260Z"
   },
   {
    "duration": 15,
    "start_time": "2022-07-27T15:22:06.272Z"
   },
   {
    "duration": 139,
    "start_time": "2022-07-27T15:22:38.851Z"
   },
   {
    "duration": 128,
    "start_time": "2022-07-27T15:22:53.448Z"
   },
   {
    "duration": 105,
    "start_time": "2022-07-27T15:23:57.882Z"
   },
   {
    "duration": 103,
    "start_time": "2022-07-27T15:24:26.010Z"
   },
   {
    "duration": 118,
    "start_time": "2022-07-27T15:25:52.259Z"
   },
   {
    "duration": 117,
    "start_time": "2022-07-27T15:26:07.782Z"
   },
   {
    "duration": 17,
    "start_time": "2022-07-27T15:26:15.718Z"
   },
   {
    "duration": 116,
    "start_time": "2022-07-27T15:26:30.649Z"
   },
   {
    "duration": 46,
    "start_time": "2022-07-28T20:37:02.481Z"
   },
   {
    "duration": 978,
    "start_time": "2022-07-28T20:37:08.408Z"
   },
   {
    "duration": 41,
    "start_time": "2022-07-28T20:37:16.361Z"
   },
   {
    "duration": 15,
    "start_time": "2022-07-28T20:37:28.379Z"
   },
   {
    "duration": 16,
    "start_time": "2022-07-28T20:37:30.885Z"
   },
   {
    "duration": 28,
    "start_time": "2022-07-28T20:37:35.516Z"
   },
   {
    "duration": 12,
    "start_time": "2022-07-28T20:37:38.295Z"
   },
   {
    "duration": 5,
    "start_time": "2022-07-28T20:37:41.016Z"
   },
   {
    "duration": 14,
    "start_time": "2022-07-28T20:37:47.228Z"
   },
   {
    "duration": 6,
    "start_time": "2022-07-28T20:38:02.636Z"
   },
   {
    "duration": 13,
    "start_time": "2022-07-28T20:38:07.406Z"
   },
   {
    "duration": 12,
    "start_time": "2022-07-28T20:39:55.577Z"
   },
   {
    "duration": 14,
    "start_time": "2022-07-28T20:40:18.537Z"
   },
   {
    "duration": 15,
    "start_time": "2022-07-28T20:40:28.993Z"
   },
   {
    "duration": 12,
    "start_time": "2022-07-28T20:40:52.712Z"
   },
   {
    "duration": 14,
    "start_time": "2022-07-28T20:41:35.379Z"
   },
   {
    "duration": 19,
    "start_time": "2022-07-28T20:58:55.162Z"
   },
   {
    "duration": 23,
    "start_time": "2022-07-28T20:59:48.610Z"
   },
   {
    "duration": 21,
    "start_time": "2022-07-28T20:59:50.526Z"
   },
   {
    "duration": 22,
    "start_time": "2022-07-28T21:01:43.188Z"
   },
   {
    "duration": 24,
    "start_time": "2022-07-28T21:03:07.866Z"
   },
   {
    "duration": 27,
    "start_time": "2022-07-28T21:03:18.697Z"
   },
   {
    "duration": 27,
    "start_time": "2022-07-28T21:04:44.091Z"
   },
   {
    "duration": 25,
    "start_time": "2022-07-28T21:04:57.169Z"
   },
   {
    "duration": 864,
    "start_time": "2022-07-28T21:05:37.521Z"
   },
   {
    "duration": 24,
    "start_time": "2022-07-28T21:05:51.039Z"
   },
   {
    "duration": 24,
    "start_time": "2022-07-28T21:06:22.560Z"
   },
   {
    "duration": 1262,
    "start_time": "2022-07-28T21:07:33.478Z"
   },
   {
    "duration": 901,
    "start_time": "2022-07-28T21:07:43.347Z"
   },
   {
    "duration": 25,
    "start_time": "2022-07-28T21:07:52.826Z"
   },
   {
    "duration": 36,
    "start_time": "2022-07-28T21:09:56.554Z"
   },
   {
    "duration": 36,
    "start_time": "2022-07-28T21:10:24.421Z"
   },
   {
    "duration": 35,
    "start_time": "2022-07-28T21:10:49.442Z"
   },
   {
    "duration": 5,
    "start_time": "2022-07-28T21:18:21.580Z"
   },
   {
    "duration": 9,
    "start_time": "2022-07-28T21:20:00.195Z"
   },
   {
    "duration": 550,
    "start_time": "2022-07-28T21:20:06.624Z"
   },
   {
    "duration": 72,
    "start_time": "2022-07-28T21:30:45.609Z"
   },
   {
    "duration": 28,
    "start_time": "2022-07-28T21:32:34.959Z"
   },
   {
    "duration": 5,
    "start_time": "2022-07-28T21:32:53.449Z"
   },
   {
    "duration": 4,
    "start_time": "2022-07-28T21:33:26.869Z"
   },
   {
    "duration": 4,
    "start_time": "2022-07-28T21:34:41.972Z"
   },
   {
    "duration": 12,
    "start_time": "2022-07-28T21:44:16.216Z"
   },
   {
    "duration": 10,
    "start_time": "2022-07-28T21:44:33.770Z"
   },
   {
    "duration": 12,
    "start_time": "2022-07-28T21:45:58.609Z"
   },
   {
    "duration": 26,
    "start_time": "2022-07-28T21:46:44.528Z"
   },
   {
    "duration": 24,
    "start_time": "2022-07-28T21:47:38.724Z"
   },
   {
    "duration": 22,
    "start_time": "2022-07-28T21:47:41.955Z"
   },
   {
    "duration": 22,
    "start_time": "2022-07-28T21:47:58.638Z"
   },
   {
    "duration": 21,
    "start_time": "2022-07-28T21:48:12.805Z"
   },
   {
    "duration": 22,
    "start_time": "2022-07-28T21:48:41.497Z"
   },
   {
    "duration": 25,
    "start_time": "2022-07-28T21:49:39.052Z"
   },
   {
    "duration": 12,
    "start_time": "2022-07-28T21:51:08.446Z"
   },
   {
    "duration": 490,
    "start_time": "2022-07-28T21:52:41.255Z"
   },
   {
    "duration": 1760,
    "start_time": "2022-07-28T21:53:18.829Z"
   },
   {
    "duration": 3665,
    "start_time": "2022-07-28T21:53:43.260Z"
   },
   {
    "duration": 5,
    "start_time": "2022-07-28T21:54:05.048Z"
   },
   {
    "duration": 1902,
    "start_time": "2022-07-28T21:54:17.906Z"
   },
   {
    "duration": 10,
    "start_time": "2022-07-28T21:54:28.170Z"
   },
   {
    "duration": 10,
    "start_time": "2022-07-28T21:54:37.340Z"
   },
   {
    "duration": 11,
    "start_time": "2022-07-28T21:55:05.485Z"
   },
   {
    "duration": 16,
    "start_time": "2022-07-28T21:56:15.273Z"
   },
   {
    "duration": 1956,
    "start_time": "2022-07-28T21:57:16.310Z"
   },
   {
    "duration": 26,
    "start_time": "2022-07-28T21:58:38.949Z"
   },
   {
    "duration": 19,
    "start_time": "2022-07-28T21:59:54.089Z"
   },
   {
    "duration": 11,
    "start_time": "2022-07-28T22:01:21.972Z"
   },
   {
    "duration": 917,
    "start_time": "2022-07-29T11:29:01.700Z"
   },
   {
    "duration": 14,
    "start_time": "2022-07-29T11:29:04.383Z"
   },
   {
    "duration": 1225,
    "start_time": "2022-07-29T11:48:34.282Z"
   },
   {
    "duration": 1229,
    "start_time": "2022-07-29T11:49:22.920Z"
   },
   {
    "duration": 1169,
    "start_time": "2022-07-29T11:49:27.568Z"
   },
   {
    "duration": 1693,
    "start_time": "2022-07-29T11:49:49.217Z"
   },
   {
    "duration": 1254,
    "start_time": "2022-07-29T11:50:44.158Z"
   },
   {
    "duration": 1213,
    "start_time": "2022-07-29T11:51:00.096Z"
   },
   {
    "duration": 55,
    "start_time": "2022-07-29T11:51:58.067Z"
   },
   {
    "duration": 12,
    "start_time": "2022-07-29T11:51:59.961Z"
   },
   {
    "duration": 14,
    "start_time": "2022-07-29T11:52:03.364Z"
   },
   {
    "duration": 23,
    "start_time": "2022-07-29T11:52:05.192Z"
   },
   {
    "duration": 10,
    "start_time": "2022-07-29T11:52:07.428Z"
   },
   {
    "duration": 6,
    "start_time": "2022-07-29T11:52:09.778Z"
   },
   {
    "duration": 3,
    "start_time": "2022-07-29T11:52:11.793Z"
   },
   {
    "duration": 4,
    "start_time": "2022-07-29T11:52:13.674Z"
   },
   {
    "duration": 3,
    "start_time": "2022-07-29T11:52:15.529Z"
   },
   {
    "duration": 4,
    "start_time": "2022-07-29T11:52:22.792Z"
   },
   {
    "duration": 5605,
    "start_time": "2022-07-29T11:52:25.182Z"
   },
   {
    "duration": 1624,
    "start_time": "2022-07-29T11:52:30.789Z"
   },
   {
    "duration": 195,
    "start_time": "2022-07-29T12:02:49.796Z"
   },
   {
    "duration": 44,
    "start_time": "2022-07-29T12:09:49.474Z"
   },
   {
    "duration": 22,
    "start_time": "2022-07-29T12:10:26.654Z"
   },
   {
    "duration": 12,
    "start_time": "2022-07-29T12:16:27.170Z"
   },
   {
    "duration": 5,
    "start_time": "2022-07-29T12:18:46.613Z"
   },
   {
    "duration": 11,
    "start_time": "2022-07-29T12:19:48.562Z"
   },
   {
    "duration": 104,
    "start_time": "2022-07-29T12:20:04.153Z"
   },
   {
    "duration": 106,
    "start_time": "2022-07-29T12:20:15.608Z"
   },
   {
    "duration": 10,
    "start_time": "2022-07-29T12:21:54.028Z"
   },
   {
    "duration": 11,
    "start_time": "2022-07-29T12:22:56.566Z"
   },
   {
    "duration": 103,
    "start_time": "2022-07-29T12:25:38.074Z"
   },
   {
    "duration": 133,
    "start_time": "2022-07-29T12:25:50.266Z"
   },
   {
    "duration": 124,
    "start_time": "2022-07-29T12:25:57.665Z"
   },
   {
    "duration": 89,
    "start_time": "2022-07-29T12:26:14.525Z"
   },
   {
    "duration": 109,
    "start_time": "2022-07-29T12:28:20.387Z"
   },
   {
    "duration": 109,
    "start_time": "2022-07-29T12:28:40.015Z"
   },
   {
    "duration": 174,
    "start_time": "2022-07-29T12:28:54.194Z"
   },
   {
    "duration": 237,
    "start_time": "2022-07-29T12:29:58.602Z"
   },
   {
    "duration": 189,
    "start_time": "2022-07-29T12:31:23.777Z"
   },
   {
    "duration": 229,
    "start_time": "2022-07-29T12:31:43.860Z"
   },
   {
    "duration": 454,
    "start_time": "2022-07-29T12:34:43.085Z"
   },
   {
    "duration": 127,
    "start_time": "2022-07-29T12:35:10.682Z"
   },
   {
    "duration": 134,
    "start_time": "2022-07-29T12:35:15.751Z"
   },
   {
    "duration": 8,
    "start_time": "2022-07-29T12:35:23.126Z"
   },
   {
    "duration": 13,
    "start_time": "2022-07-29T12:35:35.654Z"
   },
   {
    "duration": 148,
    "start_time": "2022-07-29T12:35:38.065Z"
   },
   {
    "duration": 135,
    "start_time": "2022-07-29T12:35:40.455Z"
   },
   {
    "duration": 195,
    "start_time": "2022-07-29T12:35:43.166Z"
   },
   {
    "duration": 134,
    "start_time": "2022-07-29T12:35:45.357Z"
   },
   {
    "duration": 128,
    "start_time": "2022-07-29T12:35:53.821Z"
   },
   {
    "duration": 120,
    "start_time": "2022-07-29T12:35:57.226Z"
   },
   {
    "duration": 114,
    "start_time": "2022-07-29T12:36:01.397Z"
   },
   {
    "duration": 54,
    "start_time": "2022-07-29T15:43:11.487Z"
   },
   {
    "duration": 1143,
    "start_time": "2022-07-29T15:43:19.093Z"
   },
   {
    "duration": 16,
    "start_time": "2022-07-29T15:43:22.565Z"
   },
   {
    "duration": 17,
    "start_time": "2022-07-29T15:43:25.716Z"
   },
   {
    "duration": 27,
    "start_time": "2022-07-29T15:43:27.773Z"
   },
   {
    "duration": 15,
    "start_time": "2022-07-29T15:43:30.175Z"
   },
   {
    "duration": 7,
    "start_time": "2022-07-29T15:43:32.124Z"
   },
   {
    "duration": 4,
    "start_time": "2022-07-29T15:43:34.592Z"
   },
   {
    "duration": 4,
    "start_time": "2022-07-29T15:43:36.884Z"
   },
   {
    "duration": 5,
    "start_time": "2022-07-29T15:43:39.297Z"
   },
   {
    "duration": 5,
    "start_time": "2022-07-29T15:43:41.587Z"
   },
   {
    "duration": 7043,
    "start_time": "2022-07-29T15:43:43.492Z"
   },
   {
    "duration": 1909,
    "start_time": "2022-07-29T15:43:52.778Z"
   },
   {
    "duration": 13,
    "start_time": "2022-07-29T15:43:58.228Z"
   },
   {
    "duration": 15,
    "start_time": "2022-07-29T15:44:01.329Z"
   },
   {
    "duration": 893,
    "start_time": "2022-07-29T15:44:03.566Z"
   },
   {
    "duration": 179,
    "start_time": "2022-07-29T15:47:43.836Z"
   },
   {
    "duration": 544,
    "start_time": "2022-07-29T15:47:49.216Z"
   },
   {
    "duration": 195,
    "start_time": "2022-07-29T15:50:35.850Z"
   },
   {
    "duration": 0,
    "start_time": "2022-07-29T15:53:16.991Z"
   },
   {
    "duration": 153,
    "start_time": "2022-07-29T15:53:27.231Z"
   },
   {
    "duration": 855,
    "start_time": "2022-07-29T15:53:34.739Z"
   },
   {
    "duration": 701,
    "start_time": "2022-07-29T15:54:28.948Z"
   },
   {
    "duration": 594,
    "start_time": "2022-07-29T15:56:49.813Z"
   },
   {
    "duration": 567,
    "start_time": "2022-07-29T15:57:11.795Z"
   },
   {
    "duration": 158,
    "start_time": "2022-07-29T15:57:22.069Z"
   },
   {
    "duration": 582,
    "start_time": "2022-07-29T16:12:04.923Z"
   },
   {
    "duration": 11,
    "start_time": "2022-07-29T16:12:11.578Z"
   },
   {
    "duration": 13,
    "start_time": "2022-07-29T16:14:02.622Z"
   },
   {
    "duration": 18,
    "start_time": "2022-07-29T16:14:06.369Z"
   },
   {
    "duration": 39,
    "start_time": "2022-07-29T16:36:13.422Z"
   },
   {
    "duration": 28,
    "start_time": "2022-07-29T16:36:19.035Z"
   },
   {
    "duration": 15,
    "start_time": "2022-07-29T16:36:31.478Z"
   },
   {
    "duration": 607,
    "start_time": "2022-07-29T16:36:33.677Z"
   },
   {
    "duration": 169,
    "start_time": "2022-07-29T16:36:37.872Z"
   },
   {
    "duration": 172,
    "start_time": "2022-07-29T16:36:41.127Z"
   },
   {
    "duration": 882,
    "start_time": "2022-07-29T16:36:44.240Z"
   },
   {
    "duration": 719,
    "start_time": "2022-07-29T16:36:47.015Z"
   },
   {
    "duration": 14,
    "start_time": "2022-07-29T16:37:00.647Z"
   },
   {
    "duration": 161,
    "start_time": "2022-07-29T16:45:55.732Z"
   },
   {
    "duration": 22,
    "start_time": "2022-07-29T16:47:06.077Z"
   },
   {
    "duration": 19,
    "start_time": "2022-07-29T16:47:32.812Z"
   },
   {
    "duration": 1069,
    "start_time": "2022-07-29T16:47:35.077Z"
   },
   {
    "duration": 6,
    "start_time": "2022-07-29T16:48:05.666Z"
   },
   {
    "duration": 46,
    "start_time": "2022-07-29T16:49:15.519Z"
   },
   {
    "duration": 52,
    "start_time": "2022-07-29T16:51:16.780Z"
   },
   {
    "duration": 41,
    "start_time": "2022-07-29T16:52:59.657Z"
   },
   {
    "duration": 44,
    "start_time": "2022-07-30T19:04:52.520Z"
   },
   {
    "duration": 788,
    "start_time": "2022-07-30T19:05:05.336Z"
   },
   {
    "duration": 14,
    "start_time": "2022-07-30T19:05:06.126Z"
   },
   {
    "duration": 35,
    "start_time": "2022-07-30T19:05:06.142Z"
   },
   {
    "duration": 23,
    "start_time": "2022-07-30T19:05:06.180Z"
   },
   {
    "duration": 29,
    "start_time": "2022-07-30T19:05:06.205Z"
   },
   {
    "duration": 19,
    "start_time": "2022-07-30T19:05:06.236Z"
   },
   {
    "duration": 17,
    "start_time": "2022-07-30T19:05:06.257Z"
   },
   {
    "duration": 28,
    "start_time": "2022-07-30T19:05:06.276Z"
   },
   {
    "duration": 10,
    "start_time": "2022-07-30T19:05:06.305Z"
   },
   {
    "duration": 20,
    "start_time": "2022-07-30T19:05:06.317Z"
   },
   {
    "duration": 5578,
    "start_time": "2022-07-30T19:05:06.339Z"
   },
   {
    "duration": 1638,
    "start_time": "2022-07-30T19:05:11.919Z"
   },
   {
    "duration": 17,
    "start_time": "2022-07-30T19:05:13.559Z"
   },
   {
    "duration": 10,
    "start_time": "2022-07-30T19:05:13.577Z"
   },
   {
    "duration": 754,
    "start_time": "2022-07-30T19:05:13.589Z"
   },
   {
    "duration": 150,
    "start_time": "2022-07-30T19:05:14.345Z"
   },
   {
    "duration": 30,
    "start_time": "2022-07-30T19:05:14.497Z"
   },
   {
    "duration": 13,
    "start_time": "2022-07-30T19:05:14.529Z"
   },
   {
    "duration": 6,
    "start_time": "2022-07-30T19:05:14.543Z"
   },
   {
    "duration": 592,
    "start_time": "2022-07-30T19:05:14.550Z"
   },
   {
    "duration": 171,
    "start_time": "2022-07-30T19:05:15.144Z"
   },
   {
    "duration": 134,
    "start_time": "2022-07-30T19:05:15.317Z"
   },
   {
    "duration": 737,
    "start_time": "2022-07-30T19:05:15.453Z"
   },
   {
    "duration": 585,
    "start_time": "2022-07-30T19:05:16.191Z"
   },
   {
    "duration": 11,
    "start_time": "2022-07-30T19:05:16.778Z"
   },
   {
    "duration": 35,
    "start_time": "2022-07-30T19:05:16.790Z"
   },
   {
    "duration": 48,
    "start_time": "2022-07-30T19:05:16.827Z"
   },
   {
    "duration": 32,
    "start_time": "2022-07-30T19:05:16.878Z"
   },
   {
    "duration": 426,
    "start_time": "2022-07-30T19:05:16.912Z"
   },
   {
    "duration": 9,
    "start_time": "2022-07-30T19:05:17.340Z"
   },
   {
    "duration": 497,
    "start_time": "2022-07-30T19:07:32.916Z"
   },
   {
    "duration": 620,
    "start_time": "2022-07-30T19:09:14.480Z"
   },
   {
    "duration": 16,
    "start_time": "2022-07-30T19:27:03.281Z"
   },
   {
    "duration": 14,
    "start_time": "2022-07-30T19:29:26.644Z"
   },
   {
    "duration": 16,
    "start_time": "2022-07-30T19:31:13.678Z"
   },
   {
    "duration": 16,
    "start_time": "2022-07-30T19:46:10.959Z"
   },
   {
    "duration": 657,
    "start_time": "2022-07-30T21:07:48.990Z"
   },
   {
    "duration": 14,
    "start_time": "2022-07-30T21:07:49.648Z"
   },
   {
    "duration": 19,
    "start_time": "2022-07-30T21:07:49.663Z"
   },
   {
    "duration": 24,
    "start_time": "2022-07-30T21:07:49.684Z"
   },
   {
    "duration": 27,
    "start_time": "2022-07-30T21:07:49.709Z"
   },
   {
    "duration": 6,
    "start_time": "2022-07-30T21:07:49.738Z"
   },
   {
    "duration": 6,
    "start_time": "2022-07-30T21:07:49.745Z"
   },
   {
    "duration": 7,
    "start_time": "2022-07-30T21:07:49.752Z"
   },
   {
    "duration": 6,
    "start_time": "2022-07-30T21:07:49.761Z"
   },
   {
    "duration": 5,
    "start_time": "2022-07-30T21:07:49.769Z"
   },
   {
    "duration": 7331,
    "start_time": "2022-07-30T21:07:49.775Z"
   },
   {
    "duration": 1788,
    "start_time": "2022-07-30T21:07:57.108Z"
   },
   {
    "duration": 10,
    "start_time": "2022-07-30T21:07:58.898Z"
   },
   {
    "duration": 23,
    "start_time": "2022-07-30T21:07:58.910Z"
   },
   {
    "duration": 773,
    "start_time": "2022-07-30T21:07:58.935Z"
   },
   {
    "duration": 161,
    "start_time": "2022-07-30T21:07:59.710Z"
   },
   {
    "duration": 28,
    "start_time": "2022-07-30T21:07:59.873Z"
   },
   {
    "duration": 13,
    "start_time": "2022-07-30T21:07:59.902Z"
   },
   {
    "duration": 5,
    "start_time": "2022-07-30T21:07:59.934Z"
   },
   {
    "duration": 539,
    "start_time": "2022-07-30T21:07:59.941Z"
   },
   {
    "duration": 153,
    "start_time": "2022-07-30T21:08:00.482Z"
   },
   {
    "duration": 149,
    "start_time": "2022-07-30T21:08:00.636Z"
   },
   {
    "duration": 740,
    "start_time": "2022-07-30T21:08:00.787Z"
   },
   {
    "duration": 612,
    "start_time": "2022-07-30T21:08:01.533Z"
   },
   {
    "duration": 11,
    "start_time": "2022-07-30T21:08:02.147Z"
   },
   {
    "duration": 34,
    "start_time": "2022-07-30T21:08:02.160Z"
   },
   {
    "duration": 64,
    "start_time": "2022-07-30T21:08:02.196Z"
   },
   {
    "duration": 32,
    "start_time": "2022-07-30T21:08:02.263Z"
   },
   {
    "duration": 507,
    "start_time": "2022-07-30T21:08:02.297Z"
   },
   {
    "duration": 15,
    "start_time": "2022-07-30T21:08:02.805Z"
   },
   {
    "duration": 55,
    "start_time": "2022-07-30T21:49:43.224Z"
   },
   {
    "duration": 666,
    "start_time": "2022-07-30T21:50:06.380Z"
   },
   {
    "duration": 13,
    "start_time": "2022-07-30T21:50:07.048Z"
   },
   {
    "duration": 14,
    "start_time": "2022-07-30T21:50:07.063Z"
   },
   {
    "duration": 23,
    "start_time": "2022-07-30T21:50:07.079Z"
   },
   {
    "duration": 30,
    "start_time": "2022-07-30T21:50:07.104Z"
   },
   {
    "duration": 7,
    "start_time": "2022-07-30T21:50:07.135Z"
   },
   {
    "duration": 7,
    "start_time": "2022-07-30T21:50:07.143Z"
   },
   {
    "duration": 6,
    "start_time": "2022-07-30T21:50:07.151Z"
   },
   {
    "duration": 8,
    "start_time": "2022-07-30T21:50:07.159Z"
   },
   {
    "duration": 7,
    "start_time": "2022-07-30T21:50:07.168Z"
   },
   {
    "duration": 6758,
    "start_time": "2022-07-30T21:50:07.177Z"
   },
   {
    "duration": 1800,
    "start_time": "2022-07-30T21:50:13.936Z"
   },
   {
    "duration": 69,
    "start_time": "2022-07-30T21:50:15.738Z"
   },
   {
    "duration": 24,
    "start_time": "2022-07-30T21:50:15.810Z"
   },
   {
    "duration": 12,
    "start_time": "2022-07-30T21:50:15.836Z"
   },
   {
    "duration": 796,
    "start_time": "2022-07-30T21:50:15.850Z"
   },
   {
    "duration": 164,
    "start_time": "2022-07-30T21:50:16.648Z"
   },
   {
    "duration": 34,
    "start_time": "2022-07-30T21:50:16.814Z"
   },
   {
    "duration": 13,
    "start_time": "2022-07-30T21:50:16.849Z"
   },
   {
    "duration": 5,
    "start_time": "2022-07-30T21:50:16.864Z"
   },
   {
    "duration": 534,
    "start_time": "2022-07-30T21:50:16.871Z"
   },
   {
    "duration": 146,
    "start_time": "2022-07-30T21:50:17.406Z"
   },
   {
    "duration": 149,
    "start_time": "2022-07-30T21:50:17.554Z"
   },
   {
    "duration": 694,
    "start_time": "2022-07-30T21:50:17.705Z"
   },
   {
    "duration": 578,
    "start_time": "2022-07-30T21:50:18.401Z"
   },
   {
    "duration": 10,
    "start_time": "2022-07-30T21:50:18.981Z"
   },
   {
    "duration": 54,
    "start_time": "2022-07-30T21:50:18.993Z"
   },
   {
    "duration": 34,
    "start_time": "2022-07-30T21:50:19.049Z"
   },
   {
    "duration": 58,
    "start_time": "2022-07-30T21:50:19.084Z"
   },
   {
    "duration": 449,
    "start_time": "2022-07-30T21:50:19.143Z"
   },
   {
    "duration": 14,
    "start_time": "2022-07-30T21:50:19.594Z"
   },
   {
    "duration": 8,
    "start_time": "2022-07-30T23:17:00.800Z"
   },
   {
    "duration": 59,
    "start_time": "2022-07-31T10:55:38.860Z"
   },
   {
    "duration": 5,
    "start_time": "2022-07-31T11:04:36.375Z"
   },
   {
    "duration": 8,
    "start_time": "2022-07-31T11:04:38.906Z"
   },
   {
    "duration": 747,
    "start_time": "2022-07-31T13:50:13.703Z"
   },
   {
    "duration": 3,
    "start_time": "2022-07-31T13:50:19.917Z"
   },
   {
    "duration": 131,
    "start_time": "2022-07-31T13:50:19.942Z"
   },
   {
    "duration": 15,
    "start_time": "2022-07-31T13:50:20.075Z"
   },
   {
    "duration": 15,
    "start_time": "2022-07-31T13:50:20.112Z"
   },
   {
    "duration": 25,
    "start_time": "2022-07-31T13:50:20.129Z"
   },
   {
    "duration": 20,
    "start_time": "2022-07-31T13:50:20.155Z"
   },
   {
    "duration": 7,
    "start_time": "2022-07-31T13:50:20.186Z"
   },
   {
    "duration": 3,
    "start_time": "2022-07-31T13:50:20.227Z"
   },
   {
    "duration": 4,
    "start_time": "2022-07-31T13:50:20.242Z"
   },
   {
    "duration": 4,
    "start_time": "2022-07-31T13:50:20.285Z"
   },
   {
    "duration": 4,
    "start_time": "2022-07-31T13:50:20.345Z"
   },
   {
    "duration": 8,
    "start_time": "2022-07-31T13:50:20.409Z"
   },
   {
    "duration": 77,
    "start_time": "2022-07-31T13:50:20.448Z"
   },
   {
    "duration": 0,
    "start_time": "2022-07-31T13:50:20.527Z"
   },
   {
    "duration": 12,
    "start_time": "2022-07-31T13:50:20.529Z"
   },
   {
    "duration": 13,
    "start_time": "2022-07-31T13:50:20.572Z"
   },
   {
    "duration": 840,
    "start_time": "2022-07-31T13:50:20.609Z"
   },
   {
    "duration": 178,
    "start_time": "2022-07-31T13:50:21.451Z"
   },
   {
    "duration": 47,
    "start_time": "2022-07-31T13:50:21.631Z"
   },
   {
    "duration": 13,
    "start_time": "2022-07-31T13:50:21.680Z"
   },
   {
    "duration": 5,
    "start_time": "2022-07-31T13:50:21.695Z"
   },
   {
    "duration": 581,
    "start_time": "2022-07-31T13:50:21.702Z"
   },
   {
    "duration": 122,
    "start_time": "2022-07-31T13:50:22.285Z"
   },
   {
    "duration": 129,
    "start_time": "2022-07-31T13:50:22.408Z"
   },
   {
    "duration": 756,
    "start_time": "2022-07-31T13:50:22.539Z"
   },
   {
    "duration": 642,
    "start_time": "2022-07-31T13:50:23.297Z"
   },
   {
    "duration": 11,
    "start_time": "2022-07-31T13:50:23.941Z"
   },
   {
    "duration": 45,
    "start_time": "2022-07-31T13:50:23.960Z"
   },
   {
    "duration": 34,
    "start_time": "2022-07-31T13:50:24.006Z"
   },
   {
    "duration": 32,
    "start_time": "2022-07-31T13:50:24.041Z"
   },
   {
    "duration": 33,
    "start_time": "2022-07-31T13:50:24.075Z"
   },
   {
    "duration": 470,
    "start_time": "2022-07-31T13:50:24.110Z"
   },
   {
    "duration": 13,
    "start_time": "2022-07-31T13:50:24.582Z"
   },
   {
    "duration": 48,
    "start_time": "2022-07-31T13:57:10.408Z"
   },
   {
    "duration": 766,
    "start_time": "2022-07-31T13:57:52.333Z"
   },
   {
    "duration": 926,
    "start_time": "2022-07-31T13:59:04.620Z"
   },
   {
    "duration": 18424,
    "start_time": "2022-07-31T14:04:32.273Z"
   },
   {
    "duration": 773,
    "start_time": "2022-07-31T14:05:35.509Z"
   },
   {
    "duration": 839,
    "start_time": "2022-07-31T14:05:46.609Z"
   },
   {
    "duration": 18297,
    "start_time": "2022-07-31T14:06:20.153Z"
   },
   {
    "duration": 888,
    "start_time": "2022-07-31T14:06:44.645Z"
   },
   {
    "duration": 1162,
    "start_time": "2022-07-31T14:07:02.837Z"
   },
   {
    "duration": 893,
    "start_time": "2022-07-31T14:07:57.606Z"
   },
   {
    "duration": 645,
    "start_time": "2022-07-31T14:09:30.395Z"
   },
   {
    "duration": 720,
    "start_time": "2022-07-31T14:10:18.973Z"
   },
   {
    "duration": 747,
    "start_time": "2022-07-31T14:10:27.360Z"
   },
   {
    "duration": 47,
    "start_time": "2022-07-31T14:13:23.201Z"
   },
   {
    "duration": 734,
    "start_time": "2022-07-31T14:13:30.646Z"
   },
   {
    "duration": 17,
    "start_time": "2022-07-31T14:14:09.233Z"
   },
   {
    "duration": 538,
    "start_time": "2022-07-31T14:14:54.394Z"
   },
   {
    "duration": 560,
    "start_time": "2022-07-31T14:15:01.587Z"
   },
   {
    "duration": 163,
    "start_time": "2022-07-31T14:34:26.815Z"
   },
   {
    "duration": 322,
    "start_time": "2022-07-31T14:34:55.598Z"
   },
   {
    "duration": 284,
    "start_time": "2022-07-31T14:37:48.519Z"
   },
   {
    "duration": 168,
    "start_time": "2022-07-31T14:38:43.815Z"
   },
   {
    "duration": 160,
    "start_time": "2022-07-31T14:39:03.191Z"
   },
   {
    "duration": 159,
    "start_time": "2022-07-31T14:39:45.514Z"
   },
   {
    "duration": 273,
    "start_time": "2022-07-31T14:40:41.500Z"
   },
   {
    "duration": 560,
    "start_time": "2022-07-31T14:41:12.085Z"
   },
   {
    "duration": 597,
    "start_time": "2022-07-31T14:42:44.675Z"
   },
   {
    "duration": 462,
    "start_time": "2022-07-31T14:44:55.252Z"
   },
   {
    "duration": 435,
    "start_time": "2022-07-31T14:46:56.494Z"
   },
   {
    "duration": 392,
    "start_time": "2022-07-31T14:47:39.450Z"
   },
   {
    "duration": 342,
    "start_time": "2022-07-31T14:48:06.289Z"
   },
   {
    "duration": 277,
    "start_time": "2022-07-31T14:49:33.172Z"
   },
   {
    "duration": 119,
    "start_time": "2022-07-31T14:50:56.477Z"
   },
   {
    "duration": 119,
    "start_time": "2022-07-31T14:51:20.519Z"
   },
   {
    "duration": 125,
    "start_time": "2022-07-31T14:51:36.659Z"
   },
   {
    "duration": 116,
    "start_time": "2022-07-31T14:54:51.055Z"
   },
   {
    "duration": 118,
    "start_time": "2022-07-31T14:56:30.684Z"
   },
   {
    "duration": 34,
    "start_time": "2022-07-31T14:58:14.777Z"
   },
   {
    "duration": 11,
    "start_time": "2022-07-31T14:58:47.832Z"
   },
   {
    "duration": 10,
    "start_time": "2022-07-31T14:59:10.384Z"
   },
   {
    "duration": 12,
    "start_time": "2022-07-31T15:00:09.427Z"
   },
   {
    "duration": 4,
    "start_time": "2022-07-31T15:00:56.088Z"
   },
   {
    "duration": 10,
    "start_time": "2022-07-31T15:01:29.020Z"
   },
   {
    "duration": 4,
    "start_time": "2022-07-31T15:03:41.850Z"
   },
   {
    "duration": 730,
    "start_time": "2022-07-31T15:03:48.924Z"
   },
   {
    "duration": 577,
    "start_time": "2022-07-31T15:04:21.013Z"
   },
   {
    "duration": 66,
    "start_time": "2022-07-31T15:04:43.940Z"
   },
   {
    "duration": 46,
    "start_time": "2022-07-31T15:05:47.019Z"
   },
   {
    "duration": 734,
    "start_time": "2022-07-31T15:06:07.430Z"
   },
   {
    "duration": 800,
    "start_time": "2022-07-31T17:47:28.275Z"
   },
   {
    "duration": 132,
    "start_time": "2022-07-31T17:47:29.083Z"
   },
   {
    "duration": 14,
    "start_time": "2022-07-31T17:47:29.216Z"
   },
   {
    "duration": 13,
    "start_time": "2022-07-31T17:47:29.232Z"
   },
   {
    "duration": 21,
    "start_time": "2022-07-31T17:47:29.247Z"
   },
   {
    "duration": 30,
    "start_time": "2022-07-31T17:47:29.270Z"
   },
   {
    "duration": 25,
    "start_time": "2022-07-31T17:47:29.301Z"
   },
   {
    "duration": 4,
    "start_time": "2022-07-31T17:47:29.327Z"
   },
   {
    "duration": 14,
    "start_time": "2022-07-31T17:47:29.332Z"
   },
   {
    "duration": 9,
    "start_time": "2022-07-31T17:47:29.349Z"
   },
   {
    "duration": 8,
    "start_time": "2022-07-31T17:47:29.360Z"
   },
   {
    "duration": 43,
    "start_time": "2022-07-31T17:47:29.369Z"
   },
   {
    "duration": 21,
    "start_time": "2022-07-31T17:47:29.414Z"
   },
   {
    "duration": 82,
    "start_time": "2022-07-31T17:47:29.437Z"
   },
   {
    "duration": 12,
    "start_time": "2022-07-31T17:47:29.520Z"
   },
   {
    "duration": 17,
    "start_time": "2022-07-31T17:47:29.534Z"
   },
   {
    "duration": 808,
    "start_time": "2022-07-31T17:47:29.553Z"
   },
   {
    "duration": 169,
    "start_time": "2022-07-31T17:47:30.363Z"
   },
   {
    "duration": 28,
    "start_time": "2022-07-31T17:47:30.534Z"
   },
   {
    "duration": 19,
    "start_time": "2022-07-31T17:47:30.574Z"
   },
   {
    "duration": 572,
    "start_time": "2022-07-31T17:47:30.594Z"
   },
   {
    "duration": 296,
    "start_time": "2022-07-31T17:47:31.167Z"
   },
   {
    "duration": 143,
    "start_time": "2022-07-31T17:47:31.465Z"
   },
   {
    "duration": 136,
    "start_time": "2022-07-31T17:47:31.613Z"
   },
   {
    "duration": 771,
    "start_time": "2022-07-31T17:47:31.750Z"
   },
   {
    "duration": 622,
    "start_time": "2022-07-31T17:47:32.523Z"
   },
   {
    "duration": 10,
    "start_time": "2022-07-31T17:47:33.147Z"
   },
   {
    "duration": 64,
    "start_time": "2022-07-31T17:47:33.179Z"
   },
   {
    "duration": 39,
    "start_time": "2022-07-31T17:47:33.245Z"
   },
   {
    "duration": 12,
    "start_time": "2022-07-31T17:47:33.290Z"
   },
   {
    "duration": 52,
    "start_time": "2022-07-31T17:47:33.304Z"
   },
   {
    "duration": 476,
    "start_time": "2022-07-31T17:47:33.358Z"
   },
   {
    "duration": 13,
    "start_time": "2022-07-31T17:47:33.836Z"
   },
   {
    "duration": 74,
    "start_time": "2022-07-31T17:49:18.354Z"
   },
   {
    "duration": 661,
    "start_time": "2022-07-31T17:49:30.294Z"
   },
   {
    "duration": 793,
    "start_time": "2022-07-31T17:52:29.809Z"
   },
   {
    "duration": 51,
    "start_time": "2022-07-31T17:55:11.571Z"
   },
   {
    "duration": 18,
    "start_time": "2022-07-31T17:58:43.703Z"
   },
   {
    "duration": 582,
    "start_time": "2022-07-31T17:59:53.935Z"
   },
   {
    "duration": 304,
    "start_time": "2022-07-31T18:00:42.411Z"
   },
   {
    "duration": 44,
    "start_time": "2022-07-31T18:11:28.452Z"
   },
   {
    "duration": 34,
    "start_time": "2022-07-31T18:11:50.536Z"
   },
   {
    "duration": 325,
    "start_time": "2022-07-31T18:12:26.098Z"
   },
   {
    "duration": 10,
    "start_time": "2022-07-31T18:20:40.689Z"
   },
   {
    "duration": 31,
    "start_time": "2022-07-31T18:22:06.325Z"
   },
   {
    "duration": 37,
    "start_time": "2022-07-31T18:22:33.757Z"
   },
   {
    "duration": 35,
    "start_time": "2022-07-31T18:24:15.218Z"
   },
   {
    "duration": 44,
    "start_time": "2022-07-31T18:27:10.041Z"
   },
   {
    "duration": 83,
    "start_time": "2022-07-31T18:33:11.147Z"
   },
   {
    "duration": 34,
    "start_time": "2022-07-31T18:33:36.934Z"
   },
   {
    "duration": 26,
    "start_time": "2022-07-31T18:55:53.015Z"
   },
   {
    "duration": 18,
    "start_time": "2022-07-31T18:57:42.128Z"
   },
   {
    "duration": 84,
    "start_time": "2022-07-31T19:00:11.730Z"
   },
   {
    "duration": 28,
    "start_time": "2022-07-31T19:00:28.440Z"
   },
   {
    "duration": 3,
    "start_time": "2022-07-31T19:01:07.162Z"
   },
   {
    "duration": 41,
    "start_time": "2022-07-31T19:02:34.091Z"
   },
   {
    "duration": 23,
    "start_time": "2022-07-31T19:02:47.028Z"
   },
   {
    "duration": 133,
    "start_time": "2022-07-31T19:03:45.765Z"
   },
   {
    "duration": 35,
    "start_time": "2022-07-31T19:04:31.596Z"
   },
   {
    "duration": 24,
    "start_time": "2022-07-31T19:05:13.415Z"
   },
   {
    "duration": 21,
    "start_time": "2022-07-31T19:05:25.135Z"
   },
   {
    "duration": 24,
    "start_time": "2022-07-31T19:10:12.027Z"
   },
   {
    "duration": 6,
    "start_time": "2022-07-31T20:28:55.696Z"
   },
   {
    "duration": 85,
    "start_time": "2022-07-31T20:28:55.704Z"
   },
   {
    "duration": 17,
    "start_time": "2022-07-31T20:28:55.799Z"
   },
   {
    "duration": 17,
    "start_time": "2022-07-31T20:28:55.818Z"
   },
   {
    "duration": 23,
    "start_time": "2022-07-31T20:28:55.838Z"
   },
   {
    "duration": 20,
    "start_time": "2022-07-31T20:28:55.863Z"
   },
   {
    "duration": 41,
    "start_time": "2022-07-31T20:28:55.884Z"
   },
   {
    "duration": 4,
    "start_time": "2022-07-31T20:28:55.927Z"
   },
   {
    "duration": 8,
    "start_time": "2022-07-31T20:28:55.932Z"
   },
   {
    "duration": 7,
    "start_time": "2022-07-31T20:28:55.942Z"
   },
   {
    "duration": 6,
    "start_time": "2022-07-31T20:28:55.951Z"
   },
   {
    "duration": 10,
    "start_time": "2022-07-31T20:28:55.958Z"
   },
   {
    "duration": 18,
    "start_time": "2022-07-31T20:28:55.970Z"
   },
   {
    "duration": 28,
    "start_time": "2022-07-31T20:28:55.992Z"
   },
   {
    "duration": 82,
    "start_time": "2022-07-31T20:28:56.022Z"
   },
   {
    "duration": 13,
    "start_time": "2022-07-31T20:28:56.106Z"
   },
   {
    "duration": 16,
    "start_time": "2022-07-31T20:28:56.121Z"
   },
   {
    "duration": 815,
    "start_time": "2022-07-31T20:28:56.138Z"
   },
   {
    "duration": 194,
    "start_time": "2022-07-31T20:28:56.955Z"
   },
   {
    "duration": 53,
    "start_time": "2022-07-31T20:28:57.151Z"
   },
   {
    "duration": 22,
    "start_time": "2022-07-31T20:28:57.206Z"
   },
   {
    "duration": 563,
    "start_time": "2022-07-31T20:28:57.231Z"
   },
   {
    "duration": 391,
    "start_time": "2022-07-31T20:28:57.796Z"
   },
   {
    "duration": 135,
    "start_time": "2022-07-31T20:28:58.193Z"
   },
   {
    "duration": 153,
    "start_time": "2022-07-31T20:28:58.330Z"
   },
   {
    "duration": 760,
    "start_time": "2022-07-31T20:28:58.484Z"
   },
   {
    "duration": 829,
    "start_time": "2022-07-31T20:28:59.246Z"
   },
   {
    "duration": 340,
    "start_time": "2022-07-31T20:29:00.083Z"
   },
   {
    "duration": 52,
    "start_time": "2022-07-31T20:29:00.424Z"
   },
   {
    "duration": 42,
    "start_time": "2022-07-31T20:29:00.480Z"
   },
   {
    "duration": 7,
    "start_time": "2022-07-31T20:29:00.524Z"
   },
   {
    "duration": 52,
    "start_time": "2022-07-31T20:29:00.533Z"
   },
   {
    "duration": 29,
    "start_time": "2022-07-31T20:29:00.587Z"
   },
   {
    "duration": 32,
    "start_time": "2022-07-31T20:29:00.618Z"
   },
   {
    "duration": 291,
    "start_time": "2022-07-31T20:31:40.612Z"
   },
   {
    "duration": 610,
    "start_time": "2022-08-01T18:28:44.369Z"
   },
   {
    "duration": 73,
    "start_time": "2022-08-01T18:28:44.981Z"
   },
   {
    "duration": 12,
    "start_time": "2022-08-01T18:28:45.056Z"
   },
   {
    "duration": 13,
    "start_time": "2022-08-01T18:28:45.070Z"
   },
   {
    "duration": 23,
    "start_time": "2022-08-01T18:28:45.085Z"
   },
   {
    "duration": 25,
    "start_time": "2022-08-01T18:28:45.109Z"
   },
   {
    "duration": 10,
    "start_time": "2022-08-01T18:28:45.143Z"
   },
   {
    "duration": 9,
    "start_time": "2022-08-01T18:28:45.155Z"
   },
   {
    "duration": 7,
    "start_time": "2022-08-01T18:28:45.165Z"
   },
   {
    "duration": 11,
    "start_time": "2022-08-01T18:28:45.174Z"
   },
   {
    "duration": 7,
    "start_time": "2022-08-01T18:28:45.187Z"
   },
   {
    "duration": 14,
    "start_time": "2022-08-01T18:28:45.196Z"
   },
   {
    "duration": 7,
    "start_time": "2022-08-01T18:28:45.211Z"
   },
   {
    "duration": 7,
    "start_time": "2022-08-01T18:28:45.221Z"
   },
   {
    "duration": 94,
    "start_time": "2022-08-01T18:28:45.231Z"
   },
   {
    "duration": 18,
    "start_time": "2022-08-01T18:28:45.327Z"
   },
   {
    "duration": 18,
    "start_time": "2022-08-01T18:28:45.347Z"
   },
   {
    "duration": 756,
    "start_time": "2022-08-01T18:28:45.366Z"
   },
   {
    "duration": 163,
    "start_time": "2022-08-01T18:28:46.124Z"
   },
   {
    "duration": 28,
    "start_time": "2022-08-01T18:28:46.289Z"
   },
   {
    "duration": 27,
    "start_time": "2022-08-01T18:28:46.319Z"
   },
   {
    "duration": 514,
    "start_time": "2022-08-01T18:28:46.348Z"
   },
   {
    "duration": 287,
    "start_time": "2022-08-01T18:28:46.864Z"
   },
   {
    "duration": 132,
    "start_time": "2022-08-01T18:28:47.153Z"
   },
   {
    "duration": 127,
    "start_time": "2022-08-01T18:28:47.286Z"
   },
   {
    "duration": 687,
    "start_time": "2022-08-01T18:28:47.414Z"
   },
   {
    "duration": 623,
    "start_time": "2022-08-01T18:28:48.102Z"
   },
   {
    "duration": 346,
    "start_time": "2022-08-01T18:28:48.734Z"
   },
   {
    "duration": 30,
    "start_time": "2022-08-01T18:28:49.082Z"
   },
   {
    "duration": 64,
    "start_time": "2022-08-01T18:28:49.114Z"
   },
   {
    "duration": 9,
    "start_time": "2022-08-01T18:28:49.180Z"
   },
   {
    "duration": 55,
    "start_time": "2022-08-01T18:28:49.191Z"
   },
   {
    "duration": 379,
    "start_time": "2022-08-01T18:28:49.248Z"
   },
   {
    "duration": 28,
    "start_time": "2022-08-01T18:28:49.633Z"
   },
   {
    "duration": 594,
    "start_time": "2022-08-01T18:49:04.012Z"
   }
  ],
  "kernelspec": {
   "display_name": "Python 3 (ipykernel)",
   "language": "python",
   "name": "python3"
  },
  "language_info": {
   "codemirror_mode": {
    "name": "ipython",
    "version": 3
   },
   "file_extension": ".py",
   "mimetype": "text/x-python",
   "name": "python",
   "nbconvert_exporter": "python",
   "pygments_lexer": "ipython3",
   "version": "3.9.13"
  },
  "toc": {
   "base_numbering": 1,
   "nav_menu": {},
   "number_sections": true,
   "sideBar": true,
   "skip_h1_title": true,
   "title_cell": "Table of Contents",
   "title_sidebar": "Contents",
   "toc_cell": false,
   "toc_position": {
    "height": "calc(100% - 180px)",
    "left": "10px",
    "top": "150px",
    "width": "203.682px"
   },
   "toc_section_display": true,
   "toc_window_display": true
  }
 },
 "nbformat": 4,
 "nbformat_minor": 2
}
