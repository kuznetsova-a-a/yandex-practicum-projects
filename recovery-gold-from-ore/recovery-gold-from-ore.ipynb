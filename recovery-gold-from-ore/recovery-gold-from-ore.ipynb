{
 "cells": [
  {
   "cell_type": "markdown",
   "metadata": {},
   "source": [
    "# Восстановление золота из руды"
   ]
  },
  {
   "cell_type": "markdown",
   "metadata": {},
   "source": [
    "Задача состоит в изготовлении прототипа модели машинного обучения для «Цифры». Компания разрабатывает решения для эффективной работы промышленных предприятий.\n",
    "\n",
    "Модель должна предсказать коэффициент восстановления золота из золотосодержащей руды. Мы будем использовать данные с параметрами добычи и очистки. \n",
    "\n",
    "Модель поможет оптимизировать производство, чтобы не запускать предприятие с убыточными характеристиками.\n",
    "\n",
    "Мы проделаем следующие шаги:\n",
    "\n",
    "1. Подготовим данные;\n",
    "2. Проведем исследовательский анализ данных;\n",
    "3. Построим и обучим модель.\n",
    "\n"
   ]
  },
  {
   "cell_type": "markdown",
   "metadata": {},
   "source": [
    "## Подготовка данных\n",
    "\n",
    "В нашем распоряжении файлы с технологическими признаками в формате [этап].[тип_параметра].[название_параметра]. \n",
    "\n",
    "Возможные значения для блока [этап]:\n",
    "-   rougher — флотация\n",
    "-   primary_cleaner — первичная очистка\n",
    "-   secondary_cleaner — вторичная очистка\n",
    "-   final — финальные характеристики\n",
    "\n",
    "Возможные значения для блока [тип_параметра]:\n",
    " -   input — параметры сырья\n",
    " -   output — параметры продукта\n",
    " -   state — параметры, характеризующие текущее состояние этапа\n",
    " -   calculation — расчётные характеристики\n"
   ]
  },
  {
   "cell_type": "code",
   "execution_count": 10,
   "metadata": {},
   "outputs": [],
   "source": [
    "import pandas as pd\n",
    "import matplotlib.pyplot as plt\n",
    "import warnings\n",
    "from scipy import stats as st\n",
    "from sklearn.metrics import mean_absolute_error, make_scorer\n",
    "from sklearn.preprocessing import StandardScaler\n",
    "from sklearn.ensemble import RandomForestRegressor\n",
    "from sklearn.tree import DecisionTreeRegressor\n",
    "from sklearn.linear_model import LinearRegression\n",
    "from sklearn.model_selection import GridSearchCV, cross_val_score\n",
    "warnings.filterwarnings('ignore')\n"
   ]
  },
  {
   "cell_type": "code",
   "execution_count": 11,
   "metadata": {},
   "outputs": [
    {
     "name": "stdout",
     "output_type": "stream",
     "text": [
      "<class 'pandas.core.frame.DataFrame'>\n",
      "RangeIndex: 14149 entries, 0 to 14148\n",
      "Data columns (total 87 columns):\n",
      " #   Column                                              Non-Null Count  Dtype  \n",
      "---  ------                                              --------------  -----  \n",
      " 0   date                                                14149 non-null  object \n",
      " 1   final.output.concentrate_ag                         14148 non-null  float64\n",
      " 2   final.output.concentrate_pb                         14148 non-null  float64\n",
      " 3   final.output.concentrate_sol                        13938 non-null  float64\n",
      " 4   final.output.concentrate_au                         14149 non-null  float64\n",
      " 5   final.output.recovery                               14149 non-null  float64\n",
      " 6   final.output.tail_ag                                14149 non-null  float64\n",
      " 7   final.output.tail_pb                                14049 non-null  float64\n",
      " 8   final.output.tail_sol                               14144 non-null  float64\n",
      " 9   final.output.tail_au                                14149 non-null  float64\n",
      " 10  primary_cleaner.input.sulfate                       14129 non-null  float64\n",
      " 11  primary_cleaner.input.depressant                    14117 non-null  float64\n",
      " 12  primary_cleaner.input.feed_size                     14149 non-null  float64\n",
      " 13  primary_cleaner.input.xanthate                      14049 non-null  float64\n",
      " 14  primary_cleaner.output.concentrate_ag               14149 non-null  float64\n",
      " 15  primary_cleaner.output.concentrate_pb               14063 non-null  float64\n",
      " 16  primary_cleaner.output.concentrate_sol              13863 non-null  float64\n",
      " 17  primary_cleaner.output.concentrate_au               14149 non-null  float64\n",
      " 18  primary_cleaner.output.tail_ag                      14148 non-null  float64\n",
      " 19  primary_cleaner.output.tail_pb                      14134 non-null  float64\n",
      " 20  primary_cleaner.output.tail_sol                     14103 non-null  float64\n",
      " 21  primary_cleaner.output.tail_au                      14149 non-null  float64\n",
      " 22  primary_cleaner.state.floatbank8_a_air              14145 non-null  float64\n",
      " 23  primary_cleaner.state.floatbank8_a_level            14148 non-null  float64\n",
      " 24  primary_cleaner.state.floatbank8_b_air              14145 non-null  float64\n",
      " 25  primary_cleaner.state.floatbank8_b_level            14148 non-null  float64\n",
      " 26  primary_cleaner.state.floatbank8_c_air              14147 non-null  float64\n",
      " 27  primary_cleaner.state.floatbank8_c_level            14148 non-null  float64\n",
      " 28  primary_cleaner.state.floatbank8_d_air              14146 non-null  float64\n",
      " 29  primary_cleaner.state.floatbank8_d_level            14148 non-null  float64\n",
      " 30  rougher.calculation.sulfate_to_au_concentrate       14148 non-null  float64\n",
      " 31  rougher.calculation.floatbank10_sulfate_to_au_feed  14148 non-null  float64\n",
      " 32  rougher.calculation.floatbank11_sulfate_to_au_feed  14148 non-null  float64\n",
      " 33  rougher.calculation.au_pb_ratio                     14149 non-null  float64\n",
      " 34  rougher.input.feed_ag                               14149 non-null  float64\n",
      " 35  rougher.input.feed_pb                               14049 non-null  float64\n",
      " 36  rougher.input.feed_rate                             14141 non-null  float64\n",
      " 37  rougher.input.feed_size                             14005 non-null  float64\n",
      " 38  rougher.input.feed_sol                              14071 non-null  float64\n",
      " 39  rougher.input.feed_au                               14149 non-null  float64\n",
      " 40  rougher.input.floatbank10_sulfate                   14120 non-null  float64\n",
      " 41  rougher.input.floatbank10_xanthate                  14141 non-null  float64\n",
      " 42  rougher.input.floatbank11_sulfate                   14113 non-null  float64\n",
      " 43  rougher.input.floatbank11_xanthate                  13721 non-null  float64\n",
      " 44  rougher.output.concentrate_ag                       14149 non-null  float64\n",
      " 45  rougher.output.concentrate_pb                       14149 non-null  float64\n",
      " 46  rougher.output.concentrate_sol                      14127 non-null  float64\n",
      " 47  rougher.output.concentrate_au                       14149 non-null  float64\n",
      " 48  rougher.output.recovery                             14149 non-null  float64\n",
      " 49  rougher.output.tail_ag                              14148 non-null  float64\n",
      " 50  rougher.output.tail_pb                              14149 non-null  float64\n",
      " 51  rougher.output.tail_sol                             14149 non-null  float64\n",
      " 52  rougher.output.tail_au                              14149 non-null  float64\n",
      " 53  rougher.state.floatbank10_a_air                     14148 non-null  float64\n",
      " 54  rougher.state.floatbank10_a_level                   14148 non-null  float64\n",
      " 55  rougher.state.floatbank10_b_air                     14148 non-null  float64\n",
      " 56  rougher.state.floatbank10_b_level                   14148 non-null  float64\n",
      " 57  rougher.state.floatbank10_c_air                     14148 non-null  float64\n",
      " 58  rougher.state.floatbank10_c_level                   14148 non-null  float64\n",
      " 59  rougher.state.floatbank10_d_air                     14149 non-null  float64\n",
      " 60  rougher.state.floatbank10_d_level                   14149 non-null  float64\n",
      " 61  rougher.state.floatbank10_e_air                     13713 non-null  float64\n",
      " 62  rougher.state.floatbank10_e_level                   14149 non-null  float64\n",
      " 63  rougher.state.floatbank10_f_air                     14149 non-null  float64\n",
      " 64  rougher.state.floatbank10_f_level                   14149 non-null  float64\n",
      " 65  secondary_cleaner.output.tail_ag                    14147 non-null  float64\n",
      " 66  secondary_cleaner.output.tail_pb                    14139 non-null  float64\n",
      " 67  secondary_cleaner.output.tail_sol                   12544 non-null  float64\n",
      " 68  secondary_cleaner.output.tail_au                    14149 non-null  float64\n",
      " 69  secondary_cleaner.state.floatbank2_a_air            13932 non-null  float64\n",
      " 70  secondary_cleaner.state.floatbank2_a_level          14148 non-null  float64\n",
      " 71  secondary_cleaner.state.floatbank2_b_air            14128 non-null  float64\n",
      " 72  secondary_cleaner.state.floatbank2_b_level          14148 non-null  float64\n",
      " 73  secondary_cleaner.state.floatbank3_a_air            14145 non-null  float64\n",
      " 74  secondary_cleaner.state.floatbank3_a_level          14148 non-null  float64\n",
      " 75  secondary_cleaner.state.floatbank3_b_air            14148 non-null  float64\n",
      " 76  secondary_cleaner.state.floatbank3_b_level          14148 non-null  float64\n",
      " 77  secondary_cleaner.state.floatbank4_a_air            14143 non-null  float64\n",
      " 78  secondary_cleaner.state.floatbank4_a_level          14148 non-null  float64\n",
      " 79  secondary_cleaner.state.floatbank4_b_air            14148 non-null  float64\n",
      " 80  secondary_cleaner.state.floatbank4_b_level          14148 non-null  float64\n",
      " 81  secondary_cleaner.state.floatbank5_a_air            14148 non-null  float64\n",
      " 82  secondary_cleaner.state.floatbank5_a_level          14148 non-null  float64\n",
      " 83  secondary_cleaner.state.floatbank5_b_air            14148 non-null  float64\n",
      " 84  secondary_cleaner.state.floatbank5_b_level          14148 non-null  float64\n",
      " 85  secondary_cleaner.state.floatbank6_a_air            14147 non-null  float64\n",
      " 86  secondary_cleaner.state.floatbank6_a_level          14148 non-null  float64\n",
      "dtypes: float64(86), object(1)\n",
      "memory usage: 9.4+ MB\n",
      "<class 'pandas.core.frame.DataFrame'>\n",
      "RangeIndex: 5290 entries, 0 to 5289\n",
      "Data columns (total 53 columns):\n",
      " #   Column                                      Non-Null Count  Dtype  \n",
      "---  ------                                      --------------  -----  \n",
      " 0   date                                        5290 non-null   object \n",
      " 1   primary_cleaner.input.sulfate               5286 non-null   float64\n",
      " 2   primary_cleaner.input.depressant            5285 non-null   float64\n",
      " 3   primary_cleaner.input.feed_size             5290 non-null   float64\n",
      " 4   primary_cleaner.input.xanthate              5286 non-null   float64\n",
      " 5   primary_cleaner.state.floatbank8_a_air      5290 non-null   float64\n",
      " 6   primary_cleaner.state.floatbank8_a_level    5290 non-null   float64\n",
      " 7   primary_cleaner.state.floatbank8_b_air      5290 non-null   float64\n",
      " 8   primary_cleaner.state.floatbank8_b_level    5290 non-null   float64\n",
      " 9   primary_cleaner.state.floatbank8_c_air      5290 non-null   float64\n",
      " 10  primary_cleaner.state.floatbank8_c_level    5290 non-null   float64\n",
      " 11  primary_cleaner.state.floatbank8_d_air      5290 non-null   float64\n",
      " 12  primary_cleaner.state.floatbank8_d_level    5290 non-null   float64\n",
      " 13  rougher.input.feed_ag                       5290 non-null   float64\n",
      " 14  rougher.input.feed_pb                       5290 non-null   float64\n",
      " 15  rougher.input.feed_rate                     5287 non-null   float64\n",
      " 16  rougher.input.feed_size                     5289 non-null   float64\n",
      " 17  rougher.input.feed_sol                      5269 non-null   float64\n",
      " 18  rougher.input.feed_au                       5290 non-null   float64\n",
      " 19  rougher.input.floatbank10_sulfate           5285 non-null   float64\n",
      " 20  rougher.input.floatbank10_xanthate          5290 non-null   float64\n",
      " 21  rougher.input.floatbank11_sulfate           5282 non-null   float64\n",
      " 22  rougher.input.floatbank11_xanthate          5265 non-null   float64\n",
      " 23  rougher.state.floatbank10_a_air             5290 non-null   float64\n",
      " 24  rougher.state.floatbank10_a_level           5290 non-null   float64\n",
      " 25  rougher.state.floatbank10_b_air             5290 non-null   float64\n",
      " 26  rougher.state.floatbank10_b_level           5290 non-null   float64\n",
      " 27  rougher.state.floatbank10_c_air             5290 non-null   float64\n",
      " 28  rougher.state.floatbank10_c_level           5290 non-null   float64\n",
      " 29  rougher.state.floatbank10_d_air             5290 non-null   float64\n",
      " 30  rougher.state.floatbank10_d_level           5290 non-null   float64\n",
      " 31  rougher.state.floatbank10_e_air             5290 non-null   float64\n",
      " 32  rougher.state.floatbank10_e_level           5290 non-null   float64\n",
      " 33  rougher.state.floatbank10_f_air             5290 non-null   float64\n",
      " 34  rougher.state.floatbank10_f_level           5290 non-null   float64\n",
      " 35  secondary_cleaner.state.floatbank2_a_air    5287 non-null   float64\n",
      " 36  secondary_cleaner.state.floatbank2_a_level  5290 non-null   float64\n",
      " 37  secondary_cleaner.state.floatbank2_b_air    5288 non-null   float64\n",
      " 38  secondary_cleaner.state.floatbank2_b_level  5290 non-null   float64\n",
      " 39  secondary_cleaner.state.floatbank3_a_air    5281 non-null   float64\n",
      " 40  secondary_cleaner.state.floatbank3_a_level  5290 non-null   float64\n",
      " 41  secondary_cleaner.state.floatbank3_b_air    5290 non-null   float64\n",
      " 42  secondary_cleaner.state.floatbank3_b_level  5290 non-null   float64\n",
      " 43  secondary_cleaner.state.floatbank4_a_air    5290 non-null   float64\n",
      " 44  secondary_cleaner.state.floatbank4_a_level  5290 non-null   float64\n",
      " 45  secondary_cleaner.state.floatbank4_b_air    5290 non-null   float64\n",
      " 46  secondary_cleaner.state.floatbank4_b_level  5290 non-null   float64\n",
      " 47  secondary_cleaner.state.floatbank5_a_air    5290 non-null   float64\n",
      " 48  secondary_cleaner.state.floatbank5_a_level  5290 non-null   float64\n",
      " 49  secondary_cleaner.state.floatbank5_b_air    5290 non-null   float64\n",
      " 50  secondary_cleaner.state.floatbank5_b_level  5290 non-null   float64\n",
      " 51  secondary_cleaner.state.floatbank6_a_air    5290 non-null   float64\n",
      " 52  secondary_cleaner.state.floatbank6_a_level  5290 non-null   float64\n",
      "dtypes: float64(52), object(1)\n",
      "memory usage: 2.1+ MB\n",
      "<class 'pandas.core.frame.DataFrame'>\n",
      "RangeIndex: 19439 entries, 0 to 19438\n",
      "Data columns (total 87 columns):\n",
      " #   Column                                              Non-Null Count  Dtype  \n",
      "---  ------                                              --------------  -----  \n",
      " 0   date                                                19439 non-null  object \n",
      " 1   final.output.concentrate_ag                         19438 non-null  float64\n",
      " 2   final.output.concentrate_pb                         19438 non-null  float64\n",
      " 3   final.output.concentrate_sol                        19228 non-null  float64\n",
      " 4   final.output.concentrate_au                         19439 non-null  float64\n",
      " 5   final.output.recovery                               19439 non-null  float64\n",
      " 6   final.output.tail_ag                                19438 non-null  float64\n",
      " 7   final.output.tail_pb                                19338 non-null  float64\n",
      " 8   final.output.tail_sol                               19433 non-null  float64\n",
      " 9   final.output.tail_au                                19439 non-null  float64\n",
      " 10  primary_cleaner.input.sulfate                       19415 non-null  float64\n",
      " 11  primary_cleaner.input.depressant                    19402 non-null  float64\n",
      " 12  primary_cleaner.input.feed_size                     19439 non-null  float64\n",
      " 13  primary_cleaner.input.xanthate                      19335 non-null  float64\n",
      " 14  primary_cleaner.output.concentrate_ag               19439 non-null  float64\n",
      " 15  primary_cleaner.output.concentrate_pb               19323 non-null  float64\n",
      " 16  primary_cleaner.output.concentrate_sol              19069 non-null  float64\n",
      " 17  primary_cleaner.output.concentrate_au               19439 non-null  float64\n",
      " 18  primary_cleaner.output.tail_ag                      19435 non-null  float64\n",
      " 19  primary_cleaner.output.tail_pb                      19418 non-null  float64\n",
      " 20  primary_cleaner.output.tail_sol                     19377 non-null  float64\n",
      " 21  primary_cleaner.output.tail_au                      19439 non-null  float64\n",
      " 22  primary_cleaner.state.floatbank8_a_air              19435 non-null  float64\n",
      " 23  primary_cleaner.state.floatbank8_a_level            19438 non-null  float64\n",
      " 24  primary_cleaner.state.floatbank8_b_air              19435 non-null  float64\n",
      " 25  primary_cleaner.state.floatbank8_b_level            19438 non-null  float64\n",
      " 26  primary_cleaner.state.floatbank8_c_air              19437 non-null  float64\n",
      " 27  primary_cleaner.state.floatbank8_c_level            19438 non-null  float64\n",
      " 28  primary_cleaner.state.floatbank8_d_air              19436 non-null  float64\n",
      " 29  primary_cleaner.state.floatbank8_d_level            19438 non-null  float64\n",
      " 30  rougher.calculation.sulfate_to_au_concentrate       19437 non-null  float64\n",
      " 31  rougher.calculation.floatbank10_sulfate_to_au_feed  19437 non-null  float64\n",
      " 32  rougher.calculation.floatbank11_sulfate_to_au_feed  19437 non-null  float64\n",
      " 33  rougher.calculation.au_pb_ratio                     19439 non-null  float64\n",
      " 34  rougher.input.feed_ag                               19439 non-null  float64\n",
      " 35  rougher.input.feed_pb                               19339 non-null  float64\n",
      " 36  rougher.input.feed_rate                             19428 non-null  float64\n",
      " 37  rougher.input.feed_size                             19294 non-null  float64\n",
      " 38  rougher.input.feed_sol                              19340 non-null  float64\n",
      " 39  rougher.input.feed_au                               19439 non-null  float64\n",
      " 40  rougher.input.floatbank10_sulfate                   19405 non-null  float64\n",
      " 41  rougher.input.floatbank10_xanthate                  19431 non-null  float64\n",
      " 42  rougher.input.floatbank11_sulfate                   19395 non-null  float64\n",
      " 43  rougher.input.floatbank11_xanthate                  18986 non-null  float64\n",
      " 44  rougher.output.concentrate_ag                       19439 non-null  float64\n",
      " 45  rougher.output.concentrate_pb                       19439 non-null  float64\n",
      " 46  rougher.output.concentrate_sol                      19416 non-null  float64\n",
      " 47  rougher.output.concentrate_au                       19439 non-null  float64\n",
      " 48  rougher.output.recovery                             19439 non-null  float64\n",
      " 49  rougher.output.tail_ag                              19438 non-null  float64\n",
      " 50  rougher.output.tail_pb                              19439 non-null  float64\n",
      " 51  rougher.output.tail_sol                             19439 non-null  float64\n",
      " 52  rougher.output.tail_au                              19439 non-null  float64\n",
      " 53  rougher.state.floatbank10_a_air                     19438 non-null  float64\n",
      " 54  rougher.state.floatbank10_a_level                   19438 non-null  float64\n",
      " 55  rougher.state.floatbank10_b_air                     19438 non-null  float64\n",
      " 56  rougher.state.floatbank10_b_level                   19438 non-null  float64\n",
      " 57  rougher.state.floatbank10_c_air                     19438 non-null  float64\n",
      " 58  rougher.state.floatbank10_c_level                   19438 non-null  float64\n",
      " 59  rougher.state.floatbank10_d_air                     19439 non-null  float64\n",
      " 60  rougher.state.floatbank10_d_level                   19439 non-null  float64\n",
      " 61  rougher.state.floatbank10_e_air                     19003 non-null  float64\n",
      " 62  rougher.state.floatbank10_e_level                   19439 non-null  float64\n",
      " 63  rougher.state.floatbank10_f_air                     19439 non-null  float64\n",
      " 64  rougher.state.floatbank10_f_level                   19439 non-null  float64\n",
      " 65  secondary_cleaner.output.tail_ag                    19437 non-null  float64\n",
      " 66  secondary_cleaner.output.tail_pb                    19427 non-null  float64\n",
      " 67  secondary_cleaner.output.tail_sol                   17691 non-null  float64\n",
      " 68  secondary_cleaner.output.tail_au                    19439 non-null  float64\n",
      " 69  secondary_cleaner.state.floatbank2_a_air            19219 non-null  float64\n",
      " 70  secondary_cleaner.state.floatbank2_a_level          19438 non-null  float64\n",
      " 71  secondary_cleaner.state.floatbank2_b_air            19416 non-null  float64\n",
      " 72  secondary_cleaner.state.floatbank2_b_level          19438 non-null  float64\n",
      " 73  secondary_cleaner.state.floatbank3_a_air            19426 non-null  float64\n",
      " 74  secondary_cleaner.state.floatbank3_a_level          19438 non-null  float64\n",
      " 75  secondary_cleaner.state.floatbank3_b_air            19438 non-null  float64\n",
      " 76  secondary_cleaner.state.floatbank3_b_level          19438 non-null  float64\n",
      " 77  secondary_cleaner.state.floatbank4_a_air            19433 non-null  float64\n",
      " 78  secondary_cleaner.state.floatbank4_a_level          19438 non-null  float64\n",
      " 79  secondary_cleaner.state.floatbank4_b_air            19438 non-null  float64\n",
      " 80  secondary_cleaner.state.floatbank4_b_level          19438 non-null  float64\n",
      " 81  secondary_cleaner.state.floatbank5_a_air            19438 non-null  float64\n",
      " 82  secondary_cleaner.state.floatbank5_a_level          19438 non-null  float64\n",
      " 83  secondary_cleaner.state.floatbank5_b_air            19438 non-null  float64\n",
      " 84  secondary_cleaner.state.floatbank5_b_level          19438 non-null  float64\n",
      " 85  secondary_cleaner.state.floatbank6_a_air            19437 non-null  float64\n",
      " 86  secondary_cleaner.state.floatbank6_a_level          19438 non-null  float64\n",
      "dtypes: float64(86), object(1)\n",
      "memory usage: 12.9+ MB\n"
     ]
    }
   ],
   "source": [
    "try:\n",
    "    train = pd.read_csv('/datasets/gold_recovery_train_new.csv')\n",
    "except:\n",
    "    train = pd.read_csv('C:\\\\YP\\\\gold_recovery_train_new.csv')\n",
    "try:\n",
    "    test = pd.read_csv('//datasets/gold_recovery_test_new.csv')\n",
    "except:\n",
    "    test = pd.read_csv('C:\\\\YP\\\\gold_recovery_test_new.csv')\n",
    "try:\n",
    "    full = pd.read_csv('/datasets/gold_recovery_full_new.csv')\n",
    "except:\n",
    "    full = pd.read_csv('C:\\\\YP\\\\gold_recovery_full_new.csv')\n",
    "train.info()\n",
    "test.info()\n",
    "full.info()"
   ]
  },
  {
   "cell_type": "markdown",
   "metadata": {},
   "source": [
    "### Эффективность обогащения\n",
    "Проверим, что эффективность обогащения рассчитана правильно. Вычислим её на тестовой выборке для признака `rougher.output.recovery` по формуле \n",
    "$$\n",
    "{Recovery} = \\frac {C*(F-T)}{F*(C-T)}*100 %,\n",
    "$$\n",
    "где C — доля золота в концентрате после флотации;     F — доля золота в сырье до флотации;     T — доля золота в отвальных хвостах после флотации.\n",
    "В датасете С = `rougher.output.concentrate_au` (14149 значений), F = `rougher.input.feed_au`(14149 значений), T = `rougher.output.tail_au `(14149 значений). "
   ]
  },
  {
   "cell_type": "code",
   "execution_count": 12,
   "metadata": {
    "scrolled": true
   },
   "outputs": [
    {
     "data": {
      "text/html": [
       "<div>\n",
       "<style scoped>\n",
       "    .dataframe tbody tr th:only-of-type {\n",
       "        vertical-align: middle;\n",
       "    }\n",
       "\n",
       "    .dataframe tbody tr th {\n",
       "        vertical-align: top;\n",
       "    }\n",
       "\n",
       "    .dataframe thead th {\n",
       "        text-align: right;\n",
       "    }\n",
       "</style>\n",
       "<table border=\"1\" class=\"dataframe\">\n",
       "  <thead>\n",
       "    <tr style=\"text-align: right;\">\n",
       "      <th></th>\n",
       "      <th>rougher.output.recovery</th>\n",
       "      <th>rougher.output.recovery.predictions</th>\n",
       "    </tr>\n",
       "  </thead>\n",
       "  <tbody>\n",
       "    <tr>\n",
       "      <th>0</th>\n",
       "      <td>87.107763</td>\n",
       "      <td>87.107763</td>\n",
       "    </tr>\n",
       "    <tr>\n",
       "      <th>1</th>\n",
       "      <td>86.843261</td>\n",
       "      <td>86.843261</td>\n",
       "    </tr>\n",
       "    <tr>\n",
       "      <th>2</th>\n",
       "      <td>86.842308</td>\n",
       "      <td>86.842308</td>\n",
       "    </tr>\n",
       "    <tr>\n",
       "      <th>3</th>\n",
       "      <td>87.226430</td>\n",
       "      <td>87.226430</td>\n",
       "    </tr>\n",
       "    <tr>\n",
       "      <th>4</th>\n",
       "      <td>86.688794</td>\n",
       "      <td>86.688794</td>\n",
       "    </tr>\n",
       "  </tbody>\n",
       "</table>\n",
       "</div>"
      ],
      "text/plain": [
       "   rougher.output.recovery  rougher.output.recovery.predictions\n",
       "0                87.107763                            87.107763\n",
       "1                86.843261                            86.843261\n",
       "2                86.842308                            86.842308\n",
       "3                87.226430                            87.226430\n",
       "4                86.688794                            86.688794"
      ]
     },
     "metadata": {},
     "output_type": "display_data"
    },
    {
     "name": "stdout",
     "output_type": "stream",
     "text": [
      "MAE расчётами эффективности обогащения и значением признака 9.73512347450521e-15\n"
     ]
    }
   ],
   "source": [
    "train['rougher.output.recovery.predictions'] =(( train['rougher.output.concentrate_au']*(train['rougher.input.feed_au'] \n",
    "                                                                                         - train['rougher.output.tail_au']))/\n",
    "                                               (train['rougher.input.feed_au']*(train['rougher.output.concentrate_au']\n",
    "                                                                                  - train['rougher.output.tail_au']))*100)\n",
    "display(train[['rougher.output.recovery', 'rougher.output.recovery.predictions']].head())\n",
    "print('MAE расчётами эффективности обогащения и значением признака', mean_absolute_error(train['rougher.output.recovery'], train['rougher.output.recovery.predictions']))"
   ]
  },
  {
   "cell_type": "markdown",
   "metadata": {},
   "source": [
    "Мы видим, что среднее абсолютное отклонение рассчитанных значений от значений признака очень мало, значит, эффективность обогачещния расчитана верно."
   ]
  },
  {
   "cell_type": "markdown",
   "metadata": {},
   "source": [
    "### Работа с пропусками\n",
    "Поскольку процесс развивается непрерывно во времени и близкие по времени значения похожи, то для обучения модели мы будем заполнять пропущенные значения похожими."
   ]
  },
  {
   "cell_type": "code",
   "execution_count": 13,
   "metadata": {},
   "outputs": [],
   "source": [
    "train = train.fillna(method = 'ffill')\n",
    "test = test.fillna(method = 'ffill')\n",
    "full = full.fillna(method = 'ffill')"
   ]
  },
  {
   "cell_type": "markdown",
   "metadata": {},
   "source": [
    "## Анализ данных\n",
    "### Концентрация различных металлов после флотации, после первичной очистки и в финальном концентрате (после втого этапа очистки)\n",
    "\n",
    "Ниже представлены распределения концентрации золота, серебра и свинца на различных этапах очистки, а также графики boxplot для этих распределений. Мы видим, что концентрация золота растёт, концентрация серебра падает, а концентрация свинца падает с последующей стабилизацией. Главный вывод, который  мы можем сделать, что данные действительно отражают различные этапы очистки, обратного процесса не происходит."
   ]
  },
  {
   "cell_type": "code",
   "execution_count": 14,
   "metadata": {},
   "outputs": [
    {
     "data": {
      "text/html": [
       "<div>\n",
       "<style scoped>\n",
       "    .dataframe tbody tr th:only-of-type {\n",
       "        vertical-align: middle;\n",
       "    }\n",
       "\n",
       "    .dataframe tbody tr th {\n",
       "        vertical-align: top;\n",
       "    }\n",
       "\n",
       "    .dataframe thead th {\n",
       "        text-align: right;\n",
       "    }\n",
       "</style>\n",
       "<table border=\"1\" class=\"dataframe\">\n",
       "  <thead>\n",
       "    <tr style=\"text-align: right;\">\n",
       "      <th></th>\n",
       "      <th>rougher.output.concentrate_au</th>\n",
       "      <th>primary_cleaner.output.concentrate_au</th>\n",
       "      <th>final.output.concentrate_au</th>\n",
       "    </tr>\n",
       "  </thead>\n",
       "  <tbody>\n",
       "    <tr>\n",
       "      <th>count</th>\n",
       "      <td>19439.000000</td>\n",
       "      <td>19439.000000</td>\n",
       "      <td>19439.000000</td>\n",
       "    </tr>\n",
       "    <tr>\n",
       "      <th>mean</th>\n",
       "      <td>19.772000</td>\n",
       "      <td>32.119400</td>\n",
       "      <td>44.076513</td>\n",
       "    </tr>\n",
       "    <tr>\n",
       "      <th>std</th>\n",
       "      <td>3.753600</td>\n",
       "      <td>5.627611</td>\n",
       "      <td>5.129784</td>\n",
       "    </tr>\n",
       "    <tr>\n",
       "      <th>min</th>\n",
       "      <td>0.000000</td>\n",
       "      <td>0.000000</td>\n",
       "      <td>0.000000</td>\n",
       "    </tr>\n",
       "    <tr>\n",
       "      <th>25%</th>\n",
       "      <td>18.802523</td>\n",
       "      <td>30.463140</td>\n",
       "      <td>43.402215</td>\n",
       "    </tr>\n",
       "    <tr>\n",
       "      <th>50%</th>\n",
       "      <td>20.280214</td>\n",
       "      <td>32.841295</td>\n",
       "      <td>45.011244</td>\n",
       "    </tr>\n",
       "    <tr>\n",
       "      <th>75%</th>\n",
       "      <td>21.717843</td>\n",
       "      <td>35.048006</td>\n",
       "      <td>46.275313</td>\n",
       "    </tr>\n",
       "    <tr>\n",
       "      <th>max</th>\n",
       "      <td>28.824507</td>\n",
       "      <td>45.933934</td>\n",
       "      <td>52.756638</td>\n",
       "    </tr>\n",
       "  </tbody>\n",
       "</table>\n",
       "</div>"
      ],
      "text/plain": [
       "       rougher.output.concentrate_au  primary_cleaner.output.concentrate_au  \\\n",
       "count                   19439.000000                           19439.000000   \n",
       "mean                       19.772000                              32.119400   \n",
       "std                         3.753600                               5.627611   \n",
       "min                         0.000000                               0.000000   \n",
       "25%                        18.802523                              30.463140   \n",
       "50%                        20.280214                              32.841295   \n",
       "75%                        21.717843                              35.048006   \n",
       "max                        28.824507                              45.933934   \n",
       "\n",
       "       final.output.concentrate_au  \n",
       "count                 19439.000000  \n",
       "mean                     44.076513  \n",
       "std                       5.129784  \n",
       "min                       0.000000  \n",
       "25%                      43.402215  \n",
       "50%                      45.011244  \n",
       "75%                      46.275313  \n",
       "max                      52.756638  "
      ]
     },
     "metadata": {},
     "output_type": "display_data"
    }
   ],
   "source": [
    "data_au = pd.concat([full['rougher.output.concentrate_au'].describe(), full['primary_cleaner.output.concentrate_au'].describe(),\n",
    "                            full['final.output.concentrate_au'].describe()], axis=1)\n",
    "display(data_au)\n",
    "\n"
   ]
  },
  {
   "cell_type": "code",
   "execution_count": 15,
   "metadata": {
    "scrolled": false
   },
   "outputs": [
    {
     "data": {
      "image/png": "[encoded data removed]",
      "text/plain": [
       "<Figure size 640x480 with 1 Axes>"
      ]
     },
     "metadata": {},
     "output_type": "display_data"
    }
   ],
   "source": [
    "plt.boxplot ([full['rougher.output.concentrate_au'], full['primary_cleaner.output.concentrate_au'], \n",
    "              full['final.output.concentrate_au']])\n",
    "plt.title('Au concentrate')\n",
    "plt.show()"
   ]
  },
  {
   "cell_type": "code",
   "execution_count": 16,
   "metadata": {},
   "outputs": [
    {
     "data": {
      "text/html": [
       "<div>\n",
       "<style scoped>\n",
       "    .dataframe tbody tr th:only-of-type {\n",
       "        vertical-align: middle;\n",
       "    }\n",
       "\n",
       "    .dataframe tbody tr th {\n",
       "        vertical-align: top;\n",
       "    }\n",
       "\n",
       "    .dataframe thead th {\n",
       "        text-align: right;\n",
       "    }\n",
       "</style>\n",
       "<table border=\"1\" class=\"dataframe\">\n",
       "  <thead>\n",
       "    <tr style=\"text-align: right;\">\n",
       "      <th></th>\n",
       "      <th>rougher.output.concentrate_ag</th>\n",
       "      <th>primary_cleaner.output.concentrate_ag</th>\n",
       "      <th>final.output.concentrate_ag</th>\n",
       "    </tr>\n",
       "  </thead>\n",
       "  <tbody>\n",
       "    <tr>\n",
       "      <th>count</th>\n",
       "      <td>19439.000000</td>\n",
       "      <td>19439.000000</td>\n",
       "      <td>19439.000000</td>\n",
       "    </tr>\n",
       "    <tr>\n",
       "      <th>mean</th>\n",
       "      <td>11.994759</td>\n",
       "      <td>8.442408</td>\n",
       "      <td>5.168387</td>\n",
       "    </tr>\n",
       "    <tr>\n",
       "      <th>std</th>\n",
       "      <td>2.733862</td>\n",
       "      <td>2.054465</td>\n",
       "      <td>1.372362</td>\n",
       "    </tr>\n",
       "    <tr>\n",
       "      <th>min</th>\n",
       "      <td>0.000000</td>\n",
       "      <td>0.000000</td>\n",
       "      <td>0.000000</td>\n",
       "    </tr>\n",
       "    <tr>\n",
       "      <th>25%</th>\n",
       "      <td>10.628337</td>\n",
       "      <td>7.263288</td>\n",
       "      <td>4.251000</td>\n",
       "    </tr>\n",
       "    <tr>\n",
       "      <th>50%</th>\n",
       "      <td>12.098115</td>\n",
       "      <td>8.507298</td>\n",
       "      <td>5.066039</td>\n",
       "    </tr>\n",
       "    <tr>\n",
       "      <th>75%</th>\n",
       "      <td>13.736996</td>\n",
       "      <td>9.809001</td>\n",
       "      <td>5.895401</td>\n",
       "    </tr>\n",
       "    <tr>\n",
       "      <th>max</th>\n",
       "      <td>24.480271</td>\n",
       "      <td>16.081632</td>\n",
       "      <td>16.001945</td>\n",
       "    </tr>\n",
       "  </tbody>\n",
       "</table>\n",
       "</div>"
      ],
      "text/plain": [
       "       rougher.output.concentrate_ag  primary_cleaner.output.concentrate_ag  \\\n",
       "count                   19439.000000                           19439.000000   \n",
       "mean                       11.994759                               8.442408   \n",
       "std                         2.733862                               2.054465   \n",
       "min                         0.000000                               0.000000   \n",
       "25%                        10.628337                               7.263288   \n",
       "50%                        12.098115                               8.507298   \n",
       "75%                        13.736996                               9.809001   \n",
       "max                        24.480271                              16.081632   \n",
       "\n",
       "       final.output.concentrate_ag  \n",
       "count                 19439.000000  \n",
       "mean                      5.168387  \n",
       "std                       1.372362  \n",
       "min                       0.000000  \n",
       "25%                       4.251000  \n",
       "50%                       5.066039  \n",
       "75%                       5.895401  \n",
       "max                      16.001945  "
      ]
     },
     "metadata": {},
     "output_type": "display_data"
    }
   ],
   "source": [
    "data_ag = pd.concat([full['rougher.output.concentrate_ag'].describe(), full['primary_cleaner.output.concentrate_ag'].describe(),\n",
    "                            full['final.output.concentrate_ag'].describe()], axis=1)\n",
    "display(data_ag)"
   ]
  },
  {
   "cell_type": "code",
   "execution_count": 17,
   "metadata": {},
   "outputs": [
    {
     "data": {
      "image/png": "[encoded data removed]",
      "text/plain": [
       "<Figure size 640x480 with 1 Axes>"
      ]
     },
     "metadata": {},
     "output_type": "display_data"
    }
   ],
   "source": [
    "plt.boxplot ([full['rougher.output.concentrate_ag'], full['primary_cleaner.output.concentrate_ag'], \n",
    "              full['final.output.concentrate_ag']])\n",
    "plt.title('Ag concentrate')\n",
    "plt.show()"
   ]
  },
  {
   "cell_type": "code",
   "execution_count": 18,
   "metadata": {},
   "outputs": [
    {
     "data": {
      "text/html": [
       "<div>\n",
       "<style scoped>\n",
       "    .dataframe tbody tr th:only-of-type {\n",
       "        vertical-align: middle;\n",
       "    }\n",
       "\n",
       "    .dataframe tbody tr th {\n",
       "        vertical-align: top;\n",
       "    }\n",
       "\n",
       "    .dataframe thead th {\n",
       "        text-align: right;\n",
       "    }\n",
       "</style>\n",
       "<table border=\"1\" class=\"dataframe\">\n",
       "  <thead>\n",
       "    <tr style=\"text-align: right;\">\n",
       "      <th></th>\n",
       "      <th>rougher.output.concentrate_pb</th>\n",
       "      <th>primary_cleaner.output.concentrate_pb</th>\n",
       "      <th>final.output.concentrate_pb</th>\n",
       "    </tr>\n",
       "  </thead>\n",
       "  <tbody>\n",
       "    <tr>\n",
       "      <th>count</th>\n",
       "      <td>19439.000000</td>\n",
       "      <td>19439.000000</td>\n",
       "      <td>19439.000000</td>\n",
       "    </tr>\n",
       "    <tr>\n",
       "      <th>mean</th>\n",
       "      <td>7.606272</td>\n",
       "      <td>9.810317</td>\n",
       "      <td>9.978821</td>\n",
       "    </tr>\n",
       "    <tr>\n",
       "      <th>std</th>\n",
       "      <td>1.796757</td>\n",
       "      <td>2.572253</td>\n",
       "      <td>1.669228</td>\n",
       "    </tr>\n",
       "    <tr>\n",
       "      <th>min</th>\n",
       "      <td>0.000000</td>\n",
       "      <td>0.000000</td>\n",
       "      <td>0.000000</td>\n",
       "    </tr>\n",
       "    <tr>\n",
       "      <th>25%</th>\n",
       "      <td>6.725987</td>\n",
       "      <td>8.676500</td>\n",
       "      <td>9.137225</td>\n",
       "    </tr>\n",
       "    <tr>\n",
       "      <th>50%</th>\n",
       "      <td>7.742580</td>\n",
       "      <td>10.142270</td>\n",
       "      <td>10.102264</td>\n",
       "    </tr>\n",
       "    <tr>\n",
       "      <th>75%</th>\n",
       "      <td>8.565199</td>\n",
       "      <td>11.416298</td>\n",
       "      <td>11.035644</td>\n",
       "    </tr>\n",
       "    <tr>\n",
       "      <th>max</th>\n",
       "      <td>13.617072</td>\n",
       "      <td>17.081278</td>\n",
       "      <td>17.031899</td>\n",
       "    </tr>\n",
       "  </tbody>\n",
       "</table>\n",
       "</div>"
      ],
      "text/plain": [
       "       rougher.output.concentrate_pb  primary_cleaner.output.concentrate_pb  \\\n",
       "count                   19439.000000                           19439.000000   \n",
       "mean                        7.606272                               9.810317   \n",
       "std                         1.796757                               2.572253   \n",
       "min                         0.000000                               0.000000   \n",
       "25%                         6.725987                               8.676500   \n",
       "50%                         7.742580                              10.142270   \n",
       "75%                         8.565199                              11.416298   \n",
       "max                        13.617072                              17.081278   \n",
       "\n",
       "       final.output.concentrate_pb  \n",
       "count                 19439.000000  \n",
       "mean                      9.978821  \n",
       "std                       1.669228  \n",
       "min                       0.000000  \n",
       "25%                       9.137225  \n",
       "50%                      10.102264  \n",
       "75%                      11.035644  \n",
       "max                      17.031899  "
      ]
     },
     "metadata": {},
     "output_type": "display_data"
    }
   ],
   "source": [
    "data_pb = pd.concat([full['rougher.output.concentrate_pb'].describe(), full['primary_cleaner.output.concentrate_pb'].describe(),\n",
    "                            full['final.output.concentrate_pb'].describe()], axis=1)\n",
    "display(data_pb)"
   ]
  },
  {
   "cell_type": "code",
   "execution_count": 19,
   "metadata": {
    "scrolled": true
   },
   "outputs": [
    {
     "data": {
      "image/png": "[encoded data removed]",
      "text/plain": [
       "<Figure size 640x480 with 1 Axes>"
      ]
     },
     "metadata": {},
     "output_type": "display_data"
    }
   ],
   "source": [
    "plt.boxplot ([full['rougher.output.concentrate_pb'], full['primary_cleaner.output.concentrate_pb'], \n",
    "              full['final.output.concentrate_pb']])\n",
    "plt.title('Pb concentrate')\n",
    "plt.show()"
   ]
  },
  {
   "cell_type": "markdown",
   "metadata": {},
   "source": [
    "### Распределения размеров гранул сырья на обучающей и тестовой выборках.\n",
    "\n",
    "Мы видим, что распределия размеров гранул сырья на обущающей и тестовой выборках отличаются, но не очень сильно (средние равны 60.24 и 55.95, соответственно, дисперсии близки). "
   ]
  },
  {
   "cell_type": "code",
   "execution_count": 20,
   "metadata": {
    "scrolled": true
   },
   "outputs": [
    {
     "data": {
      "text/html": [
       "<div>\n",
       "<style scoped>\n",
       "    .dataframe tbody tr th:only-of-type {\n",
       "        vertical-align: middle;\n",
       "    }\n",
       "\n",
       "    .dataframe tbody tr th {\n",
       "        vertical-align: top;\n",
       "    }\n",
       "\n",
       "    .dataframe thead th {\n",
       "        text-align: right;\n",
       "    }\n",
       "</style>\n",
       "<table border=\"1\" class=\"dataframe\">\n",
       "  <thead>\n",
       "    <tr style=\"text-align: right;\">\n",
       "      <th></th>\n",
       "      <th>rougher.input.feed_size</th>\n",
       "      <th>rougher.input.feed_size</th>\n",
       "    </tr>\n",
       "  </thead>\n",
       "  <tbody>\n",
       "    <tr>\n",
       "      <th>count</th>\n",
       "      <td>14149.000000</td>\n",
       "      <td>5290.000000</td>\n",
       "    </tr>\n",
       "    <tr>\n",
       "      <th>mean</th>\n",
       "      <td>60.239856</td>\n",
       "      <td>55.952754</td>\n",
       "    </tr>\n",
       "    <tr>\n",
       "      <th>std</th>\n",
       "      <td>23.005310</td>\n",
       "      <td>19.080334</td>\n",
       "    </tr>\n",
       "    <tr>\n",
       "      <th>min</th>\n",
       "      <td>9.659576</td>\n",
       "      <td>0.046369</td>\n",
       "    </tr>\n",
       "    <tr>\n",
       "      <th>25%</th>\n",
       "      <td>48.966751</td>\n",
       "      <td>43.906504</td>\n",
       "    </tr>\n",
       "    <tr>\n",
       "      <th>50%</th>\n",
       "      <td>55.269784</td>\n",
       "      <td>50.846843</td>\n",
       "    </tr>\n",
       "    <tr>\n",
       "      <th>75%</th>\n",
       "      <td>66.007526</td>\n",
       "      <td>62.451165</td>\n",
       "    </tr>\n",
       "    <tr>\n",
       "      <th>max</th>\n",
       "      <td>484.967466</td>\n",
       "      <td>392.494040</td>\n",
       "    </tr>\n",
       "  </tbody>\n",
       "</table>\n",
       "</div>"
      ],
      "text/plain": [
       "       rougher.input.feed_size  rougher.input.feed_size\n",
       "count             14149.000000              5290.000000\n",
       "mean                 60.239856                55.952754\n",
       "std                  23.005310                19.080334\n",
       "min                   9.659576                 0.046369\n",
       "25%                  48.966751                43.906504\n",
       "50%                  55.269784                50.846843\n",
       "75%                  66.007526                62.451165\n",
       "max                 484.967466               392.494040"
      ]
     },
     "metadata": {},
     "output_type": "display_data"
    },
    {
     "data": {
      "image/png": "[encoded data removed]",
      "text/plain": [
       "<Figure size 640x480 with 1 Axes>"
      ]
     },
     "metadata": {},
     "output_type": "display_data"
    }
   ],
   "source": [
    "feed_size = pd.concat([train['rougher.input.feed_size'].describe(), test['rougher.input.feed_size'].describe()], axis = 1)\n",
    "display(feed_size)\n",
    "plt.boxplot ([train['rougher.input.feed_size'],test['rougher.input.feed_size']] )\n",
    "plt.title('Train/test feed size')\n",
    "plt.show()\n",
    "\n"
   ]
  },
  {
   "cell_type": "markdown",
   "metadata": {},
   "source": [
    "### Суммарная концентрация веществ\n",
    "Мы видим, что суммарная концентрация веществ на тестовой выборке принимает неожиданные значения: на графике типа boxplot мы видим аномалии, когда суммарная концентрация близка к нулю. Это может свидетельствовать о неверной записи данных, обработаем эти аномалии, убрав строки, в которых суммарная концентрация близка к нулю.\n",
    "\n",
    "\n"
   ]
  },
  {
   "cell_type": "code",
   "execution_count": 21,
   "metadata": {
    "scrolled": true
   },
   "outputs": [],
   "source": [
    "train['final.output.concentrate.sum']= (train['final.output.concentrate_ag'] + train['final.output.concentrate_pb'] +\n",
    "                                        train['final.output.concentrate_au']+train['final.output.concentrate_sol'])\n",
    "train['rougher.output.concentrate.sum']= (train['rougher.output.concentrate_ag'] + train['rougher.output.concentrate_pb'] +\n",
    "                                        train['rougher.output.concentrate_au']+train['rougher.output.concentrate_sol'])\n",
    "train['rougher.input.feed.sum']= (train['rougher.input.feed_ag'] + train['rougher.input.feed_pb'] +\n",
    "                                        train['rougher.input.feed_au']+train['rougher.input.feed_sol'])\n",
    "\n"
   ]
  },
  {
   "cell_type": "code",
   "execution_count": 22,
   "metadata": {},
   "outputs": [
    {
     "data": {
      "text/html": [
       "<div>\n",
       "<style scoped>\n",
       "    .dataframe tbody tr th:only-of-type {\n",
       "        vertical-align: middle;\n",
       "    }\n",
       "\n",
       "    .dataframe tbody tr th {\n",
       "        vertical-align: top;\n",
       "    }\n",
       "\n",
       "    .dataframe thead th {\n",
       "        text-align: right;\n",
       "    }\n",
       "</style>\n",
       "<table border=\"1\" class=\"dataframe\">\n",
       "  <thead>\n",
       "    <tr style=\"text-align: right;\">\n",
       "      <th></th>\n",
       "      <th>rougher.input.feed.sum</th>\n",
       "      <th>rougher.output.concentrate.sum</th>\n",
       "      <th>final.output.concentrate.sum</th>\n",
       "    </tr>\n",
       "  </thead>\n",
       "  <tbody>\n",
       "    <tr>\n",
       "      <th>count</th>\n",
       "      <td>14149.000000</td>\n",
       "      <td>14149.000000</td>\n",
       "      <td>14149.000000</td>\n",
       "    </tr>\n",
       "    <tr>\n",
       "      <th>mean</th>\n",
       "      <td>56.242170</td>\n",
       "      <td>67.173145</td>\n",
       "      <td>68.387872</td>\n",
       "    </tr>\n",
       "    <tr>\n",
       "      <th>std</th>\n",
       "      <td>7.029808</td>\n",
       "      <td>12.713129</td>\n",
       "      <td>7.023723</td>\n",
       "    </tr>\n",
       "    <tr>\n",
       "      <th>min</th>\n",
       "      <td>0.040000</td>\n",
       "      <td>0.000000</td>\n",
       "      <td>0.000000</td>\n",
       "    </tr>\n",
       "    <tr>\n",
       "      <th>25%</th>\n",
       "      <td>52.573579</td>\n",
       "      <td>64.914390</td>\n",
       "      <td>67.559819</td>\n",
       "    </tr>\n",
       "    <tr>\n",
       "      <th>50%</th>\n",
       "      <td>56.627635</td>\n",
       "      <td>69.175663</td>\n",
       "      <td>69.141502</td>\n",
       "    </tr>\n",
       "    <tr>\n",
       "      <th>75%</th>\n",
       "      <td>60.763234</td>\n",
       "      <td>73.429261</td>\n",
       "      <td>70.974661</td>\n",
       "    </tr>\n",
       "    <tr>\n",
       "      <th>max</th>\n",
       "      <td>74.458253</td>\n",
       "      <td>88.140119</td>\n",
       "      <td>80.210644</td>\n",
       "    </tr>\n",
       "  </tbody>\n",
       "</table>\n",
       "</div>"
      ],
      "text/plain": [
       "       rougher.input.feed.sum  rougher.output.concentrate.sum  \\\n",
       "count            14149.000000                    14149.000000   \n",
       "mean                56.242170                       67.173145   \n",
       "std                  7.029808                       12.713129   \n",
       "min                  0.040000                        0.000000   \n",
       "25%                 52.573579                       64.914390   \n",
       "50%                 56.627635                       69.175663   \n",
       "75%                 60.763234                       73.429261   \n",
       "max                 74.458253                       88.140119   \n",
       "\n",
       "       final.output.concentrate.sum  \n",
       "count                  14149.000000  \n",
       "mean                      68.387872  \n",
       "std                        7.023723  \n",
       "min                        0.000000  \n",
       "25%                       67.559819  \n",
       "50%                       69.141502  \n",
       "75%                       70.974661  \n",
       "max                       80.210644  "
      ]
     },
     "metadata": {},
     "output_type": "display_data"
    },
    {
     "data": {
      "image/png": "[encoded data removed]",
      "text/plain": [
       "<Figure size 640x480 with 1 Axes>"
      ]
     },
     "metadata": {},
     "output_type": "display_data"
    }
   ],
   "source": [
    "concentration_sum = pd.concat([train['rougher.input.feed.sum'].describe(), train['rougher.output.concentrate.sum'].describe(), train['final.output.concentrate.sum'].describe()], axis = 1)\n",
    "display(concentration_sum)\n",
    "\n",
    "plt.boxplot ([train['rougher.input.feed.sum'], train['rougher.output.concentrate.sum'], \n",
    "              train['final.output.concentrate.sum']]) \n",
    "plt.title('Concentrate sum')\n",
    "plt.show()"
   ]
  },
  {
   "cell_type": "code",
   "execution_count": 23,
   "metadata": {},
   "outputs": [
    {
     "data": {
      "text/html": [
       "<div>\n",
       "<style scoped>\n",
       "    .dataframe tbody tr th:only-of-type {\n",
       "        vertical-align: middle;\n",
       "    }\n",
       "\n",
       "    .dataframe tbody tr th {\n",
       "        vertical-align: top;\n",
       "    }\n",
       "\n",
       "    .dataframe thead th {\n",
       "        text-align: right;\n",
       "    }\n",
       "</style>\n",
       "<table border=\"1\" class=\"dataframe\">\n",
       "  <thead>\n",
       "    <tr style=\"text-align: right;\">\n",
       "      <th></th>\n",
       "      <th>rougher.output.concentrate.sum</th>\n",
       "      <th>rougher.input.feed.sum</th>\n",
       "      <th>final.output.concentrate.sum</th>\n",
       "    </tr>\n",
       "  </thead>\n",
       "  <tbody>\n",
       "    <tr>\n",
       "      <th>count</th>\n",
       "      <td>13787.000000</td>\n",
       "      <td>13787.000000</td>\n",
       "      <td>13787.000000</td>\n",
       "    </tr>\n",
       "    <tr>\n",
       "      <th>mean</th>\n",
       "      <td>68.643069</td>\n",
       "      <td>56.247206</td>\n",
       "      <td>68.679486</td>\n",
       "    </tr>\n",
       "    <tr>\n",
       "      <th>std</th>\n",
       "      <td>7.974175</td>\n",
       "      <td>6.886062</td>\n",
       "      <td>5.349792</td>\n",
       "    </tr>\n",
       "    <tr>\n",
       "      <th>min</th>\n",
       "      <td>5.577864</td>\n",
       "      <td>8.217984</td>\n",
       "      <td>9.625832</td>\n",
       "    </tr>\n",
       "    <tr>\n",
       "      <th>25%</th>\n",
       "      <td>65.253549</td>\n",
       "      <td>52.543446</td>\n",
       "      <td>67.560878</td>\n",
       "    </tr>\n",
       "    <tr>\n",
       "      <th>50%</th>\n",
       "      <td>69.313300</td>\n",
       "      <td>56.626743</td>\n",
       "      <td>69.137438</td>\n",
       "    </tr>\n",
       "    <tr>\n",
       "      <th>75%</th>\n",
       "      <td>73.508433</td>\n",
       "      <td>60.761560</td>\n",
       "      <td>70.954557</td>\n",
       "    </tr>\n",
       "    <tr>\n",
       "      <th>max</th>\n",
       "      <td>88.140119</td>\n",
       "      <td>74.458253</td>\n",
       "      <td>80.210644</td>\n",
       "    </tr>\n",
       "  </tbody>\n",
       "</table>\n",
       "</div>"
      ],
      "text/plain": [
       "       rougher.output.concentrate.sum  rougher.input.feed.sum  \\\n",
       "count                    13787.000000            13787.000000   \n",
       "mean                        68.643069               56.247206   \n",
       "std                          7.974175                6.886062   \n",
       "min                          5.577864                8.217984   \n",
       "25%                         65.253549               52.543446   \n",
       "50%                         69.313300               56.626743   \n",
       "75%                         73.508433               60.761560   \n",
       "max                         88.140119               74.458253   \n",
       "\n",
       "       final.output.concentrate.sum  \n",
       "count                  13787.000000  \n",
       "mean                      68.679486  \n",
       "std                        5.349792  \n",
       "min                        9.625832  \n",
       "25%                       67.560878  \n",
       "50%                       69.137438  \n",
       "75%                       70.954557  \n",
       "max                       80.210644  "
      ]
     },
     "metadata": {},
     "output_type": "display_data"
    }
   ],
   "source": [
    "train = (train[(train['final.output.concentrate.sum'] >5) &\n",
    "               (train['rougher.input.feed.sum'] >5) & (train['rougher.output.concentrate.sum'] >5) ])\n",
    "\n",
    "concentration_sum = pd.concat([train['rougher.output.concentrate.sum'].describe(), train['rougher.input.feed.sum'].describe(), train['final.output.concentrate.sum'].describe()], axis = 1)\n",
    "display(concentration_sum)\n",
    "\n",
    "#plt.boxplot ([train['final.output.concentrate.sum'], train['primary_cleaner.output.concentrate.sum'], train['rougher.output.concentrate.sum']] )\n",
    "#plt.title('Concentrate sum')\n",
    "#plt.show()"
   ]
  },
  {
   "cell_type": "markdown",
   "metadata": {},
   "source": [
    "## Модель\n",
    "Мы будем прогнозировать 2 величины:\n",
    " - эффективность обогащения чернового концентрата `rougher.output.recovery`\n",
    " - эффективность обогащения финального концентрата `final.output.recovery`\n",
    " \n",
    " В качестве метрики будем рассматривать симметричное среднее абсолютное процентное отклонение - sMAPE, рассчитываемое по формуле (в процентах)\n",
    " $$\n",
    " sMAPE = \\frac 1 N \\sum_{i=1}^N \\frac {|y_i - \\hat{y}_i|} {(|y_i| + |\\hat{y}_i|)/2} *100\n",
    " $$\n",
    "\n",
    "Итоговое качество мы будем оценивать с помощью формулы\n",
    "$$\n",
    "sMAPE = 0.25*sMAPE(rougher) + 0.75*sMAPE(final)\n",
    "$$"
   ]
  },
  {
   "cell_type": "code",
   "execution_count": 24,
   "metadata": {},
   "outputs": [],
   "source": [
    "def smape(predictions, target):\n",
    "    eps=1e-6\n",
    "    pt = pd.concat([pd.Series(predictions), pd.Series(target)], axis=1)\n",
    "    pt['smape'] = abs(pt[0] - pt[1])/((abs(pt[0]) +abs(pt[1])+eps)/2)*100\n",
    "    return pt['smape'].sum()/pt.shape[0]\n",
    "\n",
    "smape_score = make_scorer(smape, greater_is_better=False)"
   ]
  },
  {
   "cell_type": "markdown",
   "metadata": {},
   "source": [
    "Мы будем обучать 3 модели: \n",
    "- модель линейной регрессии\n",
    "- модель случайного леса \n",
    "- модель дерева решений.\n",
    "\n",
    "### Обучающая и тестовая выборки\n",
    "Мы видим, что в тестовом датафрейме отсутствуют некоторые столбцы, присутствующие в тренировочном, это означает, что для обучения моделей мы можем использовать только те данные, которые присутствуют в тесте.\n",
    "Разобьём датафрейм на тренировочную и тестовую выборки, оставив в тренировочной выборке только столбцы, присутствующие в тестовой (кроме того, учтём, что этапы для предсказания эффективности обогащения чернового концентрата - только связанные со флотацией (rougher), а для предсказания эффективности обогащения финального концентрата можем использовать все имеющиеся данные)."
   ]
  },
  {
   "cell_type": "code",
   "execution_count": 25,
   "metadata": {},
   "outputs": [
    {
     "name": "stdout",
     "output_type": "stream",
     "text": [
      "(13787, 22)\n",
      "(13787,)\n"
     ]
    }
   ],
   "source": [
    "stages = list(test.columns)\n",
    "\n",
    "stages_rougher = [item for item in stages if (item.find('rougher.input') != -1)|(item.find('rougher.state') != -1)]\n",
    "#print(stages_rougher)\n",
    "stages_final = stages[1:53] \n",
    "\n",
    "features_train_rougher = train[stages_rougher]\n",
    "target_train_rougher = train['rougher.output.recovery']\n",
    "\n",
    "dates = test['date'].values\n",
    "target_test_rougher = full[full['date'].isin(dates)]['rougher.output.recovery'].values\n",
    "features_test_rougher = test[stages_rougher]\n",
    "\n",
    "\n",
    "features_train_final = train[stages_final]\n",
    "target_train_final = train['final.output.recovery']\n",
    "\n",
    "target_test_final = full[full['date'].isin(dates)]['final.output.recovery'].values\n",
    "features_test_final = test[stages_final]\n",
    "\n",
    "#проверка правильности отбора признаков\n",
    "print(features_train_rougher.shape)\n",
    "print(target_train_rougher.shape)\n"
   ]
  },
  {
   "cell_type": "markdown",
   "metadata": {},
   "source": [
    "### Линейная регрессия"
   ]
  },
  {
   "cell_type": "code",
   "execution_count": 26,
   "metadata": {},
   "outputs": [
    {
     "name": "stdout",
     "output_type": "stream",
     "text": [
      "sMAPE для линейной регрессии (rougher) на тестовой выборке = 8.196484512080517\n",
      "sMAPE для линейной регрессии (final) на тестовой выборке = 9.996829233943219\n",
      "sMAPE для линейной регрессии итоговый =  9.546743053477543\n"
     ]
    }
   ],
   "source": [
    "lr_rougher = LinearRegression()\n",
    "grid = {}\n",
    "gcv_rougher = GridSearchCV(lr_rougher, param_grid=grid, scoring=smape_score, n_jobs=-1)\n",
    "gcv_rougher.fit(features_train_rougher, target_train_rougher)\n",
    "best_model = gcv_rougher.best_estimator_\n",
    "predictions_test_rougher = best_model.predict(features_test_rougher)\n",
    "smape_lr_rougher = smape(predictions_test_rougher, target_test_rougher)\n",
    "print('sMAPE для линейной регрессии (rougher) на тестовой выборке =', smape_lr_rougher)\n",
    "\n",
    "lr_final = LinearRegression()\n",
    "grid = {}\n",
    "gcv_final = GridSearchCV(lr_final, param_grid=grid, scoring=smape_score, n_jobs=-1)\n",
    "gcv_final.fit(features_train_final, target_train_final)\n",
    "best_model = gcv_final.best_estimator_\n",
    "predictions_test_final = best_model.predict(features_test_final)\n",
    "smape_lr_final = smape(predictions_test_final, target_test_final)\n",
    "print('sMAPE для линейной регрессии (final) на тестовой выборке =', smape_lr_final)\n",
    "\n",
    "print('sMAPE для линейной регрессии итоговый = ', 0.25*smape_lr_rougher + 0.75*smape_lr_final)"
   ]
  },
  {
   "cell_type": "markdown",
   "metadata": {},
   "source": [
    "### Случайный лес"
   ]
  },
  {
   "cell_type": "code",
   "execution_count": 27,
   "metadata": {},
   "outputs": [
    {
     "name": "stdout",
     "output_type": "stream",
     "text": [
      "sMAPE для случайного леса (rougher) = 10.076608068669737\n"
     ]
    }
   ],
   "source": [
    "rfc = RandomForestRegressor(random_state = 12345)\n",
    "grid = {'n_estimators': (1, 10, 1), 'max_depth': (1,5)}\n",
    "\n",
    "gcv_rougher = GridSearchCV(rfc, param_grid=grid, scoring=smape_score, n_jobs=-1)\n",
    "gcv_rougher.fit(features_train_rougher, target_train_rougher)\n",
    "best_score = gcv_rougher.best_score_\n",
    "best_model = gcv_rougher.best_estimator_\n",
    "best_params = gcv_rougher.best_params_\n",
    "predictions_test_rougher = best_model.predict(features_test_rougher)\n",
    "\n",
    "#print(best_params_rougher)\n",
    "\n",
    "smape_rfc_rougher = smape(predictions_test_rougher, target_test_rougher)\n",
    "print('sMAPE для случайного леса (rougher) =', smape_rfc_rougher)"
   ]
  },
  {
   "cell_type": "code",
   "execution_count": 28,
   "metadata": {},
   "outputs": [
    {
     "name": "stdout",
     "output_type": "stream",
     "text": [
      "sMAPE для случайного леса (final) = 9.603328567069317\n"
     ]
    }
   ],
   "source": [
    "rfc = RandomForestRegressor(random_state = 12345)\n",
    "grid = {'n_estimators': (1, 10), 'max_depth': (1,5)}\n",
    "\n",
    "gcv_final = GridSearchCV(rfc, param_grid=grid, scoring=smape_score, n_jobs=-1)\n",
    "gcv_final.fit(features_train_final, target_train_final)\n",
    "best_score = gcv_final.best_score_\n",
    "best_model = gcv_final.best_estimator_\n",
    "best_params = gcv_final.best_params_\n",
    "predictions_test_final = best_model.predict(features_test_final)\n",
    "\n",
    "#print(best_params)\n",
    "\n",
    "smape_rfc_final = smape(predictions_test_final, target_test_final)\n",
    "print('sMAPE для случайного леса (final) =', smape_rfc_final)"
   ]
  },
  {
   "cell_type": "code",
   "execution_count": 29,
   "metadata": {
    "scrolled": true
   },
   "outputs": [
    {
     "name": "stdout",
     "output_type": "stream",
     "text": [
      "sMAPE для случайного леса итоговый =  9.721648442469421\n"
     ]
    }
   ],
   "source": [
    "print('sMAPE для случайного леса итоговый = ', 0.25*smape_rfc_rougher + 0.75*smape_rfc_final)"
   ]
  },
  {
   "cell_type": "markdown",
   "metadata": {},
   "source": [
    "### Дерево решений"
   ]
  },
  {
   "cell_type": "code",
   "execution_count": 30,
   "metadata": {},
   "outputs": [
    {
     "name": "stdout",
     "output_type": "stream",
     "text": [
      "sMAPE для дерева решений (rougher) = 10.005624927351306\n"
     ]
    }
   ],
   "source": [
    "dtr = DecisionTreeRegressor(random_state = 12345)\n",
    "grid = {'min_samples_split': (2, 5), 'max_depth': (1,5)}\n",
    "\n",
    "dtr_rougher = GridSearchCV(dtr, param_grid=grid, scoring=smape_score, n_jobs=-1)\n",
    "dtr_rougher.fit(features_train_rougher, target_train_rougher)\n",
    "best_score = dtr_rougher.best_score_\n",
    "best_model = dtr_rougher.best_estimator_\n",
    "best_params = dtr_rougher.best_params_\n",
    "predictions_test_rougher = best_model.predict(features_test_rougher)\n",
    "\n",
    "#print(best_params)\n",
    "\n",
    "smape_dtr_rougher = smape(predictions_test_rougher, target_test_rougher)\n",
    "print('sMAPE для дерева решений (rougher) =', smape_dtr_rougher)"
   ]
  },
  {
   "cell_type": "code",
   "execution_count": 31,
   "metadata": {},
   "outputs": [
    {
     "name": "stdout",
     "output_type": "stream",
     "text": [
      "{'max_depth': 1, 'min_samples_split': 2}\n",
      "sMAPE для дерева решений (final) = 9.600987066256868\n"
     ]
    }
   ],
   "source": [
    "dtr = DecisionTreeRegressor(random_state = 12345)\n",
    "grid = {'min_samples_split': (2, 5), 'max_depth': (1,5)}\n",
    "\n",
    "dtr_final = GridSearchCV(dtr, param_grid=grid, scoring=smape_score, n_jobs=-1)\n",
    "dtr_final.fit(features_train_final, target_train_final)\n",
    "best_score = dtr_final.best_score_\n",
    "best_model = dtr_final.best_estimator_\n",
    "best_params = dtr_final.best_params_\n",
    "predictions_test_final = best_model.predict(features_test_final)\n",
    "\n",
    "print(best_params)\n",
    "\n",
    "smape_dtr_final = smape(predictions_test_final, target_test_final)\n",
    "print('sMAPE для дерева решений (final) =', smape_dtr_final)"
   ]
  },
  {
   "cell_type": "code",
   "execution_count": 32,
   "metadata": {},
   "outputs": [
    {
     "name": "stdout",
     "output_type": "stream",
     "text": [
      "sMAPE для дерева решений итоговый =  9.702146531530477\n"
     ]
    }
   ],
   "source": [
    "print('sMAPE для дерева решений итоговый = ', 0.25*smape_dtr_rougher + 0.75*smape_dtr_final)"
   ]
  },
  {
   "cell_type": "markdown",
   "metadata": {},
   "source": [
    "## Адекватность модели (сравнение с константной моделью)\n",
    "Построим константную модель, предсказывая целевые значения средними по тренировочной выборке."
   ]
  },
  {
   "cell_type": "code",
   "execution_count": 33,
   "metadata": {},
   "outputs": [],
   "source": [
    "predictions_test_rougher = [target_train_rougher.mean()]*len(target_test_rougher)\n"
   ]
  },
  {
   "cell_type": "code",
   "execution_count": 34,
   "metadata": {},
   "outputs": [
    {
     "name": "stdout",
     "output_type": "stream",
     "text": [
      "sMAPE для константной модели (rougher) = 9.067226744718146\n"
     ]
    }
   ],
   "source": [
    "smape_const_rougher = smape(predictions_test_rougher, target_test_rougher)\n",
    "print('sMAPE для константной модели (rougher) =', smape_const_rougher)"
   ]
  },
  {
   "cell_type": "code",
   "execution_count": 35,
   "metadata": {},
   "outputs": [],
   "source": [
    "predictions_test_final = [target_train_final.mean()]*len(target_test_final)"
   ]
  },
  {
   "cell_type": "code",
   "execution_count": 36,
   "metadata": {},
   "outputs": [
    {
     "name": "stdout",
     "output_type": "stream",
     "text": [
      "sMAPE для константной модели (final) = 10.080000719016462\n"
     ]
    }
   ],
   "source": [
    "smape_const_final = smape(predictions_test_final, target_test_final)\n",
    "print('sMAPE для константной модели (final) =', smape_const_final)"
   ]
  },
  {
   "cell_type": "code",
   "execution_count": 37,
   "metadata": {},
   "outputs": [
    {
     "name": "stdout",
     "output_type": "stream",
     "text": [
      "sMAPE для константной модели итоговый =  9.826807225441884\n"
     ]
    }
   ],
   "source": [
    "print('sMAPE для константной модели итоговый = ', 0.25*smape_const_rougher + 0.75*smape_const_final)"
   ]
  },
  {
   "cell_type": "markdown",
   "metadata": {},
   "source": [
    "## Вывод\n",
    "Лучший результат дала модель **регрессии с помощью линейной регрессии**. Итоговая ошибка составила менее 9.55. Дерево решений и регрессия с помощью случайного леса дали худший результат (итоговые ошибки составили 9.7 и 9.75, соответственно). Кроме того, мы дополнительно рассмотрели константную модель, предсказывая итоговую эффективность обогащения средними значениями, полученными по тренировочной выборке. Ошибка константной модели составила 9.83. Таким образом, построенные модели имеют лучшее качество по сравнению с константной, хотя и незначительно."
   ]
  }
 ],
 "metadata": {
  "ExecuteTimeLog": [
   {
    "duration": 43,
    "start_time": "2022-09-22T10:02:13.704Z"
   },
   {
    "duration": 386,
    "start_time": "2022-09-22T10:02:16.904Z"
   },
   {
    "duration": 66,
    "start_time": "2022-09-22T10:02:19.663Z"
   },
   {
    "duration": 12,
    "start_time": "2022-09-22T10:02:30.207Z"
   },
   {
    "duration": 12,
    "start_time": "2022-09-22T10:03:34.943Z"
   },
   {
    "duration": 12,
    "start_time": "2022-09-22T10:03:38.955Z"
   },
   {
    "duration": 1765,
    "start_time": "2022-09-22T10:04:52.830Z"
   },
   {
    "duration": 622,
    "start_time": "2022-09-22T10:05:31.921Z"
   },
   {
    "duration": 407,
    "start_time": "2022-09-24T21:26:57.586Z"
   },
   {
    "duration": 3193,
    "start_time": "2022-09-24T21:26:59.353Z"
   },
   {
    "duration": 649,
    "start_time": "2022-09-24T21:28:08.265Z"
   },
   {
    "duration": 4,
    "start_time": "2022-09-24T21:30:49.901Z"
   },
   {
    "duration": 2,
    "start_time": "2022-09-24T21:36:18.563Z"
   },
   {
    "duration": 3,
    "start_time": "2022-09-24T21:36:29.004Z"
   },
   {
    "duration": 3,
    "start_time": "2022-09-24T21:36:42.705Z"
   },
   {
    "duration": 2,
    "start_time": "2022-09-24T21:36:55.374Z"
   },
   {
    "duration": 3,
    "start_time": "2022-09-24T21:37:05.131Z"
   },
   {
    "duration": 67,
    "start_time": "2022-09-24T21:38:00.068Z"
   },
   {
    "duration": 10,
    "start_time": "2022-09-24T21:41:36.525Z"
   },
   {
    "duration": 3,
    "start_time": "2022-09-24T21:41:43.034Z"
   },
   {
    "duration": 4,
    "start_time": "2022-09-24T21:42:07.116Z"
   },
   {
    "duration": 4,
    "start_time": "2022-09-24T21:43:02.768Z"
   },
   {
    "duration": 13,
    "start_time": "2022-09-24T21:44:10.313Z"
   },
   {
    "duration": 12,
    "start_time": "2022-09-24T21:45:20.732Z"
   },
   {
    "duration": 357,
    "start_time": "2022-09-26T08:37:28.177Z"
   },
   {
    "duration": 3110,
    "start_time": "2022-09-26T08:37:30.121Z"
   },
   {
    "duration": 6,
    "start_time": "2022-09-26T08:37:36.819Z"
   },
   {
    "duration": 7,
    "start_time": "2022-09-26T08:37:46.060Z"
   },
   {
    "duration": 687,
    "start_time": "2022-09-26T08:43:38.165Z"
   },
   {
    "duration": 51,
    "start_time": "2022-09-26T08:57:33.459Z"
   },
   {
    "duration": 7,
    "start_time": "2022-09-26T08:58:04.079Z"
   },
   {
    "duration": 28,
    "start_time": "2022-09-26T08:59:07.154Z"
   },
   {
    "duration": 885,
    "start_time": "2022-09-26T09:06:56.366Z"
   },
   {
    "duration": 11,
    "start_time": "2022-09-26T09:07:11.927Z"
   },
   {
    "duration": 753,
    "start_time": "2022-09-26T09:20:00.398Z"
   },
   {
    "duration": 56,
    "start_time": "2022-09-26T09:21:39.109Z"
   },
   {
    "duration": 12,
    "start_time": "2022-09-26T09:22:41.395Z"
   },
   {
    "duration": 13,
    "start_time": "2022-09-26T09:26:44.927Z"
   },
   {
    "duration": 12,
    "start_time": "2022-09-26T09:26:49.617Z"
   },
   {
    "duration": 27,
    "start_time": "2022-09-26T09:27:02.393Z"
   },
   {
    "duration": 20,
    "start_time": "2022-09-26T09:27:47.739Z"
   },
   {
    "duration": 503,
    "start_time": "2022-09-26T10:23:54.085Z"
   },
   {
    "duration": 14,
    "start_time": "2022-09-26T10:26:15.196Z"
   },
   {
    "duration": 12,
    "start_time": "2022-09-26T10:26:51.016Z"
   },
   {
    "duration": 11,
    "start_time": "2022-09-26T10:27:11.965Z"
   },
   {
    "duration": 16,
    "start_time": "2022-09-26T10:27:35.238Z"
   },
   {
    "duration": 143,
    "start_time": "2022-09-26T10:29:16.523Z"
   },
   {
    "duration": 119,
    "start_time": "2022-09-26T10:29:37.762Z"
   },
   {
    "duration": 18,
    "start_time": "2022-09-26T10:31:27.317Z"
   },
   {
    "duration": 277,
    "start_time": "2022-09-26T10:33:46.733Z"
   },
   {
    "duration": 124,
    "start_time": "2022-09-26T10:34:02.028Z"
   },
   {
    "duration": 18,
    "start_time": "2022-09-26T10:35:02.726Z"
   },
   {
    "duration": 125,
    "start_time": "2022-09-26T10:35:23.320Z"
   },
   {
    "duration": 16,
    "start_time": "2022-09-26T10:35:49.382Z"
   },
   {
    "duration": 17,
    "start_time": "2022-09-26T10:36:00.575Z"
   },
   {
    "duration": 134,
    "start_time": "2022-09-26T10:36:26.412Z"
   },
   {
    "duration": 210,
    "start_time": "2022-09-26T10:36:39.991Z"
   },
   {
    "duration": 4,
    "start_time": "2022-09-26T10:41:12.371Z"
   },
   {
    "duration": 108,
    "start_time": "2022-09-26T10:41:42.783Z"
   },
   {
    "duration": 9,
    "start_time": "2022-09-26T14:38:12.073Z"
   },
   {
    "duration": 1388,
    "start_time": "2022-09-26T14:38:18.164Z"
   },
   {
    "duration": 3181,
    "start_time": "2022-09-26T14:38:22.573Z"
   },
   {
    "duration": 5,
    "start_time": "2022-09-26T14:38:30.270Z"
   },
   {
    "duration": 23,
    "start_time": "2022-09-26T14:38:33.545Z"
   },
   {
    "duration": 23,
    "start_time": "2022-09-26T14:39:13.734Z"
   },
   {
    "duration": 6,
    "start_time": "2022-09-26T14:39:16.494Z"
   },
   {
    "duration": 13,
    "start_time": "2022-09-26T14:41:23.694Z"
   },
   {
    "duration": 17,
    "start_time": "2022-09-26T14:41:45.415Z"
   },
   {
    "duration": 21,
    "start_time": "2022-09-26T14:42:43.566Z"
   },
   {
    "duration": 126,
    "start_time": "2022-09-26T14:42:51.469Z"
   },
   {
    "duration": 16,
    "start_time": "2022-09-26T14:43:52.262Z"
   },
   {
    "duration": 20,
    "start_time": "2022-09-26T14:44:00.122Z"
   },
   {
    "duration": 19,
    "start_time": "2022-09-26T14:45:04.537Z"
   },
   {
    "duration": 15,
    "start_time": "2022-09-26T14:45:37.754Z"
   },
   {
    "duration": 110,
    "start_time": "2022-09-26T15:23:23.702Z"
   },
   {
    "duration": 3,
    "start_time": "2022-09-26T15:27:00.775Z"
   },
   {
    "duration": 6,
    "start_time": "2022-09-26T15:29:05.131Z"
   },
   {
    "duration": 9,
    "start_time": "2022-09-26T15:30:47.734Z"
   },
   {
    "duration": 3,
    "start_time": "2022-09-26T15:31:07.764Z"
   },
   {
    "duration": 2,
    "start_time": "2022-09-26T15:31:29.587Z"
   },
   {
    "duration": 2,
    "start_time": "2022-09-26T15:33:38.872Z"
   },
   {
    "duration": 3,
    "start_time": "2022-09-26T15:39:18.902Z"
   },
   {
    "duration": 4,
    "start_time": "2022-09-26T15:39:29.016Z"
   },
   {
    "duration": 5,
    "start_time": "2022-09-26T15:40:22.745Z"
   },
   {
    "duration": 993,
    "start_time": "2022-09-26T15:43:41.524Z"
   },
   {
    "duration": 7,
    "start_time": "2022-09-26T15:44:39.938Z"
   },
   {
    "duration": 108,
    "start_time": "2022-09-26T15:45:28.221Z"
   },
   {
    "duration": 98,
    "start_time": "2022-09-26T15:46:40.862Z"
   },
   {
    "duration": 109,
    "start_time": "2022-09-26T15:47:01.532Z"
   },
   {
    "duration": 119,
    "start_time": "2022-09-26T15:47:10.822Z"
   },
   {
    "duration": 16,
    "start_time": "2022-09-26T15:48:26.077Z"
   },
   {
    "duration": 19,
    "start_time": "2022-09-26T15:49:32.660Z"
   },
   {
    "duration": 19,
    "start_time": "2022-09-26T15:50:20.696Z"
   },
   {
    "duration": 9,
    "start_time": "2022-09-26T16:27:28.349Z"
   },
   {
    "duration": 2,
    "start_time": "2022-09-26T16:27:31.239Z"
   },
   {
    "duration": 102,
    "start_time": "2022-09-26T16:36:19.610Z"
   },
   {
    "duration": 4,
    "start_time": "2022-09-26T16:51:33.243Z"
   },
   {
    "duration": 15,
    "start_time": "2022-09-26T16:53:27.958Z"
   },
   {
    "duration": 3,
    "start_time": "2022-09-26T16:54:56.473Z"
   },
   {
    "duration": 4,
    "start_time": "2022-09-26T16:55:03.668Z"
   },
   {
    "duration": 52,
    "start_time": "2022-09-26T19:21:05.776Z"
   },
   {
    "duration": 1643,
    "start_time": "2022-09-26T19:21:11.109Z"
   },
   {
    "duration": 3042,
    "start_time": "2022-09-26T19:21:15.628Z"
   },
   {
    "duration": 25,
    "start_time": "2022-09-26T19:21:28.187Z"
   },
   {
    "duration": 21,
    "start_time": "2022-09-26T19:21:30.952Z"
   },
   {
    "duration": 18,
    "start_time": "2022-09-26T19:21:33.255Z"
   },
   {
    "duration": 116,
    "start_time": "2022-09-26T19:21:37.769Z"
   },
   {
    "duration": 18,
    "start_time": "2022-09-26T19:21:43.648Z"
   },
   {
    "duration": 113,
    "start_time": "2022-09-26T19:21:46.796Z"
   },
   {
    "duration": 18,
    "start_time": "2022-09-26T19:21:49.570Z"
   },
   {
    "duration": 117,
    "start_time": "2022-09-26T19:21:52.123Z"
   },
   {
    "duration": 118,
    "start_time": "2022-09-26T19:21:54.993Z"
   },
   {
    "duration": 5,
    "start_time": "2022-09-26T19:21:58.637Z"
   },
   {
    "duration": 21,
    "start_time": "2022-09-26T19:22:25.858Z"
   },
   {
    "duration": 5,
    "start_time": "2022-09-26T19:22:31.358Z"
   },
   {
    "duration": 12,
    "start_time": "2022-09-26T19:22:33.093Z"
   },
   {
    "duration": 3,
    "start_time": "2022-09-26T19:27:54.319Z"
   },
   {
    "duration": 3,
    "start_time": "2022-09-26T19:30:10.495Z"
   },
   {
    "duration": 80,
    "start_time": "2022-09-26T19:31:16.687Z"
   },
   {
    "duration": 13,
    "start_time": "2022-09-26T19:31:23.918Z"
   },
   {
    "duration": 3,
    "start_time": "2022-09-26T19:33:28.465Z"
   },
   {
    "duration": 754,
    "start_time": "2022-09-26T19:33:33.956Z"
   },
   {
    "duration": 983,
    "start_time": "2022-09-26T19:34:50.947Z"
   },
   {
    "duration": 648,
    "start_time": "2022-09-26T19:35:16.129Z"
   },
   {
    "duration": 795,
    "start_time": "2022-09-26T19:35:29.168Z"
   },
   {
    "duration": 9,
    "start_time": "2022-09-26T19:36:36.667Z"
   },
   {
    "duration": 17,
    "start_time": "2022-09-26T19:37:30.616Z"
   },
   {
    "duration": 6,
    "start_time": "2022-09-26T20:03:05.834Z"
   },
   {
    "duration": 6,
    "start_time": "2022-09-26T20:03:18.710Z"
   },
   {
    "duration": 7,
    "start_time": "2022-09-26T20:03:22.504Z"
   },
   {
    "duration": 4,
    "start_time": "2022-09-26T20:03:32.851Z"
   },
   {
    "duration": 631,
    "start_time": "2022-09-26T20:03:32.856Z"
   },
   {
    "duration": 22,
    "start_time": "2022-09-26T20:03:33.489Z"
   },
   {
    "duration": 16,
    "start_time": "2022-09-26T20:03:33.512Z"
   },
   {
    "duration": 16,
    "start_time": "2022-09-26T20:03:33.530Z"
   },
   {
    "duration": 131,
    "start_time": "2022-09-26T20:03:33.547Z"
   },
   {
    "duration": 15,
    "start_time": "2022-09-26T20:03:33.680Z"
   },
   {
    "duration": 187,
    "start_time": "2022-09-26T20:03:33.708Z"
   },
   {
    "duration": 21,
    "start_time": "2022-09-26T20:03:33.897Z"
   },
   {
    "duration": 140,
    "start_time": "2022-09-26T20:03:33.920Z"
   },
   {
    "duration": 124,
    "start_time": "2022-09-26T20:03:34.062Z"
   },
   {
    "duration": 6,
    "start_time": "2022-09-26T20:03:38.548Z"
   },
   {
    "duration": 7,
    "start_time": "2022-09-26T20:03:42.693Z"
   },
   {
    "duration": 6,
    "start_time": "2022-09-26T20:03:49.327Z"
   },
   {
    "duration": 8,
    "start_time": "2022-09-26T20:28:53.502Z"
   },
   {
    "duration": 824,
    "start_time": "2022-09-26T20:28:58.797Z"
   },
   {
    "duration": 1076,
    "start_time": "2022-09-26T20:31:03.834Z"
   },
   {
    "duration": 9,
    "start_time": "2022-09-26T20:32:15.753Z"
   },
   {
    "duration": 173076,
    "start_time": "2022-09-26T20:32:44.984Z"
   },
   {
    "duration": 172361,
    "start_time": "2022-09-26T20:39:47.756Z"
   },
   {
    "duration": 1481,
    "start_time": "2022-09-27T20:15:58.648Z"
   },
   {
    "duration": 3,
    "start_time": "2022-09-27T20:16:15.723Z"
   },
   {
    "duration": 3054,
    "start_time": "2022-09-27T20:16:15.729Z"
   },
   {
    "duration": 26,
    "start_time": "2022-09-27T20:16:18.785Z"
   },
   {
    "duration": 23,
    "start_time": "2022-09-27T20:16:18.812Z"
   },
   {
    "duration": 19,
    "start_time": "2022-09-27T20:16:18.838Z"
   },
   {
    "duration": 144,
    "start_time": "2022-09-27T20:16:18.859Z"
   },
   {
    "duration": 19,
    "start_time": "2022-09-27T20:16:19.004Z"
   },
   {
    "duration": 121,
    "start_time": "2022-09-27T20:16:19.025Z"
   },
   {
    "duration": 16,
    "start_time": "2022-09-27T20:16:19.147Z"
   },
   {
    "duration": 130,
    "start_time": "2022-09-27T20:16:19.165Z"
   },
   {
    "duration": 116,
    "start_time": "2022-09-27T20:16:19.297Z"
   },
   {
    "duration": 6,
    "start_time": "2022-09-27T20:16:19.415Z"
   },
   {
    "duration": 7,
    "start_time": "2022-09-27T20:16:19.422Z"
   },
   {
    "duration": 969,
    "start_time": "2022-09-27T20:17:07.407Z"
   },
   {
    "duration": 118,
    "start_time": "2022-09-27T20:17:35.846Z"
   },
   {
    "duration": 125,
    "start_time": "2022-09-27T20:18:31.507Z"
   },
   {
    "duration": 41,
    "start_time": "2022-09-27T20:22:19.309Z"
   },
   {
    "duration": 38,
    "start_time": "2022-09-27T20:47:59.563Z"
   },
   {
    "duration": 35,
    "start_time": "2022-09-27T20:48:51.460Z"
   },
   {
    "duration": 33,
    "start_time": "2022-09-27T20:49:41.341Z"
   },
   {
    "duration": 13,
    "start_time": "2022-09-27T20:50:21.216Z"
   },
   {
    "duration": 10,
    "start_time": "2022-09-27T20:51:26.836Z"
   },
   {
    "duration": 7,
    "start_time": "2022-09-27T20:51:40.394Z"
   },
   {
    "duration": 129,
    "start_time": "2022-09-27T20:51:57.350Z"
   },
   {
    "duration": 131,
    "start_time": "2022-09-27T20:52:31.616Z"
   },
   {
    "duration": 3,
    "start_time": "2022-09-27T20:53:36.431Z"
   },
   {
    "duration": 126,
    "start_time": "2022-09-27T20:54:06.904Z"
   },
   {
    "duration": 116,
    "start_time": "2022-09-27T20:54:31.721Z"
   },
   {
    "duration": 111,
    "start_time": "2022-09-27T20:54:51.372Z"
   },
   {
    "duration": 669,
    "start_time": "2022-09-27T20:55:11.248Z"
   },
   {
    "duration": 15,
    "start_time": "2022-09-27T20:55:14.663Z"
   },
   {
    "duration": 17,
    "start_time": "2022-09-27T20:55:17.635Z"
   },
   {
    "duration": 106,
    "start_time": "2022-09-27T20:55:20.443Z"
   },
   {
    "duration": 20,
    "start_time": "2022-09-27T20:55:22.639Z"
   },
   {
    "duration": 101,
    "start_time": "2022-09-27T20:55:28.884Z"
   },
   {
    "duration": 5,
    "start_time": "2022-09-27T20:55:31.472Z"
   },
   {
    "duration": 117,
    "start_time": "2022-09-27T20:55:33.527Z"
   },
   {
    "duration": 135,
    "start_time": "2022-09-27T20:55:47.280Z"
   },
   {
    "duration": 217,
    "start_time": "2022-09-27T20:56:07.812Z"
   },
   {
    "duration": 124,
    "start_time": "2022-09-27T20:56:25.921Z"
   },
   {
    "duration": 3,
    "start_time": "2022-09-27T20:56:34.324Z"
   },
   {
    "duration": 675,
    "start_time": "2022-09-27T20:56:34.340Z"
   },
   {
    "duration": 18,
    "start_time": "2022-09-27T20:56:35.017Z"
   },
   {
    "duration": 29,
    "start_time": "2022-09-27T20:56:35.036Z"
   },
   {
    "duration": 27,
    "start_time": "2022-09-27T20:56:35.067Z"
   },
   {
    "duration": 132,
    "start_time": "2022-09-27T20:56:35.096Z"
   },
   {
    "duration": 16,
    "start_time": "2022-09-27T20:56:35.230Z"
   },
   {
    "duration": 119,
    "start_time": "2022-09-27T20:56:35.248Z"
   },
   {
    "duration": 16,
    "start_time": "2022-09-27T20:56:35.369Z"
   },
   {
    "duration": 122,
    "start_time": "2022-09-27T20:56:35.387Z"
   },
   {
    "duration": 120,
    "start_time": "2022-09-27T20:56:35.511Z"
   },
   {
    "duration": 5,
    "start_time": "2022-09-27T20:56:35.633Z"
   },
   {
    "duration": 16,
    "start_time": "2022-09-27T20:56:35.640Z"
   },
   {
    "duration": 136,
    "start_time": "2022-09-27T20:56:35.657Z"
   },
   {
    "duration": 22,
    "start_time": "2022-09-27T21:02:05.284Z"
   },
   {
    "duration": 443,
    "start_time": "2022-09-27T21:03:58.874Z"
   },
   {
    "duration": 463,
    "start_time": "2022-09-27T21:04:17.850Z"
   },
   {
    "duration": 25,
    "start_time": "2022-09-27T21:04:47.816Z"
   },
   {
    "duration": 27,
    "start_time": "2022-09-27T21:05:09.859Z"
   },
   {
    "duration": 25,
    "start_time": "2022-09-27T21:05:17.976Z"
   },
   {
    "duration": 10,
    "start_time": "2022-09-27T21:06:01.383Z"
   },
   {
    "duration": 7,
    "start_time": "2022-09-27T21:06:28.255Z"
   },
   {
    "duration": 191,
    "start_time": "2022-09-27T21:08:38.623Z"
   },
   {
    "duration": 11,
    "start_time": "2022-09-27T21:09:50.954Z"
   },
   {
    "duration": 12,
    "start_time": "2022-09-27T21:10:02.967Z"
   },
   {
    "duration": 3,
    "start_time": "2022-09-27T21:10:23.251Z"
   },
   {
    "duration": 201,
    "start_time": "2022-09-27T21:10:28.516Z"
   },
   {
    "duration": 7,
    "start_time": "2022-09-27T21:12:29.579Z"
   },
   {
    "duration": 174084,
    "start_time": "2022-09-27T21:12:32.160Z"
   },
   {
    "duration": 0,
    "start_time": "2022-09-27T21:15:26.246Z"
   },
   {
    "duration": 5,
    "start_time": "2022-09-27T21:17:43.746Z"
   },
   {
    "duration": 9,
    "start_time": "2022-09-27T21:18:02.841Z"
   },
   {
    "duration": 4,
    "start_time": "2022-09-27T21:18:24.813Z"
   },
   {
    "duration": 19,
    "start_time": "2022-09-27T21:18:59.875Z"
   },
   {
    "duration": 12,
    "start_time": "2022-09-27T21:25:11.376Z"
   },
   {
    "duration": 200,
    "start_time": "2022-09-27T21:25:44.912Z"
   },
   {
    "duration": 10,
    "start_time": "2022-09-27T21:27:11.267Z"
   },
   {
    "duration": 118371,
    "start_time": "2022-09-27T21:27:37.147Z"
   },
   {
    "duration": 10,
    "start_time": "2022-09-27T21:36:02.456Z"
   },
   {
    "duration": 10,
    "start_time": "2022-09-27T21:36:22.112Z"
   },
   {
    "duration": 60825,
    "start_time": "2022-09-27T21:36:42.100Z"
   },
   {
    "duration": 10,
    "start_time": "2022-09-27T21:47:24.493Z"
   },
   {
    "duration": 9652,
    "start_time": "2022-09-27T21:47:48.012Z"
   },
   {
    "duration": 13,
    "start_time": "2022-09-27T21:48:00.624Z"
   },
   {
    "duration": 1612,
    "start_time": "2022-09-28T13:37:19.553Z"
   },
   {
    "duration": 3188,
    "start_time": "2022-09-28T13:37:22.643Z"
   },
   {
    "duration": 5,
    "start_time": "2022-09-28T13:38:31.566Z"
   },
   {
    "duration": 770,
    "start_time": "2022-09-28T13:38:31.596Z"
   },
   {
    "duration": 34,
    "start_time": "2022-09-28T13:38:32.369Z"
   },
   {
    "duration": 24,
    "start_time": "2022-09-28T13:38:32.404Z"
   },
   {
    "duration": 21,
    "start_time": "2022-09-28T13:38:32.455Z"
   },
   {
    "duration": 156,
    "start_time": "2022-09-28T13:38:32.478Z"
   },
   {
    "duration": 51,
    "start_time": "2022-09-28T13:38:32.636Z"
   },
   {
    "duration": 118,
    "start_time": "2022-09-28T13:38:32.689Z"
   },
   {
    "duration": 26,
    "start_time": "2022-09-28T13:38:32.809Z"
   },
   {
    "duration": 147,
    "start_time": "2022-09-28T13:38:32.837Z"
   },
   {
    "duration": 141,
    "start_time": "2022-09-28T13:38:32.986Z"
   },
   {
    "duration": 7,
    "start_time": "2022-09-28T13:38:33.129Z"
   },
   {
    "duration": 16,
    "start_time": "2022-09-28T13:38:33.138Z"
   },
   {
    "duration": 169,
    "start_time": "2022-09-28T13:38:33.157Z"
   },
   {
    "duration": 263,
    "start_time": "2022-09-28T13:38:33.327Z"
   },
   {
    "duration": 4,
    "start_time": "2022-09-28T13:38:33.592Z"
   },
   {
    "duration": 122,
    "start_time": "2022-09-28T13:38:33.598Z"
   },
   {
    "duration": 0,
    "start_time": "2022-09-28T13:38:33.722Z"
   },
   {
    "duration": 0,
    "start_time": "2022-09-28T13:38:33.723Z"
   },
   {
    "duration": 0,
    "start_time": "2022-09-28T13:38:33.724Z"
   },
   {
    "duration": 12,
    "start_time": "2022-09-28T13:39:06.706Z"
   },
   {
    "duration": 10,
    "start_time": "2022-09-28T13:39:15.787Z"
   },
   {
    "duration": 265,
    "start_time": "2022-09-28T13:39:25.095Z"
   },
   {
    "duration": 9961,
    "start_time": "2022-09-28T13:39:28.797Z"
   },
   {
    "duration": 11,
    "start_time": "2022-09-28T13:40:26.460Z"
   },
   {
    "duration": 13,
    "start_time": "2022-09-28T13:43:00.443Z"
   },
   {
    "duration": 151,
    "start_time": "2022-09-28T13:43:03.120Z"
   },
   {
    "duration": 11,
    "start_time": "2022-09-28T13:43:59.801Z"
   },
   {
    "duration": 1503,
    "start_time": "2022-09-28T13:44:01.646Z"
   },
   {
    "duration": 46,
    "start_time": "2022-09-28T13:45:00.209Z"
   },
   {
    "duration": 17,
    "start_time": "2022-09-28T13:45:13.999Z"
   },
   {
    "duration": 10,
    "start_time": "2022-09-28T13:45:20.922Z"
   },
   {
    "duration": 195,
    "start_time": "2022-09-28T13:45:32.959Z"
   },
   {
    "duration": 9183,
    "start_time": "2022-09-28T13:45:42.929Z"
   },
   {
    "duration": 11,
    "start_time": "2022-09-28T13:45:56.995Z"
   },
   {
    "duration": 14,
    "start_time": "2022-09-28T13:46:05.313Z"
   },
   {
    "duration": 12,
    "start_time": "2022-09-28T13:46:33.973Z"
   },
   {
    "duration": 215,
    "start_time": "2022-09-28T13:49:19.247Z"
   },
   {
    "duration": 222,
    "start_time": "2022-09-28T13:49:48.835Z"
   },
   {
    "duration": 764,
    "start_time": "2022-09-28T13:51:32.191Z"
   },
   {
    "duration": 397,
    "start_time": "2022-09-28T13:51:45.057Z"
   },
   {
    "duration": 734,
    "start_time": "2022-09-28T13:51:53.221Z"
   },
   {
    "duration": 851,
    "start_time": "2022-09-28T13:54:17.803Z"
   },
   {
    "duration": 1013,
    "start_time": "2022-09-28T13:54:51.546Z"
   },
   {
    "duration": 8748,
    "start_time": "2022-09-28T13:58:43.371Z"
   },
   {
    "duration": 9481,
    "start_time": "2022-09-28T13:58:58.213Z"
   },
   {
    "duration": 10667,
    "start_time": "2022-09-28T13:59:10.002Z"
   },
   {
    "duration": 11,
    "start_time": "2022-09-28T13:59:26.526Z"
   },
   {
    "duration": 9258,
    "start_time": "2022-09-28T13:59:38.384Z"
   },
   {
    "duration": 12,
    "start_time": "2022-09-28T14:36:42.541Z"
   },
   {
    "duration": 13,
    "start_time": "2022-09-28T14:37:06.895Z"
   },
   {
    "duration": 17,
    "start_time": "2022-09-28T14:39:07.268Z"
   },
   {
    "duration": 12,
    "start_time": "2022-09-28T14:39:20.895Z"
   },
   {
    "duration": 21,
    "start_time": "2022-09-28T14:42:03.526Z"
   },
   {
    "duration": 209,
    "start_time": "2022-09-28T14:44:09.848Z"
   },
   {
    "duration": 1170,
    "start_time": "2022-09-28T14:44:18.984Z"
   },
   {
    "duration": 878,
    "start_time": "2022-09-28T14:44:38.084Z"
   },
   {
    "duration": 981,
    "start_time": "2022-09-28T14:45:29.576Z"
   },
   {
    "duration": 20,
    "start_time": "2022-09-28T14:45:44.630Z"
   },
   {
    "duration": 1349,
    "start_time": "2022-09-28T14:45:46.606Z"
   },
   {
    "duration": 1374,
    "start_time": "2022-09-28T14:46:18.884Z"
   },
   {
    "duration": 21,
    "start_time": "2022-09-28T14:47:10.627Z"
   },
   {
    "duration": 29,
    "start_time": "2022-09-28T14:48:50.893Z"
   },
   {
    "duration": 55,
    "start_time": "2022-09-28T14:49:52.339Z"
   },
   {
    "duration": 29,
    "start_time": "2022-09-28T14:52:17.354Z"
   },
   {
    "duration": 27,
    "start_time": "2022-09-28T14:52:35.061Z"
   },
   {
    "duration": 21,
    "start_time": "2022-09-28T14:53:06.832Z"
   },
   {
    "duration": 22,
    "start_time": "2022-09-28T14:53:24.001Z"
   },
   {
    "duration": 19,
    "start_time": "2022-09-28T14:53:31.176Z"
   },
   {
    "duration": 21,
    "start_time": "2022-09-28T14:55:09.022Z"
   },
   {
    "duration": 19,
    "start_time": "2022-09-28T14:55:24.990Z"
   },
   {
    "duration": 1844,
    "start_time": "2022-09-28T14:55:27.514Z"
   },
   {
    "duration": 21,
    "start_time": "2022-09-28T14:57:05.363Z"
   },
   {
    "duration": 19,
    "start_time": "2022-09-28T14:59:42.204Z"
   },
   {
    "duration": 19,
    "start_time": "2022-09-28T14:59:49.070Z"
   },
   {
    "duration": 2162,
    "start_time": "2022-09-28T15:01:10.897Z"
   },
   {
    "duration": 2646,
    "start_time": "2022-09-28T15:01:29.808Z"
   },
   {
    "duration": 2296,
    "start_time": "2022-09-28T15:30:59.663Z"
   },
   {
    "duration": 1959,
    "start_time": "2022-09-28T15:31:14.504Z"
   },
   {
    "duration": 8906,
    "start_time": "2022-09-28T15:32:07.035Z"
   },
   {
    "duration": 9784,
    "start_time": "2022-09-28T15:32:44.824Z"
   },
   {
    "duration": 9284,
    "start_time": "2022-09-28T15:33:31.278Z"
   },
   {
    "duration": 15056,
    "start_time": "2022-09-28T15:35:04.671Z"
   },
   {
    "duration": 4,
    "start_time": "2022-09-28T15:35:44.856Z"
   },
   {
    "duration": 1886,
    "start_time": "2022-09-28T15:39:53.889Z"
   },
   {
    "duration": 4335,
    "start_time": "2022-09-28T15:40:10.450Z"
   },
   {
    "duration": 4682,
    "start_time": "2022-09-28T15:40:24.012Z"
   },
   {
    "duration": 3709,
    "start_time": "2022-09-28T15:40:47.351Z"
   },
   {
    "duration": 5915,
    "start_time": "2022-09-28T15:42:15.098Z"
   },
   {
    "duration": 5465,
    "start_time": "2022-09-28T15:42:58.287Z"
   },
   {
    "duration": 3,
    "start_time": "2022-09-28T15:43:43.863Z"
   },
   {
    "duration": 4,
    "start_time": "2022-09-28T15:47:05.531Z"
   },
   {
    "duration": 35,
    "start_time": "2022-09-28T15:47:17.934Z"
   },
   {
    "duration": 8,
    "start_time": "2022-09-28T15:48:25.688Z"
   },
   {
    "duration": 4,
    "start_time": "2022-09-28T15:49:32.202Z"
   },
   {
    "duration": 10,
    "start_time": "2022-09-28T15:50:07.624Z"
   },
   {
    "duration": 4,
    "start_time": "2022-09-28T15:50:39.934Z"
   },
   {
    "duration": 5,
    "start_time": "2022-09-28T15:51:01.555Z"
   },
   {
    "duration": 4,
    "start_time": "2022-09-28T16:00:00.283Z"
   },
   {
    "duration": 5,
    "start_time": "2022-09-28T16:05:01.564Z"
   },
   {
    "duration": 24,
    "start_time": "2022-09-28T16:22:36.614Z"
   },
   {
    "duration": 4,
    "start_time": "2022-09-28T16:28:48.329Z"
   },
   {
    "duration": 758,
    "start_time": "2022-09-28T16:28:48.347Z"
   },
   {
    "duration": 24,
    "start_time": "2022-09-28T16:28:49.108Z"
   },
   {
    "duration": 38,
    "start_time": "2022-09-28T16:28:49.133Z"
   },
   {
    "duration": 19,
    "start_time": "2022-09-28T16:28:49.173Z"
   },
   {
    "duration": 139,
    "start_time": "2022-09-28T16:28:49.194Z"
   },
   {
    "duration": 26,
    "start_time": "2022-09-28T16:28:49.335Z"
   },
   {
    "duration": 127,
    "start_time": "2022-09-28T16:28:49.362Z"
   },
   {
    "duration": 18,
    "start_time": "2022-09-28T16:28:49.490Z"
   },
   {
    "duration": 141,
    "start_time": "2022-09-28T16:28:49.509Z"
   },
   {
    "duration": 140,
    "start_time": "2022-09-28T16:28:49.655Z"
   },
   {
    "duration": 147,
    "start_time": "2022-09-28T16:28:49.796Z"
   },
   {
    "duration": 29,
    "start_time": "2022-09-28T16:28:49.945Z"
   },
   {
    "duration": 4,
    "start_time": "2022-09-28T16:28:49.976Z"
   },
   {
    "duration": 27,
    "start_time": "2022-09-28T16:28:49.981Z"
   },
   {
    "duration": 2649,
    "start_time": "2022-09-28T16:28:50.009Z"
   },
   {
    "duration": 10494,
    "start_time": "2022-09-28T16:28:52.660Z"
   },
   {
    "duration": 13955,
    "start_time": "2022-09-28T16:29:03.155Z"
   },
   {
    "duration": 4,
    "start_time": "2022-09-28T16:29:17.112Z"
   },
   {
    "duration": 3426,
    "start_time": "2022-09-28T16:29:17.118Z"
   },
   {
    "duration": 5389,
    "start_time": "2022-09-28T16:29:20.546Z"
   },
   {
    "duration": 4,
    "start_time": "2022-09-28T16:29:25.937Z"
   },
   {
    "duration": 31,
    "start_time": "2022-09-28T16:29:25.942Z"
   },
   {
    "duration": 22,
    "start_time": "2022-09-28T16:29:25.975Z"
   },
   {
    "duration": 25,
    "start_time": "2022-09-28T16:29:25.999Z"
   },
   {
    "duration": 27,
    "start_time": "2022-09-28T16:29:26.026Z"
   },
   {
    "duration": 38,
    "start_time": "2022-09-28T16:29:26.054Z"
   },
   {
    "duration": 3,
    "start_time": "2022-09-28T16:30:05.287Z"
   },
   {
    "duration": 767,
    "start_time": "2022-09-28T16:30:05.296Z"
   },
   {
    "duration": 21,
    "start_time": "2022-09-28T16:30:06.065Z"
   },
   {
    "duration": 57,
    "start_time": "2022-09-28T16:30:06.088Z"
   },
   {
    "duration": 20,
    "start_time": "2022-09-28T16:30:06.147Z"
   },
   {
    "duration": 141,
    "start_time": "2022-09-28T16:30:06.169Z"
   },
   {
    "duration": 21,
    "start_time": "2022-09-28T16:30:06.312Z"
   },
   {
    "duration": 144,
    "start_time": "2022-09-28T16:30:06.334Z"
   },
   {
    "duration": 19,
    "start_time": "2022-09-28T16:30:06.479Z"
   },
   {
    "duration": 259,
    "start_time": "2022-09-28T16:30:06.500Z"
   },
   {
    "duration": 128,
    "start_time": "2022-09-28T16:30:06.761Z"
   },
   {
    "duration": 145,
    "start_time": "2022-09-28T16:30:06.891Z"
   },
   {
    "duration": 39,
    "start_time": "2022-09-28T16:30:07.038Z"
   },
   {
    "duration": 4,
    "start_time": "2022-09-28T16:30:07.079Z"
   },
   {
    "duration": 32,
    "start_time": "2022-09-28T16:30:07.085Z"
   },
   {
    "duration": 1943,
    "start_time": "2022-09-28T16:30:07.119Z"
   },
   {
    "duration": 9686,
    "start_time": "2022-09-28T16:30:09.064Z"
   },
   {
    "duration": 13651,
    "start_time": "2022-09-28T16:30:18.752Z"
   },
   {
    "duration": 5,
    "start_time": "2022-09-28T16:30:32.404Z"
   },
   {
    "duration": 3521,
    "start_time": "2022-09-28T16:30:32.411Z"
   },
   {
    "duration": 6210,
    "start_time": "2022-09-28T16:30:35.934Z"
   },
   {
    "duration": 4,
    "start_time": "2022-09-28T16:30:42.145Z"
   },
   {
    "duration": 11,
    "start_time": "2022-09-28T16:30:42.150Z"
   },
   {
    "duration": 11,
    "start_time": "2022-09-28T16:30:42.163Z"
   },
   {
    "duration": 9,
    "start_time": "2022-09-28T16:30:42.175Z"
   },
   {
    "duration": 13,
    "start_time": "2022-09-28T16:30:42.185Z"
   },
   {
    "duration": 6,
    "start_time": "2022-09-28T16:30:42.199Z"
   },
   {
    "duration": 1325,
    "start_time": "2022-09-29T15:17:21.278Z"
   },
   {
    "duration": 1844,
    "start_time": "2022-09-29T15:17:25.097Z"
   },
   {
    "duration": 597,
    "start_time": "2022-09-29T15:17:42.768Z"
   },
   {
    "duration": 24,
    "start_time": "2022-09-29T15:17:51.337Z"
   },
   {
    "duration": 19,
    "start_time": "2022-09-29T15:17:55.607Z"
   },
   {
    "duration": 16,
    "start_time": "2022-09-29T15:17:58.626Z"
   },
   {
    "duration": 107,
    "start_time": "2022-09-29T15:18:01.126Z"
   },
   {
    "duration": 16,
    "start_time": "2022-09-29T15:18:04.137Z"
   },
   {
    "duration": 98,
    "start_time": "2022-09-29T15:18:06.266Z"
   },
   {
    "duration": 15,
    "start_time": "2022-09-29T15:18:08.606Z"
   },
   {
    "duration": 116,
    "start_time": "2022-09-29T15:18:12.175Z"
   },
   {
    "duration": 109,
    "start_time": "2022-09-29T15:18:26.459Z"
   },
   {
    "duration": 203,
    "start_time": "2022-09-29T15:20:41.064Z"
   },
   {
    "duration": 8,
    "start_time": "2022-09-29T15:20:58.721Z"
   },
   {
    "duration": 103,
    "start_time": "2022-09-29T15:21:06.256Z"
   },
   {
    "duration": 106,
    "start_time": "2022-09-29T15:25:08.869Z"
   },
   {
    "duration": 4,
    "start_time": "2022-09-29T15:27:15.833Z"
   },
   {
    "duration": 118,
    "start_time": "2022-09-29T15:27:27.155Z"
   },
   {
    "duration": 116,
    "start_time": "2022-09-29T15:27:55.487Z"
   },
   {
    "duration": 1459,
    "start_time": "2022-09-29T15:28:30.096Z"
   },
   {
    "duration": 1422,
    "start_time": "2022-09-29T15:28:48.158Z"
   },
   {
    "duration": 26,
    "start_time": "2022-09-29T15:29:48.645Z"
   },
   {
    "duration": 4,
    "start_time": "2022-09-29T15:31:24.314Z"
   },
   {
    "duration": 3,
    "start_time": "2022-09-29T15:36:38.748Z"
   },
   {
    "duration": 23,
    "start_time": "2022-09-29T15:36:46.147Z"
   },
   {
    "duration": 841,
    "start_time": "2022-09-29T15:39:35.496Z"
   },
   {
    "duration": 4,
    "start_time": "2022-09-29T15:42:03.253Z"
   },
   {
    "duration": 17,
    "start_time": "2022-09-29T15:42:09.375Z"
   },
   {
    "duration": 10,
    "start_time": "2022-09-29T15:42:11.843Z"
   },
   {
    "duration": 1154,
    "start_time": "2022-09-29T15:46:00.971Z"
   },
   {
    "duration": 15,
    "start_time": "2022-09-29T15:47:17.900Z"
   },
   {
    "duration": 4,
    "start_time": "2022-09-29T15:49:18.734Z"
   },
   {
    "duration": 4,
    "start_time": "2022-09-29T15:49:24.875Z"
   },
   {
    "duration": 10,
    "start_time": "2022-09-29T15:49:27.642Z"
   },
   {
    "duration": 4,
    "start_time": "2022-09-29T15:50:23.852Z"
   },
   {
    "duration": 21,
    "start_time": "2022-09-29T15:50:26.186Z"
   },
   {
    "duration": 4,
    "start_time": "2022-09-29T15:51:19.364Z"
   },
   {
    "duration": 3,
    "start_time": "2022-09-29T15:51:22.680Z"
   },
   {
    "duration": 3266,
    "start_time": "2022-09-29T15:51:38.871Z"
   },
   {
    "duration": 1999,
    "start_time": "2022-09-29T15:52:09.323Z"
   },
   {
    "duration": 402,
    "start_time": "2022-09-29T15:53:09.530Z"
   },
   {
    "duration": 17,
    "start_time": "2022-09-29T15:56:28.195Z"
   },
   {
    "duration": 843,
    "start_time": "2022-09-29T15:56:38.329Z"
   },
   {
    "duration": 965,
    "start_time": "2022-09-29T15:57:12.662Z"
   },
   {
    "duration": 774,
    "start_time": "2022-09-29T15:57:40.292Z"
   },
   {
    "duration": 692,
    "start_time": "2022-09-29T16:00:59.952Z"
   },
   {
    "duration": 827,
    "start_time": "2022-09-29T16:01:21.874Z"
   },
   {
    "duration": 12,
    "start_time": "2022-09-29T16:01:36.422Z"
   },
   {
    "duration": 18,
    "start_time": "2022-09-29T16:01:47.664Z"
   },
   {
    "duration": 1561,
    "start_time": "2022-09-29T17:50:29.182Z"
   },
   {
    "duration": 3072,
    "start_time": "2022-09-29T17:50:32.505Z"
   },
   {
    "duration": 28,
    "start_time": "2022-09-29T17:50:37.867Z"
   },
   {
    "duration": 25,
    "start_time": "2022-09-29T17:50:40.991Z"
   },
   {
    "duration": 19,
    "start_time": "2022-09-29T17:50:43.980Z"
   },
   {
    "duration": 18,
    "start_time": "2022-09-29T17:50:46.923Z"
   },
   {
    "duration": 18,
    "start_time": "2022-09-29T17:50:49.380Z"
   },
   {
    "duration": 146,
    "start_time": "2022-09-29T17:50:51.926Z"
   },
   {
    "duration": 112,
    "start_time": "2022-09-29T17:50:55.007Z"
   },
   {
    "duration": 9,
    "start_time": "2022-09-29T17:50:59.082Z"
   },
   {
    "duration": 136,
    "start_time": "2022-09-29T17:51:01.525Z"
   },
   {
    "duration": 30,
    "start_time": "2022-09-29T17:51:05.048Z"
   },
   {
    "duration": 3,
    "start_time": "2022-09-29T17:51:11.123Z"
   },
   {
    "duration": 18,
    "start_time": "2022-09-29T17:51:23.385Z"
   },
   {
    "duration": 710,
    "start_time": "2022-09-29T17:54:41.429Z"
   },
   {
    "duration": 658,
    "start_time": "2022-09-29T17:54:57.934Z"
   },
   {
    "duration": 11,
    "start_time": "2022-09-29T17:55:35.155Z"
   },
   {
    "duration": 882,
    "start_time": "2022-09-29T17:56:50.061Z"
   },
   {
    "duration": 112,
    "start_time": "2022-09-29T17:59:06.361Z"
   },
   {
    "duration": 16,
    "start_time": "2022-09-29T17:59:20.138Z"
   },
   {
    "duration": 9,
    "start_time": "2022-09-29T17:59:37.525Z"
   },
   {
    "duration": 22,
    "start_time": "2022-09-29T18:00:17.880Z"
   },
   {
    "duration": 22,
    "start_time": "2022-09-29T18:01:03.905Z"
   },
   {
    "duration": 794,
    "start_time": "2022-09-29T18:02:57.393Z"
   },
   {
    "duration": 923,
    "start_time": "2022-09-29T18:05:12.123Z"
   },
   {
    "duration": 19,
    "start_time": "2022-09-29T18:05:31.738Z"
   },
   {
    "duration": 16,
    "start_time": "2022-09-29T18:05:35.711Z"
   },
   {
    "duration": 16,
    "start_time": "2022-09-29T18:05:57.810Z"
   },
   {
    "duration": 27,
    "start_time": "2022-09-29T18:06:34.879Z"
   },
   {
    "duration": 669,
    "start_time": "2022-09-29T18:07:02.576Z"
   },
   {
    "duration": 1227,
    "start_time": "2022-09-29T18:09:26.380Z"
   },
   {
    "duration": 12,
    "start_time": "2022-09-29T18:09:46.684Z"
   },
   {
    "duration": 1865,
    "start_time": "2022-09-29T18:10:02.082Z"
   },
   {
    "duration": 25,
    "start_time": "2022-09-29T18:10:09.993Z"
   },
   {
    "duration": 1299,
    "start_time": "2022-09-29T18:11:04.959Z"
   },
   {
    "duration": 1580,
    "start_time": "2022-09-29T18:11:10.519Z"
   },
   {
    "duration": 7,
    "start_time": "2022-09-29T18:11:32.355Z"
   },
   {
    "duration": 121,
    "start_time": "2022-09-29T18:11:34.186Z"
   },
   {
    "duration": 112,
    "start_time": "2022-09-29T18:11:37.795Z"
   },
   {
    "duration": 5,
    "start_time": "2022-09-29T18:11:43.918Z"
   },
   {
    "duration": 715,
    "start_time": "2022-09-29T18:11:45.720Z"
   },
   {
    "duration": 19,
    "start_time": "2022-09-29T18:11:50.206Z"
   },
   {
    "duration": 21,
    "start_time": "2022-09-29T18:11:53.326Z"
   },
   {
    "duration": 19,
    "start_time": "2022-09-29T18:11:55.576Z"
   },
   {
    "duration": 117,
    "start_time": "2022-09-29T18:11:58.014Z"
   },
   {
    "duration": 18,
    "start_time": "2022-09-29T18:12:00.036Z"
   },
   {
    "duration": 109,
    "start_time": "2022-09-29T18:12:02.401Z"
   },
   {
    "duration": 18,
    "start_time": "2022-09-29T18:12:04.540Z"
   },
   {
    "duration": 127,
    "start_time": "2022-09-29T18:12:09.418Z"
   },
   {
    "duration": 119,
    "start_time": "2022-09-29T18:12:12.637Z"
   },
   {
    "duration": 11,
    "start_time": "2022-09-29T18:12:16.741Z"
   },
   {
    "duration": 125,
    "start_time": "2022-09-29T18:12:18.718Z"
   },
   {
    "duration": 43,
    "start_time": "2022-09-29T18:12:22.640Z"
   },
   {
    "duration": 6,
    "start_time": "2022-09-29T18:12:31.444Z"
   },
   {
    "duration": 6,
    "start_time": "2022-09-29T18:12:33.441Z"
   },
   {
    "duration": 33,
    "start_time": "2022-09-29T18:12:38.338Z"
   },
   {
    "duration": 24,
    "start_time": "2022-09-29T18:12:43.305Z"
   },
   {
    "duration": 631,
    "start_time": "2022-09-29T18:12:46.789Z"
   },
   {
    "duration": 32,
    "start_time": "2022-09-29T18:14:05.532Z"
   },
   {
    "duration": 776,
    "start_time": "2022-09-29T18:14:53.210Z"
   },
   {
    "duration": 492,
    "start_time": "2022-09-29T18:15:10.757Z"
   },
   {
    "duration": 5,
    "start_time": "2022-09-29T18:15:53.370Z"
   },
   {
    "duration": 824,
    "start_time": "2022-09-29T18:15:59.492Z"
   },
   {
    "duration": 10,
    "start_time": "2022-09-29T18:20:42.092Z"
   },
   {
    "duration": 778,
    "start_time": "2022-09-29T18:20:49.930Z"
   },
   {
    "duration": 899,
    "start_time": "2022-09-29T18:21:04.452Z"
   },
   {
    "duration": 160,
    "start_time": "2022-09-29T18:22:38.598Z"
   },
   {
    "duration": 29,
    "start_time": "2022-09-29T18:22:50.586Z"
   },
   {
    "duration": 31,
    "start_time": "2022-09-29T18:23:35.862Z"
   },
   {
    "duration": 24,
    "start_time": "2022-09-29T18:23:43.546Z"
   },
   {
    "duration": 23,
    "start_time": "2022-09-29T18:23:51.526Z"
   },
   {
    "duration": 766,
    "start_time": "2022-09-29T18:24:05.073Z"
   },
   {
    "duration": 11,
    "start_time": "2022-09-29T18:30:14.167Z"
   },
   {
    "duration": 1124,
    "start_time": "2022-09-29T18:30:46.916Z"
   },
   {
    "duration": 1144,
    "start_time": "2022-09-29T18:31:39.496Z"
   },
   {
    "duration": 33,
    "start_time": "2022-09-29T18:33:20.754Z"
   },
   {
    "duration": 3,
    "start_time": "2022-09-29T18:33:51.988Z"
   },
   {
    "duration": 753,
    "start_time": "2022-09-29T18:33:52.010Z"
   },
   {
    "duration": 18,
    "start_time": "2022-09-29T18:33:52.765Z"
   },
   {
    "duration": 26,
    "start_time": "2022-09-29T18:33:52.784Z"
   },
   {
    "duration": 38,
    "start_time": "2022-09-29T18:33:52.812Z"
   },
   {
    "duration": 136,
    "start_time": "2022-09-29T18:33:52.852Z"
   },
   {
    "duration": 22,
    "start_time": "2022-09-29T18:33:52.990Z"
   },
   {
    "duration": 132,
    "start_time": "2022-09-29T18:33:53.014Z"
   },
   {
    "duration": 21,
    "start_time": "2022-09-29T18:33:53.148Z"
   },
   {
    "duration": 148,
    "start_time": "2022-09-29T18:33:53.170Z"
   },
   {
    "duration": 132,
    "start_time": "2022-09-29T18:33:53.320Z"
   },
   {
    "duration": 10,
    "start_time": "2022-09-29T18:33:53.454Z"
   },
   {
    "duration": 155,
    "start_time": "2022-09-29T18:33:53.466Z"
   },
   {
    "duration": 48,
    "start_time": "2022-09-29T18:33:53.623Z"
   },
   {
    "duration": 4,
    "start_time": "2022-09-29T18:33:53.673Z"
   },
   {
    "duration": 9,
    "start_time": "2022-09-29T18:33:53.678Z"
   },
   {
    "duration": 26,
    "start_time": "2022-09-29T18:34:00.731Z"
   },
   {
    "duration": 28,
    "start_time": "2022-09-29T18:34:21.993Z"
   },
   {
    "duration": 24,
    "start_time": "2022-09-29T18:35:36.181Z"
   },
   {
    "duration": 20,
    "start_time": "2022-09-29T18:35:51.329Z"
   },
   {
    "duration": 18,
    "start_time": "2022-09-29T18:36:05.639Z"
   },
   {
    "duration": 19,
    "start_time": "2022-09-29T18:36:40.818Z"
   },
   {
    "duration": 19,
    "start_time": "2022-09-29T18:41:26.671Z"
   },
   {
    "duration": 3,
    "start_time": "2022-09-29T18:41:36.990Z"
   },
   {
    "duration": 787,
    "start_time": "2022-09-29T18:41:37.000Z"
   },
   {
    "duration": 17,
    "start_time": "2022-09-29T18:41:37.789Z"
   },
   {
    "duration": 44,
    "start_time": "2022-09-29T18:41:37.807Z"
   },
   {
    "duration": 19,
    "start_time": "2022-09-29T18:41:37.853Z"
   },
   {
    "duration": 143,
    "start_time": "2022-09-29T18:41:37.874Z"
   },
   {
    "duration": 33,
    "start_time": "2022-09-29T18:41:38.018Z"
   },
   {
    "duration": 229,
    "start_time": "2022-09-29T18:41:38.053Z"
   },
   {
    "duration": 19,
    "start_time": "2022-09-29T18:41:38.284Z"
   },
   {
    "duration": 179,
    "start_time": "2022-09-29T18:41:38.305Z"
   },
   {
    "duration": 141,
    "start_time": "2022-09-29T18:41:38.486Z"
   },
   {
    "duration": 13,
    "start_time": "2022-09-29T18:41:38.628Z"
   },
   {
    "duration": 147,
    "start_time": "2022-09-29T18:41:38.642Z"
   },
   {
    "duration": 53,
    "start_time": "2022-09-29T18:41:38.791Z"
   },
   {
    "duration": 5,
    "start_time": "2022-09-29T18:41:38.846Z"
   },
   {
    "duration": 7,
    "start_time": "2022-09-29T18:41:38.853Z"
   },
   {
    "duration": 19,
    "start_time": "2022-09-29T18:42:28.748Z"
   },
   {
    "duration": 17,
    "start_time": "2022-09-29T18:42:45.425Z"
   },
   {
    "duration": 3,
    "start_time": "2022-09-29T18:46:38.257Z"
   },
   {
    "duration": 681,
    "start_time": "2022-09-29T18:46:38.303Z"
   },
   {
    "duration": 18,
    "start_time": "2022-09-29T18:46:38.987Z"
   },
   {
    "duration": 43,
    "start_time": "2022-09-29T18:46:39.007Z"
   },
   {
    "duration": 29,
    "start_time": "2022-09-29T18:46:39.052Z"
   },
   {
    "duration": 134,
    "start_time": "2022-09-29T18:46:39.083Z"
   },
   {
    "duration": 27,
    "start_time": "2022-09-29T18:46:39.218Z"
   },
   {
    "duration": 126,
    "start_time": "2022-09-29T18:46:39.247Z"
   },
   {
    "duration": 19,
    "start_time": "2022-09-29T18:46:39.374Z"
   },
   {
    "duration": 152,
    "start_time": "2022-09-29T18:46:39.395Z"
   },
   {
    "duration": 128,
    "start_time": "2022-09-29T18:46:39.550Z"
   },
   {
    "duration": 9,
    "start_time": "2022-09-29T18:46:39.679Z"
   },
   {
    "duration": 148,
    "start_time": "2022-09-29T18:46:39.690Z"
   },
   {
    "duration": 42,
    "start_time": "2022-09-29T18:46:39.840Z"
   },
   {
    "duration": 5,
    "start_time": "2022-09-29T18:46:39.883Z"
   },
   {
    "duration": 28,
    "start_time": "2022-09-29T18:46:39.889Z"
   },
   {
    "duration": 19,
    "start_time": "2022-09-29T18:46:42.418Z"
   },
   {
    "duration": 20,
    "start_time": "2022-09-29T18:47:09.833Z"
   },
   {
    "duration": 24,
    "start_time": "2022-09-29T18:47:15.409Z"
   },
   {
    "duration": 33,
    "start_time": "2022-09-29T18:47:35.158Z"
   },
   {
    "duration": 45,
    "start_time": "2022-09-29T18:48:09.110Z"
   },
   {
    "duration": 57,
    "start_time": "2022-09-29T18:51:01.838Z"
   },
   {
    "duration": 3,
    "start_time": "2022-09-29T18:51:13.794Z"
   },
   {
    "duration": 1682,
    "start_time": "2022-09-29T18:51:23.659Z"
   },
   {
    "duration": 77,
    "start_time": "2022-09-29T18:51:55.365Z"
   },
   {
    "duration": 1416,
    "start_time": "2022-09-29T18:52:07.227Z"
   },
   {
    "duration": 1353,
    "start_time": "2022-09-29T18:53:38.787Z"
   },
   {
    "duration": 1275,
    "start_time": "2022-09-29T18:53:47.973Z"
   },
   {
    "duration": 664,
    "start_time": "2022-09-29T18:54:31.459Z"
   },
   {
    "duration": 2768,
    "start_time": "2022-09-29T18:56:24.273Z"
   },
   {
    "duration": 3633,
    "start_time": "2022-09-29T18:56:38.515Z"
   },
   {
    "duration": 50,
    "start_time": "2022-09-29T18:58:53.014Z"
   },
   {
    "duration": 26,
    "start_time": "2022-09-29T18:59:02.087Z"
   },
   {
    "duration": 20,
    "start_time": "2022-09-29T19:04:29.580Z"
   },
   {
    "duration": 78,
    "start_time": "2022-09-29T19:11:13.556Z"
   },
   {
    "duration": 917,
    "start_time": "2022-09-29T19:11:20.059Z"
   },
   {
    "duration": 21,
    "start_time": "2022-09-29T19:11:46.534Z"
   },
   {
    "duration": 30,
    "start_time": "2022-09-29T19:12:30.537Z"
   },
   {
    "duration": 20,
    "start_time": "2022-09-29T19:13:21.176Z"
   },
   {
    "duration": 19,
    "start_time": "2022-09-29T19:13:27.791Z"
   },
   {
    "duration": 1131,
    "start_time": "2022-09-29T19:13:34.299Z"
   },
   {
    "duration": 11,
    "start_time": "2022-09-29T19:14:06.574Z"
   },
   {
    "duration": 1223,
    "start_time": "2022-09-29T19:14:15.921Z"
   },
   {
    "duration": 1850,
    "start_time": "2022-09-29T19:14:40.112Z"
   },
   {
    "duration": 457,
    "start_time": "2022-09-29T19:15:12.388Z"
   },
   {
    "duration": 789,
    "start_time": "2022-09-29T19:15:53.322Z"
   },
   {
    "duration": 30,
    "start_time": "2022-09-29T19:15:58.562Z"
   },
   {
    "duration": 135,
    "start_time": "2022-09-29T19:16:00.769Z"
   },
   {
    "duration": 18,
    "start_time": "2022-09-29T19:16:03.965Z"
   },
   {
    "duration": 119,
    "start_time": "2022-09-29T19:16:06.050Z"
   },
   {
    "duration": 23,
    "start_time": "2022-09-29T19:16:08.731Z"
   },
   {
    "duration": 240,
    "start_time": "2022-09-29T19:16:10.847Z"
   },
   {
    "duration": 131,
    "start_time": "2022-09-29T19:16:13.192Z"
   },
   {
    "duration": 9,
    "start_time": "2022-09-29T19:16:18.732Z"
   },
   {
    "duration": 148,
    "start_time": "2022-09-29T19:16:21.320Z"
   },
   {
    "duration": 6,
    "start_time": "2022-09-29T19:17:04.154Z"
   },
   {
    "duration": 160,
    "start_time": "2022-09-29T19:17:17.963Z"
   },
   {
    "duration": 4,
    "start_time": "2022-09-29T19:18:13.155Z"
   },
   {
    "duration": 782,
    "start_time": "2022-09-29T19:18:13.170Z"
   },
   {
    "duration": 19,
    "start_time": "2022-09-29T19:18:13.956Z"
   },
   {
    "duration": 21,
    "start_time": "2022-09-29T19:18:13.977Z"
   },
   {
    "duration": 53,
    "start_time": "2022-09-29T19:18:14.001Z"
   },
   {
    "duration": 129,
    "start_time": "2022-09-29T19:18:14.056Z"
   },
   {
    "duration": 18,
    "start_time": "2022-09-29T19:18:14.188Z"
   },
   {
    "duration": 170,
    "start_time": "2022-09-29T19:18:14.208Z"
   },
   {
    "duration": 24,
    "start_time": "2022-09-29T19:18:14.380Z"
   },
   {
    "duration": 182,
    "start_time": "2022-09-29T19:18:14.406Z"
   },
   {
    "duration": 133,
    "start_time": "2022-09-29T19:18:30.160Z"
   },
   {
    "duration": 9,
    "start_time": "2022-09-29T19:18:51.521Z"
   },
   {
    "duration": 132,
    "start_time": "2022-09-29T19:18:54.594Z"
   },
   {
    "duration": 4826,
    "start_time": "2022-09-29T19:26:58.340Z"
   },
   {
    "duration": 5190,
    "start_time": "2022-09-29T19:27:27.860Z"
   },
   {
    "duration": 4,
    "start_time": "2022-09-29T19:27:48.162Z"
   },
   {
    "duration": 766,
    "start_time": "2022-09-29T19:27:48.203Z"
   },
   {
    "duration": 20,
    "start_time": "2022-09-29T19:27:48.971Z"
   },
   {
    "duration": 19,
    "start_time": "2022-09-29T19:27:48.993Z"
   },
   {
    "duration": 23,
    "start_time": "2022-09-29T19:27:49.040Z"
   },
   {
    "duration": 133,
    "start_time": "2022-09-29T19:27:49.065Z"
   },
   {
    "duration": 19,
    "start_time": "2022-09-29T19:27:49.201Z"
   },
   {
    "duration": 167,
    "start_time": "2022-09-29T19:27:49.222Z"
   },
   {
    "duration": 19,
    "start_time": "2022-09-29T19:27:49.391Z"
   },
   {
    "duration": 263,
    "start_time": "2022-09-29T19:27:49.412Z"
   },
   {
    "duration": 138,
    "start_time": "2022-09-29T19:27:49.679Z"
   },
   {
    "duration": 9,
    "start_time": "2022-09-29T19:27:49.819Z"
   },
   {
    "duration": 148,
    "start_time": "2022-09-29T19:27:49.842Z"
   },
   {
    "duration": 62,
    "start_time": "2022-09-29T19:27:49.992Z"
   },
   {
    "duration": 4,
    "start_time": "2022-09-29T19:27:50.056Z"
   },
   {
    "duration": 10,
    "start_time": "2022-09-29T19:27:50.061Z"
   },
   {
    "duration": 20,
    "start_time": "2022-09-29T19:27:50.073Z"
   },
   {
    "duration": 3,
    "start_time": "2022-09-29T19:31:03.261Z"
   },
   {
    "duration": 16,
    "start_time": "2022-09-29T19:31:06.086Z"
   },
   {
    "duration": 4,
    "start_time": "2022-09-29T19:31:41.854Z"
   },
   {
    "duration": 17,
    "start_time": "2022-09-29T19:31:44.762Z"
   },
   {
    "duration": 4,
    "start_time": "2022-09-29T19:32:21.773Z"
   },
   {
    "duration": 16,
    "start_time": "2022-09-29T19:32:23.252Z"
   },
   {
    "duration": 5,
    "start_time": "2022-09-29T19:33:21.256Z"
   },
   {
    "duration": 17,
    "start_time": "2022-09-29T19:33:23.361Z"
   },
   {
    "duration": 16,
    "start_time": "2022-09-29T19:34:17.210Z"
   },
   {
    "duration": 12,
    "start_time": "2022-09-29T19:34:39.709Z"
   },
   {
    "duration": 4,
    "start_time": "2022-09-29T19:35:01.525Z"
   },
   {
    "duration": 11,
    "start_time": "2022-09-29T19:35:03.200Z"
   },
   {
    "duration": 29,
    "start_time": "2022-09-29T19:35:07.375Z"
   },
   {
    "duration": 28,
    "start_time": "2022-09-29T19:35:30.973Z"
   },
   {
    "duration": 18,
    "start_time": "2022-09-29T19:35:37.414Z"
   },
   {
    "duration": 10,
    "start_time": "2022-09-29T19:36:10.248Z"
   },
   {
    "duration": 4,
    "start_time": "2022-09-29T19:36:56.431Z"
   },
   {
    "duration": 38,
    "start_time": "2022-09-29T19:38:53.571Z"
   },
   {
    "duration": 5,
    "start_time": "2022-09-29T19:38:56.724Z"
   },
   {
    "duration": 756,
    "start_time": "2022-09-29T19:38:56.764Z"
   },
   {
    "duration": 32,
    "start_time": "2022-09-29T19:38:57.522Z"
   },
   {
    "duration": 19,
    "start_time": "2022-09-29T19:38:57.555Z"
   },
   {
    "duration": 18,
    "start_time": "2022-09-29T19:38:57.576Z"
   },
   {
    "duration": 138,
    "start_time": "2022-09-29T19:38:57.595Z"
   },
   {
    "duration": 20,
    "start_time": "2022-09-29T19:38:57.742Z"
   },
   {
    "duration": 130,
    "start_time": "2022-09-29T19:38:57.764Z"
   },
   {
    "duration": 19,
    "start_time": "2022-09-29T19:38:57.896Z"
   },
   {
    "duration": 155,
    "start_time": "2022-09-29T19:38:57.917Z"
   },
   {
    "duration": 123,
    "start_time": "2022-09-29T19:38:58.075Z"
   },
   {
    "duration": 9,
    "start_time": "2022-09-29T19:38:58.200Z"
   },
   {
    "duration": 167,
    "start_time": "2022-09-29T19:38:58.210Z"
   },
   {
    "duration": 42,
    "start_time": "2022-09-29T19:38:58.379Z"
   },
   {
    "duration": 28,
    "start_time": "2022-09-29T19:38:58.423Z"
   },
   {
    "duration": 23,
    "start_time": "2022-09-29T19:38:58.453Z"
   },
   {
    "duration": 3375,
    "start_time": "2022-09-29T19:38:58.478Z"
   },
   {
    "duration": 10143,
    "start_time": "2022-09-29T19:39:01.855Z"
   },
   {
    "duration": 14726,
    "start_time": "2022-09-29T19:39:12.000Z"
   },
   {
    "duration": 3,
    "start_time": "2022-09-29T19:39:26.728Z"
   },
   {
    "duration": 5003,
    "start_time": "2022-09-29T19:39:26.733Z"
   },
   {
    "duration": 6047,
    "start_time": "2022-09-29T19:39:31.737Z"
   },
   {
    "duration": 4,
    "start_time": "2022-09-29T19:39:37.786Z"
   },
   {
    "duration": 8,
    "start_time": "2022-09-29T19:39:37.792Z"
   },
   {
    "duration": 10,
    "start_time": "2022-09-29T19:39:37.802Z"
   },
   {
    "duration": 6,
    "start_time": "2022-09-29T19:39:37.814Z"
   },
   {
    "duration": 21,
    "start_time": "2022-09-29T19:39:37.822Z"
   },
   {
    "duration": 17,
    "start_time": "2022-09-29T19:39:37.845Z"
   },
   {
    "duration": 4219,
    "start_time": "2022-09-29T19:41:35.629Z"
   },
   {
    "duration": 5,
    "start_time": "2022-09-29T19:43:08.271Z"
   },
   {
    "duration": 776,
    "start_time": "2022-09-29T19:43:08.284Z"
   },
   {
    "duration": 20,
    "start_time": "2022-09-29T19:43:09.061Z"
   },
   {
    "duration": 19,
    "start_time": "2022-09-29T19:43:09.083Z"
   },
   {
    "duration": 48,
    "start_time": "2022-09-29T19:43:09.104Z"
   },
   {
    "duration": 131,
    "start_time": "2022-09-29T19:43:09.154Z"
   },
   {
    "duration": 19,
    "start_time": "2022-09-29T19:43:09.287Z"
   },
   {
    "duration": 121,
    "start_time": "2022-09-29T19:43:09.307Z"
   },
   {
    "duration": 28,
    "start_time": "2022-09-29T19:43:09.430Z"
   },
   {
    "duration": 236,
    "start_time": "2022-09-29T19:43:09.459Z"
   },
   {
    "duration": 134,
    "start_time": "2022-09-29T19:43:09.699Z"
   },
   {
    "duration": 18,
    "start_time": "2022-09-29T19:43:09.835Z"
   },
   {
    "duration": 148,
    "start_time": "2022-09-29T19:43:09.856Z"
   },
   {
    "duration": 53,
    "start_time": "2022-09-29T19:43:10.005Z"
   },
   {
    "duration": 4,
    "start_time": "2022-09-29T19:43:10.060Z"
   },
   {
    "duration": 30,
    "start_time": "2022-09-29T19:43:10.066Z"
   },
   {
    "duration": 3454,
    "start_time": "2022-09-29T19:43:10.098Z"
   },
   {
    "duration": 9636,
    "start_time": "2022-09-29T19:43:13.559Z"
   },
   {
    "duration": 15017,
    "start_time": "2022-09-29T19:43:23.197Z"
   },
   {
    "duration": 4,
    "start_time": "2022-09-29T19:43:38.215Z"
   },
   {
    "duration": 3824,
    "start_time": "2022-09-29T19:43:38.220Z"
   },
   {
    "duration": 6026,
    "start_time": "2022-09-29T19:43:42.047Z"
   },
   {
    "duration": 4,
    "start_time": "2022-09-29T19:43:48.075Z"
   },
   {
    "duration": 6,
    "start_time": "2022-09-29T19:43:48.081Z"
   },
   {
    "duration": 13,
    "start_time": "2022-09-29T19:43:48.089Z"
   },
   {
    "duration": 5,
    "start_time": "2022-09-29T19:43:48.104Z"
   },
   {
    "duration": 31,
    "start_time": "2022-09-29T19:43:48.111Z"
   },
   {
    "duration": 7,
    "start_time": "2022-09-29T19:43:48.144Z"
   },
   {
    "duration": 34,
    "start_time": "2022-09-29T19:46:19.029Z"
   },
   {
    "duration": 22,
    "start_time": "2022-09-29T19:46:56.056Z"
   }
  ],
  "kernelspec": {
   "display_name": "Python 3 (ipykernel)",
   "language": "python",
   "name": "python3"
  },
  "language_info": {
   "codemirror_mode": {
    "name": "ipython",
    "version": 3
   },
   "file_extension": ".py",
   "mimetype": "text/x-python",
   "name": "python",
   "nbconvert_exporter": "python",
   "pygments_lexer": "ipython3",
   "version": "3.9.13"
  },
  "toc": {
   "base_numbering": 1,
   "nav_menu": {},
   "number_sections": true,
   "sideBar": true,
   "skip_h1_title": true,
   "title_cell": "Содержание",
   "title_sidebar": "Contents",
   "toc_cell": true,
   "toc_position": {},
   "toc_section_display": true,
   "toc_window_display": true
  }
 },
 "nbformat": 4,
 "nbformat_minor": 2
}
